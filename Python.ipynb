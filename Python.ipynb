{
 "cells": [
  {
   "cell_type": "code",
   "execution_count": 7,
   "id": "c8ab64d6-8d36-437f-abdb-654cab0113b6",
   "metadata": {},
   "outputs": [
    {
     "ename": "SyntaxError",
     "evalue": "unterminated string literal (detected at line 33) (3118999205.py, line 33)",
     "output_type": "error",
     "traceback": [
      "\u001b[1;36m  Input \u001b[1;32mIn [7]\u001b[1;36m\u001b[0m\n\u001b[1;33m    \"CALENDARIO INICIAL:\u001b[0m\n\u001b[1;37m    ^\u001b[0m\n\u001b[1;31mSyntaxError\u001b[0m\u001b[1;31m:\u001b[0m unterminated string literal (detected at line 33)\n"
     ]
    }
   ],
   "source": [
    "#    MAIO,2022\n",
    "\"\"\"coisas que voce tem que saber futuramente (meio que como objetivos):\n",
    "\n",
    "- Manipular arquivos: \n",
    "1. abrir um arquivo, ler o conteudo dele e processar. \n",
    "2. Salvar coisas em arquivos\n",
    "\n",
    "- estruturas de dados\n",
    "- orientação a objetos\n",
    "- biblioteca do Python (pandas, coisas de data science etc )\n",
    "\n",
    "- Python via docker image\n",
    "1. Entender como criar uma imagem de docker\n",
    "2. Transformar um codigo/projeto de python em uma imagem docker\n",
    "\n",
    "- Python usando banco de dados\n",
    "1. Conectar um software de python a um BD\n",
    "2. Fazer transacoes no banco (insert, read, update, delete)\n",
    "\n",
    "- Python usando Web APIs\n",
    "1. Criar um projeto python que seja uma Restful API (com metodos como GET, POST, DELETE, PUT, PATCH)\n",
    "2. Criar um projeto python que seja uma API GraphQL\n",
    "\n",
    "- Python e cloud\n",
    "1. Criar um projeto que seja produtor e consumidor de cloud streams\n",
    "1.1 GCP (google cloud)\n",
    "1.2 AWS kinesis (amazon)\n",
    "1.3 AWS SQS (amazon simple queue service)\n",
    "1.4 Azure (microsoft)\"\"\"\n",
    "\n",
    "\n",
    "\n",
    "\"CALENDARIO INICIAL:\n",
    "'SEG: PYTHON\n",
    "'TER:MACHINE LEARNING\n",
    "'QUA:PYTHON\n",
    "'QUI:DATA SCIENCE\n",
    "'SEX:PYTHON\n",
    "'SAB:AUTOMATION\n",
    "\n",
    "'SEGUNDO CALENDARIO\n",
    "'Ciclo de vida do projeto e do produto. Gerenciamento de Projetos. Tripla Restrição. Ética e responsabilidade profissional. Técnicas PMI e Metodologias ágeis (SCRUM).\n",
    "'linguagem ANSI SQL e PL/SQL em banco de dados Oracle. Você conhecerá elementos como: procedures, functions, packages, triggers, collections, PL/SQL tables, PL/SQL com Bulk processing, Autonomous transactions, Exception handling, SQL tuning. Introdução às novas tendências como Big Data, NoSQL (MongoDB).\n"
   ]
  },
  {
   "cell_type": "code",
   "execution_count": null,
   "id": "e519909d-cf99-4ba3-9551-d0463d3ade72",
   "metadata": {},
   "outputs": [],
   "source": [
    "print('Olha \\n\\\"só\\\" isso aqui')6080T1Divx!"
   ]
  },
  {
   "cell_type": "code",
   "execution_count": null,
   "id": "c520e15a-2545-4e46-8cb2-03172fab98c5",
   "metadata": {},
   "outputs": [],
   "source": [
    "print(\"\"\"Olha \"de\" 'novo' aqui\"\"\")"
   ]
  },
  {
   "cell_type": "code",
   "execution_count": null,
   "id": "86793a0c-43e3-4431-929b-036e98a2cd82",
   "metadata": {},
   "outputs": [],
   "source": [
    "print(\"\"\"Este exemplo fodido\n",
    "com 4 linhas\n",
    "de \\ codigo\"\"\")\n"
   ]
  },
  {
   "cell_type": "code",
   "execution_count": null,
   "id": "8fb5f91f-38d6-4197-a5e9-adc09180f2b1",
   "metadata": {},
   "outputs": [],
   "source": [
    "quote = \"\"\"Este exemplo fodido\n",
    "    com 4 linhas\n",
    "de \\ \n",
    "codigo\"\"\""
   ]
  },
  {
   "cell_type": "code",
   "execution_count": null,
   "id": "6c1e0693-f6f3-41b8-9073-2122c41c41f5",
   "metadata": {},
   "outputs": [],
   "source": [
    "################################################################\n",
    "\n",
    "PARA INSTALAR UM MODULO NO JUPYTER!!!!!!!!!!!!!!!!!!!\n",
    "\n",
    "!pip install tensorflow\n",
    "import tensorflow"
   ]
  },
  {
   "cell_type": "code",
   "execution_count": null,
   "id": "2bbfe89a-5145-46cf-8690-9e59123e8cbe",
   "metadata": {},
   "outputs": [],
   "source": []
  },
  {
   "cell_type": "markdown",
   "id": "a3a08fef-cd6d-4159-aced-6439161df37a",
   "metadata": {},
   "source": [
    " "
   ]
  },
  {
   "cell_type": "code",
   "execution_count": null,
   "id": "98bbbaed-eec1-4cc5-9ca8-f94ba1ad18a1",
   "metadata": {},
   "outputs": [],
   "source": [
    "# \"\"\"Find the minimum of three values.\"\"\"\n",
    "\n",
    "nbr1 = int(input('Enter first number: '))\n",
    "nbr2 = int(input('Enter second number: '))\n",
    "nbr3 = int(input('Enter third number: '))\n",
    "\n",
    "min1 = nbr1\n",
    "\n",
    "if nbr2 < min1:\n",
    "    min1 = nbr2\n",
    "if nbr3 < min1:\n",
    "    min1 = nbr3\n",
    "print(\"The minimum value is: \", min1)   "
   ]
  },
  {
   "cell_type": "code",
   "execution_count": null,
   "id": "4c469336-5c58-48f1-b8db-53a152cc604c",
   "metadata": {},
   "outputs": [],
   "source": [
    "########DATA SCIENCE SNIPPETS/SCRIPTS/EXAMPLES########\n",
    "\n",
    "min,max,sum,range\n"
   ]
  },
  {
   "cell_type": "code",
   "execution_count": null,
   "id": "7d72ed50-77e6-4329-9b4c-b1c1a6deaaff",
   "metadata": {},
   "outputs": [],
   "source": [
    "#Calculate the minimum,maximum and range values inbetween 45,67,76,24,98,92\n",
    "\n",
    "minimum = min(45,67,76,24,98,9)\n",
    "print('The minimium valor is: ', minimum)"
   ]
  },
  {
   "cell_type": "code",
   "execution_count": null,
   "id": "8d6d47cf-06e5-4fb5-b8b5-9e679d02293d",
   "metadata": {},
   "outputs": [],
   "source": [
    "1 #Calculate the minimum,maximum and range values inbetween 45,67,76,24,98,92\n",
    "maximum = max(45,67,76,24,98,9)\n",
    "print('The maximum valor is: ', maximum)"
   ]
  },
  {
   "cell_type": "code",
   "execution_count": null,
   "id": "b395064d-03ea-45f4-8bde-b5f1aff0897a",
   "metadata": {},
   "outputs": [],
   "source": [
    "rgn = range(4,67)\n",
    "print('The range valor is: ', rgn)"
   ]
  },
  {
   "cell_type": "code",
   "execution_count": null,
   "id": "d2850226-1414-4491-9e8d-92f49d0e4a01",
   "metadata": {},
   "outputs": [],
   "source": [
    "grade = 30\n",
    "\n",
    "if grade >= 50:\n",
    "    print('Passou na prova arrombado!')\n",
    "if grade <= 49:\n",
    "    print('Se fodeo otario,reprovou!')"
   ]
  },
  {
   "cell_type": "code",
   "execution_count": null,
   "id": "b34abe4a-ddd5-45cf-8149-8037654ee9e5",
   "metadata": {},
   "outputs": [],
   "source": [
    "grade = 20\n",
    "\n",
    "if grade in range(50,100):\n",
    "    print('Passou')\n",
    "if grade not in range(50,100):\n",
    "    print('reprovado')\n",
    "        "
   ]
  },
  {
   "cell_type": "code",
   "execution_count": null,
   "id": "accec69b-7849-40c6-a207-99b7da70b3fe",
   "metadata": {},
   "outputs": [],
   "source": [
    "grade = 30\n",
    "\n",
    "if grade >= 50:\n",
    "    print('Passou na prova arrombado!')\n",
    "else:\n",
    "    print('Se fodeo otario,reprovou!')"
   ]
  },
  {
   "cell_type": "code",
   "execution_count": null,
   "id": "f09f204d-2d01-426a-90d8-14a4bb4c05a5",
   "metadata": {},
   "outputs": [],
   "source": [
    "valor = int(input('Insira um numero a ser multiplicado: '))\n",
    "\n",
    "aux = 0\n",
    "\n",
    "print('*' * 18)\n",
    "print('A tabuada de {}'.format(valor))\n",
    "print('*' * 18)\n",
    "\n",
    "while (aux <= 10):\n",
    "    print('{0} X {1} = {2}'.format(aux,valor,(aux * valor)))\n",
    "    aux = aux + 1"
   ]
  },
  {
   "cell_type": "code",
   "execution_count": null,
   "id": "90742936-4b77-4410-b4a1-5a0d401f3ddd",
   "metadata": {},
   "outputs": [],
   "source": [
    "tabuada = int(input('Digita um numero a ser multiplicado: '))\n",
    "for num in range(1,11):\n",
    "    print('{} x {} = {}'.format(num,tabuada,num * tabuada))"
   ]
  },
  {
   "cell_type": "code",
   "execution_count": null,
   "id": "4d371dea-4664-4fea-a44c-8fe409067b7e",
   "metadata": {},
   "outputs": [],
   "source": [
    "a = 3 \n",
    "a += 9"
   ]
  },
  {
   "cell_type": "code",
   "execution_count": null,
   "id": "da723631-6643-4774-ae48-c9db93461951",
   "metadata": {},
   "outputs": [],
   "source": [
    "a"
   ]
  },
  {
   "cell_type": "code",
   "execution_count": null,
   "id": "a0a64733-46d2-4d10-ada6-8ed2dc74d93a",
   "metadata": {},
   "outputs": [],
   "source": [
    "#Media da turma\n",
    "\n",
    "total = 0\n",
    "grade_counter = 0\n",
    "grades = [45, 87, 98, 52, 74, 65, 14, 79, 99, 32, 45, 65, 25, 58, 95]\n",
    "\n",
    "for grade in grades:\n",
    "    total += grade\n",
    "    grade_counter += 1\n",
    "    \n",
    "average = total / grade_counter\n",
    "print(f'Class average is {average}')"
   ]
  },
  {
   "cell_type": "code",
   "execution_count": null,
   "id": "568f57e4-7af5-4982-907f-f8a20b318559",
   "metadata": {},
   "outputs": [],
   "source": [
    "grade"
   ]
  },
  {
   "cell_type": "code",
   "execution_count": null,
   "id": "cc0fc6ff-f206-4260-915d-158f281691f5",
   "metadata": {},
   "outputs": [],
   "source": [
    "sep= end= "
   ]
  },
  {
   "cell_type": "code",
   "execution_count": null,
   "id": "dca24561-0f61-4157-b08b-ec87acdc0d05",
   "metadata": {},
   "outputs": [],
   "source": [
    "total = 0\n",
    "grade_counter = 0\n",
    "grade = int(input('Insira a média, fim para finalizar: '))\n",
    "\n",
    "while grade != -1:\n",
    "    total += grade\n",
    "    grade_counter += 1\n",
    "    grade = int(input('Insira a média, fim para finalizar: '))\n",
    "\n",
    "if grade_counter != 0:    \n",
    "    average = total / grade_counter\n",
    "    print(f'Media da classe é de {average:.2f}')\n",
    "else:    \n",
    "    print('Nenhuma media foi inserida')"
   ]
  },
  {
   "cell_type": "code",
   "execution_count": null,
   "id": "ea4b379f-f810-42df-9392-bea99cb92be0",
   "metadata": {},
   "outputs": [],
   "source": [
    "for number in range(100,-1,-1):\n",
    "    print(number, end=' ')"
   ]
  },
  {
   "cell_type": "code",
   "execution_count": null,
   "id": "d8204876-0494-44e5-a392-eb7364a60f1d",
   "metadata": {},
   "outputs": [],
   "source": [
    "for number in range(10,0,-2):\n",
    "    print(number, end=' ')"
   ]
  },
  {
   "cell_type": "code",
   "execution_count": null,
   "id": "537fc028-43e1-4f10-98da-c25c916e151e",
   "metadata": {},
   "outputs": [],
   "source": [
    "for number in range(99,-1,-11):\n",
    "    print(number, end=' ')"
   ]
  },
  {
   "cell_type": "code",
   "execution_count": null,
   "id": "bbe150d9-e6ac-4b6b-bbe5-fe2774c554d6",
   "metadata": {},
   "outputs": [],
   "source": [
    "total = 0\n",
    "for number in range(2,101,2):\n",
    "    total += number "
   ]
  },
  {
   "cell_type": "code",
   "execution_count": null,
   "id": "f5af71bc-e610-4805-afb0-f6b01ed520ba",
   "metadata": {},
   "outputs": [],
   "source": [
    "total"
   ]
  },
  {
   "cell_type": "code",
   "execution_count": null,
   "id": "e56231c0-ddbd-4c4c-8480-53b8e4bd6739",
   "metadata": {},
   "outputs": [],
   "source": [
    "from decimal import Decimal\n",
    "\n",
    "principal = Decimal('1000.00')\n",
    "rate = Decimal('0.05')\n",
    "\n",
    "for year in range(1,11):\n",
    "    amount = principal * (1 + rate) ** year\n",
    "    print(f'{year:>2} {amount:>10.2f}')\n"
   ]
  },
  {
   "cell_type": "code",
   "execution_count": null,
   "id": "1b60ec55-4ae8-4b8b-8ac6-7d84502fa0ca",
   "metadata": {},
   "outputs": [],
   "source": [
    "from decimal import Decimal\n",
    "\n",
    "print(f\"{Decimal('37.45') * Decimal ('1.0625'):.2f}\")"
   ]
  },
  {
   "cell_type": "code",
   "execution_count": null,
   "id": "41cccdc3-5ed4-4dd5-abb2-de5523d0c01d",
   "metadata": {},
   "outputs": [],
   "source": [
    "for number in range(100):\n",
    "    if number == 10:\n",
    "        break\n",
    "    print(number, end=' ')"
   ]
  },
  {
   "cell_type": "code",
   "execution_count": null,
   "id": "40767da5-8a43-4e84-ade0-368f86bfac27",
   "metadata": {},
   "outputs": [],
   "source": [
    "for number in range(10):\n",
    "    if number == 5:\n",
    "        continue\n",
    "    print(number, end=' ')"
   ]
  },
  {
   "cell_type": "code",
   "execution_count": null,
   "id": "6f4fd793-f345-4fad-a60e-021e5e941243",
   "metadata": {},
   "outputs": [],
   "source": [
    "gender = 'Velha'\n",
    "\n",
    "age = 74\n",
    "\n",
    "if gender == 'Velha' and age >= 65:\n",
    "    print('Cougar')\n",
    "else:\n",
    "    print('Coroa safada')"
   ]
  },
  {
   "cell_type": "code",
   "execution_count": null,
   "id": "128a1f00-105f-40d7-95ff-d71d6b5545f8",
   "metadata": {},
   "outputs": [],
   "source": [
    "media = 50\n",
    "exame_final = 40\n",
    "\n",
    "if media >= 90 or exame_final >= 90:\n",
    "    print('Passou, aleluia!')\n",
    "else:\n",
    "    print('Se fudeu troxa')"
   ]
  },
  {
   "cell_type": "code",
   "execution_count": null,
   "id": "60b6dd7d-9231-4551-bc0d-7365275168c1",
   "metadata": {},
   "outputs": [],
   "source": [
    "grades = [45,467,894,379,903,45]\n",
    "sum(grades) / len(grades)"
   ]
  },
  {
   "cell_type": "code",
   "execution_count": null,
   "id": "11b70523-203f-4e63-a005-72103325bb3a",
   "metadata": {},
   "outputs": [],
   "source": [
    "\"FUNÇÕES\"\n",
    "\n",
    "def square(number):\n",
    "    \"\"\"Calculate the square of a number\"\"\"\n",
    "    return number ** 2"
   ]
  },
  {
   "cell_type": "code",
   "execution_count": null,
   "id": "efb8d12c-6415-4b28-b5e7-bb78983576e4",
   "metadata": {},
   "outputs": [],
   "source": [
    "square(50)"
   ]
  },
  {
   "cell_type": "code",
   "execution_count": null,
   "id": "4154537c-96ef-4af3-99cd-23bece40b559",
   "metadata": {},
   "outputs": [],
   "source": [
    "square??"
   ]
  },
  {
   "cell_type": "code",
   "execution_count": null,
   "id": "033a6ff7-14ae-4edd-97b1-50e4350abafa",
   "metadata": {},
   "outputs": [],
   "source": [
    "statistics?"
   ]
  },
  {
   "cell_type": "code",
   "execution_count": null,
   "id": "d34ff760-c6ea-456f-9b48-1542313ea98b",
   "metadata": {},
   "outputs": [],
   "source": [
    "def square_root(number):\n",
    "    \"\"\"Finds a square root from a given number\"\"\"\n",
    "    return number ** 0.5"
   ]
  },
  {
   "cell_type": "code",
   "execution_count": null,
   "id": "8f90209d-3040-48cb-8dc6-b51c500c80df",
   "metadata": {},
   "outputs": [],
   "source": [
    "square_root(6.25)"
   ]
  },
  {
   "cell_type": "code",
   "execution_count": null,
   "id": "87cda4dc-f097-482b-8b2d-fd3af8879356",
   "metadata": {},
   "outputs": [],
   "source": [
    "def maximum(value1,value2,value3):\n",
    "    \"\"\"Determina o valor maximo de 3 valores\"\"\"\n",
    "    max_value = value1\n",
    "    if value2 > max_value:\n",
    "        max_value = value2\n",
    "    if value3 > max_value:\n",
    "        max_value = value3\n",
    "    return max_value    "
   ]
  },
  {
   "cell_type": "code",
   "execution_count": null,
   "id": "bdaf70dd-b14f-4146-9fde-58710cb6558e",
   "metadata": {},
   "outputs": [],
   "source": [
    "maximum('casa','casaa','casaaaa')"
   ]
  },
  {
   "cell_type": "code",
   "execution_count": null,
   "id": "3e9110ea-39ca-4d07-abd4-038fec817488",
   "metadata": {},
   "outputs": [],
   "source": [
    "maximum(-505.1,0.500,5.00)"
   ]
  },
  {
   "cell_type": "code",
   "execution_count": null,
   "id": "b0b9913d-d854-4fe8-88a7-93d9b1559d68",
   "metadata": {},
   "outputs": [],
   "source": [
    "max([14,54,87,51,2])"
   ]
  },
  {
   "cell_type": "code",
   "execution_count": null,
   "id": "e4f5167d-e27e-47d1-a886-fc30a562fb96",
   "metadata": {},
   "outputs": [],
   "source": [
    "###RANDOM NUMBER GENERATOR###\n",
    "\n",
    "import random\n",
    "\n",
    "for roll in range(10):\n",
    "    print(random.randrange(1,7), end=' ')\n",
    "                 "
   ]
  },
  {
   "cell_type": "code",
   "execution_count": null,
   "id": "ea9c99a7-390f-4eb9-8f9d-5e6e9dc695c6",
   "metadata": {},
   "outputs": [],
   "source": [
    "###Rolling a dice Six million Times,Random Number Generator ###\n",
    "\n",
    "import random\n",
    "\n",
    "#face frequency counters\n",
    "\n",
    "frequency1 = 0\n",
    "frequency2 = 0\n",
    "frequency3 = 0\n",
    "frequency4 = 0\n",
    "frequency5 = 0\n",
    "frequency6 = 0\n",
    "\n",
    "#Six million die rolls\n",
    "\n",
    "for roll in range(6000000):\n",
    "    face = random.randrange(1,7)\n",
    "    \n",
    "    if face == 1:\n",
    "        frequency1 += 1\n",
    "    elif face == 2:\n",
    "        frequency2 += 1\n",
    "    elif face == 3:\n",
    "        frequency3 += 1\n",
    "    elif face == 4:\n",
    "        frequency4 += 1        \n",
    "    elif face == 5:\n",
    "        frequency5 += 1\n",
    "    elif face == 6:\n",
    "        frequency6 += 1    \n",
    "\n",
    "print(f'Face{\"Frequency\":>13}') \n",
    "print(f'{1:>4}{frequency1:>13}')\n",
    "print(f'{2:>4}{frequency2:>13}')\n",
    "print(f'{3:>4}{frequency3:>13}')\n",
    "print(f'{4:>4}{frequency4:>13}')\n",
    "print(f'{5:>4}{frequency5:>13}')\n",
    "print(f'{6:>4}{frequency6:>13}')"
   ]
  },
  {
   "cell_type": "code",
   "execution_count": null,
   "id": "6f7303b6-3c17-4db8-9594-cd0c15a982d7",
   "metadata": {},
   "outputs": [],
   "source": [
    "random.seed(31)\n",
    "\n",
    "for roll in range(10):\n",
    "    print(random.randrange(1,7), end=' ')"
   ]
  },
  {
   "cell_type": "code",
   "execution_count": null,
   "id": "b856f0c3-e376-4e61-9d09-b0a65ba08de8",
   "metadata": {},
   "outputs": [],
   "source": [
    "\"\"\"Simulate 20 coin flips and print heads and tails\"\"\"\n",
    "import random\n",
    "\n",
    "for coins in range(20):\n",
    "    print('Heads' if random.randrange(2) == 0 else 'Tails', end=' ')\n",
    "    "
   ]
  },
  {
   "cell_type": "code",
   "execution_count": null,
   "id": "7dadaf72-d281-4696-b2b1-ba680d16fe87",
   "metadata": {},
   "outputs": [],
   "source": [
    "\"\"\"Simulando o jogo Craps\"\"\"\n",
    "\n",
    "import random\n",
    "\n",
    "def roll_dice():\n",
    "    \"\"\"Roll two dices and return their face values as Tuple\"\"\"\n",
    "    die1 = random.randrange(1,7)\n",
    "    die2 = random.randrange(1,7)\n",
    "    return (die1,die2)\n",
    "\n",
    "def display_dice(dice):\n",
    "    \"\"\"Display one roll of the two dice\"\"\"\n",
    "    die1, die2 = dice\n",
    "    print(f'Player rolled {die1} + {die2} = {sum(dice)}')\n",
    "    \n",
    "die_values = roll_dice()\n",
    "display_dice(die_values)\n",
    "\n",
    "sum_of_dice = sum(die_values)\n",
    "\n",
    "if sum_of_dice in (7,11):\n",
    "    game_status = 'Won!'\n",
    "    \n",
    "elif sum_of_dice in (2,3,12):\n",
    "    game_status = 'You lose!'\n",
    "else:\n",
    "    game_status = 'Continue'\n",
    "    my_point = sum_of_dice\n",
    "    print('Point is', my_point)\n",
    "\n",
    "while game_status == 'Continue':\n",
    "    die_values = roll_dice()\n",
    "    display_dice(die_values)\n",
    "    sum_of_dice = sum(die_values)\n",
    "    \n",
    "    if sum_of_dice == my_point:\n",
    "        game_status = 'Won!'\n",
    "    elif sum_of_dice == 7:\n",
    "        game_status = 'You lose!'\n",
    "        \n",
    "if game_status == 'Won!':\n",
    "    print('Player wins')\n",
    "else:\n",
    "    print('Player loses')"
   ]
  },
  {
   "cell_type": "code",
   "execution_count": null,
   "id": "90371449-c6da-498f-889a-70fe899a058f",
   "metadata": {},
   "outputs": [],
   "source": [
    "###Basic tuple###\n",
    "\n",
    "tromba = ('trombz', [54, 65, 98])\n",
    "\n",
    "tr1,tr2 = tromba\n"
   ]
  },
  {
   "cell_type": "code",
   "execution_count": null,
   "id": "6ce80d41-281f-47a4-a930-a7b9507e1a16",
   "metadata": {},
   "outputs": [],
   "source": [
    "tromba"
   ]
  },
  {
   "cell_type": "code",
   "execution_count": null,
   "id": "96a2d02a-5dc9-4069-98e3-57d0f08f1d50",
   "metadata": {},
   "outputs": [],
   "source": [
    "import math\n",
    "math.sqrt(55)"
   ]
  },
  {
   "cell_type": "code",
   "execution_count": null,
   "id": "06cc71a9-bd16-4fa1-9529-055a35079d69",
   "metadata": {},
   "outputs": [],
   "source": [
    "###Emprestimo##\n",
    "\n",
    "house_value = float(input('What is the price of the house in PLN'))\n",
    "salary = float(input('Whats your salary PLN'))\n",
    "pay_time = int(input('In how many months do you want to pay for it?'))\n",
    "\n",
    "interest_rate = (house_value / 100 * 3.5) / 12\n",
    "payment = (salary / 100 * 30)\n",
    "monthly_payment = (house_value / pay_time) + interest_rate\n",
    "\n",
    "if payment >= monthly_payment:\n",
    "    print('Your loan has been approved')\n",
    "else:\n",
    "    print('Your loan was denied due to monthly payment being above of 30% of your salary')\n",
    "    \n",
    "print(\"30% from you salary is PLN {:.2f} and your monthly payment would be PLN {:.2f} and with interest rate of {:.2f}\".format(payment,monthly_payment,interest_rate))    "
   ]
  },
  {
   "cell_type": "code",
   "execution_count": null,
   "id": "063627d1-e0c6-4ca5-a47b-93b81a297fa7",
   "metadata": {},
   "outputs": [],
   "source": [
    "def rectangle_area(length = 2, width = 3):\n",
    "    \"\"\"Returns rectangle area\"\"\"\n",
    "    return  length * width\n",
    "\n",
    "rectangle_area(10, 5)"
   ]
  },
  {
   "cell_type": "code",
   "execution_count": null,
   "id": "fffed2e6-2fe2-46d8-8adf-08a52c4cf49f",
   "metadata": {},
   "outputs": [],
   "source": [
    "def rectangle_area(length, width):\n",
    "    \"\"\"Returns rectangle area\"\"\"\n",
    "    return  length * width\n",
    "\n",
    "rectangle_area\n",
    "\n",
    "###when you have a function with lots of parameters, you must have the parameters defined which doesnt  have a default value assigned as first on the list"
   ]
  },
  {
   "cell_type": "code",
   "execution_count": null,
   "id": "ab0c787c-73a9-427d-bc20-e94a93f6e8cd",
   "metadata": {},
   "outputs": [],
   "source": [
    "def average(*args):\n",
    "    \"\"\"sum of args\"\"\"\n",
    "    \"\"\"Arguments like must be place as the last one on the parameter list\"\"\"\n",
    "    return sum(args) / len(args)"
   ]
  },
  {
   "cell_type": "code",
   "execution_count": null,
   "id": "2cd5f9e8-5edd-43f2-b8c6-298dd1247666",
   "metadata": {},
   "outputs": [],
   "source": [
    "average(5,10,15,30)"
   ]
  },
  {
   "cell_type": "code",
   "execution_count": null,
   "id": "b13579d3-1c87-4b13-89ce-f457aabacf9c",
   "metadata": {},
   "outputs": [],
   "source": [
    "grades = [54,57,24,39,12,3,912]\n",
    "\n",
    "average(*grades)\n",
    "### * unpacks a pack of values "
   ]
  },
  {
   "cell_type": "code",
   "execution_count": null,
   "id": "57f341d1-114f-4d21-97cf-a7e0e90c832c",
   "metadata": {},
   "outputs": [],
   "source": [
    "def calculate_product(*args):\n",
    "    product = 1\n",
    "    for value in args:\n",
    "        product += value\n",
    "    return product    \n",
    "\n"
   ]
  },
  {
   "cell_type": "code",
   "execution_count": null,
   "id": "56234075-5684-4bd4-ac44-4973400491f0",
   "metadata": {},
   "outputs": [],
   "source": [
    "calculate_product(*range(1,10,2))"
   ]
  },
  {
   "cell_type": "code",
   "execution_count": null,
   "id": "1d3beb21-0656-4edd-a315-eac1125e7b45",
   "metadata": {},
   "outputs": [],
   "source": [
    "'Coordinates: {latitude}, {longitude}'.format(latitude='37.24N', longitude='-115.81W')\n"
   ]
  },
  {
   "cell_type": "code",
   "execution_count": null,
   "id": "f4397f10-da0e-406f-8e70-974cbce8232d",
   "metadata": {},
   "outputs": [],
   "source": [
    "##Functions cannot modify global values assigned\n",
    "##Variables that already exist but it was created with the same name inside of a function,\n",
    "##that will be created locally inside the function, however if you call the variable,the value given will remain the same as previously configured in the global variable"
   ]
  },
  {
   "cell_type": "code",
   "execution_count": null,
   "id": "a29f290e-079c-4357-a0da-ba20b7fc73a6",
   "metadata": {},
   "outputs": [],
   "source": [
    "##If you want to explicity change/modify a global value, that can be done using the global function inside of the function created"
   ]
  },
  {
   "cell_type": "code",
   "execution_count": null,
   "id": "7a77cc47-af2f-4f60-a7b2-17c1f7ef808a",
   "metadata": {},
   "outputs": [],
   "source": [
    "H = 40\n",
    "\n",
    "def access_global():\n",
    "    print('O valor é de: ', H)\n",
    "\n",
    "access_global()    "
   ]
  },
  {
   "cell_type": "code",
   "execution_count": null,
   "id": "aba138be-ea67-4143-a01b-c87b2497e4fe",
   "metadata": {},
   "outputs": [],
   "source": [
    "H = 40\n",
    "\n",
    "def access_global():\n",
    "    H = 45\n",
    "    print('O valor é de: ', H)\n",
    "\n",
    "access_global()    "
   ]
  },
  {
   "cell_type": "code",
   "execution_count": null,
   "id": "f5c57523-875c-4c4a-9870-bd78cda542db",
   "metadata": {},
   "outputs": [],
   "source": [
    "#modifying a global value\n",
    "\n",
    "H = 40\n",
    "\n",
    "def access_global():\n",
    "    global H\n",
    "    H = 'tolete'\n",
    "    print('O valor é de: ', H)\n",
    "\n",
    "access_global()  "
   ]
  },
  {
   "cell_type": "code",
   "execution_count": null,
   "id": "cd9bf512-eea8-4253-b422-371d9b527382",
   "metadata": {},
   "outputs": [],
   "source": [
    "H"
   ]
  },
  {
   "cell_type": "code",
   "execution_count": null,
   "id": "a6f662c9-74c0-4d7f-8986-26625ecbeb9f",
   "metadata": {},
   "outputs": [],
   "source": [
    "##functions can be called as objects in Python"
   ]
  },
  {
   "cell_type": "code",
   "execution_count": null,
   "id": "bcbc8b7b-df27-4e31-8fa1-0dc49560541c",
   "metadata": {},
   "outputs": [],
   "source": [
    "##From Modules you can call objects directly without having to write the whole 'from' sequence"
   ]
  },
  {
   "cell_type": "code",
   "execution_count": null,
   "id": "b72ed1e3-2a90-4234-bbeb-8f5b0c2737c3",
   "metadata": {},
   "outputs": [],
   "source": [
    "from math import ceil,floor"
   ]
  },
  {
   "cell_type": "code",
   "execution_count": null,
   "id": "b667313f-9064-43aa-9dc5-285aa2f41a80",
   "metadata": {},
   "outputs": [],
   "source": [
    "floor(43.5)"
   ]
  },
  {
   "cell_type": "code",
   "execution_count": null,
   "id": "7fdd6a39-dfb2-48f4-970e-78a9714fd7a4",
   "metadata": {},
   "outputs": [],
   "source": [
    "ceil(445.4)"
   ]
  },
  {
   "cell_type": "code",
   "execution_count": null,
   "id": "26f2a05e-9a31-4dc0-9d09-866b4be03f5a",
   "metadata": {},
   "outputs": [],
   "source": [
    "#wildcard import , BE CAREFUL WHEN USING IT!\n",
    "\n",
    "e = 'ola'\n",
    "\n",
    "from math import * # * means that every object inside of the module math can be called, and in this case,it will overwrite the variable 'e' for the mathematical constant e"
   ]
  },
  {
   "cell_type": "code",
   "execution_count": null,
   "id": "75218a3d-f5e0-4af2-a49d-90677f8345a8",
   "metadata": {},
   "outputs": [],
   "source": [
    "e"
   ]
  },
  {
   "cell_type": "code",
   "execution_count": null,
   "id": "cbea8fc2-2b37-49f9-a703-b163fbabf489",
   "metadata": {},
   "outputs": [],
   "source": [
    "import statistics as stats\n",
    "\n",
    "grades = [345,53,433,42,231]\n",
    "\n",
    "stats.mean(grades)"
   ]
  },
  {
   "cell_type": "code",
   "execution_count": null,
   "id": "2568ecad-e502-48ff-932f-911a47881fa4",
   "metadata": {},
   "outputs": [],
   "source": [
    "import decimal as dec\n",
    "\n",
    "dec.Decimal('2.3')**2\n"
   ]
  },
  {
   "cell_type": "code",
   "execution_count": null,
   "id": "d5f11117-5bef-4b03-96d2-eb82cebb3cde",
   "metadata": {},
   "outputs": [],
   "source": [
    "##Passign arguments to functions\n",
    "'pass by value'\n",
    "'pass by reference'"
   ]
  },
  {
   "cell_type": "code",
   "execution_count": null,
   "id": "997ea528-212d-484a-9071-68426c70d2ee",
   "metadata": {},
   "outputs": [],
   "source": [
    "#a value of a variable IT IS AN OBJECT"
   ]
  },
  {
   "cell_type": "code",
   "execution_count": null,
   "id": "8cfb6c79-666f-41ff-95ed-a65122465b6f",
   "metadata": {},
   "outputs": [],
   "source": [
    "X  = 7\n",
    "id(X)"
   ]
  },
  {
   "cell_type": "code",
   "execution_count": null,
   "id": "921f9e2b-78de-4735-bb3f-827b3f4913a8",
   "metadata": {},
   "outputs": [],
   "source": [
    "#That number is actually where the value is store in memory, and also is the memory address of it,called Object Identifier in Python"
   ]
  },
  {
   "cell_type": "code",
   "execution_count": null,
   "id": "8819092a-95f1-41a5-8374-9eec01e808bc",
   "metadata": {},
   "outputs": [],
   "source": [
    "def cube(number):\n",
    "    print('id(number):',id(number))\n",
    "    return number ** 3"
   ]
  },
  {
   "cell_type": "code",
   "execution_count": null,
   "id": "c824e64d-e95b-48ba-9a5f-f54051c6f3a0",
   "metadata": {},
   "outputs": [],
   "source": [
    "cube(7)"
   ]
  },
  {
   "cell_type": "code",
   "execution_count": null,
   "id": "d592c9d7-411f-4d88-b73a-3dd06befa335",
   "metadata": {},
   "outputs": [],
   "source": [
    "def cube(number):\n",
    "    print('number is X:', number is X)\n",
    "    return number ** 3"
   ]
  },
  {
   "cell_type": "code",
   "execution_count": null,
   "id": "512ecdd1-3a5e-4049-93a1-278b44040fd2",
   "metadata": {},
   "outputs": [],
   "source": [
    "cube(7)"
   ]
  },
  {
   "cell_type": "code",
   "execution_count": null,
   "id": "063d3cc3-4a71-478f-906d-7e5786ac2761",
   "metadata": {},
   "outputs": [],
   "source": [
    "def cube(number):\n",
    "    print('id(number) before mod number:', id(number))\n",
    "    number **= 3\n",
    "    print('id(number) after mod number:', id(number))      \n",
    "    return number"
   ]
  },
  {
   "cell_type": "code",
   "execution_count": null,
   "id": "3de2974b-1bf4-468e-850a-95e591307ebe",
   "metadata": {},
   "outputs": [],
   "source": [
    "cube(7)"
   ]
  },
  {
   "cell_type": "code",
   "execution_count": null,
   "id": "cdb0132a-8305-4b1f-9b5f-d79ac576ad89",
   "metadata": {},
   "outputs": [],
   "source": [
    "id(X)"
   ]
  },
  {
   "cell_type": "code",
   "execution_count": null,
   "id": "0531fc42-77bb-47ea-80ba-87650c9ef380",
   "metadata": {},
   "outputs": [],
   "source": [
    "#integers,floats,strings,tuples, all of that is immmutable"
   ]
  },
  {
   "cell_type": "code",
   "execution_count": null,
   "id": "8d9572e9-6569-4f93-adc7-425034d2618c",
   "metadata": {},
   "outputs": [],
   "source": [
    "#Functional Style programming\n",
    "\n",
    ">What vs How\n",
    ">External Interation\n",
    ">Internal Interation\n",
    ">Declarative programming\n",
    ">pure functions"
   ]
  },
  {
   "cell_type": "markdown",
   "id": "8f2395b7-5a53-4aa3-8864-d383667fab81",
   "metadata": {},
   "source": [
    "LISTAS E TUPLES"
   ]
  },
  {
   "cell_type": "code",
   "execution_count": null,
   "id": "87aa759c-93a6-4384-91ae-1248c1fee4c9",
   "metadata": {},
   "outputs": [],
   "source": [
    "### LISTS AND TUPLES###\n",
    "\n",
    "lista1 = [34,56,67,7,8,4321,9] # LISTAS SÃO DEFINIDAS POR C O L C H E T E S, COLCHETE!!!!!!!!!!!\n",
    "\n",
    "lista1[4],[3]"
   ]
  },
  {
   "cell_type": "code",
   "execution_count": null,
   "id": "550bd43e-59a7-4364-a414-1db725b7e1b8",
   "metadata": {},
   "outputs": [],
   "source": [
    "len(lista1)"
   ]
  },
  {
   "cell_type": "code",
   "execution_count": null,
   "id": "51f17693-fe13-4dca-9e3b-91a4b46b2074",
   "metadata": {},
   "outputs": [],
   "source": [
    "type(lista1)"
   ]
  },
  {
   "cell_type": "code",
   "execution_count": null,
   "id": "86bca0c7-3b0e-4dd1-b7ea-f7053cbddbdb",
   "metadata": {},
   "outputs": [],
   "source": [
    "lista1?"
   ]
  },
  {
   "cell_type": "code",
   "execution_count": null,
   "id": "0047e3c1-9526-4495-88ef-4ecb6d16e385",
   "metadata": {},
   "outputs": [],
   "source": [
    "lista1[-4]"
   ]
  },
  {
   "cell_type": "code",
   "execution_count": null,
   "id": "d4096cb2-d7a1-4c86-93a4-8245c2d48501",
   "metadata": {},
   "outputs": [],
   "source": [
    "lista1 [3] = 302"
   ]
  },
  {
   "cell_type": "code",
   "execution_count": null,
   "id": "e85b99d1-5252-4860-800d-8549f1377a4f",
   "metadata": {},
   "outputs": [],
   "source": [
    "lista1"
   ]
  },
  {
   "cell_type": "code",
   "execution_count": null,
   "id": "22ede35b-6ce5-4b5b-b0be-311742bf18ba",
   "metadata": {},
   "outputs": [],
   "source": [
    "##adding content into a list##\n",
    "\n",
    "outra_lista = []\n",
    "\n",
    "for number in range(1,11):\n",
    "    outra_lista += [number]\n",
    "    \n",
    "outra_lista    "
   ]
  },
  {
   "cell_type": "code",
   "execution_count": null,
   "id": "7fe1a628-18dd-4ea0-b479-f0ad4c76d83d",
   "metadata": {},
   "outputs": [],
   "source": [
    "#adição\n",
    "\n",
    "a = 23\n",
    "b = 34\n",
    "\n",
    "b += a\n",
    "print('Adicao: %d' % (b))"
   ]
  },
  {
   "cell_type": "code",
   "execution_count": null,
   "id": "83432349-6c5a-4294-b5ae-f93e5661f4ed",
   "metadata": {},
   "outputs": [],
   "source": [
    "v = ['casa']\n",
    "vb = ['velha']\n",
    "\n",
    "v += vb\n",
    "\n",
    "v\n"
   ]
  },
  {
   "cell_type": "code",
   "execution_count": null,
   "id": "a9eec639-f38f-45fd-aa48-9ee2b5211a32",
   "metadata": {},
   "outputs": [],
   "source": [
    "lista00 = [2,23,4,5,65,7]\n",
    "lista001 = [0,99,88,77,66,55]\n",
    "\n",
    "junto  = lista00 + lista001\n",
    "\n",
    "for ahk in range(len(junto)):\n",
    "    print(f'{ahk}: {junto[ahk]}')"
   ]
  },
  {
   "cell_type": "code",
   "execution_count": null,
   "id": "254e2ad7-d651-415d-a948-28416c4cbfd1",
   "metadata": {},
   "outputs": [],
   "source": [
    "armas = ['AR15, GLOCK, M107, BERETTA']\n",
    "explosivos = ['c4, granada, dinamite, claymore']\n",
    "\n",
    "junto  = armas + explosivos\n",
    "\n",
    "for ahk in range(len(junto)):\n",
    "    print(f'{ahk}: {junto[ahk]}')"
   ]
  },
  {
   "cell_type": "code",
   "execution_count": null,
   "id": "a2caa4f8-6980-4422-b40a-558dc310e348",
   "metadata": {},
   "outputs": [],
   "source": [
    "lista00 = [2,23,4,5,65,7]\n",
    "lista001 = [0,99,88,77,66,55]\n",
    "\n",
    "junto  = lista00 + lista001\n",
    "\n",
    "for i, valor in enumerate(junto):\n",
    "    print(f'{i}: {valor}')"
   ]
  },
  {
   "cell_type": "code",
   "execution_count": null,
   "id": "40656222-b165-4d87-8ee5-7bc111335c49",
   "metadata": {},
   "outputs": [],
   "source": [
    "numeros = [3,6,9,4,5,7,8,9,76,43]\n",
    "\n",
    "def cube_list(numeros):\n",
    "    for i, valor in enumerate(numeros):\n",
    "        valor **= 3\n",
    "        print ('Os valores ao cubo são: ', valor)"
   ]
  },
  {
   "cell_type": "code",
   "execution_count": null,
   "id": "630fa701-e338-48d4-8b92-1778807db292",
   "metadata": {},
   "outputs": [],
   "source": [
    "cube_list(numeros)"
   ]
  },
  {
   "cell_type": "code",
   "execution_count": null,
   "id": "4145f9d7-d4fa-4870-8d29-7302db7d34f8",
   "metadata": {},
   "outputs": [],
   "source": [
    "characters = []\n",
    "a = 'Birthday'\n",
    "\n",
    "characters += a"
   ]
  },
  {
   "cell_type": "code",
   "execution_count": null,
   "id": "27b2be87-15b0-482b-a1fe-9fab4a905b50",
   "metadata": {},
   "outputs": [],
   "source": [
    "characters"
   ]
  },
  {
   "cell_type": "code",
   "execution_count": null,
   "id": "d75138b3-a22d-4d8a-b0f6-bf7072c7d059",
   "metadata": {},
   "outputs": [],
   "source": [
    "#LIST SLICING\n",
    "\n",
    "n0 = [2,3,454,56,6,768,8,9]\n",
    "n0[2:6]"
   ]
  },
  {
   "cell_type": "code",
   "execution_count": null,
   "id": "16196cf5-43dd-4eea-a519-b6f495d8ea11",
   "metadata": {},
   "outputs": [],
   "source": [
    "n0[:6]#list sliced"
   ]
  },
  {
   "cell_type": "code",
   "execution_count": null,
   "id": "a5c63989-f6d9-4c64-ab5b-937b2360dba5",
   "metadata": {},
   "outputs": [],
   "source": [
    "n0[6:]"
   ]
  },
  {
   "cell_type": "code",
   "execution_count": null,
   "id": "668fd49f-7178-4595-928c-67eee7e1e724",
   "metadata": {},
   "outputs": [],
   "source": [
    "n0[6:len(n0)]"
   ]
  },
  {
   "cell_type": "code",
   "execution_count": null,
   "id": "d5e72f91-8463-4c3b-a17a-8af18eab3bec",
   "metadata": {},
   "outputs": [],
   "source": [
    "n0[:]#this is called a SHALLOW COPY,every slicing operation is called as SHALLOW COPY,the list is a reference to 'original list' containing reference to the objects from the list previously created\n"
   ]
  },
  {
   "cell_type": "code",
   "execution_count": null,
   "id": "459d71b3-b10a-4a40-bd70-65133ea559b1",
   "metadata": {},
   "outputs": [],
   "source": [
    "n0[::2]#adding a step"
   ]
  },
  {
   "cell_type": "code",
   "execution_count": null,
   "id": "808e95a6-f7d5-4cbb-bae6-82f2c921ecfc",
   "metadata": {},
   "outputs": [],
   "source": [
    "n0[::-1]#counting backwards"
   ]
  },
  {
   "cell_type": "code",
   "execution_count": null,
   "id": "c5358575-a207-46fb-a992-a2b8f9a6f620",
   "metadata": {},
   "outputs": [],
   "source": [
    "n0[-1:-9:-1]"
   ]
  },
  {
   "cell_type": "code",
   "execution_count": null,
   "id": "ebf14d9a-1377-479b-b658-0c6e323e42a7",
   "metadata": {},
   "outputs": [],
   "source": [
    "#modying the content of a list using slicing operation\n",
    "\n",
    "n0[0:3] = ['dois','tres','quatro']#replacing the first 3 values from the list\n",
    "n0"
   ]
  },
  {
   "cell_type": "code",
   "execution_count": null,
   "id": "f1759357-0bc8-4ac6-9d65-9aaf9462a572",
   "metadata": {},
   "outputs": [],
   "source": [
    "n0[0:3] = []\n",
    "n0"
   ]
  },
  {
   "cell_type": "code",
   "execution_count": null,
   "id": "a59e9d54-eae8-4b32-96c6-059a1d3b7967",
   "metadata": {},
   "outputs": [],
   "source": [
    "n0 = [2,3,454,56,6,768,8,9]\n",
    "n0[::2] = [100,100,100,100]#replacing values at each 2 step from an existing list\n",
    "n0"
   ]
  },
  {
   "cell_type": "code",
   "execution_count": null,
   "id": "92a68718-8b96-4449-b45d-8a04434a39cf",
   "metadata": {},
   "outputs": [],
   "source": [
    "id(n0)#memory position from the list"
   ]
  },
  {
   "cell_type": "code",
   "execution_count": null,
   "id": "0a8e8b7c-c019-4321-8aaa-caa003431d7f",
   "metadata": {},
   "outputs": [],
   "source": [
    "n0[:] = []\n",
    "n0"
   ]
  },
  {
   "cell_type": "code",
   "execution_count": null,
   "id": "6ef31680-49c7-40c4-a477-1a59b3e8bf71",
   "metadata": {},
   "outputs": [],
   "source": [
    "id(n0)#id still identical even after deleting the elements from the sliucing operation"
   ]
  },
  {
   "cell_type": "code",
   "execution_count": null,
   "id": "88232cba-b701-43f1-afdd-43ede50d6743",
   "metadata": {},
   "outputs": [],
   "source": [
    "n0 = []"
   ]
  },
  {
   "cell_type": "code",
   "execution_count": null,
   "id": "7b5514f2-d618-476c-840d-8d3427b86aed",
   "metadata": {},
   "outputs": [],
   "source": [
    "id(n0)#this adds a new memory reference due to the variable has a NEW OBJECT([])"
   ]
  },
  {
   "cell_type": "code",
   "execution_count": null,
   "id": "32f6bb71-2c0b-4c64-aaca-f20af455fd34",
   "metadata": {},
   "outputs": [],
   "source": [
    "n0 = [1,2,3,4,5,6,7,8,9,10,11,12,13,14,15]#adding 5 zeros from position 5 through 10 by explicit assignment\n",
    "n0[5:10] = [0,0,0,0,0]\n",
    "n0"
   ]
  },
  {
   "cell_type": "code",
   "execution_count": null,
   "id": "3feeca2d-1bdf-49f7-9f94-c1b841875477",
   "metadata": {},
   "outputs": [],
   "source": [
    "n0 = [1,2,3,4,5,6,7,8,9,10,11,12,13,14,15]#adding 5 zeros from position 5 through 10 using len function\n",
    "n0[5:10] = [0] * len(n0[5:10])\n",
    "n0"
   ]
  },
  {
   "cell_type": "code",
   "execution_count": null,
   "id": "e3b1699e-1f7c-4548-a893-fdc4a00b8acb",
   "metadata": {},
   "outputs": [],
   "source": [
    "n0[5:] = []#slicing all elements but no including the first five elements\n",
    "n0"
   ]
  },
  {
   "cell_type": "code",
   "execution_count": null,
   "id": "5e82fecb-2800-4c17-8808-1a3783e3f5e0",
   "metadata": {},
   "outputs": [],
   "source": [
    "n0[:] = []#deleting all elements\n",
    "n0"
   ]
  },
  {
   "cell_type": "code",
   "execution_count": null,
   "id": "dadafc78-6383-45d7-a262-3dba321d2fed",
   "metadata": {},
   "outputs": [],
   "source": [
    "n0[1:len(n0):2]#counting even int numbers"
   ]
  },
  {
   "cell_type": "code",
   "execution_count": null,
   "id": "1feea484-1471-46b4-88d0-202e885ee4c2",
   "metadata": {},
   "outputs": [],
   "source": [
    "#Deleting elements from a list using del function\n",
    "\n",
    "n1=list(range(10))\n",
    "n1"
   ]
  },
  {
   "cell_type": "code",
   "execution_count": null,
   "id": "2e863fe8-4f07-418e-b16a-4e3180d60ece",
   "metadata": {},
   "outputs": [],
   "source": [
    "del n1[-1]\n",
    "n1"
   ]
  },
  {
   "cell_type": "code",
   "execution_count": null,
   "id": "1b8ca912-e298-4b4a-87e7-4c2364205122",
   "metadata": {},
   "outputs": [],
   "source": [
    "del n1[0:2]\n",
    "n1"
   ]
  },
  {
   "cell_type": "code",
   "execution_count": null,
   "id": "39da81f2-5e06-43b2-acc3-5ebf8405e64a",
   "metadata": {},
   "outputs": [],
   "source": [
    "del n1[::2]\n",
    "n1"
   ]
  },
  {
   "cell_type": "code",
   "execution_count": null,
   "id": "0bbba802-19b9-4194-a91c-47792186188f",
   "metadata": {},
   "outputs": [],
   "source": [
    "del n1[:]\n",
    "n1"
   ]
  },
  {
   "cell_type": "code",
   "execution_count": null,
   "id": "49699335-52a3-42d4-8412-5080ec5a0d0c",
   "metadata": {},
   "outputs": [],
   "source": [
    "del n1"
   ]
  },
  {
   "cell_type": "code",
   "execution_count": null,
   "id": "2791ee79-404c-4adc-bc64-498ef0913d64",
   "metadata": {},
   "outputs": [],
   "source": [
    "n1"
   ]
  },
  {
   "cell_type": "code",
   "execution_count": null,
   "id": "4d49d072-f845-4c36-99b8-5563b634965d",
   "metadata": {},
   "outputs": [],
   "source": [
    "n1=list(range(1,15))\n",
    "n1"
   ]
  },
  {
   "cell_type": "code",
   "execution_count": null,
   "id": "11bbfba3-19e5-41e4-a9b8-e365dde89494",
   "metadata": {},
   "outputs": [],
   "source": [
    "del n1[:4]"
   ]
  },
  {
   "cell_type": "code",
   "execution_count": null,
   "id": "ba8319b1-245a-4791-a974-efc767cd73d9",
   "metadata": {},
   "outputs": [],
   "source": [
    "n1"
   ]
  },
  {
   "cell_type": "code",
   "execution_count": null,
   "id": "c8586ba3-665b-4ee1-ab52-236f1d101ba9",
   "metadata": {},
   "outputs": [],
   "source": [
    "del n1[1:]"
   ]
  },
  {
   "cell_type": "code",
   "execution_count": null,
   "id": "d961e812-dfb7-4ddf-9a39-9ded586169f8",
   "metadata": {},
   "outputs": [],
   "source": [
    "n1"
   ]
  },
  {
   "cell_type": "code",
   "execution_count": null,
   "id": "c1c6d493-c0c5-4ee5-970a-7f68def41c88",
   "metadata": {},
   "outputs": [],
   "source": [
    "#Passing lists to functions\n",
    "\n",
    "def modify_elements(items):\n",
    "    \"\"\"Multiplica todos elementos em itens por 2\"\"\"\n",
    "    for i in range(len(items)):\n",
    "        items[i] *= 2"
   ]
  },
  {
   "cell_type": "code",
   "execution_count": null,
   "id": "c6570e63-def8-4d73-8fd2-eacd09cfc496",
   "metadata": {},
   "outputs": [],
   "source": [
    "nur = ['bunda ;','cu',67,457,3245,7,432,5,68,4423,6]"
   ]
  },
  {
   "cell_type": "code",
   "execution_count": null,
   "id": "3d2debe4-afc4-49e8-825e-d928b0a18c5a",
   "metadata": {},
   "outputs": [],
   "source": [
    "modify_elements(nur)"
   ]
  },
  {
   "cell_type": "code",
   "execution_count": null,
   "id": "676f92b7-fc8b-4211-a89d-080a078a7773",
   "metadata": {},
   "outputs": [],
   "source": [
    "nur"
   ]
  },
  {
   "cell_type": "code",
   "execution_count": null,
   "id": "76610dc6-f932-48d2-a0f8-de744fa61ed2",
   "metadata": {},
   "outputs": [],
   "source": [
    "nuuur = (445,4,45,5)"
   ]
  },
  {
   "cell_type": "code",
   "execution_count": null,
   "id": "ece06e00-0c3e-4386-a50a-7f017739f882",
   "metadata": {},
   "outputs": [],
   "source": [
    "nuuur[:] = [0] + [2]# FUCKING BITCH,YOU CANNOT MODIFY TUPLES!"
   ]
  },
  {
   "cell_type": "code",
   "execution_count": null,
   "id": "fbcd62e0-b323-4b9a-bbe5-4edb8757583e",
   "metadata": {},
   "outputs": [],
   "source": [
    "modify_elements(nuuur)#AGAIN DOING THE SAME SHIT?! TUPLES ARE IMMUTABLE!"
   ]
  },
  {
   "cell_type": "code",
   "execution_count": null,
   "id": "ba4375c7-9b54-42f1-bd7d-4d425035058b",
   "metadata": {},
   "outputs": [],
   "source": [
    "#Sorting lists by using functions\n",
    "n3 = [10,9,8,7,6,5,4,3,2,1]\n",
    "asc_numb = sorted(n3)"
   ]
  },
  {
   "cell_type": "code",
   "execution_count": null,
   "id": "55149d20-195c-4dfb-b780-9e542b855efe",
   "metadata": {},
   "outputs": [],
   "source": [
    "asc_numb"
   ]
  },
  {
   "cell_type": "code",
   "execution_count": null,
   "id": "ec353f7d-7131-46b2-8c90-b8618f97a0dc",
   "metadata": {},
   "outputs": [],
   "source": [
    "n3.sort(reverse=True)"
   ]
  },
  {
   "cell_type": "code",
   "execution_count": null,
   "id": "4585d5fe-4d97-46eb-b1b9-c94fb40d6c63",
   "metadata": {},
   "outputs": [],
   "source": []
  },
  {
   "cell_type": "code",
   "execution_count": null,
   "id": "fa4f0a7a-c26d-4d03-b3ff-c08816fb621f",
   "metadata": {},
   "outputs": [],
   "source": [
    "#collatz conjecture\n",
    "\n",
    "def collatz(number):\n",
    "    if number % 2 == 0:\n",
    "        print(number // 2)\n",
    "        return number // 2\n",
    "    else:\n",
    "        number % 2 == 1\n",
    "        result = 3 * number + 1\n",
    "        print(result)\n",
    "        return result\n",
    "n = input(\"Give me a number: \")\n",
    "while n != 1:\n",
    "    n = collatz(int(n))"
   ]
  },
  {
   "cell_type": "code",
   "execution_count": null,
   "id": "d1a3828e-3b9a-4aa1-897d-66c13be6eaaf",
   "metadata": {},
   "outputs": [],
   "source": [
    "#Fibonacci series:\n",
    "\n",
    "a,b = 0,1\n",
    "while b < 500:\n",
    "    a,b = b, a+b\n",
    "    print(round(b/a,5), end=\",\")"
   ]
  },
  {
   "cell_type": "code",
   "execution_count": null,
   "id": "b0dac676-2451-46fb-b1db-8ad73cc18c85",
   "metadata": {},
   "outputs": [],
   "source": [
    "round??"
   ]
  },
  {
   "cell_type": "code",
   "execution_count": null,
   "id": "81778748-7afd-4126-a4d5-070039fe4a5b",
   "metadata": {},
   "outputs": [],
   "source": [
    "a = (range(1,7))\n",
    "print(a)"
   ]
  },
  {
   "cell_type": "code",
   "execution_count": null,
   "id": "c272d5d8-0a8d-4bc1-961b-806986701840",
   "metadata": {},
   "outputs": [],
   "source": [
    "import nltk\n",
    "\n",
    "sentence =\"\"\"At eight o'clock on Thursday morning Arthur didn't feel very good.\"\"\"\n",
    "\n",
    "tokens = nltk.word_tokenize(sentence)\n",
    "tokens\n",
    "['At', 'eight', \"o'clock\", 'on', 'Thursday', 'morning',\n",
    "'Arthur', 'did', \"n't\", 'feel', 'very', 'good', '.']\n",
    "tagged = nltk.pos_tag(tokens)\n",
    "tagged[0:6]\n",
    "[('At', 'IN'), ('eight', 'CD'), (\"o'clock\", 'JJ'), ('on', 'IN'),\n",
    "('Thursday', 'NNP'), ('morning', 'NN')]\n",
    "\n",
    "entities = nltk.chunk.ne_chunk(tagged)\n",
    "entities\n",
    "Tree = ('S', [('At', 'IN'), ('eight', 'CD'), (\"o'clock\", 'JJ'),\n",
    "           ('on', 'IN'), ('Thursday', 'NNP'), ('morning', 'NN'),\n",
    "       'Tree', ('PERSON', [('Arthur', 'NNP')]),\n",
    "           ('did', 'VBD'), (\"n't\", 'RB'), ('feel', 'VB'),\n",
    "           ('very', 'RB'), ('good', 'JJ'), ('.', '.')])\n",
    "\n",
    "from nltk.corpus import treebank\n",
    "\n",
    "t = treebank.parsed_sents('wsj_0001.mrg')[0]\n",
    "\n",
    "t.draw()\n",
    "\n"
   ]
  },
  {
   "cell_type": "code",
   "execution_count": null,
   "id": "9c08e965-e21a-44a0-a3db-164ddb112b3d",
   "metadata": {},
   "outputs": [],
   "source": [
    "import nltk\n",
    "nltk.download('treebank')"
   ]
  },
  {
   "cell_type": "code",
   "execution_count": null,
   "id": "854a1b17-27f9-4c73-8bd9-1e6f0169524a",
   "metadata": {},
   "outputs": [],
   "source": [
    "(define (fib n)\n",
    "  (let fib-iter ((a 1)\n",
    "                 (b 0)\n",
    "                 (count n))\n",
    "    (if (= count 0)\n",
    "        b\n",
    "        (fib-iter (+ a b) a (- count 1)))))"
   ]
  },
  {
   "cell_type": "code",
   "execution_count": null,
   "id": "fcbb5adb-757b-4885-8095-07c0b848fb30",
   "metadata": {},
   "outputs": [],
   "source": [
    "import BeautifulSoup\n",
    "BeautifulSoup.download('selenium')"
   ]
  },
  {
   "cell_type": "code",
   "execution_count": null,
   "id": "be469b47-a39a-4ec1-abc6-1dfa663e7390",
   "metadata": {},
   "outputs": [],
   "source": [
    "import requests\n",
    "from bs4 import BeautifulSoup as bs\n",
    "import pandas as pd\n",
    "\n",
    "baseurl = \"https://www.thewhiskyexchange.com\"\n",
    "\n",
    "headers = {'User-Agent': 'Mozilla/5.0 (Windows NT 10.0; Win64; x64) AppleWebKit/537.36 (KHTML, like Gecko) Chrome/89.0.4389.82 Safari/537.36'}\n",
    "\n",
    "productlinks = []\n",
    "data = []\n",
    "\n",
    "for x in range(1,6):\n",
    "    k = requests.get('https://www.thewhiskyexchange.com/c/35/japanese-whisky?pg={}&psize=120&sort=pasc'.format(x)).text\n",
    "    soup = bs(k,'html.parser')\n",
    "    productlist  = soup.find_all(\"li\",{\"class\":\"product-grid__item\"})\n",
    "    for product in productlist:\n",
    "        link = product.find(\"a\",{\"class\":\"product-card\"}).get('href')\n",
    "        productlinks.append(baseurl + link)\n",
    "        \n",
    "\n",
    "\n",
    "for link in productlinks:\n",
    "    f = requests.get(link,headers = headers).text\n",
    "    hun = bs(f,'html.parser')\n",
    "    try:\n",
    "        price = hun.find(\"p\",{\"class\":\"product-action__price\"}).text.replace('\\n',\"\")\n",
    "    except:\n",
    "        price = None\n",
    "    try:\n",
    "        about = hun.find('div',{\"class\":\"product-main__description\"}).text.replace('\\n',\"\")\n",
    "    except:\n",
    "        about = None\n",
    "    try:\n",
    "        rating = hun.find('div',{\"class\":\"review-overview\"}).text.replace('\\n',\"\")    \n",
    "    except:\n",
    "        rating = None        \n",
    "    try:\n",
    "        name = hun.find('h1',{\"class\":\"product-main__name\"}).text.replace('\\n',\"\")\n",
    "    except:\n",
    "        name = None\n",
    "\n",
    "    whisky = {\"name\":name,\"price\":price,\"rating\":rating,\"about\":about}\n",
    "    data.append(whisky)\n",
    "\n",
    "presentation = pd.DataFrame(data)\n",
    "\n",
    "print(presentation)"
   ]
  },
  {
   "cell_type": "code",
   "execution_count": null,
   "id": "08c7bfdf-51e5-4fb2-8365-8c5b90921298",
   "metadata": {},
   "outputs": [],
   "source": [
    "letras = 'kdfbhjnklvcuiewjfrk'\n",
    "\n",
    "asceding_letters = sorted(letras)\n",
    "\n",
    "asceding_letters"
   ]
  },
  {
   "cell_type": "code",
   "execution_count": null,
   "id": "0ff0937b-f621-4c8d-ac9e-a84f21673be4",
   "metadata": {},
   "outputs": [],
   "source": [
    "ascending_letters = sorted(letras, reverse = True)\n",
    "ascending_letters"
   ]
  },
  {
   "cell_type": "code",
   "execution_count": null,
   "id": "7f337a8d-171e-4a43-ad56-8477057d8bab",
   "metadata": {},
   "outputs": [],
   "source": [
    "#Continuation from Sorting lists\n",
    "food = ['cookies','pizza','grapes','apples','steak','bacon']\n",
    "ascending = sorted(food)\n",
    "ascending"
   ]
  },
  {
   "cell_type": "code",
   "execution_count": null,
   "id": "a1bfe64b-9107-47f0-98ee-2b110ccb561b",
   "metadata": {},
   "outputs": [],
   "source": [
    "food = ['cookies','pizza','grapes','apples','steak','bacon']\n",
    "food.sort()\n",
    "ascending"
   ]
  },
  {
   "cell_type": "code",
   "execution_count": null,
   "id": "1e5399c4-33b5-4f22-8c85-93fcbfc24f87",
   "metadata": {},
   "outputs": [],
   "source": [
    "#Searching sequences\n",
    "nm = [435,6,76,78,8,9,97,69,45,3,35]\n",
    "\n",
    "nm.index(9)\n",
    "nm *= 2\n",
    "nm.index(6,5)"
   ]
  },
  {
   "cell_type": "code",
   "execution_count": null,
   "id": "0b057dc8-fd4c-4602-814a-f0e32337fe54",
   "metadata": {
    "tags": []
   },
   "outputs": [],
   "source": [
    "nm.index(69,5,10) #Primeiro valor é o elemento a ser encontrado que está incluído na lista,,segundo valor é significa posição que a procura vai iniciar,terceiro valor é a quantidade de steps até o range desejado mas não incluindo o último valor"
   ]
  },
  {
   "cell_type": "code",
   "execution_count": null,
   "id": "1e42211f-fca6-489d-a879-3c524f5c81ba",
   "metadata": {},
   "outputs": [],
   "source": [
    "69 in nm"
   ]
  },
  {
   "cell_type": "code",
   "execution_count": null,
   "id": "e1185d1c-4cb4-4451-9dc8-9f0b025f0d2a",
   "metadata": {},
   "outputs": [],
   "source": [
    "100 not in nm"
   ]
  },
  {
   "cell_type": "code",
   "execution_count": null,
   "id": "46e7ea48-e7a9-4591-a716-9272633033f2",
   "metadata": {},
   "outputs": [],
   "source": [
    "69 not in nm"
   ]
  },
  {
   "cell_type": "code",
   "execution_count": null,
   "id": "6df491c1-8098-41a1-aae9-f7f44cc85e68",
   "metadata": {},
   "outputs": [],
   "source": [
    "nm.index(100)"
   ]
  },
  {
   "cell_type": "code",
   "execution_count": null,
   "id": "d3aad8a1-baac-43ee-9965-d32d92a8e4e9",
   "metadata": {},
   "outputs": [],
   "source": [
    "keyy = 69\n",
    "if key in nm:\n",
    "    print(f'Found {key} at index {nm.index(key)}')\n",
    "else:\n",
    "    print(f'{key} not found')\n",
    "          "
   ]
  },
  {
   "cell_type": "code",
   "execution_count": null,
   "id": "0d3874b7-eb5b-47d1-a582-c3d98471c086",
   "metadata": {},
   "outputs": [],
   "source": [
    "#In Python anything that is zero is considered to be false,anything that is not zero is considered to be true\n",
    "#That applies for strings as well,anything that has no characters,empty will be considered to be false"
   ]
  },
  {
   "cell_type": "code",
   "execution_count": null,
   "id": "b451ad74-f28d-418e-ac35-9945106ad06d",
   "metadata": {},
   "outputs": [],
   "source": [
    "nm3 = [67,12,46,43,13]\n",
    "\n",
    "if nm3 in nm3:\n",
    "    print(f'Found{nm3} at index {nm.index(nm3)}')\n",
    "else:\n",
    "    print(f'{nm3} not found')\n",
    "\n",
    "nm3.index(44)\n",
    "    "
   ]
  },
  {
   "cell_type": "code",
   "execution_count": null,
   "id": "f64565f1-39c4-42dd-8fe8-3d0cd6c63832",
   "metadata": {},
   "outputs": [],
   "source": [
    "nm3 = [67,12,46,43,13]\n",
    "\n",
    "if 44 in nm3:\n",
    "    print(f'Found{44} at index {nm3.index()}')\n",
    "else:\n",
    "    print(f'{44} not found')\n",
    "\n",
    "nm3.index(44)"
   ]
  },
  {
   "cell_type": "code",
   "execution_count": null,
   "id": "c47d234d-4b23-4f4d-bc09-7bff3b74f414",
   "metadata": {},
   "outputs": [],
   "source": [
    "clr_names = ['orange','yellow','green']\n",
    "\n",
    "clr_names.insert(0,'red')#0 means the index number that the new paramamter will be put, this can be in wherever position you want\n",
    "clr_names"
   ]
  },
  {
   "cell_type": "code",
   "execution_count": null,
   "id": "cc3a35c9-7d04-4a27-8efd-2198204954e3",
   "metadata": {},
   "outputs": [],
   "source": [
    "clr_names.append('blue')#this will add items only to the last index position,only at the end"
   ]
  },
  {
   "cell_type": "code",
   "execution_count": null,
   "id": "19ea3f06-5be9-49b4-8732-03480be8529e",
   "metadata": {},
   "outputs": [],
   "source": [
    "clr_names"
   ]
  },
  {
   "cell_type": "code",
   "execution_count": null,
   "id": "03e8959d-06c1-4e30-ac25-c11a99494fea",
   "metadata": {},
   "outputs": [],
   "source": [
    "clr_names.extend(['indigo','violet'])#add a sequence of values to the end"
   ]
  },
  {
   "cell_type": "code",
   "execution_count": null,
   "id": "f52599ad-0a54-48ad-bcfa-772b97f80800",
   "metadata": {},
   "outputs": [],
   "source": [
    "clr_names\n"
   ]
  },
  {
   "cell_type": "code",
   "execution_count": null,
   "id": "4547e775-a81f-4e96-a647-0ba0909daa45",
   "metadata": {},
   "outputs": [],
   "source": [
    "sample = []\n",
    "s = 'blablabla'\n",
    "sample.extend('bunda')"
   ]
  },
  {
   "cell_type": "code",
   "execution_count": null,
   "id": "39c5fd8e-c439-4b98-af08-09143a515605",
   "metadata": {},
   "outputs": [],
   "source": [
    "sample"
   ]
  },
  {
   "cell_type": "code",
   "execution_count": null,
   "id": "d323c576-3479-4593-8505-5507ea24c125",
   "metadata": {},
   "outputs": [],
   "source": [
    "t = (1,2,3)\n",
    "sample.extend(t)"
   ]
  },
  {
   "cell_type": "code",
   "execution_count": null,
   "id": "d0e147f0-60db-485e-83b7-a86ff362c4db",
   "metadata": {},
   "outputs": [],
   "source": [
    "sample"
   ]
  },
  {
   "cell_type": "code",
   "execution_count": null,
   "id": "c8e6c3bd-6828-4e60-86f7-3abf91a68f34",
   "metadata": {},
   "outputs": [],
   "source": [
    "sample.extend(4,5,6)"
   ]
  },
  {
   "cell_type": "code",
   "execution_count": null,
   "id": "5c0dea45-dc2b-4283-af7a-cbafa48e0baf",
   "metadata": {},
   "outputs": [],
   "source": [
    "sample.extend((4,5,6))#extend method expects just 1 argument,so in order to add more than 1,you have to use double parenthesis\n",
    "sample"
   ]
  },
  {
   "cell_type": "code",
   "execution_count": null,
   "id": "4f65d12a-80a3-4859-9844-d7b6fb3fa948",
   "metadata": {},
   "outputs": [],
   "source": [
    "clr_names.remove('green')\n",
    "clr_names"
   ]
  },
  {
   "cell_type": "code",
   "execution_count": null,
   "id": "f33a675a-d1a0-4a84-9622-0a818206d4dd",
   "metadata": {},
   "outputs": [],
   "source": [
    "clr_names"
   ]
  },
  {
   "cell_type": "code",
   "execution_count": null,
   "id": "8c667801-b814-4236-b0a4-075f788b84ed",
   "metadata": {},
   "outputs": [],
   "source": [
    "clr_names.clear() #Equivalent of i.e: clr_names[:] = []"
   ]
  },
  {
   "cell_type": "code",
   "execution_count": null,
   "id": "11c16b61-aa03-4ddb-9a2c-62fd3240621c",
   "metadata": {},
   "outputs": [],
   "source": [
    "clr_names"
   ]
  },
  {
   "cell_type": "code",
   "execution_count": null,
   "id": "bcd580fd-803f-4c47-b142-84a8c1e24773",
   "metadata": {},
   "outputs": [],
   "source": [
    "responses = [1,2,34,54,5,6,67,77,8,98,9,9,0,0,87]\n",
    "\n",
    "for i in range(1,15):\n",
    "    print(f'{i}appears {responses.count(i)} times in responses')# method count"
   ]
  },
  {
   "cell_type": "code",
   "execution_count": null,
   "id": "cda76da4-c4bd-47de-ab6f-e70ed1a0fdbe",
   "metadata": {},
   "outputs": [],
   "source": [
    "clr_names = ['red', 'orange', 'yellow', 'green', 'blue', 'indigo', 'violet']"
   ]
  },
  {
   "cell_type": "code",
   "execution_count": null,
   "id": "08dccedf-32a8-4a09-89dc-906e98c9b379",
   "metadata": {},
   "outputs": [],
   "source": [
    "clr_names.reverse()# inverte a ordem de valores de uma lista"
   ]
  },
  {
   "cell_type": "code",
   "execution_count": null,
   "id": "80f40e0a-f851-4f8b-877f-43675da895f7",
   "metadata": {},
   "outputs": [],
   "source": [
    "clr_names"
   ]
  },
  {
   "cell_type": "code",
   "execution_count": null,
   "id": "49d297b8-eef9-4453-ac79-9715de85a88f",
   "metadata": {},
   "outputs": [],
   "source": [
    "cp_list = clr_names.copy()#copy a list,makes a shallow copy from an existing list\n",
    "cp_list"
   ]
  },
  {
   "cell_type": "code",
   "execution_count": null,
   "id": "91da0f52-8d15-435f-ba56-97f1ff1be5a6",
   "metadata": {},
   "outputs": [],
   "source": [
    "id(clr_names[0])"
   ]
  },
  {
   "cell_type": "code",
   "execution_count": null,
   "id": "2f7c6000-ffbc-4dbc-b6b3-1b3a7bf8c538",
   "metadata": {},
   "outputs": [],
   "source": [
    "id(cp_list[0])"
   ]
  },
  {
   "cell_type": "code",
   "execution_count": null,
   "id": "d7638af1-fd18-4e20-9a93-f22428ec3d07",
   "metadata": {},
   "outputs": [],
   "source": [
    "#Exercise\n",
    "\n",
    "rainbow = ['green','orange','violet']\n",
    "id([3])\n",
    "rainbow.insert(2,'red')\n",
    "rainbow.append('yellow')\n",
    "rainbow.reverse()\n",
    "rainbow.remove('orange')\n",
    "rainbow"
   ]
  },
  {
   "cell_type": "code",
   "execution_count": null,
   "id": "6b4d0a80-43b9-4270-be67-9245d6a699d3",
   "metadata": {},
   "outputs": [],
   "source": [
    "stack = []\n",
    "stack.append('red')\n",
    "stack.append('green')\n",
    "stack.pop()#pop method"
   ]
  },
  {
   "cell_type": "code",
   "execution_count": null,
   "id": "a3e4a938-4e06-4b03-bc55-fbfb9d34ce3b",
   "metadata": {},
   "outputs": [],
   "source": [
    "stack.pop()"
   ]
  },
  {
   "cell_type": "code",
   "execution_count": null,
   "id": "e21f78a9-dc1d-4944-a779-89e0a3b5dd54",
   "metadata": {},
   "outputs": [],
   "source": [
    "stack.pop()"
   ]
  },
  {
   "cell_type": "code",
   "execution_count": null,
   "id": "6dc92edd-d02e-494a-97f8-18d199da6f4a",
   "metadata": {},
   "outputs": [],
   "source": [
    "#List comprehensions\n",
    "\n",
    "list1 = []\n",
    "\n",
    "for item in range(1,6):\n",
    "    list1.append(item)\n",
    "    \n",
    "list1    "
   ]
  },
  {
   "cell_type": "code",
   "execution_count": null,
   "id": "9185d947-e3ec-410a-9430-f8fb56f36daf",
   "metadata": {},
   "outputs": [],
   "source": [
    "list2 = [item for item in range (1,6)]\n",
    "list2"
   ]
  },
  {
   "cell_type": "code",
   "execution_count": null,
   "id": "f5b3558b-5867-4c09-a3e3-e389cd018563",
   "metadata": {
    "tags": []
   },
   "outputs": [],
   "source": [
    "list3 = [item ** 3 for item in range(1,6)]#mapping operation\n",
    "list3"
   ]
  },
  {
   "cell_type": "code",
   "execution_count": null,
   "id": "991b5091-7eff-4e81-b71e-c57a79642fe7",
   "metadata": {},
   "outputs": [],
   "source": [
    "list4 = [item for item in range(1,11)if item % 2 == 0]\n",
    "list4"
   ]
  },
  {
   "cell_type": "code",
   "execution_count": null,
   "id": "dac9ea66-3332-4bc4-af4b-de4473e4b693",
   "metadata": {},
   "outputs": [],
   "source": [
    "clr = ['red','orange','yellow','green','blue']\n",
    "\n",
    "clr2 = [item.upper() for item in clr]\n",
    "clr2"
   ]
  },
  {
   "cell_type": "code",
   "execution_count": null,
   "id": "02e6ecdc-ffb0-4c7f-8b88-fab972d43dac",
   "metadata": {},
   "outputs": [],
   "source": [
    "clr"
   ]
  },
  {
   "cell_type": "code",
   "execution_count": null,
   "id": "6a0173a1-689e-45cf-a2a7-b577e0dc2204",
   "metadata": {},
   "outputs": [],
   "source": [
    "list5 = [(1,2,3,4,5)]\n"
   ]
  },
  {
   "cell_type": "code",
   "execution_count": null,
   "id": "ea049ab6-faf0-4f77-b62a-464c0e7d3488",
   "metadata": {},
   "outputs": [],
   "source": [
    "cubes = [(x,x**3)for x in range(1,6)]\n",
    "cubes"
   ]
  },
  {
   "cell_type": "code",
   "execution_count": null,
   "id": "e4e627b6-085c-400a-82d2-d75906d957dc",
   "metadata": {},
   "outputs": [],
   "source": [
    "multiples = [x for x in range(3,30,3)]\n",
    "multiples"
   ]
  },
  {
   "cell_type": "code",
   "execution_count": null,
   "id": "756b13a9-9754-4ed1-b139-43f25f6a1d99",
   "metadata": {},
   "outputs": [],
   "source": [
    "example = [y for y in range(0,50,4)]\n",
    "example"
   ]
  },
  {
   "cell_type": "code",
   "execution_count": null,
   "id": "4ea490dc-d0db-4e7e-8177-87bf1afbd279",
   "metadata": {},
   "outputs": [],
   "source": [
    "again = [(xy,xy / 2 ** 4 -5 + 6 * 10 % 4 // 2)for xy in range(1,10)]\n",
    "again"
   ]
  },
  {
   "cell_type": "code",
   "execution_count": null,
   "id": "a7e538aa-b626-414f-8ae4-95f689f0daa5",
   "metadata": {},
   "outputs": [],
   "source": [
    "xx = {'1':2,'2':3}\n",
    "xx.insert['3':4]"
   ]
  },
  {
   "cell_type": "code",
   "execution_count": null,
   "id": "d798d96d-0d84-4932-9ee4-597db8658f03",
   "metadata": {},
   "outputs": [],
   "source": [
    "#Generator expressions\n",
    "#List comprehensions are greedy,they immediately evaluate to produce th elist\n",
    "#many functional-style programming techniques uses lazy evaluation, values are produced on demand as needed\n",
    "#Lazy evaluation can improve performance and reduce memory consumption\n",
    "\n"
   ]
  },
  {
   "cell_type": "code",
   "execution_count": null,
   "id": "5c6ca4b0-a243-499d-8f40-108980c3a327",
   "metadata": {},
   "outputs": [],
   "source": [
    "n0 = [1,2,3,4,5,6,7,8,9,10]"
   ]
  },
  {
   "cell_type": "code",
   "execution_count": null,
   "id": "64db1ead-3503-4934-a1b8-ec15b0d8d603",
   "metadata": {},
   "outputs": [],
   "source": [
    "for value in (x**2 for x in n0 if x % 2 !=0):\n",
    "    print(value, end=' ')"
   ]
  },
  {
   "cell_type": "code",
   "execution_count": null,
   "id": "91bf8879-3e6c-44bb-baa3-97c9c1214212",
   "metadata": {},
   "outputs": [],
   "source": [
    "for value in [x**2 for x in n0 if x % 2 !=0]:\n",
    "    print(value, end=' ')"
   ]
  },
  {
   "cell_type": "code",
   "execution_count": null,
   "id": "e3573d31-3add-4df9-838d-96a285dd08f0",
   "metadata": {},
   "outputs": [],
   "source": [
    "for i in range(0,5):\n",
    "    print(i)"
   ]
  },
  {
   "cell_type": "code",
   "execution_count": null,
   "id": "b2959b28-26a3-40fe-b9ed-d3269683a685",
   "metadata": {},
   "outputs": [],
   "source": [
    "sqr = (x ** 2 for x in n0 if x % 2 != 0)\n",
    "sqr"
   ]
  },
  {
   "cell_type": "code",
   "execution_count": null,
   "id": "849a3bd3-4eec-4262-8782-7f91b8f848f6",
   "metadata": {},
   "outputs": [],
   "source": [
    "#Retorne os valores ao cubo\n",
    "n1 = [10,3,7,1,9,4,2]\n",
    "for i in (x ** 3 for x in n1 if x % 2!=1):\n",
    "    print(i)\n"
   ]
  },
  {
   "cell_type": "code",
   "execution_count": null,
   "id": "7d48ad0c-0653-4d9b-ab75-24a7681f6ef4",
   "metadata": {},
   "outputs": [],
   "source": [
    "#Retorne os valores ao cubo\n",
    "list(x ** 3 for x in [10,3,7,1,9,4,2]if x % 2 == 0)"
   ]
  },
  {
   "cell_type": "code",
   "execution_count": null,
   "id": "c1bec933-fa1a-46cd-b048-821cc1a9eb56",
   "metadata": {},
   "outputs": [],
   "source": [
    "7 ** 3 % 2"
   ]
  },
  {
   "cell_type": "code",
   "execution_count": null,
   "id": "487efc41-67f0-4a39-b484-5fafc1925b22",
   "metadata": {},
   "outputs": [],
   "source": [
    "#Filter,mapa and Reduce\n",
    "filter & map are higher-order functions, functions that receives functions as arguments\n",
    "#Functions are objects\n",
    "*Can be assigned to variables\n",
    "*Passed to functions\n",
    "*Return from functions\n",
    "#You can pass named functions or lambdas\n"
   ]
  },
  {
   "cell_type": "code",
   "execution_count": null,
   "id": "90a0f2d9-af18-4031-8bbb-17e60de412b4",
   "metadata": {},
   "outputs": [],
   "source": [
    "lista = [10,3,7,1,9,4,2,8,5,6]\n",
    "def eh_impar(x):\n",
    "    \"\"\"Retorna True apenas se x for IMPAR\"\"\"\n",
    "    return x % 2 != 0"
   ]
  },
  {
   "cell_type": "code",
   "execution_count": null,
   "id": "52ae2d46-a742-4d12-8f2a-3a0b040a55ee",
   "metadata": {},
   "outputs": [],
   "source": [
    "list(filter(eh_impar,lista))#filter takes two arguments,it will take one element in sequence"
   ]
  },
  {
   "cell_type": "code",
   "execution_count": null,
   "id": "be4070e3-9ebe-4561-bb20-e8a54eb71065",
   "metadata": {},
   "outputs": [],
   "source": [
    "[element for element in lista if eh_impar(element)]#a more verbose take doing the same thing"
   ]
  },
  {
   "cell_type": "code",
   "execution_count": null,
   "id": "99918426-eca9-4c9a-9c68-cb37977c2501",
   "metadata": {},
   "outputs": [],
   "source": [
    "#A lambda function can take any number of arguments, but can only have one expression.\n",
    "#lambda arguments : expression\n",
    "#its always followed by a colon :\n",
    "\n",
    "list(filter(lambda x: x % 2 != 0,lista))\n",
    "\n"
   ]
  },
  {
   "cell_type": "code",
   "execution_count": null,
   "id": "285af1c2-e311-4010-ad80-8254311915ce",
   "metadata": {},
   "outputs": [],
   "source": [
    "x = lambda z : z + 50\n",
    "print(x(5))"
   ]
  },
  {
   "cell_type": "code",
   "execution_count": null,
   "id": "3ad8589c-9d47-44ad-b5af-cf11a6d711fb",
   "metadata": {},
   "outputs": [],
   "source": [
    "la = lambda a : a + 'casa '\n",
    "print(la('predio'))"
   ]
  },
  {
   "cell_type": "code",
   "execution_count": null,
   "id": "16ce0e51-b6f9-474e-8309-e0a53d5ec406",
   "metadata": {},
   "outputs": [],
   "source": [
    "list(filter(lambda x: x % 2 != 0,lista))"
   ]
  },
  {
   "cell_type": "code",
   "execution_count": null,
   "id": "5de1a718-0a42-4f21-bee8-8ced2e8f79c4",
   "metadata": {},
   "outputs": [],
   "source": [
    "list(map(lambda x: x**2,lista))"
   ]
  },
  {
   "cell_type": "code",
   "execution_count": null,
   "id": "aec9c4cd-9a96-49fe-988b-b8389ed84c31",
   "metadata": {},
   "outputs": [],
   "source": [
    "[item ** 2 for item in lista]"
   ]
  },
  {
   "cell_type": "code",
   "execution_count": null,
   "id": "600ba6e2-1b87-4976-9398-0bb203fb97fe",
   "metadata": {},
   "outputs": [],
   "source": [
    "list(map(lambda x: x **2,\n",
    "        filter(lambda x : x %2 != 0, lista)))"
   ]
  },
  {
   "cell_type": "code",
   "execution_count": null,
   "id": "8e818845-0ca4-4ab7-8415-444669385918",
   "metadata": {},
   "outputs": [],
   "source": [
    "[x ** 2 for x in lista if x % 2 != 0]"
   ]
  },
  {
   "cell_type": "code",
   "execution_count": null,
   "id": "c5fdaded-2966-44c7-bb90-dd5cf363011e",
   "metadata": {},
   "outputs": [],
   "source": [
    "#Exercise\n",
    "\n",
    "numeros = list(range(1,16))\n",
    "list(filter(lambda x: x %2 == 0, numeros))"
   ]
  },
  {
   "cell_type": "code",
   "execution_count": null,
   "id": "dd5ed563-fbb1-4f03-ae7f-2ad63cd4838f",
   "metadata": {},
   "outputs": [],
   "source": [
    "list(map(lambda x: x ** 2, numeros))"
   ]
  },
  {
   "cell_type": "code",
   "execution_count": null,
   "id": "323fa2e0-d6db-48b6-9829-1a2788f2a7f0",
   "metadata": {},
   "outputs": [],
   "source": [
    "list(map(lambda x: x **2, filter(lambda x: x % 2 == 0,numeros)))"
   ]
  },
  {
   "cell_type": "code",
   "execution_count": null,
   "id": "a88d79bb-06ec-4dea-881e-95786b395889",
   "metadata": {},
   "outputs": [],
   "source": [
    "Fahrenreit = [41,32,212]\n",
    "\n",
    "list(map(lambda x:(x,(x-32)*5/9),Fahrenreit))"
   ]
  },
  {
   "cell_type": "code",
   "execution_count": null,
   "id": "725ec88b-48a5-46af-8727-81b34d7d2ca5",
   "metadata": {},
   "outputs": [],
   "source": [
    "'Red' < 'orange'"
   ]
  },
  {
   "cell_type": "code",
   "execution_count": null,
   "id": "e86a13c1-d302-46de-9229-865203069532",
   "metadata": {},
   "outputs": [],
   "source": [
    "ord('R')"
   ]
  },
  {
   "cell_type": "code",
   "execution_count": null,
   "id": "d5d6407b-9dfa-4caa-870a-98f15098ad53",
   "metadata": {},
   "outputs": [],
   "source": [
    "ord('o')"
   ]
  },
  {
   "cell_type": "code",
   "execution_count": null,
   "id": "5b613c1c-5f41-48ba-a2a2-b090339c7709",
   "metadata": {},
   "outputs": [],
   "source": [
    "ord??"
   ]
  },
  {
   "cell_type": "code",
   "execution_count": null,
   "id": "b21aafa7-bb09-4cc0-a3c0-614dddf119ec",
   "metadata": {},
   "outputs": [],
   "source": [
    "clr = ['Red','orange','Yellow','green','Blue']\n",
    "\n",
    "min(clr,key = lambda s: s.lower())"
   ]
  },
  {
   "cell_type": "code",
   "execution_count": null,
   "id": "fc743caa-61b1-4127-b78e-83d83a86b6a2",
   "metadata": {
    "tags": []
   },
   "outputs": [],
   "source": [
    "max(clr,key = lambda s: s.lower())"
   ]
  },
  {
   "cell_type": "code",
   "execution_count": null,
   "id": "79da6ba8-45c5-4341-85e4-f63242499b4f",
   "metadata": {},
   "outputs": [],
   "source": [
    "list0 = [10,3,7,1,9,4,2,8,5,6]\n",
    "reverse_list = [item ** 2 for item in reversed(list0)]"
   ]
  },
  {
   "cell_type": "code",
   "execution_count": null,
   "id": "ab871e74-9154-41d5-a690-39bd53e222bf",
   "metadata": {},
   "outputs": [],
   "source": [
    "reverse_list"
   ]
  },
  {
   "cell_type": "code",
   "execution_count": null,
   "id": "881fa9a3-3060-4d43-b3e9-778c7df34ef6",
   "metadata": {},
   "outputs": [],
   "source": [
    "names = ['Bob','Sue','Amanda']\n",
    "grade = [3.5,4.0,3.75]\n",
    "for name,gpa in zip(names,grade):\n",
    "    print(f'Name = {name};GPA={gpa}')"
   ]
  },
  {
   "cell_type": "code",
   "execution_count": null,
   "id": "8802fbeb-fc24-426a-af99-e7b724ee8995",
   "metadata": {},
   "outputs": [],
   "source": [
    "#Exercise\n",
    "\n",
    "foods = ['Cookies','pizza','Grapes','apples','steak','Bacon']\n",
    "min(foods)"
   ]
  },
  {
   "cell_type": "code",
   "execution_count": null,
   "id": "2f0527be-fc3c-4252-a987-e62fd119fcd1",
   "metadata": {},
   "outputs": [],
   "source": [
    "min(foods,key=lambda s: s.lower())"
   ]
  },
  {
   "cell_type": "code",
   "execution_count": null,
   "id": "33c01470-7f81-494b-b289-58d4693fe2e5",
   "metadata": {},
   "outputs": [],
   "source": [
    "[(a+b)for a,b in zip([10,20,30],[1,2,3])]"
   ]
  },
  {
   "cell_type": "code",
   "execution_count": null,
   "id": "cca96543-69bf-42a3-8788-0e2293cb872d",
   "metadata": {},
   "outputs": [],
   "source": [
    "#Two dimensional lists\n",
    "\n",
    "a = [[77,68,86,73],[96,87,89,81],[70,90,86,81]]\n",
    "\n",
    "for row in a:\n",
    "    for item in row:\n",
    "        print(item,end=' ')\n",
    "    print()"
   ]
  },
  {
   "cell_type": "code",
   "execution_count": null,
   "id": "24f5be82-d5eb-4016-b0e5-38ce1dbe706f",
   "metadata": {},
   "outputs": [],
   "source": [
    "for i,row in enumerate(a):\n",
    "    for j,item in enumerate(row):\n",
    "        print(f'a[{i}][{j}]={item}',end=' ')\n",
    "    print()    "
   ]
  },
  {
   "cell_type": "code",
   "execution_count": null,
   "id": "f781cab1-4d42-4923-9a8b-406eb74bf127",
   "metadata": {},
   "outputs": [],
   "source": [
    "#Exercise\n",
    "\n",
    "t=[[10,7,3],[20,4,17]]\n",
    "item = 0\n",
    "total=0\n",
    "for row in t:\n",
    "    for item in row:\n",
    "        total +=item\n",
    "        item +=1"
   ]
  },
  {
   "cell_type": "code",
   "execution_count": null,
   "id": "9d293648-f515-46dd-aa37-53ca65e8f875",
   "metadata": {},
   "outputs": [],
   "source": [
    "total / item"
   ]
  },
  {
   "cell_type": "code",
   "execution_count": null,
   "id": "c619e22e-b14e-400b-baef-9917e56d3a9b",
   "metadata": {},
   "outputs": [],
   "source": [
    "total=0\n",
    "item=0"
   ]
  },
  {
   "cell_type": "code",
   "execution_count": null,
   "id": "4cd2e18f-e7f5-480a-a6b3-552bb751604c",
   "metadata": {},
   "outputs": [],
   "source": [
    "for row in t:\n",
    "    total += sum(row)\n",
    "    item += len(row)"
   ]
  },
  {
   "cell_type": "code",
   "execution_count": null,
   "id": "5984d00e-4f40-41fe-a8ce-50da58ea4f73",
   "metadata": {},
   "outputs": [],
   "source": [
    "total / item"
   ]
  },
  {
   "cell_type": "code",
   "execution_count": null,
   "id": "30b0743e-1261-4d8e-9804-e22660c3215c",
   "metadata": {
    "tags": []
   },
   "outputs": [],
   "source": []
  },
  {
   "cell_type": "code",
   "execution_count": null,
   "id": "0d91caa2-12ad-436f-98ed-a4f318b04c93",
   "metadata": {},
   "outputs": [],
   "source": [
    "#Dicionarios e conjuntos\n",
    "\n",
    "#DICTIONARIES ARE MUTABLE!!!!! <<<<<<<<<<<<<<<<<<<<<<<<<<<<<<<<<<<\n",
    "\n",
    "#Example 1\n",
    "\n",
    "country_codes = {'Finland':'fi','South Africa':'za','Nepal':'np'}\n",
    "\n",
    "len(country_codes)"
   ]
  },
  {
   "cell_type": "code",
   "execution_count": null,
   "id": "9ef81772-faa2-4142-9167-372505cc050b",
   "metadata": {},
   "outputs": [],
   "source": [
    "if country_codes:\n",
    "    print('country_codes is not empty')\n",
    "else:\n",
    "    print('country_codes is empty')"
   ]
  },
  {
   "cell_type": "code",
   "execution_count": null,
   "id": "17b31a51-f181-4cee-aba0-b1276b379db3",
   "metadata": {},
   "outputs": [],
   "source": [
    "country_codes.clear()"
   ]
  },
  {
   "cell_type": "code",
   "execution_count": null,
   "id": "68f29bd6-35e9-44d6-8852-12433ab304de",
   "metadata": {},
   "outputs": [],
   "source": [
    "if country_codes:\n",
    "    print('country_codes is not empty')\n",
    "else:\n",
    "    print('country_codes is empty')"
   ]
  },
  {
   "cell_type": "code",
   "execution_count": null,
   "id": "f9b09a8b-97a4-4376-90cd-27862bceefb6",
   "metadata": {},
   "outputs": [],
   "source": [
    "len(country_codes)"
   ]
  },
  {
   "cell_type": "code",
   "execution_count": null,
   "id": "9b92f114-4757-470c-b7cb-ac4926e6d791",
   "metadata": {},
   "outputs": [],
   "source": [
    "#Exercise\n",
    "states = {'Vermont':'VT','Massachussets':'MS','New Hampshire':'NH'}"
   ]
  },
  {
   "cell_type": "code",
   "execution_count": null,
   "id": "f2a88f74-cee2-471a-82ed-8d0d440c2bb5",
   "metadata": {},
   "outputs": [],
   "source": [
    "#Example 2:\n",
    "\n",
    "days_per_month = {'January':31,'February':28,'March':31}\n",
    "\n",
    "for month,days in days_per_month.items():\n",
    "    print(f'{month} has {days} days')"
   ]
  },
  {
   "cell_type": "code",
   "execution_count": null,
   "id": "37cc7718-e324-4f16-8806-026481f210ba",
   "metadata": {},
   "outputs": [],
   "source": [
    "#Dict operations\n",
    "\n",
    "roman_numerals = {'I':1,'II':2,'III':3,'IV':4,'V':5,'X':100}\n",
    "roman_numerals"
   ]
  },
  {
   "cell_type": "code",
   "execution_count": null,
   "id": "d196120d-afac-4dc3-9f0f-cf741494384d",
   "metadata": {},
   "outputs": [],
   "source": [
    "roman_numerals['V'] #In dictionaries you don't provide the index number,instead, the key value should be inserted in order to view a specific key value from a dictionary"
   ]
  },
  {
   "cell_type": "code",
   "execution_count": null,
   "id": "c7017bed-8e30-4295-9eaa-327e4f430688",
   "metadata": {},
   "outputs": [],
   "source": [
    "roman_numerals['X'] = 10 #changing a value key"
   ]
  },
  {
   "cell_type": "code",
   "execution_count": null,
   "id": "aecb1324-906f-4f8d-98b8-a860076e0b3d",
   "metadata": {},
   "outputs": [],
   "source": [
    "roman_numerals"
   ]
  },
  {
   "cell_type": "code",
   "execution_count": null,
   "id": "dbdc1b17-0a8b-426b-84b9-6f39c8096888",
   "metadata": {},
   "outputs": [],
   "source": [
    "roman_numerals['L'] = 50 #adding a new key:value pair to the existing dict,it should be  unique, from python 3.7 any added key to a dict, it would be inserted in the last position"
   ]
  },
  {
   "cell_type": "code",
   "execution_count": null,
   "id": "c057063b-72a2-465a-a409-27545d3c7122",
   "metadata": {},
   "outputs": [],
   "source": [
    "roman_numerals"
   ]
  },
  {
   "cell_type": "code",
   "execution_count": null,
   "id": "3beda38c-5890-4fd8-a799-e8c1145ce4ad",
   "metadata": {},
   "outputs": [],
   "source": [
    "del roman_numerals['III'] #deleting a key:value pair"
   ]
  },
  {
   "cell_type": "code",
   "execution_count": null,
   "id": "11615e2c-f046-43f0-b8f5-9ec977923116",
   "metadata": {},
   "outputs": [],
   "source": [
    "roman_numerals"
   ]
  },
  {
   "cell_type": "code",
   "execution_count": null,
   "id": "06e57e0c-6103-4d9b-b6d8-251b4fcdd8ad",
   "metadata": {},
   "outputs": [],
   "source": [
    "roman_numerals.pop('X') #removing by using the method pop, it's also shows the value attribuited "
   ]
  },
  {
   "cell_type": "code",
   "execution_count": null,
   "id": "245eaa23-ccf8-4013-ab03-88556bcb82f5",
   "metadata": {},
   "outputs": [],
   "source": [
    "roman_numerals"
   ]
  },
  {
   "cell_type": "code",
   "execution_count": null,
   "id": "2727be64-5785-4fe9-a139-1d0ea995daa5",
   "metadata": {},
   "outputs": [],
   "source": [
    "roman_numerals['III'] #accessing a key that doesnt exist anymore"
   ]
  },
  {
   "cell_type": "code",
   "execution_count": null,
   "id": "00eeeff8-ef63-44ab-8745-5639d06e0b1a",
   "metadata": {},
   "outputs": [],
   "source": [
    "roman_numerals.get('III')#no exceptions,no error,python shows nothing by using get method"
   ]
  },
  {
   "cell_type": "code",
   "execution_count": null,
   "id": "e99b6d93-afcd-4c90-9f57-03e571921857",
   "metadata": {},
   "outputs": [],
   "source": [
    "roman_numerals.get('III','III not in dict')#this string will be returned because it doesnt exist in dict"
   ]
  },
  {
   "cell_type": "code",
   "execution_count": null,
   "id": "3350e321-4f06-4818-826c-6d423b81270c",
   "metadata": {},
   "outputs": [],
   "source": [
    "roman_numerals['V']"
   ]
  },
  {
   "cell_type": "code",
   "execution_count": null,
   "id": "125c0a4b-b44a-4dfd-9027-009c5147580f",
   "metadata": {},
   "outputs": [],
   "source": [
    "#In and not in operators\n",
    "\n",
    "'V' in roman_numerals"
   ]
  },
  {
   "cell_type": "code",
   "execution_count": null,
   "id": "e4f29583-23b3-412e-91a5-b07b27ba997c",
   "metadata": {},
   "outputs": [],
   "source": [
    "'III' in roman_numerals"
   ]
  },
  {
   "cell_type": "code",
   "execution_count": null,
   "id": "2e9eeb72-594b-452b-bd7d-c4fb9d843ef6",
   "metadata": {},
   "outputs": [],
   "source": [
    "'V' not in roman_numerals"
   ]
  },
  {
   "cell_type": "code",
   "execution_count": null,
   "id": "03635ffa-f7bf-409b-9ba0-b440694b2fb4",
   "metadata": {},
   "outputs": [],
   "source": [
    "'III' not in roman_numerals"
   ]
  },
  {
   "cell_type": "code",
   "execution_count": null,
   "id": "46cb32f6-8dad-42b7-875c-f12429a64c43",
   "metadata": {},
   "outputs": [],
   "source": [
    "#Exercise\n",
    "\n",
    "#String dictionary keys are case sensitive. Confirm this by using the following dictionary and\n",
    "#assigning 10 to the key 'x' ---- doing so adds a new key-value pair rather than correcting the value for the key 'X':\n",
    "\n",
    "roman_numerals = {'I':1,'II':2,'III':3,'IV':4,'V':5,'X':100}\n",
    "roman_numerals"
   ]
  },
  {
   "cell_type": "code",
   "execution_count": null,
   "id": "e53023b3-fa0a-4b40-9f6c-03a62e5fabbf",
   "metadata": {},
   "outputs": [],
   "source": [
    "roman_numerals['x'] = 10 #watch out for case sensitive keys\n",
    "roman_numerals"
   ]
  },
  {
   "cell_type": "code",
   "execution_count": null,
   "id": "b20e6d67-d6f8-484f-b649-3af2d95fe8c1",
   "metadata": {},
   "outputs": [],
   "source": [
    "month = {'January':1,'February':2,'March':3}\n",
    "\n",
    "for months in month.keys(): #month.keys returns the keys from a dictionary, called dictionary view\n",
    "    print(months, end=' ')"
   ]
  },
  {
   "cell_type": "code",
   "execution_count": null,
   "id": "f6ee433f-c21e-4235-85ac-73eecb0f3d01",
   "metadata": {},
   "outputs": [],
   "source": [
    "for months_number in month.values(): #month.values returns the values from a dictionary, called dictionary view\n",
    "    print(months_number, end=' ')"
   ]
  },
  {
   "cell_type": "code",
   "execution_count": null,
   "id": "5f5485b4-66ef-45df-9984-ae16fc955cff",
   "metadata": {},
   "outputs": [],
   "source": [
    "months_view = month.keys() #assigning keys method to a variable\n",
    "for key in months_view:\n",
    "    print(key,end=' ')"
   ]
  },
  {
   "cell_type": "code",
   "execution_count": null,
   "id": "918c311f-349f-4172-905f-dd32dc53543d",
   "metadata": {},
   "outputs": [],
   "source": [
    "month['December'] = 12 #adding a new key:value pair"
   ]
  },
  {
   "cell_type": "code",
   "execution_count": null,
   "id": "6f2bfaf5-7670-4f8b-bfa4-893c7d3bfd5a",
   "metadata": {},
   "outputs": [],
   "source": [
    "month"
   ]
  },
  {
   "cell_type": "code",
   "execution_count": null,
   "id": "bf842783-d2a4-4efa-bbd0-ea3ad53675e5",
   "metadata": {},
   "outputs": [],
   "source": [
    "for key in months_view:\n",
    "    print(key, end=' ')"
   ]
  },
  {
   "cell_type": "code",
   "execution_count": null,
   "id": "982ffb0d-c281-40cd-a62b-f14451eca774",
   "metadata": {},
   "outputs": [],
   "source": [
    "list(month.keys()) # placing the keys to a LIST"
   ]
  },
  {
   "cell_type": "code",
   "execution_count": null,
   "id": "0a60d626-97ea-4a28-aa55-b1fe9f4c2f11",
   "metadata": {},
   "outputs": [],
   "source": [
    "list(month.values()) # placing the values to a LIST"
   ]
  },
  {
   "cell_type": "code",
   "execution_count": null,
   "id": "a362f9e0-1610-4076-91c9-f9c85b5dc2fc",
   "metadata": {},
   "outputs": [],
   "source": [
    "list(month.items()) #tuples"
   ]
  },
  {
   "cell_type": "code",
   "execution_count": null,
   "id": "2ec46cf9-d102-4be6-bdd2-1178f33bb69f",
   "metadata": {},
   "outputs": [],
   "source": [
    "for month_name in sorted(month.keys()): #sorting alphabetically\n",
    "    print(month_name, end = '  ')"
   ]
  },
  {
   "cell_type": "code",
   "execution_count": null,
   "id": "4c735213-888a-49a9-8387-02af352dec77",
   "metadata": {},
   "outputs": [],
   "source": [
    "#Exercise\n",
    "\n",
    "'Create a list of keys,values and items and show the contents of those lists'\n",
    "\n",
    "roman_numerals = {'I':1,'II':2,'III':3,'IV':4,'V':5}\n",
    "\n",
    "list(roman_numerals.keys())\n"
   ]
  },
  {
   "cell_type": "code",
   "execution_count": null,
   "id": "86d95e15-f666-41a9-9bf5-35959755ed6c",
   "metadata": {},
   "outputs": [],
   "source": [
    "list(roman_numerals.values())\n"
   ]
  },
  {
   "cell_type": "code",
   "execution_count": null,
   "id": "f24b28c3-c9f4-4320-bd2d-fe4980a461e4",
   "metadata": {},
   "outputs": [],
   "source": [
    "list(roman_numerals.items())"
   ]
  },
  {
   "cell_type": "code",
   "execution_count": null,
   "id": "c824327a-19d0-40c1-a8ac-31ca1bc5110f",
   "metadata": {},
   "outputs": [],
   "source": [
    "#dictionary comparisons\n",
    "\n",
    "ctr_capitals1 = {'Belgium': 'Brussels','Haiti': 'Port-au-Prince'}\n",
    "ctr_capitals2 = {'Nepal': 'Kathmandu','Uruguay': 'Montevideu'}\n",
    "ctr_capitals3 = {'Haiti': 'Port-au-Prince','Belgium': 'Brussels'}"
   ]
  },
  {
   "cell_type": "code",
   "execution_count": null,
   "id": "7351fa98-465a-4dd8-8049-ae4e02faed25",
   "metadata": {},
   "outputs": [],
   "source": [
    "ctr_capitals1 == ctr_capitals2"
   ]
  },
  {
   "cell_type": "code",
   "execution_count": null,
   "id": "970079c1-b3c5-4eb8-bced-178bdf216558",
   "metadata": {},
   "outputs": [],
   "source": [
    "ctr_capitals1 == ctr_capitals3 #as long the key:value pairs remains the same,python will give it as true when doing comparisons"
   ]
  },
  {
   "cell_type": "code",
   "execution_count": null,
   "id": "1336ac76-fad5-4240-afc5-6cd2cab2f130",
   "metadata": {},
   "outputs": [],
   "source": [
    "ctr_capitals1 != ctr_capitals2"
   ]
  },
  {
   "cell_type": "code",
   "execution_count": null,
   "id": "655e98de-4447-4045-9e84-d82d1d33abbc",
   "metadata": {},
   "outputs": [],
   "source": [
    "#Example\n",
    "\"Using a dictionary to represent an instructor's grade book\"\n",
    "\n",
    "gradebook = \n",
    "{    \n",
    "'Trombeta':[92,100,85],\n",
    "'Eduardo': [83,95,79], \n",
    "'Vadeco': [91,78,45],\n",
    "'Ashinka': [50,86,65]\n",
    "}\n",
    "\n",
    "allgradestotal = 0\n",
    "allgradescount = 0\n",
    "\n",
    "for name,grades in gradebook.items(): #unpacking tuple\n",
    "    total = sum(grades) #style reduction using sum function\n",
    "    print(f'Average for {name} is {total / len(grades) :.2f}') #formating and making the calculation as float\n",
    "    allgradestotal += total\n",
    "    allgradescount += len(grades)\n",
    "print(f\"Class's average is: {allgradestotal / allgradescount:.2f}\")    "
   ]
  },
  {
   "cell_type": "code",
   "execution_count": null,
   "id": "43a06857-18bb-4b8a-a877-ee02a9aa9770",
   "metadata": {},
   "outputs": [],
   "source": [
    "#Example 2\n",
    "\"\"\"Tokenizing a string and counting unique words.\"\"\"\n",
    "\n",
    "text =(\n",
    "'this is simple test with several words'\n",
    "'this is more text with more different words'\n",
    ")\n",
    "\n",
    "wordcount = {}\n",
    "\n",
    "#count occurrences of each unique word:\n",
    "\n",
    "for word in text.split(): # split is a built-in into the string method type and by default will break up strings in white spaces, and it gives back the tokens as a list of strings, as individual words\n",
    "    if word in wordcount: #checking each word\n",
    "        wordcount[word] += 1 #udpate existing key-value pair\n",
    "    else:\n",
    "        wordcount[word] = 1 #insert new key-value pair\n",
    "print(f'{\"WORD\":<12}COUNT')\n",
    "\n",
    "for word,count in sorted(wordcount.items()):\n",
    "    print(f'{word:<12}{count}')\n",
    "    \n",
    "print('\\n Number of unique words',len(wordcount))    "
   ]
  },
  {
   "cell_type": "code",
   "execution_count": null,
   "id": "10fd1587-9a6d-401f-a32c-297ce1b134b5",
   "metadata": {},
   "outputs": [],
   "source": [
    "from collections import Counter #introducing the Counter module\n",
    "\n",
    "text =('this is simple test with several words'\n",
    "'this is more text with some more different words')\n",
    "\n",
    "text.split()"
   ]
  },
  {
   "cell_type": "code",
   "execution_count": null,
   "id": "5cd4adec-8003-4fc4-a02e-345929738415",
   "metadata": {},
   "outputs": [],
   "source": [
    "counter = Counter(text.split())\n",
    "\n",
    "for word,count in sorted(counter.items()):\n",
    "    print(f'{word:<12}{count}')"
   ]
  },
  {
   "cell_type": "code",
   "execution_count": null,
   "id": "7955cd04-aa14-4353-90c9-bd8138b40862",
   "metadata": {},
   "outputs": [],
   "source": [
    "print('Number of unique keys',len(counter.keys()))"
   ]
  },
  {
   "cell_type": "code",
   "execution_count": null,
   "id": "d54cc51b-2008-4cae-b038-d4634f5ab2f4",
   "metadata": {},
   "outputs": [],
   "source": [
    "#Exercise\n",
    "\n",
    "'Create a comprehension list of 50 random integers in the range 1-5 and summarize them with the Counter class. Display the result in two-column format'\n",
    "\n",
    "import random\n",
    "from collections import Counter\n",
    "\n",
    "randomlista = [random.randrange(1,6) for x in range(50)] #randrange stands for random range, it generates random integers. the loop iterates in the range 50 times\n",
    "randomlista = Counter(randomlista)\n",
    "\n",
    "for value,count in sorted(randomlista.items()):\n",
    "    print(f'{value:<4}{count}')"
   ]
  },
  {
   "cell_type": "markdown",
   "id": "627869fc-155b-4a44-97af-12d5b07c2fc5",
   "metadata": {},
   "source": [
    "Para printar uma saída em colunas:\n",
    "     print(f'{value:<4}{count}')"
   ]
  },
  {
   "cell_type": "code",
   "execution_count": null,
   "id": "44dea2ce-e648-4231-b078-587d46a7ca10",
   "metadata": {},
   "outputs": [],
   "source": [
    "#dictionary update method\n",
    "\n",
    "countrycodes = {}\n",
    "countrycodes.update({'Brazil':'BR'})\n",
    "countrycodes"
   ]
  },
  {
   "cell_type": "code",
   "execution_count": null,
   "id": "554522f8-921a-4bff-8959-87bc3b7b5896",
   "metadata": {},
   "outputs": [],
   "source": [
    "countrycodes.update(Australia='ar') #adding a key:value pair\n",
    "countrycodes"
   ]
  },
  {
   "cell_type": "code",
   "execution_count": null,
   "id": "50dec744-3e14-4f2a-9c9e-4a2aaaae0a5f",
   "metadata": {},
   "outputs": [],
   "source": [
    "countrycodes.update(Australia='au')\n",
    "countrycodes"
   ]
  },
  {
   "cell_type": "code",
   "execution_count": null,
   "id": "1ef067a0-f94c-4a92-9fc4-06df45535842",
   "metadata": {},
   "outputs": [],
   "source": [
    "#Dictionary comprehensions\n",
    "#Example 1\n",
    "\n",
    "months = {'January':1,'February':2,'March':3}\n",
    "month2 = {number: name for name, number in months.items()} #a dictionary comprehension uses curly brackets to indicate that we are creating a new dict\n",
    "month2"
   ]
  },
  {
   "cell_type": "code",
   "execution_count": null,
   "id": "15be17bd-01cd-4032-a8ab-44da9e3dd6c1",
   "metadata": {},
   "outputs": [],
   "source": [
    "months"
   ]
  },
  {
   "cell_type": "code",
   "execution_count": null,
   "id": "54d5d9e3-39ca-4f8d-a859-6673f502cebc",
   "metadata": {},
   "outputs": [],
   "source": [
    "#Example 2\n",
    "\n",
    "grades =  {'Trombeta':[92,100,85],'Eduardo': [83,95,79]}\n",
    "grades2 = {soma: sum(valor) // len(valor)for soma,valor in grades.items()}\n",
    "grades2"
   ]
  },
  {
   "cell_type": "code",
   "execution_count": null,
   "id": "0274b7f7-e17d-4dae-a892-c8c82e574221",
   "metadata": {},
   "outputs": [],
   "source": [
    "dicio = {cubo ** 3 for cubo in [1,2,3,4,5]}\n",
    "dicio"
   ]
  },
  {
   "cell_type": "code",
   "execution_count": null,
   "id": "4080c443-8d98-4569-8348-112f72797f89",
   "metadata": {},
   "outputs": [],
   "source": [
    "{nur: nur ** 3 for nur in range(1,6)}"
   ]
  },
  {
   "cell_type": "code",
   "execution_count": null,
   "id": "300a6992-7d29-4420-81f1-d40aa84099d5",
   "metadata": {},
   "outputs": [],
   "source": [
    "import tkinter as tk\n",
    "\n",
    "root= tk.Tk()\n",
    "\n",
    "canvas1 = tk.Canvas(root, width = 300, height = 300)\n",
    "canvas1.pack()\n",
    "\n",
    "def hello ():  \n",
    "    label1 = tk.Label(root, text= 'Hello World!', fg='green', font=('helvetica', 12, 'bold'))\n",
    "    canvas1.create_window(150, 200, window=label1)\n",
    "    \n",
    "button1 = tk.Button(text='Click Me',command=hello, bg='brown',fg='white')\n",
    "canvas1.create_window(150, 150, window=button1)\n",
    "\n",
    "root.mainloop()"
   ]
  },
  {
   "cell_type": "code",
   "execution_count": null,
   "id": "76fe9834-5f36-4326-81e4-46520dc7c029",
   "metadata": {},
   "outputs": [],
   "source": [
    "%save hello.py 10"
   ]
  },
  {
   "cell_type": "code",
   "execution_count": null,
   "id": "c1340956-805b-4d17-90f8-cab41ca0bf7c",
   "metadata": {},
   "outputs": [],
   "source": [
    "for i in range(1,101):\n",
    "    if i == 3 in range(1,101):\n",
    "        print(i,'fizz')\n",
    "    else:\n",
    "        print(i)"
   ]
  },
  {
   "cell_type": "code",
   "execution_count": null,
   "id": "ee976da0-0489-473b-bcff-79395e9c6ab1",
   "metadata": {},
   "outputs": [],
   "source": [
    "for item in range(1,101):\n",
    "    if item % 3 == 0:\n",
    "        print('fizz')\n",
    "    elif  item % 5 == 0:\n",
    "        print('buzz')\n",
    "    elif item // 3 == 0 or i // 5 == 0:\n",
    "        print('FizzBuzz')\n",
    "    else:\n",
    "        print(item)\n",
    "\n",
    "nome = open('Exercicio.py','x')            "
   ]
  },
  {
   "cell_type": "code",
   "execution_count": null,
   "id": "ac1d2ea3-31d4-404d-b451-b1627495caba",
   "metadata": {},
   "outputs": [],
   "source": []
  },
  {
   "cell_type": "code",
   "execution_count": null,
   "id": "57d5efd2-6fce-491d-9967-bb59b8bf5bef",
   "metadata": {},
   "outputs": [],
   "source": [
    "numeros = list(range(1,100))\n",
    "list(filter(lambda x: x == 3 % 4, numeros))"
   ]
  },
  {
   "cell_type": "code",
   "execution_count": null,
   "id": "e60f0fc8-6159-4a58-a2aa-2c78e27539c4",
   "metadata": {},
   "outputs": [],
   "source": []
  },
  {
   "cell_type": "code",
   "execution_count": null,
   "id": "0992828b-6d56-46c6-8c37-35072b4703a0",
   "metadata": {},
   "outputs": [],
   "source": []
  },
  {
   "cell_type": "code",
   "execution_count": null,
   "id": "5faf117b-379b-4ed2-8aeb-9db248380b2c",
   "metadata": {},
   "outputs": [],
   "source": []
  },
  {
   "cell_type": "code",
   "execution_count": null,
   "id": "4720536e-2361-4dda-b65f-c2172fb0b569",
   "metadata": {},
   "outputs": [],
   "source": [
    "import random\n",
    "\n",
    "choice = str(input('Enter your choice: '))\n",
    "choice_list = ['rock', 'paper', 'scissors']\n",
    "computer_choice = random.choices(choice_list)\n",
    "\n",
    "\n",
    "if choice == 'rock' and computer_choice != 'paper':\n",
    "print(\"Your choice was {} and computer was {}. CONGRATULATIONS YOU WON!!!\".format(choice, computer_choice))\n",
    "elif choice == 'paper' and computer_choice != 'scissors':\n",
    "print(\"Your choice was {} and computer was {}. CONGRATULATIONS YOU WON!!!\".format(choice, computer_choice))\n",
    "elif choice == 'scissors' and computer_choice != 'rock':\n",
    "print(\"Your choice was {} and computer was {}. CONGRATULATIONS YOU WON!!!\".format(choice, computer_choice))\n",
    "elif choice == computer_choice:\n",
    "print(\"Choose a new option, game has been draw!!!\")\n",
    "else:\n",
    "print(\"Your choice was {} and computer was {}. COMPUTER's WON!!!\".format(choice, computer_choice))"
   ]
  },
  {
   "cell_type": "code",
   "execution_count": null,
   "id": "f4de6210-01cf-4f42-9550-a98c66422cb5",
   "metadata": {},
   "outputs": [],
   "source": [
    "download(\"tensorflow\")"
   ]
  },
  {
   "cell_type": "code",
   "execution_count": null,
   "id": "6a44b8a9-2219-43eb-8157-f4c1585013de",
   "metadata": {},
   "outputs": [],
   "source": [
    "4 / 2"
   ]
  },
  {
   "cell_type": "code",
   "execution_count": null,
   "id": "e2ccc8f2-abe3-4afd-a4f4-164f98df694d",
   "metadata": {},
   "outputs": [],
   "source": [
    "4 // 2"
   ]
  },
  {
   "cell_type": "code",
   "execution_count": null,
   "id": "71eec563-5b04-45b7-8a6e-dcc89530ab3a",
   "metadata": {},
   "outputs": [],
   "source": [
    "4 / 3"
   ]
  },
  {
   "cell_type": "code",
   "execution_count": null,
   "id": "471a0e60-8679-4313-a6f2-b76c969b9e93",
   "metadata": {},
   "outputs": [],
   "source": [
    "4 // 3"
   ]
  },
  {
   "cell_type": "code",
   "execution_count": null,
   "id": "9e1a6ced-d783-4910-8f62-d9889f1e91a9",
   "metadata": {},
   "outputs": [],
   "source": [
    "4 % 3"
   ]
  },
  {
   "cell_type": "code",
   "execution_count": null,
   "id": "938c3bf4-00b4-4928-b859-18560c152691",
   "metadata": {},
   "outputs": [],
   "source": []
  },
  {
   "cell_type": "code",
   "execution_count": null,
   "id": "587a6cde-18f4-4adf-b255-ade76529ae1b",
   "metadata": {},
   "outputs": [],
   "source": []
  },
  {
   "cell_type": "code",
   "execution_count": null,
   "id": "6eeb5cbe-ec51-484b-9691-412163acadc2",
   "metadata": {},
   "outputs": [],
   "source": []
  },
  {
   "cell_type": "code",
   "execution_count": null,
   "id": "6474bd90-360b-4ba5-8220-6a8409fd000b",
   "metadata": {},
   "outputs": [],
   "source": [
    "#Fibonacci series:\n",
    "\n",
    "a,b = 0,1\n",
    "while b < 500:\n",
    "    a,b = b, a+b\n",
    "    print(round(b/a,5), end=\",\")"
   ]
  },
  {
   "cell_type": "code",
   "execution_count": null,
   "id": "afb15267-a0f5-41c9-bfae-1adb365c9083",
   "metadata": {},
   "outputs": [],
   "source": []
  },
  {
   "cell_type": "code",
   "execution_count": null,
   "id": "1774802d-2487-40d8-a149-0fab709684d8",
   "metadata": {},
   "outputs": [],
   "source": [
    "memo = {}\n",
    "\n",
    "fib = 0\n",
    "n = 1\n",
    "\n",
    "if n in memo: \n",
    "    print(memo[n])\n",
    "if n <= 2:\n",
    "    f = 1\n",
    "else:\n",
    "    f = fib(n-1) + fib(n-2)\n",
    "    memo[n] = f\n",
    "print(f)"
   ]
  },
  {
   "cell_type": "code",
   "execution_count": null,
   "id": "842c1bdf-a5c0-41a1-bb5e-75dd5a68cdbc",
   "metadata": {},
   "outputs": [],
   "source": []
  },
  {
   "cell_type": "code",
   "execution_count": null,
   "id": "857ab1a8-4a6c-49f1-9157-21249e20f674",
   "metadata": {},
   "outputs": [],
   "source": [
    "a = 0\n",
    "b = 1\n",
    "while b < 500:\n",
    "    temp = a\n",
    "    a = b\n",
    "    b = temp + b\n",
    "    print(round(b/a,5), end=\",\")"
   ]
  },
  {
   "cell_type": "code",
   "execution_count": null,
   "id": "21819313-40b9-406f-9f0d-a21da5b8bc88",
   "metadata": {},
   "outputs": [],
   "source": [
    "#Sometimes there are parts of a text that you do not control, maybe they come from a database, or user input?\n",
    "#To control such values, add placeholders (curly brackets {}) in the text, and run the values through the format() method\n",
    "\n",
    "price = 50\n",
    "txt = \"The price is {} \\t euros\"\n",
    "print(txt.format(price))"
   ]
  },
  {
   "cell_type": "code",
   "execution_count": null,
   "id": "fa713483-253e-4d38-a0ac-550b7b43da41",
   "metadata": {},
   "outputs": [],
   "source": [
    "#You can use index numbers (a number inside the curly brackets {0}) to be sure the values are placed in the correct placeholders:\n",
    "\n",
    "quantity = 5\n",
    "item_number = 5\n",
    "price = 30.35\n",
    "myorder = \"I want {0} pieces of item number {1} for {2:.2f} dollars.\"\n",
    "print(myorder.format(quantity, item_number, price))"
   ]
  },
  {
   "cell_type": "code",
   "execution_count": null,
   "id": "5975eff2-1b07-46c1-9f73-17a8f381f11d",
   "metadata": {},
   "outputs": [],
   "source": [
    "#Named indexes\n",
    "\n",
    "myorder = \"I have a {carro} and it's a {modelo}\"\n",
    "print(myorder.format(carro = 'Z4', modelo = 'BMW'))"
   ]
  },
  {
   "cell_type": "code",
   "execution_count": null,
   "id": "0174903c-6be2-41a5-972e-024feac3fc71",
   "metadata": {},
   "outputs": [],
   "source": [
    "import math\n",
    "x = math.pi\n",
    "print(x)"
   ]
  },
  {
   "cell_type": "code",
   "execution_count": null,
   "id": "5c067b35-ca8f-421a-9385-748f7e66b94a",
   "metadata": {},
   "outputs": [],
   "source": [
    "x * 2"
   ]
  },
  {
   "cell_type": "code",
   "execution_count": null,
   "id": "8f54399c-6d58-4eb6-9d16-542f6701fe00",
   "metadata": {},
   "outputs": [],
   "source": [
    "a = 2\n",
    "b = 5\n",
    "if b >= a:\n",
    "    print('b maior q a')"
   ]
  },
  {
   "cell_type": "code",
   "execution_count": null,
   "id": "2a1719ce-de49-4f97-b069-7806f6793759",
   "metadata": {},
   "outputs": [],
   "source": [
    "product = float(input('Enter the price of the product PLN '))\n",
    "condition = str(input('Are you going to pay by card, cash or check? '))\n",
    "payment = int(input('Are you going to pay in how many times? '))\n",
    "\n",
    "spmc = product - (product / 100 * 10)\n",
    "sp_card = product - (product / 100 * 5)\n",
    "dp = product\n",
    "mp = product + (product / 100 * 20)\n",
    "\n",
    "if condition == str('cash') or str('check') and payment == 1:\n",
    "    print('The final price of this product will be PLN {:.2f}'.format(spmc))\n",
    "else:\n",
    "    condition == str('card') and payment == 1 or condition == str('card') and payment == 2 or condition == str('card') and payment >= 3\n",
    "    print('The final price of this product wil be PLN {:.2f}'.format(sp_card or dp or mp))   \n",
    "    \n",
    "    "
   ]
  },
  {
   "cell_type": "code",
   "execution_count": null,
   "id": "1de3cae9-794e-402f-ba87-e64cc11a6513",
   "metadata": {},
   "outputs": [],
   "source": [
    "if condition == str('cash') or str('check') and payment == 1:\n",
    "    print('The final price of this product will be PLN {:.2f}'.format(spmc))\n",
    "elif condition == str('card') and payment == 1:\n",
    "    print('The final price of this product wil be PLN {:.2f}'.format(sp_card))\n",
    "elif condition == str('card') and payment == 2:\n",
    "    print('The price of this product is PLN {:.2f}'.format(dp))\n",
    "elif condition == str('card') and payment >= 3:\n",
    "    print('The final price of this product will be PLN {:.2f}'.format(mp))"
   ]
  },
  {
   "cell_type": "code",
   "execution_count": null,
   "id": "79bcdc61-8572-4835-8961-e6f868b4a024",
   "metadata": {},
   "outputs": [],
   "source": [
    "n1 = list(range(1,100))\n",
    "\n",
    "(tem for item in n1 ,aaaaaaaaaa'))\n"
   ]
  },
  {
   "cell_type": "code",
   "execution_count": null,
   "id": "a4726e28-46e4-4bb0-9b2d-c6af5eaf8296",
   "metadata": {},
   "outputs": [],
   "source": [
    "file = open('teste.xlsb', 'r')\n",
    "\n",
    "store = int(input('Store number: '))\n",
    "\n"
   ]
  },
  {
   "cell_type": "code",
   "execution_count": null,
   "id": "59d20a74-f19a-4470-9da7-1fbdc7245163",
   "metadata": {},
   "outputs": [],
   "source": [
    "!pip install pyxlsb"
   ]
  },
  {
   "cell_type": "code",
   "execution_count": null,
   "id": "3dcd34c5-8eb4-4677-85e2-ea54c7947984",
   "metadata": {},
   "outputs": [],
   "source": [
    "import pandas as pd\n",
    "import pyxlsb\n",
    "\n",
    "data = pd.read_excel('teste.xlsb')\n",
    "pots = pd.read_excel(data,'POTS analog service')\n",
    "drop = data.dropna()\n",
    "\n",
    "print(pots.to_string())"
   ]
  },
  {
   "cell_type": "code",
   "execution_count": null,
   "id": "0d7f8f69-0fe5-4977-a2a2-a7906b5ebc43",
   "metadata": {},
   "outputs": [],
   "source": [
    "import pandas as pd\n",
    "import pyxlsb\n",
    "import re\n",
    "\n",
    "df = pd.read_excel('teste.xlsb', sheet_name = 'POTS analog service') # Abre o arquivo excel e lê a planilha POTS\n",
    "df = pd.DataFrame(df,columns=['WTN','Site','ILEC see Column Q for LEC Repair','NAME','ADDRESS','CITY','STATE','REPAIR']) #Colunas desejadas para serem visualizadas\n",
    "\n",
    "df = df.dropna() #Remove linhas em branco\n",
    "\n",
    "loja = int(input('Choose store: '))\n",
    "\n",
    "for row,column in df:\n",
    "    store = re.seach(df)\n",
    "    print(df)"
   ]
  },
  {
   "cell_type": "code",
   "execution_count": null,
   "id": "f616241a-e82a-40b8-8d85-aeadbe33cd74",
   "metadata": {},
   "outputs": [],
   "source": [
    "import xlwings as xw\n",
    " \n",
    "bookName = r'Estudos em Python/teste.xlsb'\n",
    "sheetName = 'POTS analog service'\n",
    " \n",
    "wb = xw.Book(bookName)\n",
    "sht = wb.sheets[sheetName]\n",
    " \n",
    "myCell = wb.sheets[sheetName].api.UsedRange.Find('1')\n",
    "print('---------------')\n",
    "print (myCell.address)\n",
    "input()"
   ]
  },
  {
   "cell_type": "code",
   "execution_count": null,
   "id": "82ef7c21-66f1-4301-b13b-232502e11cf9",
   "metadata": {},
   "outputs": [],
   "source": [
    "#SETS\n",
    "\n",
    "#A collection with unordered and unique values\n",
    "#marked by curly braces, chaves\n",
    "#used for memmbership style text\n",
    "#Sets are mutable,you can modify and add\n",
    "#Elements on a set are imutable ,they must be hashable\n",
    "#Only immutable objects can be hashable\n",
    "\n",
    "colors = {'red','orange','red','yellow','green','blue'}\n",
    "colors"
   ]
  },
  {
   "cell_type": "code",
   "execution_count": null,
   "id": "e22d00d1-3125-4049-ac13-49a2e7d61879",
   "metadata": {},
   "outputs": [],
   "source": [
    "'red' in colors"
   ]
  },
  {
   "cell_type": "code",
   "execution_count": null,
   "id": "83097cb8-363c-415a-8c9f-f18c607b9cf7",
   "metadata": {},
   "outputs": [],
   "source": [
    "'purple' in colors\n"
   ]
  },
  {
   "cell_type": "code",
   "execution_count": null,
   "id": "cf58d9f8-6450-472d-87f1-65bfa5188e48",
   "metadata": {},
   "outputs": [],
   "source": [
    "'purple' not in colors"
   ]
  },
  {
   "cell_type": "code",
   "execution_count": null,
   "id": "e180da7f-fb7e-4e8d-ae86-c5d89e61d4be",
   "metadata": {},
   "outputs": [],
   "source": [
    "for color in colors:\n",
    "    print(color.upper(), end=' ') #dont rely in the order from sets"
   ]
  },
  {
   "cell_type": "code",
   "execution_count": null,
   "id": "449972f1-8694-4df5-821e-86b4cf3cc3ab",
   "metadata": {},
   "outputs": [],
   "source": [
    "numbers = list(range(10)) + list(range(5))"
   ]
  },
  {
   "cell_type": "code",
   "execution_count": null,
   "id": "f37c10f7-4da7-43ba-8be0-477607879720",
   "metadata": {},
   "outputs": [],
   "source": [
    "numbers"
   ]
  },
  {
   "cell_type": "code",
   "execution_count": null,
   "id": "9fa680d5-6dd8-4b1f-ada1-574ca330eeab",
   "metadata": {},
   "outputs": [],
   "source": [
    "set(numbers)#repeated values are ignored"
   ]
  },
  {
   "cell_type": "code",
   "execution_count": null,
   "id": "1e9aa958-d896-48ee-b3f0-9b614c8e0d5e",
   "metadata": {},
   "outputs": [],
   "source": [
    "set()#creating empty set"
   ]
  },
  {
   "cell_type": "code",
   "execution_count": null,
   "id": "43c5db93-617f-4502-9379-e3df694384d9",
   "metadata": {},
   "outputs": [],
   "source": [
    "text = ('to be or not be that is the question')\n",
    "wordsunique = set(text.split())"
   ]
  },
  {
   "cell_type": "code",
   "execution_count": null,
   "id": "8989c7aa-6de5-41aa-934a-c75ca00c6a5d",
   "metadata": {},
   "outputs": [],
   "source": [
    "for word in sorted(wordsunique):\n",
    "    print(word,end=' ')"
   ]
  },
  {
   "cell_type": "code",
   "execution_count": null,
   "id": "b557fdee-1766-4196-8c11-47b8e16ec36b",
   "metadata": {},
   "outputs": [],
   "source": [
    "#Comparing sets\n",
    "\n",
    "{1,3,5} == {3,5,1}"
   ]
  },
  {
   "cell_type": "code",
   "execution_count": null,
   "id": "daef7dc9-cf87-4b0b-8b8d-e8261e967e6c",
   "metadata": {},
   "outputs": [],
   "source": [
    "{1,3,5} != {3,5,1}"
   ]
  },
  {
   "cell_type": "code",
   "execution_count": null,
   "id": "7ab50025-417c-42cd-9043-f1673488e979",
   "metadata": {},
   "outputs": [],
   "source": [
    "{1,3,5} < {3,5,1}"
   ]
  },
  {
   "cell_type": "code",
   "execution_count": null,
   "id": "3b5dac82-b394-47cc-be33-7201a5a28819",
   "metadata": {},
   "outputs": [],
   "source": [
    "{1,3,5} < {3,5,8,1}"
   ]
  },
  {
   "cell_type": "code",
   "execution_count": null,
   "id": "5fd8710d-eba5-44dd-9bcc-1cdc91c5cc6c",
   "metadata": {},
   "outputs": [],
   "source": [
    "{1,3,5} <= {3,5,1}"
   ]
  },
  {
   "cell_type": "code",
   "execution_count": null,
   "id": "d5b6c8b2-ee6e-4316-a13c-9df86d1e9046",
   "metadata": {},
   "outputs": [],
   "source": [
    "{1,3} <= {3,5,1}"
   ]
  },
  {
   "cell_type": "code",
   "execution_count": null,
   "id": "11ca9978-cb60-4fff-bfb4-b4772ad3d390",
   "metadata": {},
   "outputs": [],
   "source": [
    "{1,3,5}.issubset({3,5,1})#making a set as an object"
   ]
  },
  {
   "cell_type": "code",
   "execution_count": null,
   "id": "4897d038-3aa5-4142-952c-5bf2ade1c4c4",
   "metadata": {},
   "outputs": [],
   "source": [
    "('casa').upper()"
   ]
  },
  {
   "cell_type": "code",
   "execution_count": null,
   "id": "61a06788-cb1b-48cd-87e1-a7d98f620b4d",
   "metadata": {},
   "outputs": [],
   "source": [
    "{1,3,5} > {3,5,1}"
   ]
  },
  {
   "cell_type": "code",
   "execution_count": null,
   "id": "f13c67dd-421f-4c0f-b47f-2d85b365d0f1",
   "metadata": {},
   "outputs": [],
   "source": [
    "{1,3,5,7} > {3,5,1}"
   ]
  },
  {
   "cell_type": "code",
   "execution_count": null,
   "id": "4473ad12-2c5e-498a-9f63-f119722bf537",
   "metadata": {},
   "outputs": [],
   "source": [
    "{1,3,5} >= {3,5,1}"
   ]
  },
  {
   "cell_type": "code",
   "execution_count": null,
   "id": "d9f40c6a-b82e-4f3a-99e6-869af7bc2d42",
   "metadata": {},
   "outputs": [],
   "source": [
    "{1,3,5} >= {5,1}"
   ]
  },
  {
   "cell_type": "code",
   "execution_count": null,
   "id": "7f608de2-b412-498f-8eed-62c2e41da462",
   "metadata": {},
   "outputs": [],
   "source": [
    "{1,3} >= {3,5,1}"
   ]
  },
  {
   "cell_type": "code",
   "execution_count": null,
   "id": "1a779341-ed17-46e6-8819-6e56a7d7ed34",
   "metadata": {},
   "outputs": [],
   "source": [
    "{1,3,5}.issuperset({3,5,1})#making a superset"
   ]
  },
  {
   "cell_type": "code",
   "execution_count": null,
   "id": "c954d019-92db-4576-a8cf-7791fa770dbf",
   "metadata": {},
   "outputs": [],
   "source": [
    "{1,3,5}.issuperset({5,1})#making a superset"
   ]
  },
  {
   "cell_type": "code",
   "execution_count": null,
   "id": "d76d1f4c-7a55-4023-8a68-4a42b2eafea0",
   "metadata": {},
   "outputs": [],
   "source": [
    "#Exercise\n",
    "\n",
    "{'abc def ghi jkl mno'}.issuperset({'hi mon'})"
   ]
  },
  {
   "cell_type": "code",
   "execution_count": null,
   "id": "21a742f0-3245-4e1d-a260-24a9d95b9513",
   "metadata": {},
   "outputs": [],
   "source": [
    "#alternative version\n",
    "\n",
    "set('abc def jkl mno').issuperset('hi mon')"
   ]
  },
  {
   "cell_type": "code",
   "execution_count": null,
   "id": "7ff892ce-cf4d-4c02-bc77-bfdcf392a9fa",
   "metadata": {},
   "outputs": [],
   "source": [
    "#Mathematical set operations\n",
    "{1,3,5} | {2,3,4} #union"
   ]
  },
  {
   "cell_type": "code",
   "execution_count": null,
   "id": "da11b856-2d1f-4e8e-80ca-d945a32bc7db",
   "metadata": {},
   "outputs": [],
   "source": [
    "{1,3,5}.union([20,30,340,40,5,4,4]) #using .union method"
   ]
  },
  {
   "cell_type": "code",
   "execution_count": null,
   "id": "28bbedf2-a12d-4db8-bf00-cfac34cf502f",
   "metadata": {},
   "outputs": [],
   "source": [
    "{1,3,5} & {2,3,4} #intersection of elements"
   ]
  },
  {
   "cell_type": "code",
   "execution_count": null,
   "id": "b9b2675a-1d98-405b-b950-0b8be8273d46",
   "metadata": {},
   "outputs": [],
   "source": [
    "{1,3,5}.intersection([1,1,2,2,3,4,5,56,67,778,])"
   ]
  },
  {
   "cell_type": "code",
   "execution_count": null,
   "id": "db985783-6e82-4088-abf5-8cb40dee6ed5",
   "metadata": {},
   "outputs": [],
   "source": [
    "{1,3,5} - {2,3,4} #difference operation"
   ]
  },
  {
   "cell_type": "code",
   "execution_count": null,
   "id": "6bc8b268-8c12-44ef-9147-260f05aa6628",
   "metadata": {},
   "outputs": [],
   "source": [
    "{1,3,5}.difference([2,2,3,3,4,4,5,5])"
   ]
  },
  {
   "cell_type": "code",
   "execution_count": null,
   "id": "f6218d8b-2bed-43dd-ba81-826dcab5916f",
   "metadata": {},
   "outputs": [],
   "source": [
    "{1,3,5} ^ {2,3,4} #symmetric difference"
   ]
  },
  {
   "cell_type": "code",
   "execution_count": null,
   "id": "4aaf39cc-8f24-4ed1-94a6-32595c450614",
   "metadata": {},
   "outputs": [],
   "source": [
    "{1,3,5}.symmetric_difference([2,2,2,3,33,4,4,45,5,5,5])"
   ]
  },
  {
   "cell_type": "code",
   "execution_count": null,
   "id": "1dcaf49e-dafb-4595-bcbf-9cb4f90b2eb6",
   "metadata": {},
   "outputs": [],
   "source": [
    "{1,3,5}.isdisjoint([2,3,4,1]) #disjoint operation"
   ]
  },
  {
   "cell_type": "code",
   "execution_count": null,
   "id": "119ed6bb-27de-495b-8fcf-bab28a570ba3",
   "metadata": {},
   "outputs": [],
   "source": [
    "{1,3,5}.isdisjoint([4,6,1]) #disjoint operation"
   ]
  },
  {
   "cell_type": "code",
   "execution_count": null,
   "id": "541f9faf-7e8f-40f2-b240-eb7dad0e561b",
   "metadata": {},
   "outputs": [],
   "source": [
    "#Exercise\n",
    "\n",
    "{10,20,30}- {5,10,15,20} #difference"
   ]
  },
  {
   "cell_type": "code",
   "execution_count": null,
   "id": "df91e973-82d9-4d59-aaf2-69f31f282f09",
   "metadata": {},
   "outputs": [],
   "source": [
    "{10,20,30}^ {5,10,15,20} #symmetric difference"
   ]
  },
  {
   "cell_type": "code",
   "execution_count": null,
   "id": "8c94e035-bbd7-4b52-a08d-7c02ad8a6861",
   "metadata": {},
   "outputs": [],
   "source": [
    "{10,20,30}| {5,10,15,20} #union"
   ]
  },
  {
   "cell_type": "code",
   "execution_count": null,
   "id": "413b0c7f-90c3-4aeb-abb6-b2dec600d5be",
   "metadata": {
    "tags": []
   },
   "outputs": [],
   "source": [
    "{10,20,30}&{5,10,15,20} #intersection"
   ]
  },
  {
   "cell_type": "code",
   "execution_count": null,
   "id": "3cc8d9f1-0c77-47a2-80c8-da4e73dbb5cc",
   "metadata": {},
   "outputs": [],
   "source": [
    "#Mutable set operators and methods\n",
    "\n",
    "#Augmented operators\n",
    "\n",
    "|= update\n",
    "&= intersection\n",
    "-= difference_update\n",
    "^= symmeteric_difference_update"
   ]
  },
  {
   "cell_type": "code",
   "execution_count": null,
   "id": "82c423eb-3bf4-44ed-aff2-745245f73b47",
   "metadata": {},
   "outputs": [],
   "source": [
    "numbers = {3,5,1}"
   ]
  },
  {
   "cell_type": "code",
   "execution_count": null,
   "id": "18e36253-51b9-464e-abba-46db03d278e5",
   "metadata": {},
   "outputs": [],
   "source": [
    "numbers |= {2,3,4} #union"
   ]
  },
  {
   "cell_type": "code",
   "execution_count": null,
   "id": "b8160bd9-de9f-4962-bff7-0e2063c7d1cf",
   "metadata": {},
   "outputs": [],
   "source": [
    "numbers"
   ]
  },
  {
   "cell_type": "code",
   "execution_count": null,
   "id": "4c2e2276-864e-4549-95b9-419b4090c197",
   "metadata": {},
   "outputs": [],
   "source": [
    "numbers.update(range(10)) #creating and combining a set removing the repeated values"
   ]
  },
  {
   "cell_type": "code",
   "execution_count": null,
   "id": "877e215d-8ae1-46ff-8e8d-f1153b59166f",
   "metadata": {},
   "outputs": [],
   "source": [
    "numbers"
   ]
  },
  {
   "cell_type": "code",
   "execution_count": null,
   "id": "27d460d4-a12a-4c3f-ae89-6b774b268814",
   "metadata": {},
   "outputs": [],
   "source": [
    "numbers.add(18)"
   ]
  },
  {
   "cell_type": "code",
   "execution_count": null,
   "id": "1f5f11eb-7a38-47ad-be28-cd589cd66f0e",
   "metadata": {},
   "outputs": [],
   "source": [
    "numbers"
   ]
  },
  {
   "cell_type": "code",
   "execution_count": null,
   "id": "ec85d74d-7532-4add-9981-0d0dba192b6e",
   "metadata": {},
   "outputs": [],
   "source": [
    "numbers.add(3)\n",
    "numbers"
   ]
  },
  {
   "cell_type": "code",
   "execution_count": null,
   "id": "1bf4d093-ae76-4dbb-87f6-fafc4702ba41",
   "metadata": {},
   "outputs": [],
   "source": [
    "numbers.remove(3)#removing values from sets"
   ]
  },
  {
   "cell_type": "code",
   "execution_count": null,
   "id": "593b5a22-d4dc-432c-aa56-5fc3212c0e08",
   "metadata": {},
   "outputs": [],
   "source": [
    "numbers"
   ]
  },
  {
   "cell_type": "code",
   "execution_count": null,
   "id": "78ef662f-fa01-48a9-a5fd-78eead635fb0",
   "metadata": {},
   "outputs": [],
   "source": [
    "numbers.discard(1)#removing values from sets"
   ]
  },
  {
   "cell_type": "code",
   "execution_count": null,
   "id": "8adeff7b-d2d6-43ef-add2-a6c521576997",
   "metadata": {},
   "outputs": [],
   "source": [
    "numbers"
   ]
  },
  {
   "cell_type": "code",
   "execution_count": null,
   "id": "d5d1178f-875a-4095-8d43-87a629270449",
   "metadata": {},
   "outputs": [],
   "source": [
    "numbers.pop()#removing values from sets"
   ]
  },
  {
   "cell_type": "code",
   "execution_count": null,
   "id": "c24733ef-13fb-4e7b-a913-e1d7a97c4dcf",
   "metadata": {},
   "outputs": [],
   "source": [
    "numbers"
   ]
  },
  {
   "cell_type": "code",
   "execution_count": null,
   "id": "b43043c6-2ddb-4e80-9c59-9f8832056550",
   "metadata": {},
   "outputs": [],
   "source": [
    "numbers.clear()#removing values from sets"
   ]
  },
  {
   "cell_type": "code",
   "execution_count": null,
   "id": "68ef2072-6fcb-4103-928b-12b8781710ac",
   "metadata": {},
   "outputs": [],
   "source": [
    "numbers"
   ]
  },
  {
   "cell_type": "code",
   "execution_count": null,
   "id": "4ad3b140-fdae-449c-be2a-7565cb6459ec",
   "metadata": {},
   "outputs": [],
   "source": [
    "numbers = [1,2,2,3,4,5,6,6,7,8,9,10,10]\n",
    "\n",
    "evens = {item for item in numbers if item % 2 == 0}\n",
    "evens"
   ]
  },
  {
   "cell_type": "code",
   "execution_count": null,
   "id": "44111004-5216-4984-8703-0700a81b6fd0",
   "metadata": {},
   "outputs": [],
   "source": [
    "odds = {item for item in numbers if item % 2 == 1}\n",
    "odds"
   ]
  },
  {
   "cell_type": "code",
   "execution_count": null,
   "id": "39c02435-2a57-4c1b-9bcb-ffc37f4fd046",
   "metadata": {},
   "outputs": [],
   "source": [
    ">>>>>>>>>>>>>>NUMPY<<<<<<<<<<<<<\n",
    "\n",
    "#Arrays in numpy\n",
    "import numpy as np\n",
    "nu = np.array([2,4,5,6,4,8])\n",
    "type(nu)"
   ]
  },
  {
   "cell_type": "code",
   "execution_count": null,
   "id": "67479f70-5cc9-47b4-a0ab-c200402dbd08",
   "metadata": {},
   "outputs": [],
   "source": [
    "nu"
   ]
  },
  {
   "cell_type": "code",
   "execution_count": null,
   "id": "a5c78662-a91b-4f6d-8677-c5b7134372c1",
   "metadata": {},
   "outputs": [],
   "source": [
    "nu = ([[1,2,3,4],[5,6,7,8]])"
   ]
  },
  {
   "cell_type": "code",
   "execution_count": null,
   "id": "2e9819d7-093d-4e2d-b4ec-17c603ec2f70",
   "metadata": {},
   "outputs": [],
   "source": [
    "np.array([x for x in range(2,21,2)]) #list comprehension, one dimensional array"
   ]
  },
  {
   "cell_type": "code",
   "execution_count": null,
   "id": "c855b770-d309-4515-81fe-c7b56c94d229",
   "metadata": {},
   "outputs": [],
   "source": [
    "np.array([[2,4,6,8,10],[1,3,5,7,9]])"
   ]
  },
  {
   "cell_type": "code",
   "execution_count": null,
   "id": "34a78e81-4e65-4d55-96c1-3c6ae97e0aac",
   "metadata": {},
   "outputs": [],
   "source": [
    "integers = np.array([[1,2,3],[4,5,6]])\n",
    "integers"
   ]
  },
  {
   "cell_type": "code",
   "execution_count": null,
   "id": "1de077ee-ece0-4903-bdfc-19e1fc04d3b0",
   "metadata": {},
   "outputs": [],
   "source": [
    "floats = np.array([0.0,0.1,0.2,0.3,0.4])\n",
    "floats"
   ]
  },
  {
   "cell_type": "code",
   "execution_count": null,
   "id": "e8bb5026-6906-4156-871f-7c251ab350d3",
   "metadata": {},
   "outputs": [],
   "source": [
    "type(floats)"
   ]
  },
  {
   "cell_type": "code",
   "execution_count": null,
   "id": "3e4bcd85-c72e-4fd6-96c2-e75765a3f3e8",
   "metadata": {},
   "outputs": [],
   "source": [
    "integers.dtype"
   ]
  },
  {
   "cell_type": "code",
   "execution_count": null,
   "id": "e1ff8525-7c6f-402b-a801-740c690696b5",
   "metadata": {},
   "outputs": [],
   "source": [
    "floats.dtype #dtype"
   ]
  },
  {
   "cell_type": "code",
   "execution_count": null,
   "id": "5c34494e-c4c6-482a-a08c-96aaa9202c28",
   "metadata": {},
   "outputs": [],
   "source": [
    "integers.ndim  #dimensional size"
   ]
  },
  {
   "cell_type": "code",
   "execution_count": null,
   "id": "8e09107a-682a-461a-8fe2-ce404af5bd3b",
   "metadata": {},
   "outputs": [],
   "source": [
    "integers.shape #how many rows and columns"
   ]
  },
  {
   "cell_type": "code",
   "execution_count": null,
   "id": "479fb353-c936-4d75-8265-52a2e03d6af2",
   "metadata": {},
   "outputs": [],
   "source": [
    "floats.shape"
   ]
  },
  {
   "cell_type": "code",
   "execution_count": null,
   "id": "aeccbd17-bea9-41d6-9d12-46f0a5f4530a",
   "metadata": {},
   "outputs": [],
   "source": [
    "integers.size #size will show the multiplication by how many rows and columns"
   ]
  },
  {
   "cell_type": "code",
   "execution_count": null,
   "id": "8c7caba8-4ce5-4254-87dc-d393b0906a62",
   "metadata": {},
   "outputs": [],
   "source": [
    "integers.itemsize #how many bytes are stored"
   ]
  },
  {
   "cell_type": "code",
   "execution_count": null,
   "id": "145d8535-c289-4d19-aa0d-9a3ad18c2d17",
   "metadata": {},
   "outputs": [],
   "source": [
    "floats.size"
   ]
  },
  {
   "cell_type": "code",
   "execution_count": null,
   "id": "7f3534e0-7919-4781-a15e-bce25955f9cd",
   "metadata": {},
   "outputs": [],
   "source": [
    "floats.itemsize"
   ]
  },
  {
   "cell_type": "code",
   "execution_count": null,
   "id": "17afe236-33ca-4ea9-8fdb-c8faa872abd2",
   "metadata": {},
   "outputs": [],
   "source": [
    "#displaying the array\n",
    "\n",
    "for row in integers:\n",
    "    for column in row:\n",
    "        print(column,end=' ')\n",
    "    print()    "
   ]
  },
  {
   "cell_type": "code",
   "execution_count": null,
   "id": "788118d0-594b-4352-9a7a-ba65571d78d3",
   "metadata": {},
   "outputs": [],
   "source": [
    "#displaying the array as a flat line sequence\n",
    "for i in integers.flat:\n",
    "    print(i, end=' ')"
   ]
  },
  {
   "cell_type": "code",
   "execution_count": null,
   "id": "0c1a29fd-8762-4e98-a34e-b745f888400a",
   "metadata": {},
   "outputs": [],
   "source": [
    "x = np.array([[2,4,6,8,10],[1,3,5,7,9]])"
   ]
  },
  {
   "cell_type": "code",
   "execution_count": null,
   "id": "5a8a8c4f-dca9-4310-9f9a-bfbf3ffba218",
   "metadata": {},
   "outputs": [],
   "source": [
    "x.ndim"
   ]
  },
  {
   "cell_type": "code",
   "execution_count": null,
   "id": "10e81d67-71dd-4384-8873-16173d6f1fa1",
   "metadata": {},
   "outputs": [],
   "source": [
    "x.shape"
   ]
  },
  {
   "cell_type": "code",
   "execution_count": null,
   "id": "a4b51f51-37d0-4d53-a8f8-d8226ca41483",
   "metadata": {},
   "outputs": [],
   "source": [
    "np.zeros(5)"
   ]
  },
  {
   "cell_type": "code",
   "execution_count": null,
   "id": "ee75ab31-ef57-4ffb-ac75-82212f7e5291",
   "metadata": {},
   "outputs": [],
   "source": [
    "np.ones((2,4),dtype=int)"
   ]
  },
  {
   "cell_type": "code",
   "execution_count": null,
   "id": "cf52b781-e122-4358-8e2f-67695157fe70",
   "metadata": {},
   "outputs": [],
   "source": [
    "np.full((4,5),13)"
   ]
  },
  {
   "cell_type": "code",
   "execution_count": null,
   "id": "9dad2e56-bbb8-4408-abd8-2fc588ebab5e",
   "metadata": {},
   "outputs": [],
   "source": [
    "np.arange(5)"
   ]
  },
  {
   "cell_type": "code",
   "execution_count": null,
   "id": "3b139b17-a933-410c-8a5c-505f12b1b054",
   "metadata": {},
   "outputs": [],
   "source": [
    "np.arange(5,10)"
   ]
  },
  {
   "cell_type": "code",
   "execution_count": null,
   "id": "6b744707-3ba8-4478-8231-646264cb4521",
   "metadata": {},
   "outputs": [],
   "source": [
    "np.arange(10,1,-2)"
   ]
  },
  {
   "cell_type": "code",
   "execution_count": null,
   "id": "0625c69b-0b8d-44d4-837f-245865b1bfa8",
   "metadata": {},
   "outputs": [
    {
     "data": {
      "text/plain": [
       "array([0.        , 0.07142857, 0.14285714, 0.21428571, 0.28571429,\n",
       "       0.35714286, 0.42857143, 0.5       , 0.57142857, 0.64285714,\n",
       "       0.71428571, 0.78571429, 0.85714286, 0.92857143, 1.        ])"
      ]
     },
     "execution_count": 8,
     "metadata": {},
     "output_type": "execute_result"
    }
   ],
   "source": [
    "np.linspace(0.0,1.0,num=15)"
   ]
  },
  {
   "cell_type": "code",
   "execution_count": null,
   "id": "40132a7c-3d07-4296-ad83-cfab4f78ec25",
   "metadata": {},
   "outputs": [],
   "source": [
    "np.arange(1,21).reshape(4,5)# 4 rows and 5 columns"
   ]
  },
  {
   "cell_type": "code",
   "execution_count": null,
   "id": "ef3d830a-9698-46a2-a696-f91e6e5cfe6c",
   "metadata": {},
   "outputs": [],
   "source": [
    "np.arange(1,100001).reshape(4,25000)"
   ]
  },
  {
   "cell_type": "code",
   "execution_count": null,
   "id": "36771b81-b3df-4eed-a0a4-f7bc23d78d3d",
   "metadata": {},
   "outputs": [],
   "source": [
    "#Exercise\n",
    "x = np.array([x for x in range(2,41,2)])"
   ]
  },
  {
   "cell_type": "code",
   "execution_count": null,
   "id": "16fd8c61-c907-4328-8971-caad72d596c4",
   "metadata": {},
   "outputs": [],
   "source": [
    "x.reshape(4,5)"
   ]
  },
  {
   "cell_type": "code",
   "execution_count": null,
   "id": "0d83c384-0b22-445a-b471-a49fcd4eeb6a",
   "metadata": {},
   "outputs": [],
   "source": [
    "#answer\n",
    "\n",
    "np.arange(2,41,2).reshape(4,5)"
   ]
  },
  {
   "cell_type": "code",
   "execution_count": null,
   "id": "81fb7e58-a7bc-402e-a584-e16ef15ad892",
   "metadata": {},
   "outputs": [],
   "source": [
    "\"\"\"MAGIC\"\"\"\n",
    "\n",
    "'comparison performance between list and numpy arrays'\n",
    "\n",
    "import random\n",
    "\n",
    "%timeit rolls_list = [random.randrange(1,7)for i in range(6_000_00)]\n"
   ]
  },
  {
   "cell_type": "code",
   "execution_count": null,
   "id": "cdf4edbf-2e74-42e0-bcfd-34ed573d853e",
   "metadata": {},
   "outputs": [],
   "source": [
    "import numpy as np\n",
    "%timeit rolls_array = [random.randrange(1,7)for i in range(6_000_00)]\n"
   ]
  },
  {
   "cell_type": "code",
   "execution_count": null,
   "id": "76d5dea8-06cc-49e8-9dcc-be990423e960",
   "metadata": {},
   "outputs": [],
   "source": [
    "%timeit rolls_array = [random.randrange(1,7)for i in range(60_000_00)]\n"
   ]
  },
  {
   "cell_type": "code",
   "execution_count": null,
   "id": "be0c0743-2196-444b-ae27-7779c8cd2fb8",
   "metadata": {},
   "outputs": [],
   "source": [
    "%timeit rolls_array = [random.randrange(1,7)for i in range(600_000_00)]\n"
   ]
  },
  {
   "cell_type": "code",
   "execution_count": null,
   "id": "7bc275cd-5f84-48e5-882c-b423a1cb5c58",
   "metadata": {},
   "outputs": [
    {
     "name": "stderr",
     "output_type": "stream",
     "text": [
      "C:\\Users\\thefa\\AppData\\Local\\Temp\\ipykernel_19856\\1239878329.py:4: NumbaWarning: \u001b[1m\n",
      "Compilation is falling back to object mode WITH looplifting enabled because Function \"timeit\" failed type inference due to: \u001b[1mUntyped global name 'get_ipython':\u001b[0m \u001b[1m\u001b[1mCannot determine Numba type of <class 'method'>\u001b[0m\n",
      "\u001b[1m\n",
      "File \"..\\AppData\\Local\\Temp\\ipykernel_19856\\1239878329.py\", line 6:\u001b[0m\n",
      "\u001b[1m<source missing, REPL/exec in use?>\u001b[0m\n",
      "\u001b[0m\u001b[0m\n",
      "  @jit\n"
     ]
    },
    {
     "name": "stdout",
     "output_type": "stream",
     "text": [
      "43.1 ms ± 207 µs per loop (mean ± std. dev. of 7 runs, 10 loops each)\n"
     ]
    }
   ],
   "source": [
    "import numpy as np\n",
    "\n",
    "%timeit rolls_array = np.random.randint(1,7,6_000_000) #random integers on numpy\n",
    "\n"
   ]
  },
  {
   "cell_type": "code",
   "execution_count": null,
   "id": "72c5aaaa-c189-460e-9684-e8218da5ef15",
   "metadata": {},
   "outputs": [],
   "source": [
    "%timeit -n3 -r2 rolls_array = np.random.randint(1,7,600_000_000)\n",
    "\n",
    "# '-n' means total number of loops\n",
    "# '-r' means total numbers of runs/repetitions"
   ]
  },
  {
   "cell_type": "code",
   "execution_count": null,
   "id": "e1c8120d-fbd7-45bf-9236-413001f0923c",
   "metadata": {},
   "outputs": [],
   "source": [
    "%timeit rolls_array = np.random.randint(1,7,6_000_000)"
   ]
  },
  {
   "cell_type": "code",
   "execution_count": null,
   "id": "11c2ea08-a90a-485a-964c-a58f100ff6dd",
   "metadata": {},
   "outputs": [
    {
     "name": "stdout",
     "output_type": "stream",
     "text": [
      "built in python round\n",
      "290 ns ± 1.56 ns per loop (mean ± std. dev. of 7 runs, 1,000,000 loops each)\n"
     ]
    }
   ],
   "source": [
    "import numpy as np\n",
    "\n",
    "too_many_decimals = 1.98752431\n",
    "print('built in python round')\n",
    "%timeit round(too_many_decimals,2)"
   ]
  },
  {
   "cell_type": "code",
   "execution_count": null,
   "id": "3b5e81dd-267e-4899-a5ec-c34fe3f0746c",
   "metadata": {},
   "outputs": [],
   "source": [
    "%timeit np.round(too_many_decimals,2)"
   ]
  },
  {
   "cell_type": "code",
   "execution_count": null,
   "id": "31b99b32-dbc4-4c6c-9471-0bec931b7bf9",
   "metadata": {},
   "outputs": [],
   "source": [
    "%%bash\n",
    "echo \"my shell is: \" $shell"
   ]
  },
  {
   "cell_type": "code",
   "execution_count": null,
   "id": "a6746f18-8027-46e8-bc66-0b72c85d00ce",
   "metadata": {
    "tags": []
   },
   "outputs": [],
   "source": [
    "%load - read code into ipython from a local file or url\n",
    "%save save snipptes from a file\n",
    "%run execute .py file in ipython\n",
    "%precision change default float point precision\n",
    "%cd change directories\n",
    "%edit launch an external editor\n",
    "%history list all snippets or commands in the current ipython session"
   ]
  },
  {
   "cell_type": "code",
   "execution_count": null,
   "id": "d647153f-0d88-4e78-acd6-86a6010cd384",
   "metadata": {},
   "outputs": [],
   "source": [
    "import numpy as np\n",
    "\n",
    "%timeit exercise = sum([x for x in range(10_000_000)])"
   ]
  },
  {
   "cell_type": "code",
   "execution_count": null,
   "id": "7757a3d0-a8e3-4d1d-a012-b0e37eeac7ca",
   "metadata": {},
   "outputs": [
    {
     "name": "stdout",
     "output_type": "stream",
     "text": [
      "18.4 ms ± 161 µs per loop (mean ± std. dev. of 7 runs, 100 loops each)\n"
     ]
    }
   ],
   "source": [
    "%timeit exercise_np = np.arange(10_000_000).sum()"
   ]
  },
  {
   "cell_type": "code",
   "execution_count": null,
   "id": "c60f1f87-9566-4397-a32b-398ea55211ba",
   "metadata": {},
   "outputs": [],
   "source": [
    "numbers = np.arange(1,6)"
   ]
  },
  {
   "cell_type": "code",
   "execution_count": null,
   "id": "b2aedbe4-c5d8-4bd0-980b-f217d6afc540",
   "metadata": {},
   "outputs": [],
   "source": [
    "numbers"
   ]
  },
  {
   "cell_type": "code",
   "execution_count": null,
   "id": "aa7a6405-8ec2-4f0e-8c5b-2e26c30e7c5b",
   "metadata": {},
   "outputs": [],
   "source": [
    "#ARRAY OPERATORS\n",
    "\n",
    "numbers *2  #broadcasting, element by element numpy multiplies each element"
   ]
  },
  {
   "cell_type": "code",
   "execution_count": null,
   "id": "26d4efea-6b45-48ff-87c6-bf36033ff4e1",
   "metadata": {},
   "outputs": [],
   "source": [
    "numbers **3"
   ]
  },
  {
   "cell_type": "code",
   "execution_count": null,
   "id": "7ac05c3b-58d4-4bd6-9062-32fd193df630",
   "metadata": {},
   "outputs": [],
   "source": [
    "numbers += 10 \n",
    "numbers"
   ]
  },
  {
   "cell_type": "code",
   "execution_count": null,
   "id": "3469951d-de14-4983-be41-36f44cc81d63",
   "metadata": {},
   "outputs": [],
   "source": [
    "nu2 = np.linspace(1.1,5.5,5)"
   ]
  },
  {
   "cell_type": "code",
   "execution_count": null,
   "id": "3e63f263-5ef0-412b-bd42-8beb2b9a106d",
   "metadata": {},
   "outputs": [],
   "source": [
    "nu2"
   ]
  },
  {
   "cell_type": "code",
   "execution_count": null,
   "id": "9a73a4b1-35ad-4e51-86d8-00765ada0f79",
   "metadata": {},
   "outputs": [],
   "source": [
    "numbers * nu2 "
   ]
  },
  {
   "cell_type": "code",
   "execution_count": null,
   "id": "d20ca151-008f-45b1-bd91-19bf3035f626",
   "metadata": {},
   "outputs": [],
   "source": [
    "numbers >= 13 #checks every individual elements"
   ]
  },
  {
   "cell_type": "code",
   "execution_count": null,
   "id": "31eb1fbb-2896-41ae-a99c-22aad1eb2bf2",
   "metadata": {},
   "outputs": [],
   "source": [
    "nu2 < numbers"
   ]
  },
  {
   "cell_type": "code",
   "execution_count": null,
   "id": "62b2fb6c-fc36-4a8a-a207-e7d8bd6b13af",
   "metadata": {},
   "outputs": [],
   "source": [
    "numbers == nu2"
   ]
  },
  {
   "cell_type": "code",
   "execution_count": null,
   "id": "b5f30158-33fa-41b9-a984-251456d3df62",
   "metadata": {},
   "outputs": [],
   "source": [
    "numbers == numbers"
   ]
  },
  {
   "cell_type": "code",
   "execution_count": null,
   "id": "76bcbc65-78f5-4123-8745-23b22c100cad",
   "metadata": {},
   "outputs": [],
   "source": [
    "array = np.arange(1,6)\n",
    "array ** 2"
   ]
  },
  {
   "cell_type": "code",
   "execution_count": null,
   "id": "b3caeab9-e805-4d40-9d62-7733151bb10d",
   "metadata": {},
   "outputs": [],
   "source": [
    "#Numpy Calculation methods\n",
    "\n",
    "grades = np.array([[87,96,70],[100,87,90],[94,77,90],[100,81,82]])"
   ]
  },
  {
   "cell_type": "code",
   "execution_count": null,
   "id": "aebe2003-7192-462b-835e-f5b60b3f6e6e",
   "metadata": {},
   "outputs": [],
   "source": [
    "grades"
   ]
  },
  {
   "cell_type": "code",
   "execution_count": null,
   "id": "9a6fd9a2-6a6e-482e-9295-9e8f93cd80da",
   "metadata": {},
   "outputs": [],
   "source": [
    "grades.sum()"
   ]
  },
  {
   "cell_type": "code",
   "execution_count": null,
   "id": "069b3180-676c-4c67-abf8-d35ecbe3b149",
   "metadata": {},
   "outputs": [],
   "source": [
    "grades.min()"
   ]
  },
  {
   "cell_type": "code",
   "execution_count": null,
   "id": "a2831c1d-143e-4268-bd48-38caa9da1a98",
   "metadata": {},
   "outputs": [],
   "source": [
    "grades.max()"
   ]
  },
  {
   "cell_type": "code",
   "execution_count": null,
   "id": "b11d12fd-e9f9-404b-a216-e5f6b19d7e16",
   "metadata": {},
   "outputs": [],
   "source": [
    "grades.mean()"
   ]
  },
  {
   "cell_type": "code",
   "execution_count": null,
   "id": "cd48812f-4620-4b96-a867-74bddfbacebd",
   "metadata": {},
   "outputs": [],
   "source": [
    "grades.std()"
   ]
  },
  {
   "cell_type": "code",
   "execution_count": null,
   "id": "4336ef4a-505f-4a99-8e66-bbc94073b723",
   "metadata": {},
   "outputs": [],
   "source": [
    "grades.var()"
   ]
  },
  {
   "cell_type": "code",
   "execution_count": null,
   "id": "daef2178-ad3b-4a4b-a6e2-5e556444b592",
   "metadata": {},
   "outputs": [],
   "source": [
    "grades.mean(axis=0) #average per column"
   ]
  },
  {
   "cell_type": "code",
   "execution_count": null,
   "id": "3c371f9a-2b8d-49ae-8ea4-680f38323049",
   "metadata": {},
   "outputs": [],
   "source": [
    "grades.mean(axis=1) #average per row"
   ]
  },
  {
   "cell_type": "code",
   "execution_count": null,
   "id": "36fd4a34-985e-4c80-a280-abefa44966fd",
   "metadata": {},
   "outputs": [],
   "source": [
    "#Exercise\n",
    "\n",
    "z = np.random.randint(60,101,12).reshape(3,4)"
   ]
  },
  {
   "cell_type": "code",
   "execution_count": null,
   "id": "d3afb837-d2c1-44ca-a4bb-4db1eb5a66b9",
   "metadata": {},
   "outputs": [],
   "source": [
    "z.mean()"
   ]
  },
  {
   "cell_type": "code",
   "execution_count": null,
   "id": "ed3e5427-cd07-4846-8895-db0e8b88b480",
   "metadata": {},
   "outputs": [],
   "source": [
    "z.mean(axis=0)"
   ]
  },
  {
   "cell_type": "code",
   "execution_count": null,
   "id": "ec2cc51e-1d19-441a-916a-74350bc9445b",
   "metadata": {},
   "outputs": [],
   "source": [
    "z.mean(axis=1)"
   ]
  },
  {
   "cell_type": "code",
   "execution_count": null,
   "id": "286258f1-e8d0-40d4-95f3-548516003347",
   "metadata": {},
   "outputs": [],
   "source": [
    "z = np.random.randint(5000,10000,12).reshape(3,4)\n",
    "z"
   ]
  },
  {
   "cell_type": "code",
   "execution_count": null,
   "id": "9030ed17-8085-4a77-bd51-973af7458ee7",
   "metadata": {},
   "outputs": [],
   "source": [
    "#Universal functions\n",
    "\n",
    "nu = np.array([60,90,567,6458,93,800])"
   ]
  },
  {
   "cell_type": "code",
   "execution_count": null,
   "id": "fff4325b-d07e-44bb-971c-7742fd0abc26",
   "metadata": {},
   "outputs": [],
   "source": [
    "np.sqrt(nu)"
   ]
  },
  {
   "cell_type": "code",
   "execution_count": null,
   "id": "f218263d-125b-4d38-bdd5-d24fca83afad",
   "metadata": {},
   "outputs": [
    {
     "data": {
      "text/plain": [
       "array([10, 20, 30, 40, 50, 60])"
      ]
     },
     "execution_count": 8,
     "metadata": {},
     "output_type": "execute_result"
    }
   ],
   "source": [
    "nu2 = np.arange(1,7)*10\n",
    "nu2"
   ]
  },
  {
   "cell_type": "code",
   "execution_count": null,
   "id": "911be36e-f1fb-4fc0-b7de-c3948341c284",
   "metadata": {},
   "outputs": [
    {
     "data": {
      "text/plain": [
       "array([  70,  110,  597, 6498,  143,  860])"
      ]
     },
     "execution_count": 11,
     "metadata": {},
     "output_type": "execute_result"
    }
   ],
   "source": [
    "np.add(nu,nu2)"
   ]
  },
  {
   "cell_type": "code",
   "execution_count": null,
   "id": "f71eb877-3a76-4881-a2d4-970b95b2ba9e",
   "metadata": {},
   "outputs": [],
   "source": [
    "np.multiply(nu2,5) #args are variable + any number to multiply;broadcast with universal function"
   ]
  },
  {
   "cell_type": "code",
   "execution_count": null,
   "id": "039796a1-3d39-4a03-818b-438ff43022bc",
   "metadata": {},
   "outputs": [],
   "source": [
    "nu3 = nu2.reshape(2,3)"
   ]
  },
  {
   "cell_type": "code",
   "execution_count": null,
   "id": "64e43c68-80a0-4152-ae10-af7fd66931de",
   "metadata": {},
   "outputs": [],
   "source": []
  },
  {
   "cell_type": "code",
   "execution_count": null,
   "id": "1d4dec78-1be6-46d9-ac66-aeb6145120ac",
   "metadata": {},
   "outputs": [],
   "source": [
    "nu4 = np.array([2,3,5])"
   ]
  },
  {
   "cell_type": "code",
   "execution_count": null,
   "id": "5d6b4cd3-a668-4b49-bef5-a2a541244ce3",
   "metadata": {},
   "outputs": [],
   "source": [
    "np.multiply(nu3,nu4) #multidimensional array multiplication"
   ]
  },
  {
   "cell_type": "code",
   "execution_count": null,
   "id": "c3479e43-5dab-42d1-ad5b-b1519dfc92ef",
   "metadata": {},
   "outputs": [
    {
     "data": {
      "text/plain": [
       "array([  1,   8,  27,  64, 125], dtype=int32)"
      ]
     },
     "execution_count": 12,
     "metadata": {},
     "output_type": "execute_result"
    }
   ],
   "source": [
    "z = np.arange(1,6)\n",
    "np.power(z,3)\n"
   ]
  },
  {
   "cell_type": "code",
   "execution_count": null,
   "id": "d36e40ab-814c-46c1-8198-1f47b5fc4b48",
   "metadata": {},
   "outputs": [
    {
     "data": {
      "text/plain": [
       "array([[ 87,  96,  70],\n",
       "       [100,  87,  90],\n",
       "       [ 94,  77,  90],\n",
       "       [100,  81,  82]])"
      ]
     },
     "execution_count": 13,
     "metadata": {},
     "output_type": "execute_result"
    }
   ],
   "source": [
    "#Indexing and Slicing in Numpy arrays\n",
    "\n",
    "grades = np.array([[87,96,70],[100,87,90],[94,77,90],[100,81,82]])\n",
    "grades"
   ]
  },
  {
   "cell_type": "code",
   "execution_count": null,
   "id": "9ed79fa6-4041-4396-a4c9-acf814564122",
   "metadata": {},
   "outputs": [],
   "source": [
    "grades[3,2] #acessing array elements by  index"
   ]
  },
  {
   "cell_type": "code",
   "execution_count": null,
   "id": "fb8d7af8-ef6f-4eb2-b42c-2ecaffcb23c6",
   "metadata": {},
   "outputs": [],
   "source": [
    "grades[1]"
   ]
  },
  {
   "cell_type": "code",
   "execution_count": null,
   "id": "474355fa-1998-4d33-987f-479d2f2f74fe",
   "metadata": {},
   "outputs": [],
   "source": [
    "grades[0]"
   ]
  },
  {
   "cell_type": "code",
   "execution_count": null,
   "id": "453ce48b-91c8-406b-9090-40677da48c7d",
   "metadata": {},
   "outputs": [],
   "source": [
    "grades[3]"
   ]
  },
  {
   "cell_type": "code",
   "execution_count": null,
   "id": "cc7c8d82-e09c-4d0b-8936-5071d4d5df34",
   "metadata": {},
   "outputs": [],
   "source": [
    "grades[0:2]"
   ]
  },
  {
   "cell_type": "code",
   "execution_count": null,
   "id": "85e48d5f-83ce-46e4-bef5-79e4e62b84c4",
   "metadata": {},
   "outputs": [],
   "source": [
    "grades[[1,2]]"
   ]
  },
  {
   "cell_type": "code",
   "execution_count": null,
   "id": "a791cb06-a968-4c81-8788-267e692f9a16",
   "metadata": {},
   "outputs": [],
   "source": [
    "grades[[0,3]]"
   ]
  },
  {
   "cell_type": "code",
   "execution_count": null,
   "id": "749ce4b2-2d71-4112-8e7f-53d4c107d2d1",
   "metadata": {},
   "outputs": [],
   "source": [
    "grades[:,0] #all rows but just column 0"
   ]
  },
  {
   "cell_type": "code",
   "execution_count": null,
   "id": "1d1e965a-b747-4131-9aa8-b8be2458bea0",
   "metadata": {},
   "outputs": [],
   "source": [
    "grades[:,2]"
   ]
  },
  {
   "cell_type": "code",
   "execution_count": null,
   "id": "536e74c2-5b8e-49cf-9c64-01ef5d0dfeea",
   "metadata": {},
   "outputs": [],
   "source": [
    "grades[:,1:3] #slicing through columns"
   ]
  },
  {
   "cell_type": "code",
   "execution_count": null,
   "id": "51e28db9-de91-43b8-8247-be3f5802036f",
   "metadata": {},
   "outputs": [],
   "source": [
    "grades[:,0:3]"
   ]
  },
  {
   "cell_type": "code",
   "execution_count": null,
   "id": "0eb2958c-72dd-452f-a5d5-c2cae21fefb9",
   "metadata": {},
   "outputs": [],
   "source": [
    "grades[:,[0,2]]"
   ]
  },
  {
   "cell_type": "code",
   "execution_count": null,
   "id": "3bd0013c-ca3e-464d-adab-f5ab74355497",
   "metadata": {},
   "outputs": [],
   "source": [
    "grades[:,[0,1]]"
   ]
  },
  {
   "cell_type": "code",
   "execution_count": null,
   "id": "dedd4fef-a959-48e7-abb1-4aac204aa101",
   "metadata": {},
   "outputs": [],
   "source": [
    "z = np.arange(1,16).reshape(3,5)\n",
    "z"
   ]
  },
  {
   "cell_type": "code",
   "execution_count": null,
   "id": "5bd308a0-34ca-4b82-9aa9-bee3e773a5d1",
   "metadata": {},
   "outputs": [],
   "source": [
    "z[1] #with a single bracket you specify which ROW you're selecting"
   ]
  },
  {
   "cell_type": "code",
   "execution_count": null,
   "id": "56c696fa-5567-406f-9d20-5860a43ce9e8",
   "metadata": {},
   "outputs": [],
   "source": [
    "z[[0,2]] #with two brackets you can select multiple rows"
   ]
  },
  {
   "cell_type": "code",
   "execution_count": null,
   "id": "696392af-023b-4a5e-8cb1-dfcc894b08ab",
   "metadata": {},
   "outputs": [],
   "source": [
    "z[:,[2]]"
   ]
  },
  {
   "cell_type": "code",
   "execution_count": null,
   "id": "e25cfa8b-6bc1-46e4-8525-e1f746393bd6",
   "metadata": {},
   "outputs": [],
   "source": []
  },
  {
   "cell_type": "code",
   "execution_count": null,
   "id": "2aebfb3f-2089-47fe-aaa3-a4f4e5dac3fe",
   "metadata": {},
   "outputs": [],
   "source": [
    "z[1]"
   ]
  },
  {
   "cell_type": "code",
   "execution_count": null,
   "id": "0c1757df-cc6d-49c1-aee2-db20f23dd7d6",
   "metadata": {},
   "outputs": [],
   "source": [
    "z[0,0]#acessing each individual element"
   ]
  },
  {
   "cell_type": "code",
   "execution_count": null,
   "id": "779692a7-3026-4290-bb1d-8b316550d6c9",
   "metadata": {},
   "outputs": [],
   "source": [
    "z[0,4]"
   ]
  },
  {
   "cell_type": "code",
   "execution_count": null,
   "id": "06b3c82f-3cbc-465d-b747-c91a5e562e6c",
   "metadata": {},
   "outputs": [],
   "source": [
    "z[1,4]"
   ]
  },
  {
   "cell_type": "code",
   "execution_count": null,
   "id": "981ad78f-68b8-47d0-a22f-febdc6ebc10b",
   "metadata": {},
   "outputs": [],
   "source": [
    "z[2,4]"
   ]
  },
  {
   "cell_type": "code",
   "execution_count": null,
   "id": "bead530f-1361-46df-9229-d13365999109",
   "metadata": {},
   "outputs": [],
   "source": [
    "z[0:,[4,3,2,1,0]]"
   ]
  },
  {
   "cell_type": "code",
   "execution_count": null,
   "id": "a6c07e15-464c-45ee-a86b-f4809e6aaf23",
   "metadata": {},
   "outputs": [],
   "source": [
    "z[1:3]"
   ]
  },
  {
   "cell_type": "code",
   "execution_count": null,
   "id": "a67979bc-e6ea-4c7e-a533-7d0cd5680dc7",
   "metadata": {},
   "outputs": [],
   "source": [
    "#Shallow copies\n",
    "\n",
    "nu = np.arange(1,6)\n",
    "nu2 = nu.view()"
   ]
  },
  {
   "cell_type": "code",
   "execution_count": null,
   "id": "61f74eb8-c334-439f-ba01-c45a570ef826",
   "metadata": {},
   "outputs": [],
   "source": [
    "id(nu)"
   ]
  },
  {
   "cell_type": "code",
   "execution_count": null,
   "id": "bb39a726-2e85-46c5-b707-d6e9774c3266",
   "metadata": {},
   "outputs": [],
   "source": [
    "id(nu2)"
   ]
  },
  {
   "cell_type": "code",
   "execution_count": null,
   "id": "7e1c27c7-5f8b-4983-8e5a-eec4faadb59d",
   "metadata": {},
   "outputs": [],
   "source": [
    "nu[1] *=10\n",
    "nu"
   ]
  },
  {
   "cell_type": "code",
   "execution_count": null,
   "id": "54ac7aa7-5f95-4690-9871-d50d23972519",
   "metadata": {},
   "outputs": [],
   "source": [
    "nu2 #its a view of same data as nu"
   ]
  },
  {
   "cell_type": "code",
   "execution_count": null,
   "id": "5e613c1c-8598-49f3-ab71-0181fd899d08",
   "metadata": {},
   "outputs": [
    {
     "ename": "NameError",
     "evalue": "name 'nu2' is not defined",
     "output_type": "error",
     "traceback": [
      "\u001b[1;31m---------------------------------------------------------------------------\u001b[0m",
      "\u001b[1;31mNameError\u001b[0m                                 Traceback (most recent call last)",
      "\u001b[1;32mc:\\Users\\thefa\\Estudos em Python\\Python.ipynb Cell 534'\u001b[0m in \u001b[0;36m<cell line: 1>\u001b[1;34m()\u001b[0m\n\u001b[1;32m----> <a href='vscode-notebook-cell:/c%3A/Users/thefa/Estudos%20em%20Python/Python.ipynb#ch0000533?line=0'>1</a>\u001b[0m nu2[\u001b[39m1\u001b[39m] \u001b[39m/\u001b[39m\u001b[39m=\u001b[39m \u001b[39m10\u001b[39m\n",
      "\u001b[1;31mNameError\u001b[0m: name 'nu2' is not defined"
     ]
    }
   ],
   "source": [
    "nu2[1] /= 10"
   ]
  },
  {
   "cell_type": "code",
   "execution_count": null,
   "id": "66d9b8bf-3091-435d-b8be-4a468fda9b80",
   "metadata": {},
   "outputs": [],
   "source": [
    "nu"
   ]
  },
  {
   "cell_type": "code",
   "execution_count": null,
   "id": "e80a454c-8da1-45d1-8c5b-d1b035ca1729",
   "metadata": {},
   "outputs": [
    {
     "ename": "NameError",
     "evalue": "name 'nu2' is not defined",
     "output_type": "error",
     "traceback": [
      "\u001b[1;31m---------------------------------------------------------------------------\u001b[0m",
      "\u001b[1;31mNameError\u001b[0m                                 Traceback (most recent call last)",
      "\u001b[1;32mc:\\Users\\thefa\\Estudos em Python\\Python.ipynb Cell 536'\u001b[0m in \u001b[0;36m<cell line: 1>\u001b[1;34m()\u001b[0m\n\u001b[1;32m----> <a href='vscode-notebook-cell:/c%3A/Users/thefa/Estudos%20em%20Python/Python.ipynb#ch0000535?line=0'>1</a>\u001b[0m nu2\n",
      "\u001b[1;31mNameError\u001b[0m: name 'nu2' is not defined"
     ]
    }
   ],
   "source": [
    "nu2"
   ]
  },
  {
   "cell_type": "code",
   "execution_count": null,
   "id": "50995a72-a050-488d-b7bb-c7bb14b92eff",
   "metadata": {},
   "outputs": [],
   "source": [
    "nu2 = nu[0:3]\n",
    "nu2"
   ]
  },
  {
   "cell_type": "code",
   "execution_count": null,
   "id": "5efd5900-7770-4d02-a5e8-33089a3fcc9b",
   "metadata": {},
   "outputs": [],
   "source": [
    "id(nu)"
   ]
  },
  {
   "cell_type": "code",
   "execution_count": null,
   "id": "93d098a7-34f9-48e4-a0ea-1817a4c4f370",
   "metadata": {},
   "outputs": [],
   "source": [
    "id(nu2)"
   ]
  },
  {
   "cell_type": "code",
   "execution_count": null,
   "id": "3861bc3b-06fa-45f2-8e5e-4d337474f7c8",
   "metadata": {},
   "outputs": [],
   "source": [
    "nu2[3]"
   ]
  },
  {
   "cell_type": "code",
   "execution_count": null,
   "id": "99367973-7a04-4ec6-89f3-b2a1c2308113",
   "metadata": {
    "tags": []
   },
   "outputs": [],
   "source": [
    "nu[3]"
   ]
  },
  {
   "cell_type": "code",
   "execution_count": null,
   "id": "5de0c5f2-1be0-4ff8-915f-525468f8cd27",
   "metadata": {},
   "outputs": [],
   "source": [
    "nu[1] *= 20\n",
    "nu"
   ]
  },
  {
   "cell_type": "code",
   "execution_count": null,
   "id": "819b6e84-6988-421d-9756-d519989496f8",
   "metadata": {},
   "outputs": [],
   "source": [
    "nu2"
   ]
  },
  {
   "cell_type": "code",
   "execution_count": null,
   "id": "01a56c3f-a7cf-4cda-b2c8-50e2cec461a8",
   "metadata": {},
   "outputs": [],
   "source": [
    "nu = np.arange(1,6)\n",
    "nu2 = nu.copy() #HARD COPY"
   ]
  },
  {
   "cell_type": "code",
   "execution_count": null,
   "id": "42ddc3cd-2ca5-45d1-af76-1fa3ed897cc0",
   "metadata": {},
   "outputs": [],
   "source": [
    "nu[1] *= 10\n",
    "nu"
   ]
  },
  {
   "cell_type": "code",
   "execution_count": null,
   "id": "f55206ef-9467-43fc-a5cb-ecbfd75f9441",
   "metadata": {},
   "outputs": [],
   "source": [
    "nu2"
   ]
  },
  {
   "cell_type": "code",
   "execution_count": null,
   "id": "381b9808-917b-46e7-9603-c56adccf65ff",
   "metadata": {},
   "outputs": [
    {
     "data": {
      "text/plain": [
       "array([[ 87,  96,  70],\n",
       "       [100,  87,  90]])"
      ]
     },
     "execution_count": 11,
     "metadata": {},
     "output_type": "execute_result"
    }
   ],
   "source": [
    "#Reshaping and transposing arrays\n",
    "\n",
    "#\"\".reshape()\"\" #primeiro valor = numero de linhas, segundo valor = numero de colunas\n",
    "\n",
    "grades = np.array([[87,96,70],[100,87,90]])\n",
    "grades"
   ]
  },
  {
   "cell_type": "code",
   "execution_count": null,
   "id": "50fd6259-07f6-4e79-b85e-80e96dd63aa6",
   "metadata": {},
   "outputs": [
    {
     "data": {
      "text/plain": [
       "array([[ 87,  96,  70, 100,  87,  90]])"
      ]
     },
     "execution_count": 12,
     "metadata": {},
     "output_type": "execute_result"
    }
   ],
   "source": [
    "grades.reshape(1,6)"
   ]
  },
  {
   "cell_type": "code",
   "execution_count": null,
   "id": "cb68776a-c820-4618-8755-83aa6fda3a1c",
   "metadata": {},
   "outputs": [],
   "source": [
    "grades.resize(1,6) #phisycally changes the size of the array"
   ]
  },
  {
   "cell_type": "code",
   "execution_count": null,
   "id": "71122a2d-5728-4662-aa7b-943524067708",
   "metadata": {},
   "outputs": [
    {
     "data": {
      "text/plain": [
       "array([[ 87,  96,  70, 100,  87,  90]])"
      ]
     },
     "execution_count": 14,
     "metadata": {},
     "output_type": "execute_result"
    }
   ],
   "source": [
    "grades"
   ]
  },
  {
   "cell_type": "code",
   "execution_count": null,
   "id": "8f0e0eb4-1728-430f-b40d-808af7623fe5",
   "metadata": {},
   "outputs": [],
   "source": [
    "#Flat and ravel methods\n",
    "\n",
    "flat deep copy\n",
    "ravel shallow copy"
   ]
  },
  {
   "cell_type": "code",
   "execution_count": null,
   "id": "b074a2de-cde3-415d-bfc2-e98896f5fd22",
   "metadata": {},
   "outputs": [],
   "source": [
    "grades"
   ]
  },
  {
   "cell_type": "code",
   "execution_count": null,
   "id": "640b547c-d790-472a-a805-8a1506f81454",
   "metadata": {},
   "outputs": [],
   "source": [
    "flat = grades.flatten() #makes a deep copy and takes the two dimensinal array and makes it as single dimensional array\n",
    "flat"
   ]
  },
  {
   "cell_type": "code",
   "execution_count": null,
   "id": "abc7c84b-09de-49a3-881c-106383c43821",
   "metadata": {},
   "outputs": [],
   "source": [
    "flat[0] = 100\n",
    "flat"
   ]
  },
  {
   "cell_type": "code",
   "execution_count": null,
   "id": "dd5c2deb-9e28-47ab-b73e-34a91ef22b8f",
   "metadata": {},
   "outputs": [],
   "source": [
    "grades"
   ]
  },
  {
   "cell_type": "code",
   "execution_count": null,
   "id": "e4c96ef6-8c1b-4275-b951-2fb9ca1ef109",
   "metadata": {},
   "outputs": [
    {
     "data": {
      "text/plain": [
       "array([ 87,  96,  70, 100,  87,  90])"
      ]
     },
     "execution_count": 15,
     "metadata": {},
     "output_type": "execute_result"
    }
   ],
   "source": [
    "raveled = grades.ravel() #views actual data from grades\n",
    "raveled"
   ]
  },
  {
   "cell_type": "code",
   "execution_count": null,
   "id": "999477e8-982f-4bda-bcd8-b4cdc2acfe5d",
   "metadata": {},
   "outputs": [],
   "source": [
    "grades"
   ]
  },
  {
   "cell_type": "code",
   "execution_count": null,
   "id": "b42418c6-2153-4947-994f-9185b93afe35",
   "metadata": {},
   "outputs": [],
   "source": [
    "raveled[0]=100\n",
    "raveled"
   ]
  },
  {
   "cell_type": "code",
   "execution_count": null,
   "id": "f78653f3-b985-4ebb-aaa8-1539bc931814",
   "metadata": {},
   "outputs": [],
   "source": [
    "grades"
   ]
  },
  {
   "cell_type": "code",
   "execution_count": null,
   "id": "4c2e32e7-8e97-4b82-a9f3-41e7e9b4a1c4",
   "metadata": {},
   "outputs": [],
   "source": [
    "#Transposing\n",
    "\n",
    "grades.T"
   ]
  },
  {
   "cell_type": "code",
   "execution_count": null,
   "id": "6e6a0b91-6063-4cd0-81aa-eadafe3754d4",
   "metadata": {},
   "outputs": [
    {
     "ename": "NameError",
     "evalue": "name 'np' is not defined",
     "output_type": "error",
     "traceback": [
      "\u001b[1;31m---------------------------------------------------------------------------\u001b[0m",
      "\u001b[1;31mNameError\u001b[0m                                 Traceback (most recent call last)",
      "\u001b[1;32mc:\\Users\\thefa\\Estudos em Python\\Python.ipynb Cell 561'\u001b[0m in \u001b[0;36m<cell line: 1>\u001b[1;34m()\u001b[0m\n\u001b[1;32m----> <a href='vscode-notebook-cell:/c%3A/Users/thefa/Estudos%20em%20Python/Python.ipynb#ch0000560?line=0'>1</a>\u001b[0m grades2 \u001b[39m=\u001b[39m np\u001b[39m.\u001b[39marray([[\u001b[39m94\u001b[39m,\u001b[39m77\u001b[39m,\u001b[39m90\u001b[39m],[\u001b[39m100\u001b[39m,\u001b[39m81\u001b[39m,\u001b[39m82\u001b[39m]])\n\u001b[0;32m      <a href='vscode-notebook-cell:/c%3A/Users/thefa/Estudos%20em%20Python/Python.ipynb#ch0000560?line=1'>2</a>\u001b[0m grades2\n",
      "\u001b[1;31mNameError\u001b[0m: name 'np' is not defined"
     ]
    }
   ],
   "source": [
    "grades2 = np.array([[94,77,90],[100,81,82]])\n",
    "grades2"
   ]
  },
  {
   "cell_type": "code",
   "execution_count": null,
   "id": "dae20cde-5f1f-4ca5-9893-c3e57dcd42b3",
   "metadata": {},
   "outputs": [],
   "source": [
    "np.hstack((grades,grades2)) #horizontally stacking"
   ]
  },
  {
   "cell_type": "code",
   "execution_count": null,
   "id": "ebe06f5d-0cea-4b6e-9a45-e29343c347a0",
   "metadata": {},
   "outputs": [],
   "source": [
    "np.vstack((grades,grades2))"
   ]
  },
  {
   "cell_type": "code",
   "execution_count": null,
   "id": "3dae193c-9387-437b-9e7e-a7e9efc68caf",
   "metadata": {},
   "outputs": [],
   "source": [
    "import numpy as np\n",
    "z = np.arange(1,7).reshape(2,3)\n",
    "z"
   ]
  },
  {
   "cell_type": "code",
   "execution_count": null,
   "id": "01aebed2-8e83-4f02-bc9a-26efdb970426",
   "metadata": {},
   "outputs": [],
   "source": [
    "z = np.hstack((z,z))\n",
    "z = np.vstack((z,z))\n",
    "z"
   ]
  },
  {
   "cell_type": "code",
   "execution_count": null,
   "id": "a0c53812-54ae-4fad-a2bc-8ba0f74b39b6",
   "metadata": {},
   "outputs": [],
   "source": [
    "#strings\n",
    ".capitalize()\n",
    ".lower()\n",
    ".upper()\n",
    ".swapcase()\n",
    ".title()\n",
    "\n",
    "len\n",
    ".count()\n",
    ".index()\n",
    ".find()\n",
    ".startswith()\n",
    ".endswith()\n",
    "\n",
    "content type\n",
    ".isalpha()\n",
    ".isalnum()\n",
    ".islower()\n",
    ".isupper()\n",
    ".istitle()\n",
    "\n",
    "F-strings were introduced in Python 3.6. They are prefixed either by a f or F before the beginning quotation mark. It uses {} to denote values\n",
    "\n",
    "flags\n",
    "!s #str\n",
    "!r #repr\n",
    "!a #ascii\n",
    "\n",
    "Removing whitespaces\n",
    ".strip()\n",
    ".lstrip()\n",
    ".rstrip()\n",
    "\n",
    "paddgin\n",
    ".center()\n",
    ".ljust()\n",
    ".rjust()\n",
    ".zfill()\n",
    "\n",
    "replace\n",
    ".replace()\n",
    ".split()\n",
    ".join()\n",
    ".splitline()\n",
    "\n",
    "Python 3 uses Unicode UTF-8 by default\n"
   ]
  },
  {
   "cell_type": "markdown",
   "id": "0ac6d069",
   "metadata": {},
   "source": [
    "Formatting Strings--String Presentation Types\n",
    "https://docs.python.org/3/library/string.html"
   ]
  },
  {
   "cell_type": "code",
   "execution_count": null,
   "id": "e6448083",
   "metadata": {},
   "outputs": [],
   "source": [
    "f'{13.845:.2f}'"
   ]
  },
  {
   "cell_type": "code",
   "execution_count": null,
   "id": "5ebac7aa",
   "metadata": {},
   "outputs": [],
   "source": [
    "f'{10:d}'"
   ]
  },
  {
   "cell_type": "code",
   "execution_count": null,
   "id": "2441497e",
   "metadata": {},
   "outputs": [],
   "source": [
    "f'{\"hello\"}'"
   ]
  },
  {
   "cell_type": "code",
   "execution_count": null,
   "id": "6603597b",
   "metadata": {},
   "outputs": [],
   "source": [
    "f'{65:c}{97:c}' #c means character"
   ]
  },
  {
   "cell_type": "code",
   "execution_count": null,
   "id": "3ed69fd8",
   "metadata": {},
   "outputs": [],
   "source": [
    "f'{\"hello\":s}{7}' #s means string"
   ]
  },
  {
   "cell_type": "code",
   "execution_count": null,
   "id": "403ae288",
   "metadata": {},
   "outputs": [],
   "source": [
    "from decimal import Decimal as dec\n",
    "f'{dec(\"12341654564654563453645346537857867.0\")}'"
   ]
  },
  {
   "cell_type": "code",
   "execution_count": null,
   "id": "9c4c7437",
   "metadata": {},
   "outputs": [],
   "source": [
    "f'{dec(\"12341654564654563453645346537857867.0\"):.3f}'"
   ]
  },
  {
   "cell_type": "code",
   "execution_count": null,
   "id": "78737fcb",
   "metadata": {},
   "outputs": [],
   "source": [
    "f'{dec(\"12341654564654563453645346537857867.0\"):.3e}'"
   ]
  },
  {
   "cell_type": "code",
   "execution_count": null,
   "id": "d1b0e142",
   "metadata": {},
   "outputs": [],
   "source": [
    "f'{dec(\"12341654564654563453645346537857867.0\"):.3E}'"
   ]
  },
  {
   "cell_type": "code",
   "execution_count": null,
   "id": "b3fbee68",
   "metadata": {},
   "outputs": [],
   "source": [
    "f'{58:c}{45:c}{41:c}'"
   ]
  },
  {
   "cell_type": "markdown",
   "id": "9882fc7d",
   "metadata": {},
   "source": [
    "Formatting Strings--String Presentation Types"
   ]
  },
  {
   "cell_type": "code",
   "execution_count": null,
   "id": "e92b78d4",
   "metadata": {},
   "outputs": [],
   "source": [
    "f'[{27:10d}]' # d stands for decimal and adds whitespaces"
   ]
  },
  {
   "cell_type": "code",
   "execution_count": null,
   "id": "33c5c45a",
   "metadata": {},
   "outputs": [],
   "source": [
    "f'[{2.7:10f}]' # f for floats"
   ]
  },
  {
   "cell_type": "code",
   "execution_count": null,
   "id": "d9f1c284",
   "metadata": {},
   "outputs": [],
   "source": [
    "f'{\"hello\":10}'"
   ]
  },
  {
   "cell_type": "code",
   "execution_count": null,
   "id": "7d3b02e8",
   "metadata": {},
   "outputs": [],
   "source": [
    "f'[{27:<10d}]'"
   ]
  },
  {
   "cell_type": "code",
   "execution_count": null,
   "id": "9d382e97",
   "metadata": {},
   "outputs": [],
   "source": [
    "f'[{27:>10d}]'"
   ]
  },
  {
   "cell_type": "code",
   "execution_count": null,
   "id": "7a33a62f",
   "metadata": {},
   "outputs": [],
   "source": [
    "f'[{2.7:<10f}]'"
   ]
  },
  {
   "cell_type": "code",
   "execution_count": null,
   "id": "a1b8e093",
   "metadata": {},
   "outputs": [],
   "source": [
    "f'[{\"hello\":>10}]'"
   ]
  },
  {
   "cell_type": "code",
   "execution_count": null,
   "id": "118a9ba5",
   "metadata": {},
   "outputs": [],
   "source": [
    "f'[{27:^10d}]'"
   ]
  },
  {
   "cell_type": "code",
   "execution_count": null,
   "id": "9f40ad7d",
   "metadata": {},
   "outputs": [],
   "source": [
    "f'[{27.3:^10f}]'"
   ]
  },
  {
   "cell_type": "code",
   "execution_count": null,
   "id": "0648297d",
   "metadata": {},
   "outputs": [],
   "source": [
    "f'[{\"Amanda\":>10}]'"
   ]
  },
  {
   "cell_type": "code",
   "execution_count": null,
   "id": "c2619049",
   "metadata": {},
   "outputs": [],
   "source": [
    "f'[{\"Amanda\":^10}]'"
   ]
  },
  {
   "cell_type": "code",
   "execution_count": null,
   "id": "73453577",
   "metadata": {},
   "outputs": [],
   "source": [
    "f'[{\"Amanda\":<10}]'"
   ]
  },
  {
   "cell_type": "code",
   "execution_count": null,
   "id": "1009bc4b",
   "metadata": {},
   "outputs": [],
   "source": [
    "f'[{\"Amanda\":^10}]'"
   ]
  },
  {
   "cell_type": "code",
   "execution_count": null,
   "id": "b15eb841",
   "metadata": {},
   "outputs": [],
   "source": [
    "f'[{\"Amanda\":>10}]'"
   ]
  },
  {
   "cell_type": "code",
   "execution_count": null,
   "id": "6a9b4288",
   "metadata": {},
   "outputs": [],
   "source": [
    "print(f'[{\"Trombeta\":>20}]\\n[{\"Trombeta\":^20}]\\n[{\"Trombeta\":<20}]\\n[{\"Trombeta\":^20}]\\n[{\"Trombeta\":>20}]')"
   ]
  },
  {
   "cell_type": "markdown",
   "id": "528fe2a6",
   "metadata": {},
   "source": [
    "Formatting Strings--Numeric Formatting\n"
   ]
  },
  {
   "cell_type": "code",
   "execution_count": null,
   "id": "34a83871",
   "metadata": {},
   "outputs": [
    {
     "data": {
      "text/plain": [
       "'[       +27]'"
      ]
     },
     "execution_count": 2,
     "metadata": {},
     "output_type": "execute_result"
    }
   ],
   "source": [
    "f'[{27:+10d}]'"
   ]
  },
  {
   "cell_type": "code",
   "execution_count": null,
   "id": "be091f89",
   "metadata": {},
   "outputs": [
    {
     "data": {
      "text/plain": [
       "'[+000000027]'"
      ]
     },
     "execution_count": 3,
     "metadata": {},
     "output_type": "execute_result"
    }
   ],
   "source": [
    "f'[{27:+010d}]' #+flag"
   ]
  },
  {
   "cell_type": "code",
   "execution_count": null,
   "id": "28345361",
   "metadata": {},
   "outputs": [
    {
     "name": "stdout",
     "output_type": "stream",
     "text": [
      "27\n",
      " 27\n",
      "-27\n"
     ]
    }
   ],
   "source": [
    "print(f'{27:d}\\n{27: d}\\n{-27: d}')"
   ]
  },
  {
   "cell_type": "code",
   "execution_count": null,
   "id": "5fb9692c",
   "metadata": {},
   "outputs": [
    {
     "data": {
      "text/plain": [
       "'123,456,789'"
      ]
     },
     "execution_count": 8,
     "metadata": {},
     "output_type": "execute_result"
    }
   ],
   "source": [
    "f'{123456789:,d}' #, groups together"
   ]
  },
  {
   "cell_type": "code",
   "execution_count": null,
   "id": "80a4d6f4",
   "metadata": {},
   "outputs": [
    {
     "data": {
      "text/plain": [
       "'123,456,789.000000'"
      ]
     },
     "execution_count": 9,
     "metadata": {},
     "output_type": "execute_result"
    }
   ],
   "source": [
    "f'{123456789:,f}'"
   ]
  },
  {
   "cell_type": "code",
   "execution_count": null,
   "id": "17ff3b31",
   "metadata": {},
   "outputs": [
    {
     "name": "stdout",
     "output_type": "stream",
     "text": [
      "+10,240.47\n",
      " -3,210.95\n"
     ]
    }
   ],
   "source": [
    "print(f'{10240.473:+10,.2f}\\n{-3210.9521:+10,.2f}')"
   ]
  },
  {
   "cell_type": "code",
   "execution_count": null,
   "id": "6a7c6c4a",
   "metadata": {},
   "outputs": [
    {
     "data": {
      "text/plain": [
       "'17.50'"
      ]
     },
     "execution_count": 12,
     "metadata": {},
     "output_type": "execute_result"
    }
   ],
   "source": [
    "'{:.2f}'.format(17.500) #python 3.6 old string format"
   ]
  },
  {
   "cell_type": "code",
   "execution_count": null,
   "id": "80bb3317",
   "metadata": {},
   "outputs": [
    {
     "data": {
      "text/plain": [
       "'Tromba Trombetinka'"
      ]
     },
     "execution_count": 16,
     "metadata": {},
     "output_type": "execute_result"
    }
   ],
   "source": [
    "'{} {}'.format('Tromba','Trombetinka')"
   ]
  },
  {
   "cell_type": "code",
   "execution_count": null,
   "id": "5d4315fa",
   "metadata": {},
   "outputs": [
    {
     "data": {
      "text/plain": [
       "'Happy Happy Birthday'"
      ]
     },
     "execution_count": 18,
     "metadata": {},
     "output_type": "execute_result"
    }
   ],
   "source": [
    "'{0} {0} {1}'.format('Happy','Birthday')"
   ]
  },
  {
   "cell_type": "code",
   "execution_count": null,
   "id": "e8689d69",
   "metadata": {},
   "outputs": [
    {
     "data": {
      "text/plain": [
       "'Amanda Gray'"
      ]
     },
     "execution_count": 19,
     "metadata": {},
     "output_type": "execute_result"
    }
   ],
   "source": [
    "'{first} {last}'.format(first='Amanda',last='Gray')"
   ]
  },
  {
   "cell_type": "code",
   "execution_count": null,
   "id": "ba4cd744",
   "metadata": {},
   "outputs": [
    {
     "name": "stdout",
     "output_type": "stream",
     "text": [
      ":-)\n"
     ]
    }
   ],
   "source": [
    "print('{:c}{:c}{:c}'.format(58,45,41))"
   ]
  },
  {
   "cell_type": "code",
   "execution_count": null,
   "id": "ae412950",
   "metadata": {},
   "outputs": [
    {
     "name": "stdout",
     "output_type": "stream",
     "text": [
      "[    Amanda]\n",
      "[  Amanda  ]\n",
      "[Amanda    ]\n"
     ]
    }
   ],
   "source": [
    "print('[{0:>10}]\\n[{0:^10}]\\n[{0:<10}]'.format('Amanda'))"
   ]
  },
  {
   "cell_type": "code",
   "execution_count": null,
   "id": "910a1b6e",
   "metadata": {},
   "outputs": [
    {
     "name": "stdout",
     "output_type": "stream",
     "text": [
      "+10,240.47\n",
      " -3,210.95\n"
     ]
    }
   ],
   "source": [
    "print('{:+10,.2f}\\n{:+10,.2f}'.format(10240.473,-3210.9521))"
   ]
  },
  {
   "cell_type": "markdown",
   "id": "5cdf01ad",
   "metadata": {},
   "source": [
    "Concatenating and Repeating Strings\n"
   ]
  },
  {
   "cell_type": "code",
   "execution_count": null,
   "id": "5e6a3756",
   "metadata": {},
   "outputs": [],
   "source": [
    "s1,s2 = ('Happy'),('Birthday')"
   ]
  },
  {
   "cell_type": "code",
   "execution_count": null,
   "id": "39340253",
   "metadata": {},
   "outputs": [
    {
     "data": {
      "text/plain": [
       "'Happy Birthday'"
      ]
     },
     "execution_count": 33,
     "metadata": {},
     "output_type": "execute_result"
    }
   ],
   "source": [
    "s1 += ' ' + s2\n",
    "s1"
   ]
  },
  {
   "cell_type": "code",
   "execution_count": null,
   "id": "93df523b",
   "metadata": {},
   "outputs": [
    {
     "data": {
      "text/plain": [
       "'>>>>>'"
      ]
     },
     "execution_count": 34,
     "metadata": {},
     "output_type": "execute_result"
    }
   ],
   "source": [
    "symbol = '>'\n",
    "symbol *= 5\n",
    "symbol"
   ]
  },
  {
   "cell_type": "code",
   "execution_count": null,
   "id": "2c631bf9",
   "metadata": {},
   "outputs": [
    {
     "name": "stdout",
     "output_type": "stream",
     "text": [
      "**************\n",
      "Cesar Trombeta\n",
      "**************\n"
     ]
    }
   ],
   "source": [
    "nome = 'Cesar'\n",
    "nome += ' Trombeta'\n",
    "ast = '*'\n",
    "ast *=len(nome)\n",
    "print(f'{ast}\\n{nome}\\n{ast}')"
   ]
  },
  {
   "cell_type": "markdown",
   "id": "57117f40",
   "metadata": {},
   "source": [
    "Stripping Whitespace from Strings\n"
   ]
  },
  {
   "cell_type": "code",
   "execution_count": null,
   "id": "8315253f",
   "metadata": {},
   "outputs": [
    {
     "data": {
      "text/plain": [
       "'This a test string.'"
      ]
     },
     "execution_count": 114,
     "metadata": {},
     "output_type": "execute_result"
    }
   ],
   "source": [
    "sentence = '\\t \\n  This a test string. \\t\\t \\n'\n",
    "sentence.strip()"
   ]
  },
  {
   "cell_type": "code",
   "execution_count": null,
   "id": "e96ac66f",
   "metadata": {},
   "outputs": [
    {
     "data": {
      "text/plain": [
       "'Margo Magenta'"
      ]
     },
     "execution_count": 115,
     "metadata": {},
     "output_type": "execute_result"
    }
   ],
   "source": [
    "name = '             Margo Magenta        '\n",
    "name.strip()"
   ]
  },
  {
   "cell_type": "code",
   "execution_count": null,
   "id": "4878c9b4",
   "metadata": {},
   "outputs": [
    {
     "data": {
      "text/plain": [
       "'             Margo Magenta'"
      ]
     },
     "execution_count": 116,
     "metadata": {},
     "output_type": "execute_result"
    }
   ],
   "source": [
    "name.rstrip()"
   ]
  },
  {
   "cell_type": "code",
   "execution_count": null,
   "id": "3a51bed3",
   "metadata": {},
   "outputs": [
    {
     "data": {
      "text/plain": [
       "'Margo Magenta        '"
      ]
     },
     "execution_count": 117,
     "metadata": {},
     "output_type": "execute_result"
    }
   ],
   "source": [
    "name.lstrip()"
   ]
  },
  {
   "cell_type": "markdown",
   "id": "c28830d3",
   "metadata": {},
   "source": [
    "Changing Character Case\n"
   ]
  },
  {
   "cell_type": "code",
   "execution_count": null,
   "id": "8f012ec6",
   "metadata": {},
   "outputs": [
    {
     "data": {
      "text/plain": [
       "'Trombeta cesar'"
      ]
     },
     "execution_count": 118,
     "metadata": {},
     "output_type": "execute_result"
    }
   ],
   "source": [
    "'trombeta cesar'.capitalize()"
   ]
  },
  {
   "cell_type": "code",
   "execution_count": null,
   "id": "8e04a49f",
   "metadata": {},
   "outputs": [
    {
     "data": {
      "text/plain": [
       "'Trombeta Cesar'"
      ]
     },
     "execution_count": 119,
     "metadata": {},
     "output_type": "execute_result"
    }
   ],
   "source": [
    "'trombeta cesar'.title()"
   ]
  },
  {
   "cell_type": "code",
   "execution_count": null,
   "id": "d56452f7",
   "metadata": {},
   "outputs": [
    {
     "data": {
      "text/plain": [
       "'Happy new year'"
      ]
     },
     "execution_count": 122,
     "metadata": {},
     "output_type": "execute_result"
    }
   ],
   "source": [
    "s = 'happy new year'.capitalize()\n",
    "s"
   ]
  },
  {
   "cell_type": "code",
   "execution_count": null,
   "id": "f5024a03",
   "metadata": {},
   "outputs": [
    {
     "data": {
      "text/plain": [
       "'Happy New Year'"
      ]
     },
     "execution_count": 123,
     "metadata": {},
     "output_type": "execute_result"
    }
   ],
   "source": [
    "s.title()"
   ]
  },
  {
   "cell_type": "markdown",
   "id": "d6b96d82",
   "metadata": {},
   "source": [
    "Comparison Operators for Strings\n"
   ]
  },
  {
   "cell_type": "code",
   "execution_count": null,
   "id": "ae63a946",
   "metadata": {},
   "outputs": [
    {
     "name": "stdout",
     "output_type": "stream",
     "text": [
      "A: 65;a:97\n"
     ]
    }
   ],
   "source": [
    "print(f'A: {ord(\"A\")};a:{ord(\"a\")}')"
   ]
  },
  {
   "cell_type": "code",
   "execution_count": null,
   "id": "281cb538",
   "metadata": {},
   "outputs": [
    {
     "data": {
      "text/plain": [
       "False"
      ]
     },
     "execution_count": 126,
     "metadata": {},
     "output_type": "execute_result"
    }
   ],
   "source": [
    "'Orange' == 'orange'"
   ]
  },
  {
   "cell_type": "code",
   "execution_count": null,
   "id": "df0a892b",
   "metadata": {},
   "outputs": [
    {
     "data": {
      "text/plain": [
       "True"
      ]
     },
     "execution_count": 127,
     "metadata": {},
     "output_type": "execute_result"
    }
   ],
   "source": [
    "'Orange' < 'orange'"
   ]
  },
  {
   "cell_type": "code",
   "execution_count": null,
   "id": "9c743d52",
   "metadata": {},
   "outputs": [
    {
     "data": {
      "text/plain": [
       "False"
      ]
     },
     "execution_count": 128,
     "metadata": {},
     "output_type": "execute_result"
    }
   ],
   "source": [
    "'Orange' > 'orange'"
   ]
  },
  {
   "cell_type": "code",
   "execution_count": null,
   "id": "4c7d2d9e",
   "metadata": {},
   "outputs": [
    {
     "data": {
      "text/plain": [
       "True"
      ]
     },
     "execution_count": 129,
     "metadata": {},
     "output_type": "execute_result"
    }
   ],
   "source": [
    "'Orange' != 'orange'"
   ]
  },
  {
   "cell_type": "markdown",
   "id": "86d9b4c6",
   "metadata": {},
   "source": [
    "Searching for Substrings\n"
   ]
  },
  {
   "cell_type": "code",
   "execution_count": null,
   "id": "4299ed86",
   "metadata": {},
   "outputs": [
    {
     "data": {
      "text/plain": [
       "2"
      ]
     },
     "execution_count": 130,
     "metadata": {},
     "output_type": "execute_result"
    }
   ],
   "source": [
    "sentence = 'to be or not to be,that is the question'\n",
    "sentence.count('to')"
   ]
  },
  {
   "cell_type": "code",
   "execution_count": null,
   "id": "0351456e",
   "metadata": {},
   "outputs": [
    {
     "data": {
      "text/plain": [
       "1"
      ]
     },
     "execution_count": 131,
     "metadata": {},
     "output_type": "execute_result"
    }
   ],
   "source": [
    "sentence.count('to',12) #12 means index position"
   ]
  },
  {
   "cell_type": "code",
   "execution_count": null,
   "id": "fa04cabf",
   "metadata": {},
   "outputs": [],
   "source": [
    "sentence.count('to',1,25) #25 means index position but not including 25"
   ]
  },
  {
   "cell_type": "code",
   "execution_count": null,
   "id": "4ae038c3",
   "metadata": {},
   "outputs": [
    {
     "data": {
      "text/plain": [
       "3"
      ]
     },
     "execution_count": 132,
     "metadata": {},
     "output_type": "execute_result"
    }
   ],
   "source": [
    "sentence.index('be') #index 3 not how many"
   ]
  },
  {
   "cell_type": "code",
   "execution_count": null,
   "id": "298277fd",
   "metadata": {},
   "outputs": [
    {
     "data": {
      "text/plain": [
       "16"
      ]
     },
     "execution_count": 133,
     "metadata": {},
     "output_type": "execute_result"
    }
   ],
   "source": [
    "sentence.rindex('be') #backwards index search"
   ]
  },
  {
   "cell_type": "code",
   "execution_count": null,
   "id": "f6037d0b",
   "metadata": {},
   "outputs": [
    {
     "data": {
      "text/plain": [
       "3"
      ]
     },
     "execution_count": 134,
     "metadata": {},
     "output_type": "execute_result"
    }
   ],
   "source": [
    "sentence.find('be')"
   ]
  },
  {
   "cell_type": "code",
   "execution_count": null,
   "id": "a13ccb7e",
   "metadata": {},
   "outputs": [
    {
     "data": {
      "text/plain": [
       "True"
      ]
     },
     "execution_count": 135,
     "metadata": {},
     "output_type": "execute_result"
    }
   ],
   "source": [
    "'that' in sentence"
   ]
  },
  {
   "cell_type": "code",
   "execution_count": null,
   "id": "6e46cb42",
   "metadata": {},
   "outputs": [
    {
     "data": {
      "text/plain": [
       "False"
      ]
     },
     "execution_count": 136,
     "metadata": {},
     "output_type": "execute_result"
    }
   ],
   "source": [
    "'rola' in sentence"
   ]
  },
  {
   "cell_type": "code",
   "execution_count": null,
   "id": "19c4841a",
   "metadata": {},
   "outputs": [
    {
     "data": {
      "text/plain": [
       "True"
      ]
     },
     "execution_count": 137,
     "metadata": {},
     "output_type": "execute_result"
    }
   ],
   "source": [
    "'THAT' not in sentence"
   ]
  },
  {
   "cell_type": "code",
   "execution_count": null,
   "id": "433b9e14",
   "metadata": {},
   "outputs": [
    {
     "data": {
      "text/plain": [
       "True"
      ]
     },
     "execution_count": 138,
     "metadata": {},
     "output_type": "execute_result"
    }
   ],
   "source": [
    "sentence.startswith('to')"
   ]
  },
  {
   "cell_type": "code",
   "execution_count": null,
   "id": "33aff00d",
   "metadata": {},
   "outputs": [
    {
     "data": {
      "text/plain": [
       "False"
      ]
     },
     "execution_count": 139,
     "metadata": {},
     "output_type": "execute_result"
    }
   ],
   "source": [
    "sentence.startswith('be')"
   ]
  },
  {
   "cell_type": "code",
   "execution_count": null,
   "id": "de34b2f0",
   "metadata": {},
   "outputs": [
    {
     "ename": "NameError",
     "evalue": "name 'sentence' is not defined",
     "output_type": "error",
     "traceback": [
      "\u001b[1;31m---------------------------------------------------------------------------\u001b[0m",
      "\u001b[1;31mNameError\u001b[0m                                 Traceback (most recent call last)",
      "\u001b[1;32mc:\\Users\\thefa\\Estudos em Python\\Python.ipynb Cell 1'\u001b[0m in \u001b[0;36m<cell line: 1>\u001b[1;34m()\u001b[0m\n\u001b[1;32m----> <a href='vscode-notebook-cell:/c%3A/Users/thefa/Estudos%20em%20Python/Python.ipynb#ch0000000?line=0'>1</a>\u001b[0m sentence\u001b[39m.\u001b[39mendswith(\u001b[39m'\u001b[39m\u001b[39mbe\u001b[39m\u001b[39m'\u001b[39m)\n",
      "\u001b[1;31mNameError\u001b[0m: name 'sentence' is not defined"
     ]
    }
   ],
   "source": [
    "sentence.endswith('be')"
   ]
  },
  {
   "cell_type": "code",
   "execution_count": null,
   "id": "17f97c51",
   "metadata": {},
   "outputs": [
    {
     "data": {
      "text/plain": [
       "True"
      ]
     },
     "execution_count": 141,
     "metadata": {},
     "output_type": "execute_result"
    }
   ],
   "source": [
    "sentence.endswith('question')"
   ]
  },
  {
   "cell_type": "code",
   "execution_count": null,
   "id": "60d94b40",
   "metadata": {},
   "outputs": [],
   "source": [
    "sentence = 'to be or not to be,that is the question'\n"
   ]
  },
  {
   "cell_type": "code",
   "execution_count": null,
   "id": "a32b357c",
   "metadata": {},
   "outputs": [
    {
     "name": "stdout",
     "output_type": "stream",
     "text": [
      "to to the "
     ]
    }
   ],
   "source": [
    "for word in 'to be or not to be,that is the question'.split():\n",
    "    if word.startswith('t'):\n",
    "        print(word,end = ' ')"
   ]
  },
  {
   "cell_type": "markdown",
   "id": "a86016e1",
   "metadata": {},
   "source": [
    "## replacing substrings"
   ]
  },
  {
   "cell_type": "code",
   "execution_count": null,
   "id": "472c6655",
   "metadata": {},
   "outputs": [
    {
     "data": {
      "text/plain": [
       "'1,2,3,4,5'"
      ]
     },
     "execution_count": 5,
     "metadata": {},
     "output_type": "execute_result"
    }
   ],
   "source": [
    "values = '1\\t2\\t3\\t4\\t5'\n",
    "values.replace('\\t',',')"
   ]
  },
  {
   "cell_type": "code",
   "execution_count": null,
   "id": "41a43edd",
   "metadata": {},
   "outputs": [
    {
     "data": {
      "text/plain": [
       "'1 --> 2 --> 3 --> 4 --> 5'"
      ]
     },
     "execution_count": 7,
     "metadata": {},
     "output_type": "execute_result"
    }
   ],
   "source": [
    "values = '1 2 3 4 5'\n",
    "values.replace(' ',' --> ')\n"
   ]
  },
  {
   "cell_type": "markdown",
   "id": "ab80ca66",
   "metadata": {},
   "source": [
    "## Splitting and Joining Strings\n"
   ]
  },
  {
   "cell_type": "code",
   "execution_count": null,
   "id": "72e0fa51",
   "metadata": {},
   "outputs": [
    {
     "data": {
      "text/plain": [
       "['A', 'B', 'C', 'D']"
      ]
     },
     "execution_count": 10,
     "metadata": {},
     "output_type": "execute_result"
    }
   ],
   "source": [
    "letters = 'A, B, C, D'\n",
    "letters.split(', ')"
   ]
  },
  {
   "cell_type": "code",
   "execution_count": null,
   "id": "a8e8ccd3",
   "metadata": {},
   "outputs": [
    {
     "data": {
      "text/plain": [
       "['A', 'B', 'C, D']"
      ]
     },
     "execution_count": 11,
     "metadata": {},
     "output_type": "execute_result"
    }
   ],
   "source": [
    "letters.split(', ',2)"
   ]
  },
  {
   "cell_type": "code",
   "execution_count": null,
   "id": "dd5edb76",
   "metadata": {},
   "outputs": [
    {
     "data": {
      "text/plain": [
       "'porra nenhuma eu entendi ,dessa merda'"
      ]
     },
     "execution_count": 64,
     "metadata": {},
     "output_type": "execute_result"
    }
   ],
   "source": [
    "letters_list = ['porra nenhuma eu entendi ,dessa merda']\n",
    "','.join(letters_list)\n"
   ]
  },
  {
   "cell_type": "code",
   "execution_count": null,
   "id": "e0d072ff",
   "metadata": {},
   "outputs": [
    {
     "data": {
      "text/plain": [
       "'0,1,2,3,4,5,6,7,8,9'"
      ]
     },
     "execution_count": 66,
     "metadata": {},
     "output_type": "execute_result"
    }
   ],
   "source": [
    "','.join([str(i) for i in range(10)])"
   ]
  },
  {
   "cell_type": "code",
   "execution_count": null,
   "id": "cc284665",
   "metadata": {},
   "outputs": [
    {
     "data": {
      "text/plain": [
       "('Amanda', ': ', '89, 87, 65')"
      ]
     },
     "execution_count": 16,
     "metadata": {},
     "output_type": "execute_result"
    }
   ],
   "source": [
    "'Amanda: 89, 87, 65'.partition(': ') #: is the delimiter here"
   ]
  },
  {
   "cell_type": "code",
   "execution_count": null,
   "id": "fa0c0b77",
   "metadata": {},
   "outputs": [
    {
     "data": {
      "text/plain": [
       "'83417?from=2022-07-18&to=2022-07-22&guests=1'"
      ]
     },
     "execution_count": 19,
     "metadata": {},
     "output_type": "execute_result"
    }
   ],
   "source": [
    "url = 'https://www.hostelworld.com/pwa/hosteldetails.php/Ostello-degli-Elefanti/Catania/83417?from=2022-07-18&to=2022-07-22&guests=1'\n",
    "rest_of_url, separator, document = url.rpartition('/') #works backwards from right to left\n",
    "document"
   ]
  },
  {
   "cell_type": "code",
   "execution_count": null,
   "id": "0908656d",
   "metadata": {},
   "outputs": [
    {
     "data": {
      "text/plain": [
       "'https://www.hostelworld.com/pwa/hosteldetails.php/Ostello-degli-Elefanti/Catania'"
      ]
     },
     "execution_count": 20,
     "metadata": {},
     "output_type": "execute_result"
    }
   ],
   "source": [
    "rest_of_url"
   ]
  },
  {
   "cell_type": "code",
   "execution_count": null,
   "id": "82dcaba8",
   "metadata": {},
   "outputs": [
    {
     "data": {
      "text/plain": [
       "'/'"
      ]
     },
     "execution_count": 22,
     "metadata": {},
     "output_type": "execute_result"
    }
   ],
   "source": [
    "separator"
   ]
  },
  {
   "cell_type": "code",
   "execution_count": null,
   "id": "633bd855",
   "metadata": {},
   "outputs": [],
   "source": [
    "lines = \"\"\"line 1\n",
    "line2\n",
    "line3\"\"\""
   ]
  },
  {
   "cell_type": "code",
   "execution_count": null,
   "id": "f6c30963",
   "metadata": {},
   "outputs": [
    {
     "data": {
      "text/plain": [
       "'line 1\\nline2\\nline3'"
      ]
     },
     "execution_count": 25,
     "metadata": {},
     "output_type": "execute_result"
    }
   ],
   "source": [
    "lines"
   ]
  },
  {
   "cell_type": "code",
   "execution_count": null,
   "id": "f2436e23",
   "metadata": {},
   "outputs": [
    {
     "data": {
      "text/plain": [
       "['line 1', 'line2', 'line3']"
      ]
     },
     "execution_count": 26,
     "metadata": {},
     "output_type": "execute_result"
    }
   ],
   "source": [
    "lines.splitlines()"
   ]
  },
  {
   "cell_type": "code",
   "execution_count": null,
   "id": "90710488-56e9-42eb-8f0d-0740734ebd40",
   "metadata": {},
   "outputs": [
    {
     "data": {
      "text/plain": [
       "['line 1\\n', 'line2\\n', 'line3']"
      ]
     },
     "execution_count": 27,
     "metadata": {},
     "output_type": "execute_result"
    }
   ],
   "source": [
    "lines.splitlines(True)"
   ]
  },
  {
   "cell_type": "code",
   "execution_count": null,
   "id": "d9a39df6",
   "metadata": {},
   "outputs": [
    {
     "data": {
      "text/plain": [
       "'White,Pamela'"
      ]
     },
     "execution_count": 93,
     "metadata": {},
     "output_type": "execute_result"
    }
   ],
   "source": [
    "','.join(reversed('Pamela White'.split()))"
   ]
  },
  {
   "cell_type": "markdown",
   "id": "5e919280",
   "metadata": {},
   "source": [
    "## Characters and Character-Testing Methods\n"
   ]
  },
  {
   "cell_type": "code",
   "execution_count": null,
   "id": "e43d27df",
   "metadata": {},
   "outputs": [
    {
     "data": {
      "text/plain": [
       "True"
      ]
     },
     "execution_count": 1,
     "metadata": {},
     "output_type": "execute_result"
    }
   ],
   "source": [
    "'24'.isdigit()"
   ]
  },
  {
   "cell_type": "code",
   "execution_count": null,
   "id": "643cbd1f",
   "metadata": {},
   "outputs": [
    {
     "data": {
      "text/plain": [
       "False"
      ]
     },
     "execution_count": 2,
     "metadata": {},
     "output_type": "execute_result"
    }
   ],
   "source": [
    "'-24'.isdigit()"
   ]
  },
  {
   "cell_type": "code",
   "execution_count": null,
   "id": "c5dbbd80",
   "metadata": {},
   "outputs": [
    {
     "data": {
      "text/plain": [
       "True"
      ]
     },
     "execution_count": 3,
     "metadata": {},
     "output_type": "execute_result"
    }
   ],
   "source": [
    "'A9876'.isalnum()"
   ]
  },
  {
   "cell_type": "code",
   "execution_count": null,
   "id": "0ed2a8d7-0372-4704-a0df-be0584505374",
   "metadata": {},
   "outputs": [
    {
     "data": {
      "text/plain": [
       "False"
      ]
     },
     "execution_count": 4,
     "metadata": {},
     "output_type": "execute_result"
    }
   ],
   "source": [
    "'654 bla bla b;a'.isalnum()"
   ]
  },
  {
   "cell_type": "markdown",
   "id": "c8a5dbcb",
   "metadata": {},
   "source": [
    "## Raw Strings\n"
   ]
  },
  {
   "cell_type": "code",
   "execution_count": null,
   "id": "127f7b5a-271b-4094-9143-ffb5dd887756",
   "metadata": {},
   "outputs": [],
   "source": [
    "filepath = 'C:\\\\folder\\\\anotherfolder\\\\somearchive.txt' # '\\' are used to separate folder names"
   ]
  },
  {
   "cell_type": "code",
   "execution_count": null,
   "id": "f5d14fa8-0440-428c-a87b-fa1f32bf6cd5",
   "metadata": {},
   "outputs": [
    {
     "data": {
      "text/plain": [
       "'C:\\\\folder\\\\anotherfolder\\\\somearchive.txt'"
      ]
     },
     "execution_count": 6,
     "metadata": {},
     "output_type": "execute_result"
    }
   ],
   "source": [
    "filepath = r'C:\\folder\\anotherfolder\\somearchive.txt'\n",
    "filepath"
   ]
  },
  {
   "cell_type": "markdown",
   "id": "d618a610",
   "metadata": {},
   "source": [
    "## Introduction to Regular Expressions\n"
   ]
  },
  {
   "cell_type": "code",
   "execution_count": null,
   "id": "25512e09-940b-45cf-8135-0dc64e0198f5",
   "metadata": {},
   "outputs": [],
   "source": [
    "'Uses'\n",
    "\n",
    "#Validating data\n",
    "#Cleaning data\n",
    "#Scraping data\n",
    "#Transoforming data\n",
    "\n",
    "#Rarely needs to create your own regex\n",
    "\n",
    "\n",
    "\n",
    "https://regex101.com\n",
    "https://www.regexlib.com\n",
    "https://regular-expressions.info"
   ]
  },
  {
   "cell_type": "code",
   "execution_count": null,
   "id": "77e47bd2",
   "metadata": {},
   "outputs": [
    {
     "data": {
      "text/plain": [
       "'Match'"
      ]
     },
     "execution_count": 9,
     "metadata": {},
     "output_type": "execute_result"
    }
   ],
   "source": [
    "import re #regular expression module\n",
    "\n",
    "pattern = '02215'\n",
    "\n",
    "'Match' if re.fullmatch(pattern,'02215')else 'No match'"
   ]
  },
  {
   "cell_type": "code",
   "execution_count": null,
   "id": "ae1bda55",
   "metadata": {},
   "outputs": [
    {
     "data": {
      "text/plain": [
       "'No match'"
      ]
     },
     "execution_count": 10,
     "metadata": {},
     "output_type": "execute_result"
    }
   ],
   "source": [
    "'Match' if re.fullmatch(pattern,'022415')else 'No match' #patterns are matching by order by default"
   ]
  },
  {
   "cell_type": "markdown",
   "metadata": {},
   "source": [
    "## re Module and Function fullmatch Part 2--Metacharacters, Character Classes and Quantifiers\n"
   ]
  },
  {
   "cell_type": "markdown",
   "id": "74fceac0",
   "metadata": {},
   "source": [
    " [] {} () \\ * + ^ $ ? . |\n",
    "\n",
    ".\n",
    "(Dot.) In the default mode, this matches any character except a newline. If the DOTALL flag has been specified, this matches any character including a newline.\n",
    "\n",
    "^\n",
    "(Caret.) Matches the start of the string, and in MULTILINE mode also matches immediately after each newline.\n",
    "\n",
    "$\n",
    "Matches the end of the string or just before the newline at the end of the string, and in MULTILINE mode also matches before a newline. foo matches both ‘foo’ and ‘foobar’, while the regular expression foo$ matches only ‘foo’. More interestingly, searching for foo.$ in 'foo1\\nfoo2\\n' matches ‘foo2’ normally, but ‘foo1’ in MULTILINE mode; searching for a single $ in 'foo\\n' will find two (empty) matches: one just before the newline, and one at the end of the string.\n",
    "\n",
    "*\n",
    "Causes the resulting RE to match 0 or more repetitions of the preceding RE, as many repetitions as are possible. ab* will match ‘a’, ‘ab’, or ‘a’ followed by any number of ‘b’s.\n",
    "\n",
    "+\n",
    "Causes the resulting RE to match 1 or more repetitions of the preceding RE. ab+ will match ‘a’ followed by any non-zero number of ‘b’s; it will not match just ‘a’.\n",
    "\n",
    "?\n",
    "Causes the resulting RE to match 0 or 1 repetitions of the preceding RE. ab? will match either ‘a’ or ‘ab’.\n",
    "\n",
    "{m}\n",
    "Specifies that exactly m copies of the previous RE should be matched; fewer matches cause the entire RE not to match. For example, a{6} will match exactly six 'a' characters, but not five.\n",
    "\n",
    "\\\n",
    "Either escapes special characters (permitting you to match characters like '*', '?', and so forth), or signals a special sequence; special sequences are discussed below.\n",
    "\n",
    "If you’re not using a raw string to express the pattern, remember that Python also uses the backslash as an escape sequence in string literals; if the escape sequence isn’t recognized by Python’s parser, the backslash and subsequent character are included in the resulting string. However, if Python would recognize the resulting sequence, the backslash should be repeated twice. This is complicated and hard to understand, so it’s highly recommended that you use raw strings for all but the simplest expressions.\n",
    "\n",
    "[]\n",
    "Used to indicate a set of characters. In a set:\n",
    "\n",
    "Characters can be listed individually, e.g. [amk] will match 'a', 'm', or 'k'.\n",
    "\n",
    "Ranges of characters can be indicated by giving two characters and separating them by a '-', for example [a-z] will match any lowercase ASCII letter, [0-5][0-9] will match all the two-digits numbers from 00 to 59, and [0-9A-Fa-f] will match any hexadecimal digit. If - is escaped (e.g. [a\\-z]) or if it’s placed as the first or last character (e.g. [-a] or [a-]), it will match a literal '-'.\n",
    "\n",
    "Special characters lose their special meaning inside sets. For example, [(+*)] will match any of the literal characters '(', '+', '*', or ')'.\n",
    "\n",
    "Character classes such as \\w or \\S (defined below) are also accepted inside a set, although the characters they match depends on whether ASCII or LOCALE mode is in force.\n",
    "\n",
    "Characters that are not within a range can be matched by complementing the set. If the first character of the set is '^', all the characters that are not in the set will be matched. For example, [^5] will match any character except '5', and [^^] will match any character except '^'. ^ has no special meaning if it’s not the first character in the set.\n",
    "\n",
    "To match a literal ']' inside a set, precede it with a backslash, or place it at the beginning of the set. For example, both [()[\\]{}] and []()[{}] will both match a parenthesis.\n",
    "\n",
    "Support of nested sets and set operations as in Unicode Technical Standard #18 might be added in the future. This would change the syntax, so to facilitate this change a FutureWarning will be raised in ambiguous cases for the time being. That includes sets starting with a literal '[' or containing literal character sequences '--', '&&', '~~', and '||'. To avoid a warning escape them with a backslash.\n",
    "\n",
    "|\n",
    "A|B, where A and B can be arbitrary REs, creates a regular expression that will match either A or B. An arbitrary number of REs can be separated by the '|' in this way. This can be used inside groups (see below) as well. As the target string is scanned, REs separated by '|' are tried from left to right. When one pattern completely matches, that branch is accepted. This means that once A matches, B will not be tested further, even if it would produce a longer overall match. In other words, the '|' operator is never greedy. To match a literal '|', use \\|, or enclose it inside a character class, as in [|]."
   ]
  },
  {
   "cell_type": "code",
   "execution_count": null,
   "id": "d0dda0bc",
   "metadata": {},
   "outputs": [
    {
     "data": {
      "text/plain": [
       "'Invalid'"
      ]
     },
     "execution_count": 13,
     "metadata": {},
     "output_type": "execute_result"
    }
   ],
   "source": [
    "'Valid' if re.fullmatch(r'\\d{5}','02215')else 'Invalid' # r means raw string, \\d=characters class that represents any one digit character, the pattern is a sequence of 5 digits characters{};quantifier;   "
   ]
  },
  {
   "cell_type": "code",
   "execution_count": null,
   "id": "71795924",
   "metadata": {},
   "outputs": [
    {
     "data": {
      "text/plain": [
       "'Invalid'"
      ]
     },
     "execution_count": 14,
     "metadata": {},
     "output_type": "execute_result"
    }
   ],
   "source": [
    "'Valid' if re.fullmatch(r'\\d{5}','6544')else 'Invalid'"
   ]
  },
  {
   "cell_type": "markdown",
   "id": "3cbeba2d",
   "metadata": {},
   "source": [
    "\\d - any digit from  0-9\n",
    "\\D - any character that is not a digit\n",
    "\\s - any whitespace character like spaces,tabs,newlines\n",
    "\\S - any characters that is not a whitespace\n",
    "\\w - any word character,also called an alphanumeric character\n",
    "\\W - any character that is not a word character"
   ]
  },
  {
   "cell_type": "markdown",
   "id": "8ce0d1c2",
   "metadata": {},
   "source": [
    "'Valid' if re.fullmatch(r'\\d{5}','6544')else 'Invalid'S"
   ]
  },
  {
   "cell_type": "code",
   "execution_count": null,
   "id": "92bbd5d2",
   "metadata": {},
   "outputs": [
    {
     "data": {
      "text/plain": [
       "'Invalid'"
      ]
     },
     "execution_count": 24,
     "metadata": {},
     "output_type": "execute_result"
    }
   ],
   "source": [
    "'Valid' if re.fullmatch('[^a-z]','a')else 'no match' # ^ means do not match"
   ]
  },
  {
   "cell_type": "code",
   "execution_count": null,
   "id": "54a1eb53",
   "metadata": {},
   "outputs": [
    {
     "data": {
      "text/plain": [
       "'Valid'"
      ]
     },
     "execution_count": 25,
     "metadata": {},
     "output_type": "execute_result"
    }
   ],
   "source": [
    "'Valid' if re.fullmatch('[^a-z]','A')else 'no match' # ^ means do not match"
   ]
  },
  {
   "cell_type": "code",
   "execution_count": null,
   "id": "4e4b3c02",
   "metadata": {},
   "outputs": [
    {
     "data": {
      "text/plain": [
       "'Valid'"
      ]
     },
     "execution_count": 29,
     "metadata": {},
     "output_type": "execute_result"
    }
   ],
   "source": [
    "'Valid' if re.fullmatch('[*+$]','*')else 'no match' "
   ]
  },
  {
   "cell_type": "code",
   "execution_count": null,
   "id": "51f6c90d",
   "metadata": {},
   "outputs": [
    {
     "data": {
      "text/plain": [
       "'no match'"
      ]
     },
     "execution_count": 28,
     "metadata": {},
     "output_type": "execute_result"
    }
   ],
   "source": [
    "'Valid' if re.fullmatch('[*+$]','d')else 'no match' "
   ]
  },
  {
   "cell_type": "markdown",
   "id": "5d6f3dcc",
   "metadata": {},
   "source": [
    "## re Module and Function fullmatch Part 1--Quantifiers\n"
   ]
  },
  {
   "cell_type": "markdown",
   "id": "7a467bab",
   "metadata": {},
   "source": [
    "+ and * will match as many characters that is possible,also called greedy quantifiers"
   ]
  },
  {
   "cell_type": "code",
   "execution_count": null,
   "id": "ec3da9d8",
   "metadata": {},
   "outputs": [
    {
     "data": {
      "text/plain": [
       "'Valid'"
      ]
     },
     "execution_count": 30,
     "metadata": {},
     "output_type": "execute_result"
    }
   ],
   "source": [
    "'Valid' if re.fullmatch('[A-Z][a-z]+','Tromba')else 'no match' # + means that it will match at least one lower case letter or upper "
   ]
  },
  {
   "cell_type": "code",
   "execution_count": null,
   "id": "7a4e9907",
   "metadata": {},
   "outputs": [
    {
     "data": {
      "text/plain": [
       "'no match'"
      ]
     },
     "execution_count": 32,
     "metadata": {},
     "output_type": "execute_result"
    }
   ],
   "source": [
    "'Valid' if re.fullmatch('[A-Z][a-z]+','A')else 'no match'"
   ]
  },
  {
   "cell_type": "code",
   "execution_count": null,
   "id": "1c259852",
   "metadata": {},
   "outputs": [
    {
     "data": {
      "text/plain": [
       "'Valid'"
      ]
     },
     "execution_count": 33,
     "metadata": {},
     "output_type": "execute_result"
    }
   ],
   "source": [
    "'Valid' if re.fullmatch('labell?ed','labelled')else 'no match' # "
   ]
  },
  {
   "cell_type": "code",
   "execution_count": null,
   "id": "96628454",
   "metadata": {},
   "outputs": [
    {
     "data": {
      "text/plain": [
       "'Valid'"
      ]
     },
     "execution_count": 34,
     "metadata": {},
     "output_type": "execute_result"
    }
   ],
   "source": [
    "'Valid' if re.fullmatch(r'\\d{3,}','564')else 'no match' # "
   ]
  },
  {
   "cell_type": "code",
   "execution_count": null,
   "id": "79e771aa",
   "metadata": {},
   "outputs": [
    {
     "data": {
      "text/plain": [
       "'Valid'"
      ]
     },
     "execution_count": 35,
     "metadata": {},
     "output_type": "execute_result"
    }
   ],
   "source": [
    "'Valid' if re.fullmatch(r'\\d{3,}','564654564')else 'no match' # "
   ]
  },
  {
   "cell_type": "code",
   "execution_count": null,
   "id": "8032dbb1",
   "metadata": {},
   "outputs": [
    {
     "data": {
      "text/plain": [
       "'no match'"
      ]
     },
     "execution_count": 36,
     "metadata": {},
     "output_type": "execute_result"
    }
   ],
   "source": [
    "'Valid' if re.fullmatch(r'\\d{3,}','12')else 'no match' # "
   ]
  },
  {
   "cell_type": "code",
   "execution_count": null,
   "id": "a5947ad9",
   "metadata": {},
   "outputs": [
    {
     "data": {
      "text/plain": [
       "'Valid'"
      ]
     },
     "execution_count": 37,
     "metadata": {},
     "output_type": "execute_result"
    }
   ],
   "source": [
    "'Valid' if re.fullmatch(r'\\d{3,6}','564')else 'no match' # range"
   ]
  },
  {
   "cell_type": "code",
   "execution_count": null,
   "id": "eeb8e2d5",
   "metadata": {},
   "outputs": [
    {
     "data": {
      "text/plain": [
       "'no match'"
      ]
     },
     "execution_count": 38,
     "metadata": {},
     "output_type": "execute_result"
    }
   ],
   "source": [
    "'Valid' if re.fullmatch(r'\\d{3,6}','1')else 'no match' # range"
   ]
  },
  {
   "cell_type": "code",
   "execution_count": null,
   "id": "2ab17c2a",
   "metadata": {},
   "outputs": [
    {
     "data": {
      "text/plain": [
       "'no match'"
      ]
     },
     "execution_count": 39,
     "metadata": {},
     "output_type": "execute_result"
    }
   ],
   "source": [
    "'Valid' if re.fullmatch(r'\\d{3,6}','1234567')else 'no match' # range"
   ]
  },
  {
   "cell_type": "code",
   "execution_count": null,
   "id": "e4b9fcdc",
   "metadata": {},
   "outputs": [
    {
     "data": {
      "text/plain": [
       "'Valid'"
      ]
     },
     "execution_count": 43,
     "metadata": {},
     "output_type": "execute_result"
    }
   ],
   "source": [
    "street = r'\\d+ [A-Z][a-z]* [A-Z][a-z]*'\n",
    "'Valid' if re.fullmatch(street,'73 Jana Zamoyskiego')else 'no match' # range"
   ]
  },
  {
   "cell_type": "code",
   "execution_count": null,
   "id": "c5879c44",
   "metadata": {},
   "outputs": [
    {
     "data": {
      "text/plain": [
       "'no match'"
      ]
     },
     "execution_count": 45,
     "metadata": {},
     "output_type": "execute_result"
    }
   ],
   "source": [
    "'Valid' if re.fullmatch(street,'73 Jana Zamoyskiego ')else 'no match' # range"
   ]
  },
  {
   "cell_type": "markdown",
   "id": "40ee7f04",
   "metadata": {},
   "source": [
    "## Replacing Substrings and Splitting Strings\n"
   ]
  },
  {
   "cell_type": "markdown",
   "id": "6771e438",
   "metadata": {},
   "source": [
    "re.sub  substituition method"
   ]
  },
  {
   "cell_type": "code",
   "execution_count": null,
   "id": "623eb74a",
   "metadata": {},
   "outputs": [
    {
     "data": {
      "text/plain": [
       "'1, 2, 3, 4'"
      ]
     },
     "execution_count": 46,
     "metadata": {},
     "output_type": "execute_result"
    }
   ],
   "source": [
    "re.sub(r'\\t', ', ','1\\t2\\t3\\t4') # \\t tab character, it will be replaced with comma and a space on the string 1234"
   ]
  },
  {
   "cell_type": "code",
   "execution_count": null,
   "id": "f8586bf8",
   "metadata": {},
   "outputs": [
    {
     "data": {
      "text/plain": [
       "'1, 2, 3\\t4'"
      ]
     },
     "execution_count": 47,
     "metadata": {},
     "output_type": "execute_result"
    }
   ],
   "source": [
    "re.sub(r'\\t', ', ','1\\t2\\t3\\t4',count=2) # count provides a way to choose how many characters will be replaced"
   ]
  },
  {
   "cell_type": "code",
   "execution_count": null,
   "id": "3f132243",
   "metadata": {},
   "outputs": [
    {
     "data": {
      "text/plain": [
       "['1', '2', '3', '4', '5', '6', '7', '8', '9']"
      ]
     },
     "execution_count": 48,
     "metadata": {},
     "output_type": "execute_result"
    }
   ],
   "source": [
    "re.split(r',\\s*', '1,  2,   3,4,    5,6,7,8,9') # 0 or more space characters"
   ]
  },
  {
   "cell_type": "code",
   "execution_count": null,
   "id": "14d35c27",
   "metadata": {},
   "outputs": [
    {
     "data": {
      "text/plain": [
       "['1', '2', '3', '4', '5,6,7,8,9']"
      ]
     },
     "execution_count": 49,
     "metadata": {},
     "output_type": "execute_result"
    }
   ],
   "source": [
    "re.split(r',\\s*', '1,  2,   3,4,    5,6,7,8,9',maxsplit=4)"
   ]
  },
  {
   "cell_type": "code",
   "execution_count": null,
   "id": "19965586",
   "metadata": {},
   "outputs": [
    {
     "data": {
      "text/plain": [
       "'A, B, C, D'"
      ]
     },
     "execution_count": 50,
     "metadata": {},
     "output_type": "execute_result"
    }
   ],
   "source": [
    "re.sub(r'\\t', ', ','A\\tB\\tC\\tD')"
   ]
  },
  {
   "cell_type": "code",
   "execution_count": null,
   "id": "4c83cdeb",
   "metadata": {},
   "outputs": [
    {
     "data": {
      "text/plain": [
       "['123', 'Main', 'Street']"
      ]
     },
     "execution_count": 52,
     "metadata": {},
     "output_type": "execute_result"
    }
   ],
   "source": [
    "re.split('\\$+', '123$Main$Street')"
   ]
  },
  {
   "cell_type": "markdown",
   "id": "0ef83c0e",
   "metadata": {},
   "source": [
    "## Other Search Functions; Accessing Matches--Function search: Finding the First Match Anywhere in a String\n"
   ]
  },
  {
   "cell_type": "code",
   "execution_count": null,
   "id": "2a3ac169",
   "metadata": {},
   "outputs": [
    {
     "data": {
      "text/plain": [
       "<re.Match object; span=(0, 6), match='Python'>"
      ]
     },
     "execution_count": 54,
     "metadata": {},
     "output_type": "execute_result"
    }
   ],
   "source": [
    "result = re.search('Python', 'Python is fun')\n"
   ]
  },
  {
   "cell_type": "code",
   "execution_count": null,
   "id": "c614c4fe",
   "metadata": {},
   "outputs": [
    {
     "data": {
      "text/plain": [
       "'Python'"
      ]
     },
     "execution_count": 55,
     "metadata": {},
     "output_type": "execute_result"
    }
   ],
   "source": [
    "result.group() if result else ' not found'"
   ]
  },
  {
   "cell_type": "code",
   "execution_count": null,
   "id": "89833b76",
   "metadata": {},
   "outputs": [],
   "source": [
    "result = re.search('fun!', 'Python is fun')\n"
   ]
  },
  {
   "cell_type": "code",
   "execution_count": null,
   "id": "f0f8682a",
   "metadata": {},
   "outputs": [
    {
     "data": {
      "text/plain": [
       "' not found'"
      ]
     },
     "execution_count": 57,
     "metadata": {},
     "output_type": "execute_result"
    }
   ],
   "source": [
    "result.group() if result else ' not found'"
   ]
  },
  {
   "cell_type": "markdown",
   "id": "84e8e2ae",
   "metadata": {},
   "source": [
    "## Other Search Functions; Accessing Matches--Ignoring Case with the Optional flags Keyword Argument\n"
   ]
  },
  {
   "cell_type": "code",
   "execution_count": null,
   "id": "a1a13257",
   "metadata": {},
   "outputs": [
    {
     "data": {
      "text/plain": [
       "<re.Match object; span=(0, 3), match='SAM'>"
      ]
     },
     "execution_count": 58,
     "metadata": {},
     "output_type": "execute_result"
    }
   ],
   "source": [
    "result = re.search('Sam', 'SAM WHITE',flags=re.IGNORECASE)\n",
    "result"
   ]
  },
  {
   "cell_type": "code",
   "execution_count": null,
   "id": "bb05bf3d",
   "metadata": {},
   "outputs": [
    {
     "data": {
      "text/plain": [
       "'SAM'"
      ]
     },
     "execution_count": 59,
     "metadata": {},
     "output_type": "execute_result"
    }
   ],
   "source": [
    "result.group() if result else ' not found'"
   ]
  },
  {
   "cell_type": "code",
   "execution_count": null,
   "id": "d1458ef3",
   "metadata": {},
   "outputs": [],
   "source": [
    "result = re.search('^Python', 'Python is fun') # ^ here will match at the very beginning of the string"
   ]
  },
  {
   "cell_type": "code",
   "execution_count": null,
   "id": "910e4281",
   "metadata": {},
   "outputs": [
    {
     "data": {
      "text/plain": [
       "'Python'"
      ]
     },
     "execution_count": 67,
     "metadata": {},
     "output_type": "execute_result"
    }
   ],
   "source": [
    "result.group() if result else ' not found'"
   ]
  },
  {
   "cell_type": "code",
   "execution_count": null,
   "id": "86cad8f3",
   "metadata": {},
   "outputs": [],
   "source": [
    "result = re.search('^fun', 'Python is fun')\n"
   ]
  },
  {
   "cell_type": "code",
   "execution_count": null,
   "id": "09313241",
   "metadata": {},
   "outputs": [
    {
     "data": {
      "text/plain": [
       "' not found'"
      ]
     },
     "execution_count": 69,
     "metadata": {},
     "output_type": "execute_result"
    }
   ],
   "source": [
    "result.group() if result else ' not found'"
   ]
  },
  {
   "cell_type": "code",
   "execution_count": null,
   "id": "f2d13eae",
   "metadata": {},
   "outputs": [],
   "source": [
    "result = re.search('Python$', 'Python is fun')\n"
   ]
  },
  {
   "cell_type": "code",
   "execution_count": null,
   "id": "8ee2fcb5",
   "metadata": {},
   "outputs": [
    {
     "data": {
      "text/plain": [
       "' not found'"
      ]
     },
     "execution_count": 71,
     "metadata": {},
     "output_type": "execute_result"
    }
   ],
   "source": [
    "result.group() if result else ' not found'"
   ]
  },
  {
   "cell_type": "code",
   "execution_count": null,
   "id": "ebab427d",
   "metadata": {},
   "outputs": [],
   "source": [
    "result = re.search('fun$', 'Python is fun')\n"
   ]
  },
  {
   "cell_type": "code",
   "execution_count": null,
   "id": "6109bb56",
   "metadata": {},
   "outputs": [
    {
     "data": {
      "text/plain": [
       "'fun'"
      ]
     },
     "execution_count": 73,
     "metadata": {},
     "output_type": "execute_result"
    }
   ],
   "source": [
    "result.group() if result else ' not found'"
   ]
  },
  {
   "cell_type": "markdown",
   "id": "a8c00d85",
   "metadata": {},
   "source": [
    "## Other Search Functions; Accessing Matches--Functions findall and finditer: Finding All Matches in a String\n"
   ]
  },
  {
   "cell_type": "code",
   "execution_count": null,
   "id": "fbb8b873",
   "metadata": {},
   "outputs": [
    {
     "data": {
      "text/plain": [
       "['444-444-4567', '564-454-6548']"
      ]
     },
     "execution_count": 74,
     "metadata": {},
     "output_type": "execute_result"
    }
   ],
   "source": [
    "contact = 'Tromba Torm, Home: 444-444-4567, Work:564-454-6548'\n",
    "re.findall(r'\\d{3}-\\d{3}-\\d{4}',contact)"
   ]
  },
  {
   "cell_type": "code",
   "execution_count": null,
   "id": "bb699835",
   "metadata": {},
   "outputs": [
    {
     "name": "stdout",
     "output_type": "stream",
     "text": [
      "444-444-4567\n",
      "564-454-6548\n"
     ]
    }
   ],
   "source": [
    "#lazy iterator\n",
    "for phone in re.finditer(r'\\d{3}-\\d{3}-\\d{4}',contact):\n",
    "    print(phone.group())"
   ]
  },
  {
   "cell_type": "markdown",
   "id": "c719639a",
   "metadata": {},
   "source": [
    "## Other Search Functions; Accessing Matches--Capturing Substrings in a Match\n"
   ]
  },
  {
   "cell_type": "code",
   "execution_count": null,
   "id": "a17703f6",
   "metadata": {},
   "outputs": [
    {
     "data": {
      "text/plain": [
       "('Nome Sobrenome', 'demo1@deitel.com')"
      ]
     },
     "execution_count": 120,
     "metadata": {},
     "output_type": "execute_result"
    }
   ],
   "source": [
    "import re\n",
    "\n",
    "text = 'Nome Sobrenome, e-mail:demo1@deitel.com'\n",
    "patterns = r'([A-Z][a-z]+ [A-Z][a-z]+), e-mail:(\\w+@\\w+\\.\\w{3})'\n",
    "result = re.search(patterns, text)\n",
    "result.groups()"
   ]
  },
  {
   "cell_type": "code",
   "execution_count": null,
   "id": "8b1fcd9b",
   "metadata": {},
   "outputs": [
    {
     "data": {
      "text/plain": [
       "'Nome Sobrenome, e-mail:demo1@deitel.com'"
      ]
     },
     "execution_count": 121,
     "metadata": {},
     "output_type": "execute_result"
    }
   ],
   "source": [
    "result.group()"
   ]
  },
  {
   "cell_type": "code",
   "execution_count": null,
   "id": "36673502",
   "metadata": {},
   "outputs": [
    {
     "data": {
      "text/plain": [
       "'Nome Sobrenome, e-mail:demo1@deitel.com'"
      ]
     },
     "execution_count": 117,
     "metadata": {},
     "output_type": "execute_result"
    }
   ],
   "source": []
  },
  {
   "cell_type": "code",
   "execution_count": null,
   "id": "285d38e8",
   "metadata": {},
   "outputs": [
    {
     "data": {
      "text/plain": [
       "('50', '+', '5')"
      ]
     },
     "execution_count": 124,
     "metadata": {},
     "output_type": "execute_result"
    }
   ],
   "source": [
    "import re\n",
    "expression1 = re.search(r'(\\d+) ([-+*/]) (\\d+)', '50 + 5')\n",
    "expression1.groups()"
   ]
  },
  {
   "cell_type": "code",
   "execution_count": null,
   "id": "8a0160a7",
   "metadata": {},
   "outputs": [
    {
     "data": {
      "text/plain": [
       "'50'"
      ]
     },
     "execution_count": 126,
     "metadata": {},
     "output_type": "execute_result"
    }
   ],
   "source": [
    "expression1.group(1)"
   ]
  },
  {
   "cell_type": "code",
   "execution_count": null,
   "id": "c8e8c3ee",
   "metadata": {},
   "outputs": [
    {
     "data": {
      "text/plain": [
       "'+'"
      ]
     },
     "execution_count": 128,
     "metadata": {},
     "output_type": "execute_result"
    }
   ],
   "source": [
    "expression1.group(2)"
   ]
  },
  {
   "cell_type": "code",
   "execution_count": null,
   "id": "d2bd0f6c",
   "metadata": {},
   "outputs": [
    {
     "data": {
      "text/plain": [
       "'5'"
      ]
     },
     "execution_count": 127,
     "metadata": {},
     "output_type": "execute_result"
    }
   ],
   "source": [
    "expression1.group(3)"
   ]
  },
  {
   "cell_type": "markdown",
   "id": "2c6d705e",
   "metadata": {},
   "source": [
    "## Files and Exceptions; Pandas, CSV Files and Simple Data Analysis"
   ]
  },
  {
   "cell_type": "markdown",
   "id": "4128da6f",
   "metadata": {},
   "source": [
    "Text files -- Sequences of characters\n",
    "Binary files -- Sequences of bytes (images or videos)\n",
    "sys modules standard file objects\n",
    "    sys.stdin\n",
    "    sys.stdout\n",
    "    sys.stderr\n",
    "\n",
    "!dir - lista o diretorio\n",
    "!more - le arquivo txt"
   ]
  },
  {
   "cell_type": "code",
   "execution_count": null,
   "id": "dde282ac",
   "metadata": {},
   "outputs": [],
   "source": [
    "#with open and close a file\n",
    "#open takes 2 arguments, first is the file to be open or created,second is the mode\n",
    "#'w' writing mode\n",
    "\n",
    "with open('accounts.txt',mode='w')as accounts:\n",
    "    accounts.write('10012 Jones 50.50\\n')\n",
    "    accounts.write('10230 Tromba 50.50\\n')\n",
    "    accounts.write('1050  Ana 50.50\\n')\n",
    "    accounts.write('1003  Aneckza 50.50\\n')\n",
    "    accounts.write('1030  Aneta 50.50\\n')"
   ]
  },
  {
   "cell_type": "code",
   "execution_count": null,
   "id": "228ae38c",
   "metadata": {},
   "outputs": [
    {
     "name": "stdout",
     "output_type": "stream",
     "text": [
      " Volume in drive C has no label.\n",
      " Volume Serial Number is D0D6-0C47\n",
      "\n",
      " Directory of c:\\Users\\thefa\\Estudos em Python\n",
      "\n",
      "06/27/2022  02:19 PM    <DIR>          .\n",
      "06/27/2022  12:47 PM    <DIR>          ..\n",
      "06/17/2022  05:47 PM    <DIR>          .idea\n",
      "06/20/2022  10:55 PM    <DIR>          .ipynb_checkpoints\n",
      "06/14/2022  04:21 PM                86 1.13.0\n",
      "06/20/2022  03:06 PM             3,694 100 days of code.ipynb\n",
      "06/03/2022  12:47 PM            20,711 57.py\n",
      "06/13/2022  06:49 PM             1,863 71.py\n",
      "06/27/2022  02:19 PM                96 accounts.txt\n",
      "06/03/2022  05:10 PM             2,405 Data Analysis Pandas.ipynb\n",
      "06/27/2022  01:42 PM           578,891 DataScience.ipynb\n",
      "06/20/2022  11:23 PM             9,306 Games!.ipynb\n",
      "06/06/2022  02:08 PM               443 hello.py\n",
      "06/27/2022  12:51 PM               182 import re.py\n",
      "06/23/2022  05:23 PM        17,760,567 MachineLearning.ipynb\n",
      "06/16/2022  01:49 PM             1,234 Protein_Fat_Carb_Food_Energy_Types.py\n",
      "06/27/2022  02:21 PM           233,338 Python.ipynb\n",
      "06/02/2022  03:21 PM        95,578,164 reviews.csv\n",
      "06/13/2022  06:49 PM             1,863 rolldiedynamic.py\n",
      "06/08/2022  03:48 PM         1,432,386 teste.xlsb\n",
      "06/16/2022  12:36 PM                77 teste_magic.txt\n",
      "              17 File(s)    115,625,306 bytes\n",
      "               4 Dir(s)  20,706,484,224 bytes free\n"
     ]
    }
   ],
   "source": [
    "!dir"
   ]
  },
  {
   "cell_type": "code",
   "execution_count": null,
   "id": "b90e3822",
   "metadata": {},
   "outputs": [
    {
     "name": "stdout",
     "output_type": "stream",
     "text": [
      "10012 Jones 50.50\n",
      "10230 Tromba 50.50\n",
      "1050  Ana 50.50\n",
      "1003  Aneckza 50.50\n",
      "1030  Aneta 50.50\n"
     ]
    }
   ],
   "source": [
    "!more accounts.txt"
   ]
  },
  {
   "cell_type": "code",
   "execution_count": null,
   "id": "5c61b769",
   "metadata": {},
   "outputs": [],
   "source": [
    "with open('grades.txt','w')as grades:\n",
    "    grades.write('1 Red A\\n')\n",
    "    grades.write('2 Green B\\n')\n",
    "    grades.write('3 Red C')"
   ]
  },
  {
   "cell_type": "code",
   "execution_count": null,
   "id": "2e174537",
   "metadata": {},
   "outputs": [
    {
     "name": "stdout",
     "output_type": "stream",
     "text": [
      " Volume in drive C has no label.\n",
      " Volume Serial Number is D0D6-0C47\n",
      "\n",
      " Directory of c:\\Users\\thefa\\Estudos em Python\n",
      "\n",
      "06/27/2022  02:23 PM    <DIR>          .\n",
      "06/27/2022  12:47 PM    <DIR>          ..\n",
      "06/17/2022  05:47 PM    <DIR>          .idea\n",
      "06/20/2022  10:55 PM    <DIR>          .ipynb_checkpoints\n",
      "06/14/2022  04:21 PM                86 1.13.0\n",
      "06/20/2022  03:06 PM             3,694 100 days of code.ipynb\n",
      "06/03/2022  12:47 PM            20,711 57.py\n",
      "06/13/2022  06:49 PM             1,863 71.py\n",
      "06/27/2022  02:19 PM                96 accounts.txt\n",
      "06/03/2022  05:10 PM             2,405 Data Analysis Pandas.ipynb\n",
      "06/27/2022  01:42 PM           578,891 DataScience.ipynb\n",
      "06/20/2022  11:23 PM             9,306 Games!.ipynb\n",
      "06/27/2022  02:23 PM                23 grades.txt\n",
      "06/06/2022  02:08 PM               443 hello.py\n",
      "06/27/2022  12:51 PM               182 import re.py\n",
      "06/23/2022  05:23 PM        17,760,567 MachineLearning.ipynb\n",
      "06/16/2022  01:49 PM             1,234 Protein_Fat_Carb_Food_Energy_Types.py\n",
      "06/27/2022  02:23 PM           235,505 Python.ipynb\n",
      "06/02/2022  03:21 PM        95,578,164 reviews.csv\n",
      "06/13/2022  06:49 PM             1,863 rolldiedynamic.py\n",
      "06/08/2022  03:48 PM         1,432,386 teste.xlsb\n",
      "06/16/2022  12:36 PM                77 teste_magic.txt\n",
      "              18 File(s)    115,627,496 bytes\n",
      "               4 Dir(s)  20,722,733,056 bytes free\n"
     ]
    }
   ],
   "source": [
    "!dir"
   ]
  },
  {
   "cell_type": "code",
   "execution_count": null,
   "id": "74494be7",
   "metadata": {},
   "outputs": [
    {
     "name": "stdout",
     "output_type": "stream",
     "text": [
      "1 Red A\n",
      "2 Green B\n",
      "3 Red C\n"
     ]
    }
   ],
   "source": [
    "!more grades.txt"
   ]
  },
  {
   "cell_type": "markdown",
   "id": "1056ef26",
   "metadata": {},
   "source": [
    "## Text-File Processing--Reading Data from a Text File\n"
   ]
  },
  {
   "cell_type": "code",
   "execution_count": null,
   "id": "e1c4b298",
   "metadata": {},
   "outputs": [
    {
     "name": "stdout",
     "output_type": "stream",
     "text": [
      "Name      Account   Balance   \n",
      "Jones     10012     50.50     \n",
      "Tromba    10230     50.50     \n",
      "Ana       1050      50.50     \n",
      "Aneckza   1003      50.50     \n",
      "Aneta     1030      50.50     \n"
     ]
    }
   ],
   "source": [
    "#'r' works only if the file already exists and can be found on the same directory\n",
    "\n",
    "with open('accounts.txt',mode='r') as accounts:\n",
    "    print(f'{\"Name\":<10}{\"Account\":<10}{\"Balance\":<10}')\n",
    "    for record in accounts:\n",
    "        account,name,balance = record.split()\n",
    "        print(f'{name:<10}{account:<10}{balance:<10}')"
   ]
  },
  {
   "cell_type": "code",
   "execution_count": null,
   "id": "71eada12",
   "metadata": {},
   "outputs": [
    {
     "name": "stdout",
     "output_type": "stream",
     "text": [
      "ID  Name   Grade\n",
      "10012 Jones   50.50\n",
      "10230 Tromba  50.50\n",
      "1050 Ana     50.50\n",
      "1003 Aneckza 50.50\n",
      "1030 Aneta   50.50\n"
     ]
    }
   ],
   "source": [
    "with open('accounts.txt',mode='r') as accounts:\n",
    "    print(f'{\"ID\":<4}{\"Name\":<7}{\"Grade\"}')\n",
    "    for record in accounts:\n",
    "        student,name,grade = record.split()\n",
    "        print(f'{student:<4} {name:<7} {grade}')"
   ]
  },
  {
   "cell_type": "code",
   "execution_count": null,
   "id": "1fc796f5",
   "metadata": {},
   "outputs": [],
   "source": [
    "accounts = open('accounts.txt','r')\n",
    "tempfile = open('tempfile.txt','w')\n",
    "with accounts,tempfile:\n",
    "    for record in accounts:\n",
    "        account,name,balance = record.split()\n",
    "        if account != '1050':\n",
    "            tempfile.write(record)\n",
    "        else:\n",
    "            new_record = ' '.join([account,'Williams',balance])\n",
    "            tempfile.write(new_record + '\\n')"
   ]
  },
  {
   "cell_type": "code",
   "execution_count": null,
   "id": "2c286095",
   "metadata": {},
   "outputs": [
    {
     "name": "stdout",
     "output_type": "stream",
     "text": [
      "10012 Jones 50.50\n",
      "10230 Tromba 50.50\n",
      "1050  Ana 50.50\n",
      "1003  Aneckza 50.50\n",
      "1030  Aneta 50.50\n"
     ]
    }
   ],
   "source": [
    "!more accounts.txt"
   ]
  },
  {
   "cell_type": "code",
   "execution_count": null,
   "id": "b9fee869",
   "metadata": {},
   "outputs": [
    {
     "name": "stdout",
     "output_type": "stream",
     "text": [
      "10012 Jones 50.50\n",
      "10230 Tromba 50.50\n",
      "1050 Williams 50.50\n",
      "1003  Aneckza 50.50\n",
      "1030  Aneta 50.50\n"
     ]
    }
   ],
   "source": [
    "!more tempfile.txt"
   ]
  },
  {
   "cell_type": "code",
   "execution_count": null,
   "id": "f39ff9a7",
   "metadata": {},
   "outputs": [],
   "source": [
    "import os\n",
    "\n",
    "os.remove('accounts.txt')"
   ]
  },
  {
   "cell_type": "code",
   "execution_count": null,
   "id": "1da4f1a2",
   "metadata": {},
   "outputs": [],
   "source": [
    "os.rename('tempfile.txt', 'accounts.txt')"
   ]
  },
  {
   "cell_type": "code",
   "execution_count": null,
   "id": "669bab9e",
   "metadata": {},
   "outputs": [],
   "source": []
  },
  {
   "cell_type": "code",
   "execution_count": null,
   "id": "eccf426a",
   "metadata": {},
   "outputs": [],
   "source": [
    "accounts = open('accounts.txt','r')\n",
    "tempfile = open('tempfile.txt','w')\n",
    "with accounts,tempfile:\n",
    "    for record in accounts:\n",
    "        account,name,balance = record.split()\n",
    "        if account != '1030':\n",
    "            tempfile.write(record)\n",
    "        else:\n",
    "            new_record = ' '.join([account,'Zaneta',balance])\n",
    "            tempfile.write(new_record + '\\n')"
   ]
  },
  {
   "cell_type": "code",
   "execution_count": null,
   "id": "2e48ea92",
   "metadata": {},
   "outputs": [
    {
     "name": "stdout",
     "output_type": "stream",
     "text": [
      "10012 Jones 50.50\n",
      "10230 Tromba 50.50\n",
      "1050  Ana 50.50\n",
      "1003  Aneckza 50.50\n",
      "1030 Zaneta 50.50\n"
     ]
    }
   ],
   "source": [
    "!more accounts.txt"
   ]
  },
  {
   "cell_type": "code",
   "execution_count": null,
   "id": "90e9085a",
   "metadata": {},
   "outputs": [
    {
     "name": "stderr",
     "output_type": "stream",
     "text": [
      "Cannot access file C:\\Users\\thefa\\Estudos em Python\\tempfile.txt\n"
     ]
    }
   ],
   "source": [
    "!more tempfile.txt"
   ]
  },
  {
   "cell_type": "markdown",
   "id": "6be64aa8",
   "metadata": {},
   "source": [
    "## Serialization with JSON--JSON Data Format\n"
   ]
  },
  {
   "cell_type": "code",
   "execution_count": null,
   "id": "f00b5376",
   "metadata": {},
   "outputs": [],
   "source": [
    "accountsdict = {'accounts':[{'account':200,'name':'Jones','balance':25.00},\n",
    "                            {'account':300,'name':'Aneta','balance':1541.00}]}"
   ]
  },
  {
   "cell_type": "code",
   "execution_count": null,
   "id": "dc8ac7ee",
   "metadata": {},
   "outputs": [],
   "source": [
    "import json"
   ]
  },
  {
   "cell_type": "code",
   "execution_count": null,
   "id": "7894ca41",
   "metadata": {},
   "outputs": [],
   "source": [
    "with open('accounts.json','w') as accounts:\n",
    "    json.dump(accountsdict,accounts)"
   ]
  },
  {
   "cell_type": "code",
   "execution_count": null,
   "id": "aaecafc1",
   "metadata": {},
   "outputs": [
    {
     "name": "stdout",
     "output_type": "stream",
     "text": [
      "{\"accounts\": [{\"account\": 200, \"name\": \"Jones\", \"balance\": 25.0}, {\"account\": 300, \"name\": \"Aneta\", \"balance\": 1541.0}]}\n"
     ]
    }
   ],
   "source": [
    "!more accounts.json"
   ]
  },
  {
   "cell_type": "code",
   "execution_count": null,
   "id": "117ed932",
   "metadata": {},
   "outputs": [],
   "source": [
    "with open('accounts.json','r') as accounts:\n",
    "    accounts_json = json.load(accounts)"
   ]
  },
  {
   "cell_type": "code",
   "execution_count": null,
   "id": "1b6abc02",
   "metadata": {},
   "outputs": [
    {
     "data": {
      "text/plain": [
       "{'accounts': [{'account': 200, 'name': 'Jones', 'balance': 25.0},\n",
       "  {'account': 300, 'name': 'Aneta', 'balance': 1541.0}]}"
      ]
     },
     "execution_count": 72,
     "metadata": {},
     "output_type": "execute_result"
    }
   ],
   "source": [
    "accounts_json"
   ]
  },
  {
   "cell_type": "code",
   "execution_count": null,
   "id": "db29413f",
   "metadata": {},
   "outputs": [
    {
     "data": {
      "text/plain": [
       "dict"
      ]
     },
     "execution_count": 74,
     "metadata": {},
     "output_type": "execute_result"
    }
   ],
   "source": [
    "type(accounts_json)"
   ]
  },
  {
   "cell_type": "code",
   "execution_count": null,
   "id": "f62eb254",
   "metadata": {},
   "outputs": [
    {
     "data": {
      "text/plain": [
       "[{'account': 200, 'name': 'Jones', 'balance': 25.0},\n",
       " {'account': 300, 'name': 'Aneta', 'balance': 1541.0}]"
      ]
     },
     "execution_count": 75,
     "metadata": {},
     "output_type": "execute_result"
    }
   ],
   "source": [
    "accounts_json['accounts']"
   ]
  },
  {
   "cell_type": "code",
   "execution_count": null,
   "id": "25aa8b6e",
   "metadata": {},
   "outputs": [
    {
     "data": {
      "text/plain": [
       "{'account': 200, 'name': 'Jones', 'balance': 25.0}"
      ]
     },
     "execution_count": 76,
     "metadata": {},
     "output_type": "execute_result"
    }
   ],
   "source": [
    "accounts_json['accounts'][0]"
   ]
  },
  {
   "cell_type": "code",
   "execution_count": null,
   "id": "6750d317",
   "metadata": {},
   "outputs": [
    {
     "data": {
      "text/plain": [
       "{'account': 300, 'name': 'Aneta', 'balance': 1541.0}"
      ]
     },
     "execution_count": 77,
     "metadata": {},
     "output_type": "execute_result"
    }
   ],
   "source": [
    "accounts_json['accounts'][1]"
   ]
  },
  {
   "cell_type": "code",
   "execution_count": null,
   "id": "231cf1bf",
   "metadata": {},
   "outputs": [
    {
     "name": "stdout",
     "output_type": "stream",
     "text": [
      "{\n",
      "    \"accounts\": [\n",
      "        {\n",
      "            \"account\": 200,\n",
      "            \"name\": \"Jones\",\n",
      "            \"balance\": 25.0\n",
      "        },\n",
      "        {\n",
      "            \"account\": 300,\n",
      "            \"name\": \"Aneta\",\n",
      "            \"balance\": 1541.0\n",
      "        }\n",
      "    ]\n",
      "}\n"
     ]
    }
   ],
   "source": [
    "with open('accounts.json','r') as accounts:\n",
    "    print(json.dumps(json.load(accounts),indent=4))"
   ]
  },
  {
   "cell_type": "code",
   "execution_count": null,
   "id": "b9e9a4b9",
   "metadata": {},
   "outputs": [],
   "source": [
    "gradesdict = {'gradebook':[{'studentID':1,'name':'Tromba','grade':'A'},{'studentID':2,'name':'Gaveta','grade':'B'},{'studentID':3,'name':'Tranzeta','grade':'C'}]}"
   ]
  },
  {
   "cell_type": "code",
   "execution_count": null,
   "id": "9a2de53b",
   "metadata": {},
   "outputs": [],
   "source": [
    "with open('grades.json','w') as grades:\n",
    "    json.dump(gradesdict,grades)"
   ]
  },
  {
   "cell_type": "code",
   "execution_count": null,
   "id": "fec992b2",
   "metadata": {},
   "outputs": [
    {
     "name": "stdout",
     "output_type": "stream",
     "text": [
      "{\"gradebook\": [{\"studentID\": 1, \"name\": \"Tromba\", \"grade\": \"A\"}, {\"studentID\": 2, \"name\": \"Gaveta\", \"grade\": \"B\"}, {\"studentID\": 3, \"name\": \"Tranzeta\", \"grade\": \"C\"}]}\n"
     ]
    }
   ],
   "source": [
    "!more grades.json"
   ]
  },
  {
   "cell_type": "code",
   "execution_count": null,
   "id": "cb7ed303",
   "metadata": {},
   "outputs": [
    {
     "name": "stdout",
     "output_type": "stream",
     "text": [
      "{\n",
      "    \"gradebook\": [\n",
      "        {\n",
      "            \"studentID\": 1,\n",
      "            \"name\": \"Tromba\",\n",
      "            \"grade\": \"A\"\n",
      "        },\n",
      "        {\n",
      "            \"studentID\": 2,\n",
      "            \"name\": \"Gaveta\",\n",
      "            \"grade\": \"B\"\n",
      "        },\n",
      "        {\n",
      "            \"studentID\": 3,\n",
      "            \"name\": \"Tranzeta\",\n",
      "            \"grade\": \"C\"\n",
      "        }\n",
      "    ]\n",
      "}\n"
     ]
    }
   ],
   "source": [
    "with open('grades.json','r') as grades:\n",
    "    print(json.dumps(json.load(grades),indent=4))"
   ]
  },
  {
   "cell_type": "markdown",
   "id": "bfe16482",
   "metadata": {},
   "source": [
    "## File Open Modes\n"
   ]
  },
  {
   "cell_type": "markdown",
   "id": "05c68f32",
   "metadata": {},
   "source": [
    "'r' =  reading\n",
    "'w' = writing\n",
    "'a' = appending\n",
    "'r+' = reading and writing\n",
    "'w+' = reading and writing, existing file contents are deleted\n",
    "'a+' = reading and appending at the end.New data is written at the end of the file.If the file doesn't exist,it is created\n",
    "\n",
    "read_method\n",
    "readline\n",
    "writelines"
   ]
  },
  {
   "cell_type": "markdown",
   "id": "b2226e25",
   "metadata": {},
   "source": [
    "## Handling Exceptions\n"
   ]
  },
  {
   "cell_type": "markdown",
   "id": "2aa76eb1",
   "metadata": {},
   "source": [
    "Exceptions:\n",
    "\n",
    "FileNotFoundError - opening a non-existent file for reading\n",
    "PermissionsError - Attempt an operation for which you do not have permission\n",
    "ValueError - Attempt to write to a closed file"
   ]
  },
  {
   "cell_type": "code",
   "execution_count": null,
   "id": "1424cbde",
   "metadata": {},
   "outputs": [
    {
     "name": "stdout",
     "output_type": "stream",
     "text": [
      "you must enters integers\n",
      "\n",
      "you must enters integers\n",
      "\n",
      "you must enters integers\n",
      "\n",
      "you must enters integers\n",
      "\n",
      "you must enters integers\n",
      "\n",
      "10.000 / 1.000 = 10.000\n"
     ]
    }
   ],
   "source": [
    "while True:\n",
    "    try:\n",
    "        nu1 = int(input('Enter numerator:'))\n",
    "        nu2 = int(input('Enter denominator:'))\n",
    "        result = nu1 / nu2\n",
    "    except ValueError: #tried to convert non-numeric value to int\n",
    "        print('you must enters integers\\n')\n",
    "    except ZeroDivisionError: # denominator was 0\n",
    "        print('Not allowed to divide by zero\\n')\n",
    "    else: #executes only \n",
    "        print(f'{nu1:.3f} / {nu2:.3f} = {result:.3f}')\n",
    "        break"
   ]
  },
  {
   "cell_type": "code",
   "execution_count": null,
   "id": "bf0f0b34",
   "metadata": {},
   "outputs": [],
   "source": [
    "def try_it(value):\n",
    "    try:\n",
    "        x = int(value)\n",
    "    except ValueError:\n",
    "        print(f'{value} could not be converted to an integer')\n",
    "    else:\n",
    "        print(f'int({value})is {x}')"
   ]
  },
  {
   "cell_type": "code",
   "execution_count": null,
   "id": "ac48fae8",
   "metadata": {},
   "outputs": [
    {
     "name": "stdout",
     "output_type": "stream",
     "text": [
      "rolacould not be converted to an integer\n"
     ]
    }
   ],
   "source": [
    "try_it('rola')"
   ]
  },
  {
   "cell_type": "code",
   "execution_count": null,
   "id": "a70453f9",
   "metadata": {},
   "outputs": [
    {
     "name": "stdout",
     "output_type": "stream",
     "text": [
      "int(54)is 54\n"
     ]
    }
   ],
   "source": [
    "try_it(54)"
   ]
  },
  {
   "cell_type": "markdown",
   "id": "9cd06a55",
   "metadata": {},
   "source": [
    "## finally Clause\n"
   ]
  },
  {
   "cell_type": "code",
   "execution_count": null,
   "id": "b5405981",
   "metadata": {},
   "outputs": [
    {
     "name": "stdout",
     "output_type": "stream",
     "text": [
      "try suite with no exceptions raised\n",
      "else executes because no exceptions were given in the try suite\n",
      "finally always executes\n"
     ]
    }
   ],
   "source": [
    "try:\n",
    "    print('try suite with no exceptions raised')\n",
    "except:\n",
    "    print('this will not execute')\n",
    "else:\n",
    "    print('else executes because no exceptions were given in the try suite')\n",
    "finally:\n",
    "    print('finally always executes')"
   ]
  },
  {
   "cell_type": "code",
   "execution_count": null,
   "id": "f47cde8e",
   "metadata": {},
   "outputs": [
    {
     "name": "stdout",
     "output_type": "stream",
     "text": [
      "try suite with no exceptions raised\n",
      "Value error ocorrendo\n",
      "finally always executes\n"
     ]
    }
   ],
   "source": [
    "try:\n",
    "    print('try suite with no exceptions raised')\n",
    "    int('VAI DAR ERRO AQUI')\n",
    "    print('it will not execute')\n",
    "except ValueError:\n",
    "    print('Value error ocorrendo')\n",
    "else:\n",
    "    print('else executes because no exceptions were given in the try suite')\n",
    "finally:\n",
    "    print('finally always executes')"
   ]
  },
  {
   "cell_type": "code",
   "execution_count": null,
   "id": "9bf4ffb9",
   "metadata": {},
   "outputs": [
    {
     "ename": "FileNotFoundError",
     "evalue": "[Errno 2] No such file or directory: 'bunda.txt'",
     "output_type": "error",
     "traceback": [
      "\u001b[1;31m---------------------------------------------------------------------------\u001b[0m",
      "\u001b[1;31mFileNotFoundError\u001b[0m                         Traceback (most recent call last)",
      "\u001b[1;32mc:\\Users\\thefa\\Estudos em Python\\Python.ipynb Cell 603'\u001b[0m in \u001b[0;36m<cell line: 1>\u001b[1;34m()\u001b[0m\n\u001b[1;32m----> <a href='vscode-notebook-cell:/c%3A/Users/thefa/Estudos%20em%20Python/Python.ipynb#ch0000602?line=0'>1</a>\u001b[0m \u001b[39mopen\u001b[39;49m(\u001b[39m'\u001b[39;49m\u001b[39mbunda.txt\u001b[39;49m\u001b[39m'\u001b[39;49m)\n",
      "\u001b[1;31mFileNotFoundError\u001b[0m: [Errno 2] No such file or directory: 'bunda.txt'"
     ]
    }
   ],
   "source": [
    "open('bunda.txt')"
   ]
  },
  {
   "cell_type": "code",
   "execution_count": null,
   "id": "40d3c02d",
   "metadata": {},
   "outputs": [
    {
     "name": "stdout",
     "output_type": "stream",
     "text": [
      "file doest not exist\n"
     ]
    }
   ],
   "source": [
    "try:\n",
    "    with open('gradez.txt','r') as accounts:\n",
    "        print(f\"{'ID':<3}{'Name':<7}{'Grade'}\")\n",
    "        for record in accounts:\n",
    "            studentId,name,grade=record.split()\n",
    "            print(f'{studentId:<3}{name:<7}{grade}')\n",
    "except FileNotFoundError:\n",
    "        print('file doest not exist')"
   ]
  },
  {
   "cell_type": "code",
   "execution_count": null,
   "id": "f51fe5bb",
   "metadata": {},
   "outputs": [],
   "source": [
    "def try_it(value):\n",
    "    try:\n",
    "        x = int(value)\n",
    "    except ValueError:\n",
    "        print(f'{value} could not be converted to an integer')\n",
    "    else:\n",
    "        print(f'int({value})is {x}')\n",
    "    finally:\n",
    "        print('finally always executes')"
   ]
  },
  {
   "cell_type": "code",
   "execution_count": null,
   "id": "bc7c0b84",
   "metadata": {},
   "outputs": [
    {
     "name": "stdout",
     "output_type": "stream",
     "text": [
      "int(50.0)is 50\n",
      "finally always executes\n"
     ]
    }
   ],
   "source": [
    "try_it(50.0)"
   ]
  },
  {
   "cell_type": "code",
   "execution_count": null,
   "id": "ba9c436c",
   "metadata": {},
   "outputs": [
    {
     "name": "stdout",
     "output_type": "stream",
     "text": [
      "int(50)is 50\n",
      "finally always executes\n"
     ]
    }
   ],
   "source": [
    "try_it(50)"
   ]
  },
  {
   "cell_type": "code",
   "execution_count": null,
   "id": "f94654ba",
   "metadata": {},
   "outputs": [
    {
     "name": "stdout",
     "output_type": "stream",
     "text": [
      "xereca could not be converted to an integer\n",
      "finally always executes\n"
     ]
    }
   ],
   "source": [
    "try_it('xereca')"
   ]
  },
  {
   "cell_type": "markdown",
   "id": "8b136714",
   "metadata": {},
   "source": [
    "## Raising an Exception"
   ]
  },
  {
   "cell_type": "code",
   "execution_count": null,
   "id": "35a1b1cc",
   "metadata": {},
   "outputs": [],
   "source": [
    "#to explicitly raise an exception\n",
    "use raise ExceptionClassName"
   ]
  },
  {
   "cell_type": "markdown",
   "id": "9c2f82cc",
   "metadata": {},
   "source": [
    "Stack Unwinding and Tracebacks\n"
   ]
  },
  {
   "cell_type": "code",
   "execution_count": null,
   "id": "8cdea0f4",
   "metadata": {},
   "outputs": [],
   "source": [
    "def function1():\n",
    "    function2()"
   ]
  },
  {
   "cell_type": "code",
   "execution_count": null,
   "id": "83e889c3",
   "metadata": {},
   "outputs": [],
   "source": [
    "def function2():\n",
    "    raise Exception('An exception occurred')"
   ]
  },
  {
   "cell_type": "code",
   "execution_count": null,
   "id": "7fab2a50",
   "metadata": {},
   "outputs": [
    {
     "ename": "Exception",
     "evalue": "An exception occurred",
     "output_type": "error",
     "traceback": [
      "\u001b[1;31m---------------------------------------------------------------------------\u001b[0m",
      "\u001b[1;31mException\u001b[0m                                 Traceback (most recent call last)",
      "\u001b[1;32mc:\\Users\\thefa\\Estudos em Python\\Python.ipynb Cell 686'\u001b[0m in \u001b[0;36m<cell line: 1>\u001b[1;34m()\u001b[0m\n\u001b[1;32m----> <a href='vscode-notebook-cell:/c%3A/Users/thefa/Estudos%20em%20Python/Python.ipynb#ch0000685?line=0'>1</a>\u001b[0m function1()\n",
      "\u001b[1;32mc:\\Users\\thefa\\Estudos em Python\\Python.ipynb Cell 607'\u001b[0m in \u001b[0;36mfunction1\u001b[1;34m()\u001b[0m\n\u001b[0;32m      <a href='vscode-notebook-cell:/c%3A/Users/thefa/Estudos%20em%20Python/Python.ipynb#ch0000606?line=0'>1</a>\u001b[0m \u001b[39mdef\u001b[39;00m \u001b[39mfunction1\u001b[39m():\n\u001b[1;32m----> <a href='vscode-notebook-cell:/c%3A/Users/thefa/Estudos%20em%20Python/Python.ipynb#ch0000606?line=1'>2</a>\u001b[0m     function2()\n",
      "\u001b[1;32mc:\\Users\\thefa\\Estudos em Python\\Python.ipynb Cell 682'\u001b[0m in \u001b[0;36mfunction2\u001b[1;34m()\u001b[0m\n\u001b[0;32m      <a href='vscode-notebook-cell:/c%3A/Users/thefa/Estudos%20em%20Python/Python.ipynb#ch0000681?line=0'>1</a>\u001b[0m \u001b[39mdef\u001b[39;00m \u001b[39mfunction2\u001b[39m():\n\u001b[1;32m----> <a href='vscode-notebook-cell:/c%3A/Users/thefa/Estudos%20em%20Python/Python.ipynb#ch0000681?line=1'>2</a>\u001b[0m     \u001b[39mraise\u001b[39;00m \u001b[39mException\u001b[39;00m(\u001b[39m'\u001b[39m\u001b[39mAn exception occurred\u001b[39m\u001b[39m'\u001b[39m)\n",
      "\u001b[1;31mException\u001b[0m: An exception occurred"
     ]
    }
   ],
   "source": [
    "function1()"
   ]
  },
  {
   "cell_type": "code",
   "execution_count": null,
   "id": "67156cd5",
   "metadata": {},
   "outputs": [],
   "source": []
  },
  {
   "cell_type": "code",
   "execution_count": null,
   "id": "255139fb",
   "metadata": {},
   "outputs": [],
   "source": []
  },
  {
   "cell_type": "code",
   "execution_count": null,
   "id": "7a268ccb",
   "metadata": {},
   "outputs": [],
   "source": []
  },
  {
   "cell_type": "code",
   "execution_count": null,
   "id": "63f8a782",
   "metadata": {},
   "outputs": [],
   "source": []
  },
  {
   "cell_type": "code",
   "execution_count": null,
   "id": "97cef172",
   "metadata": {},
   "outputs": [],
   "source": []
  },
  {
   "cell_type": "code",
   "execution_count": null,
   "id": "d9dfbac7",
   "metadata": {},
   "outputs": [],
   "source": []
  },
  {
   "cell_type": "code",
   "execution_count": null,
   "id": "8fe269dc",
   "metadata": {},
   "outputs": [],
   "source": []
  },
  {
   "cell_type": "code",
   "execution_count": null,
   "id": "06691cad",
   "metadata": {},
   "outputs": [],
   "source": []
  },
  {
   "cell_type": "code",
   "execution_count": null,
   "id": "0bc079a4",
   "metadata": {},
   "outputs": [],
   "source": []
  },
  {
   "cell_type": "code",
   "execution_count": null,
   "id": "214e6bf9",
   "metadata": {},
   "outputs": [],
   "source": []
  },
  {
   "cell_type": "code",
   "execution_count": null,
   "metadata": {},
   "outputs": [],
   "source": []
  },
  {
   "cell_type": "code",
   "execution_count": null,
   "id": "446eac33-6257-4a17-ba59-6bcd846f19d0",
   "metadata": {},
   "outputs": [
    {
     "name": "stderr",
     "output_type": "stream",
     "text": [
      "UsageError: Line magic function `%who'Valid'` not found.\n"
     ]
    }
   ],
   "source": [
    "%who"
   ]
  },
  {
   "cell_type": "code",
   "execution_count": null,
   "id": "7139703b-355d-4cc4-8f7a-b195f2ff31cf",
   "metadata": {},
   "outputs": [],
   "source": [
    "%who_ls"
   ]
  },
  {
   "cell_type": "code",
   "execution_count": null,
   "id": "97a12a5d-257c-4692-ba2c-ca634711ac6e",
   "metadata": {},
   "outputs": [],
   "source": [
    "%%writefile teste_magic.txt #it saves anything from a current cell into a file"
   ]
  },
  {
   "cell_type": "code",
   "execution_count": null,
   "id": "ba180437-dee1-4b6d-aaaa-fa4cc7c3e796",
   "metadata": {},
   "outputs": [],
   "source": [
    "%%bash\n",
    "uname -a"
   ]
  },
  {
   "cell_type": "code",
   "execution_count": null,
   "id": "7fe894ed-ae89-4bde-a490-9471d619c1a3",
   "metadata": {},
   "outputs": [],
   "source": [
    "%%python2\n",
    "print \"old school\""
   ]
  },
  {
   "cell_type": "code",
   "execution_count": null,
   "id": "29232c48-6964-4b15-bea1-0dff8452058a",
   "metadata": {},
   "outputs": [],
   "source": [
    "%%writefile teste_magic.txt\n",
    "import requests\n",
    "requests.get('https://docs.scipy.org/doc/').text.count('')"
   ]
  },
  {
   "cell_type": "code",
   "execution_count": null,
   "id": "528b6054-f995-47c5-990e-3ae672d9e430",
   "metadata": {},
   "outputs": [],
   "source": [
    "cat teste_magic.txt"
   ]
  },
  {
   "cell_type": "code",
   "execution_count": null,
   "id": "825851d0-51cc-46cb-b921-309ce9795828",
   "metadata": {},
   "outputs": [],
   "source": [
    "%%html\n",
    "<h1>TROMBA!!!</H>"
   ]
  },
  {
   "cell_type": "code",
   "execution_count": null,
   "id": "f230e470-a0a5-4e5c-b294-57328ea3b590",
   "metadata": {},
   "outputs": [],
   "source": []
  },
  {
   "cell_type": "code",
   "execution_count": null,
   "id": "179ece59-a80e-4618-be2e-f99d334eb508",
   "metadata": {},
   "outputs": [],
   "source": []
  },
  {
   "cell_type": "code",
   "execution_count": null,
   "id": "aed32654-b1af-4566-bc48-80058d4c273e",
   "metadata": {},
   "outputs": [],
   "source": [
    "assert\n",
    "pass\n",
    "del\n",
    "return\n",
    "yield\n",
    "def toomuchfood():\n",
    "    meal = ['orange','apple','ham','salami']\n",
    "    for snack in meal:\n",
    "        yield snack\n",
    "        \n",
    "snacks = toomuchfood()\n",
    "print(next(snacks))\n",
    "\n",
    "break\n",
    "continue\n",
    "import\n",
    "\n",
    "\n",
    "\n"
   ]
  },
  {
   "cell_type": "code",
   "execution_count": null,
   "id": "00c5a678-a920-4fe2-8dc9-861ac19a0189",
   "metadata": {},
   "outputs": [],
   "source": []
  },
  {
   "cell_type": "code",
   "execution_count": null,
   "id": "6ff7482f-a291-4969-aceb-ac8bf53e4216",
   "metadata": {},
   "outputs": [
    {
     "data": {
      "text/plain": [
       "Decimal('3.333333333333333333333333333333333333333333333333333333')"
      ]
     },
     "execution_count": 1,
     "metadata": {},
     "output_type": "execute_result"
    }
   ],
   "source": [
    "from decimal import (Decimal,getcontext)\n",
    "getcontext().prec = 55\n",
    "Decimal(10) / Decimal(3)"
   ]
  },
  {
   "cell_type": "code",
   "execution_count": null,
   "id": "a9aaeac5-2b32-42cd-a29e-c1e8d8519ada",
   "metadata": {},
   "outputs": [
    {
     "name": "stdout",
     "output_type": "stream",
     "text": [
      "34 is type int\n"
     ]
    }
   ],
   "source": [
    "number = 34\n",
    "numtype = type(number).__name__\n",
    "print(f'{number} is type {numtype}')"
   ]
  },
  {
   "cell_type": "markdown",
   "id": "0bbf5e24",
   "metadata": {},
   "source": [
    "## Custom Classes"
   ]
  },
  {
   "cell_type": "code",
   "execution_count": 5,
   "id": "35bac026-9f86-47b8-b5a1-01766954061a",
   "metadata": {},
   "outputs": [],
   "source": [
    "\"\"\"Account class definition.\"\"\"\n",
    "from decimal import Decimal #import the libraries before introducing classes\n",
    "\n",
    "class Account:\n",
    "    \"\"\"Account class for maintaining a bank account balance.\"\"\"\n",
    "    \n",
    "    def __init__(self, name, balance,): # __init__ is a special method, it initialize objects in the class, this is a method\n",
    "        \"\"\"Initialize an Account object.\"\"\"\n",
    "\n",
    "        # if balance is less than 0.00, raise an exception\n",
    "        if balance < Decimal('0.00'):\n",
    "            raise ValueError('Initial balance must be >= to 0.00.')\n",
    "\n",
    "        self.name = name # this creates the name atrribute\n",
    "        self.balance = balance #this creates the balance attribute\n",
    "\n",
    "    def deposit(self, amount):\n",
    "        \"\"\"Deposit money to the account.\"\"\"\n",
    "\n",
    "        # if amount is less than 0.00, raise an exception\n",
    "        if amount < Decimal('0.00'):\n",
    "            raise ValueError('amount must be positive.')\n",
    "\n",
    "        self.balance += amount\n",
    "        \n",
    "    def withdraw(self, amount): #generally self is used to reference the object to call the withdraw method in this case, amount the argument\n",
    "        \"\"\"Withdraw money from the account\"\"\"\n",
    "        if amount > self.balance:\n",
    "            raise ValueError('Withdrawl amount must be less or equal to the balance')\n",
    "        elif amount < Decimal('0.00'):\n",
    "            raise ValueError('Withdrawl amount must be positive value')\n",
    "        self.balance -= amount "
   ]
  },
  {
   "cell_type": "code",
   "execution_count": 6,
   "id": "15afa636",
   "metadata": {},
   "outputs": [
    {
     "data": {
      "text/plain": [
       "Decimal('100.00')"
      ]
     },
     "execution_count": 6,
     "metadata": {},
     "output_type": "execute_result"
    }
   ],
   "source": [
    "from account import Account\n",
    "account1 = Account('Tromba',Decimal('100.00'))\n",
    "account1.balance"
   ]
  },
  {
   "cell_type": "code",
   "execution_count": 7,
   "id": "e6de82a4",
   "metadata": {},
   "outputs": [
    {
     "data": {
      "text/plain": [
       "'Tromba'"
      ]
     },
     "execution_count": 7,
     "metadata": {},
     "output_type": "execute_result"
    }
   ],
   "source": [
    "account1.name"
   ]
  },
  {
   "cell_type": "code",
   "execution_count": 8,
   "id": "a0aab112",
   "metadata": {},
   "outputs": [],
   "source": [
    "account1.deposit(Decimal('20.00'))"
   ]
  },
  {
   "cell_type": "code",
   "execution_count": 9,
   "id": "4577ed8b",
   "metadata": {},
   "outputs": [
    {
     "data": {
      "text/plain": [
       "Decimal('120.00')"
      ]
     },
     "execution_count": 9,
     "metadata": {},
     "output_type": "execute_result"
    }
   ],
   "source": [
    "account1.balance"
   ]
  },
  {
   "cell_type": "code",
   "execution_count": null,
   "id": "a5420392",
   "metadata": {},
   "outputs": [],
   "source": [
    "  "
   ]
  },
  {
   "cell_type": "code",
   "execution_count": 10,
   "id": "9d143a21",
   "metadata": {},
   "outputs": [],
   "source": [
    "account1 = Account('Tromba',Decimal('100.00'))"
   ]
  },
  {
   "cell_type": "code",
   "execution_count": 11,
   "id": "ac5f9368",
   "metadata": {},
   "outputs": [],
   "source": [
    "account1.withdraw(Decimal('20.00'))"
   ]
  },
  {
   "cell_type": "code",
   "execution_count": 12,
   "id": "17586c04",
   "metadata": {},
   "outputs": [
    {
     "data": {
      "text/plain": [
       "Decimal('80.00')"
      ]
     },
     "execution_count": 12,
     "metadata": {},
     "output_type": "execute_result"
    }
   ],
   "source": [
    "account1.balance"
   ]
  },
  {
   "cell_type": "code",
   "execution_count": 13,
   "id": "b19bd0c0",
   "metadata": {},
   "outputs": [
    {
     "ename": "ValueError",
     "evalue": "Withdrawl amount must be positive value",
     "output_type": "error",
     "traceback": [
      "\u001b[1;31m---------------------------------------------------------------------------\u001b[0m",
      "\u001b[1;31mValueError\u001b[0m                                Traceback (most recent call last)",
      "\u001b[1;32mc:\\Users\\thefa\\Estudos em Python\\Python.ipynb Cell 826\u001b[0m in \u001b[0;36m<cell line: 1>\u001b[1;34m()\u001b[0m\n\u001b[1;32m----> <a href='vscode-notebook-cell:/c%3A/Users/thefa/Estudos%20em%20Python/Python.ipynb#Z2256sZmlsZQ%3D%3D?line=0'>1</a>\u001b[0m account1\u001b[39m.\u001b[39;49mwithdraw(Decimal(\u001b[39m'\u001b[39;49m\u001b[39m-100.00\u001b[39;49m\u001b[39m'\u001b[39;49m))\n",
      "File \u001b[1;32mc:\\Users\\thefa\\Estudos em Python\\account.py:32\u001b[0m, in \u001b[0;36mAccount.withdraw\u001b[1;34m(self, amount)\u001b[0m\n\u001b[0;32m     30\u001b[0m     \u001b[39mraise\u001b[39;00m \u001b[39mValueError\u001b[39;00m(\u001b[39m'\u001b[39m\u001b[39mWithdrawl amount must be less or equal to the balance\u001b[39m\u001b[39m'\u001b[39m)\n\u001b[0;32m     31\u001b[0m \u001b[39melif\u001b[39;00m amount \u001b[39m<\u001b[39m Decimal(\u001b[39m'\u001b[39m\u001b[39m0.00\u001b[39m\u001b[39m'\u001b[39m):\n\u001b[1;32m---> 32\u001b[0m     \u001b[39mraise\u001b[39;00m \u001b[39mValueError\u001b[39;00m(\u001b[39m'\u001b[39m\u001b[39mWithdrawl amount must be positive value\u001b[39m\u001b[39m'\u001b[39m)\n\u001b[0;32m     33\u001b[0m \u001b[39mself\u001b[39m\u001b[39m.\u001b[39mbalance \u001b[39m-\u001b[39m\u001b[39m=\u001b[39m amount\n",
      "\u001b[1;31mValueError\u001b[0m: Withdrawl amount must be positive value"
     ]
    }
   ],
   "source": [
    "account1.withdraw(Decimal('-100.00'))"
   ]
  },
  {
   "cell_type": "code",
   "execution_count": 14,
   "id": "3ae31d00",
   "metadata": {},
   "outputs": [
    {
     "ename": "ValueError",
     "evalue": "Withdrawl amount must be less or equal to the balance",
     "output_type": "error",
     "traceback": [
      "\u001b[1;31m---------------------------------------------------------------------------\u001b[0m",
      "\u001b[1;31mValueError\u001b[0m                                Traceback (most recent call last)",
      "\u001b[1;32mc:\\Users\\thefa\\Estudos em Python\\Python.ipynb Cell 827\u001b[0m in \u001b[0;36m<cell line: 1>\u001b[1;34m()\u001b[0m\n\u001b[1;32m----> <a href='vscode-notebook-cell:/c%3A/Users/thefa/Estudos%20em%20Python/Python.ipynb#Z2260sZmlsZQ%3D%3D?line=0'>1</a>\u001b[0m account1\u001b[39m.\u001b[39;49mwithdraw(Decimal(\u001b[39m'\u001b[39;49m\u001b[39m100.00\u001b[39;49m\u001b[39m'\u001b[39;49m))\n",
      "File \u001b[1;32mc:\\Users\\thefa\\Estudos em Python\\account.py:30\u001b[0m, in \u001b[0;36mAccount.withdraw\u001b[1;34m(self, amount)\u001b[0m\n\u001b[0;32m     28\u001b[0m \u001b[39m\"\"\"Withdraw money from the account\"\"\"\u001b[39;00m\n\u001b[0;32m     29\u001b[0m \u001b[39mif\u001b[39;00m amount \u001b[39m>\u001b[39m \u001b[39mself\u001b[39m\u001b[39m.\u001b[39mbalance:\n\u001b[1;32m---> 30\u001b[0m     \u001b[39mraise\u001b[39;00m \u001b[39mValueError\u001b[39;00m(\u001b[39m'\u001b[39m\u001b[39mWithdrawl amount must be less or equal to the balance\u001b[39m\u001b[39m'\u001b[39m)\n\u001b[0;32m     31\u001b[0m \u001b[39melif\u001b[39;00m amount \u001b[39m<\u001b[39m Decimal(\u001b[39m'\u001b[39m\u001b[39m0.00\u001b[39m\u001b[39m'\u001b[39m):\n\u001b[0;32m     32\u001b[0m     \u001b[39mraise\u001b[39;00m \u001b[39mValueError\u001b[39;00m(\u001b[39m'\u001b[39m\u001b[39mWithdrawl amount must be positive value\u001b[39m\u001b[39m'\u001b[39m)\n",
      "\u001b[1;31mValueError\u001b[0m: Withdrawl amount must be less or equal to the balance"
     ]
    }
   ],
   "source": [
    "account1.withdraw(Decimal('100.00'))"
   ]
  },
  {
   "cell_type": "code",
   "execution_count": 15,
   "id": "0f3701a5",
   "metadata": {},
   "outputs": [],
   "source": [
    "account1.balance = (Decimal('-100'))"
   ]
  },
  {
   "cell_type": "code",
   "execution_count": 16,
   "id": "f89ae2d3",
   "metadata": {},
   "outputs": [
    {
     "data": {
      "text/plain": [
       "Decimal('-100')"
      ]
     },
     "execution_count": 16,
     "metadata": {},
     "output_type": "execute_result"
    }
   ],
   "source": [
    "account1.balance"
   ]
  },
  {
   "cell_type": "markdown",
   "id": "145fdb8d",
   "metadata": {},
   "source": [
    "## Properties for Data Access--Test-Driving Class Time"
   ]
  },
  {
   "cell_type": "code",
   "execution_count": null,
   "id": "c84c597d",
   "metadata": {},
   "outputs": [],
   "source": [
    "\"\"\"Class Time with read-write properties\"\"\"\n",
    "\n",
    "class Time:\n",
    "    \"\"\"Class time with read-write properties\"\"\"\n",
    "\n",
    "    def __init__(self,hour=0,minute=0,second=0):\n",
    "        \"\"\"Initialize each attribute\"\"\"\n",
    "\n",
    "        self.hour = hour\n",
    "        self.minute = minute\n",
    "        self.second = second\n",
    "\n",
    "    @property\n",
    "    def hour(self):\n",
    "        \"\"\"Return the hour\"\"\"\n",
    "        return self._hour\n",
    "\n",
    "    @hour.setter\n",
    "    def hour(self,hour):\n",
    "        \"\"\"Set the hour\"\"\"\n",
    "\n",
    "        if not(0 <= hour < 24):\n",
    "            raise ValueError(f'Hour({hour})must be 0-23')\n",
    "        \n",
    "        self._hour = hour\n",
    "\n",
    "\n",
    "    @property\n",
    "    def minute(self):\n",
    "        \"\"\"Return the minutes\"\"\"\n",
    "        return self._minute\n",
    "\n",
    "    @minute.setter\n",
    "    def minute(self,minute):\n",
    "        \"\"\"Set the minute\"\"\"\n",
    "\n",
    "        if not(0 <= minute < 60):\n",
    "            raise ValueError(f'Minute({minute})must be 0-59')\n",
    "\n",
    "        self._minute = minute\n",
    "\n",
    "\n",
    "\n",
    "    @property\n",
    "    def second(self):\n",
    "        \"\"\"Return the seconds\"\"\"    \n",
    "        return self._second\n",
    "\n",
    "\n",
    "    @second.setter\n",
    "    def second(self,second):\n",
    "        \"\"\"Set the seconds\"\"\"\n",
    "\n",
    "        if not(0 <= second < 60):\n",
    "            raise ValueError(f'Second({second})must be 0-59')\n",
    "        \n",
    "        self._second = second\n",
    "\n",
    "\n",
    "    def set_time(self,hour=0,minute=0,second=0):\n",
    "        \"\"\"Set values of hours,minutes and seconds\"\"\"\n",
    "\n",
    "        self.hour = hour\n",
    "        self.minute = minute\n",
    "        self.second = second\n",
    "\n",
    "    def __repr__(self):\n",
    "        \"\"\"Return tTime string for repr()\"\"\"\n",
    "        return(f'Time(hour={self.hour},minute={self.minute},'+ f'second={self.second})')\n",
    "\n",
    "    def __str__(self):\n",
    "        \"\"\"Return Time string in 12-hour clock format\"\"\"\n",
    "        return(('12' if self.hour in (0,12) else str(self.hour % 12)) + f':{self.minute:0>2}:{self.second:0>2}' + (' AM' if self.hour < 12 else ' PM'))      \n",
    "\n",
    "        "
   ]
  },
  {
   "cell_type": "code",
   "execution_count": null,
   "id": "f4db6773",
   "metadata": {},
   "outputs": [],
   "source": [
    "from timewithproperties import Time\n",
    "wakeup = Time(hour=6, minute=30)"
   ]
  },
  {
   "cell_type": "code",
   "execution_count": null,
   "id": "5b54045b",
   "metadata": {},
   "outputs": [
    {
     "data": {
      "text/plain": [
       "Time(hour=6,minute=30,second=0)"
      ]
     },
     "execution_count": 3,
     "metadata": {},
     "output_type": "execute_result"
    }
   ],
   "source": [
    "wakeup #this calls the special method __repr__ representation"
   ]
  },
  {
   "cell_type": "code",
   "execution_count": null,
   "id": "af7ce8b8",
   "metadata": {},
   "outputs": [
    {
     "name": "stdout",
     "output_type": "stream",
     "text": [
      "6:30:00 AM\n"
     ]
    }
   ],
   "source": [
    "print(wakeup)#this calls the special method __str__ representation"
   ]
  },
  {
   "cell_type": "code",
   "execution_count": null,
   "id": "1fbcfc48",
   "metadata": {},
   "outputs": [],
   "source": []
  },
  {
   "cell_type": "code",
   "execution_count": null,
   "id": "846d0d4d-1b72-4560-9098-d6d11863fe81",
   "metadata": {},
   "outputs": [],
   "source": [
    "from account import Account\n",
    "from decimal import Decimal\n",
    "\n",
    "account1 = Account('John Green',Decimal('50.00')) # Constructor Expression example"
   ]
  },
  {
   "cell_type": "code",
   "execution_count": null,
   "id": "12525035-a421-466c-85e6-200566b3764a",
   "metadata": {},
   "outputs": [
    {
     "data": {
      "text/plain": [
       "'John Green'"
      ]
     },
     "execution_count": 6,
     "metadata": {},
     "output_type": "execute_result"
    }
   ],
   "source": [
    "account1.name"
   ]
  },
  {
   "cell_type": "code",
   "execution_count": null,
   "id": "c542ffdc-041b-4711-a3de-e04aaf2b55b1",
   "metadata": {},
   "outputs": [
    {
     "data": {
      "text/plain": [
       "Decimal('50.00')"
      ]
     },
     "execution_count": 7,
     "metadata": {},
     "output_type": "execute_result"
    }
   ],
   "source": [
    "account1.balance"
   ]
  },
  {
   "cell_type": "code",
   "execution_count": null,
   "id": "c07712eb-fb51-4c3d-af3f-3dae980c94d3",
   "metadata": {},
   "outputs": [],
   "source": [
    "account1.deposit(Decimal('40.50'))"
   ]
  },
  {
   "cell_type": "code",
   "execution_count": null,
   "id": "41734035-9947-4c2c-8cb4-9e9162fed9d2",
   "metadata": {},
   "outputs": [
    {
     "data": {
      "text/plain": [
       "Decimal('90.50')"
      ]
     },
     "execution_count": 9,
     "metadata": {},
     "output_type": "execute_result"
    }
   ],
   "source": [
    "account1.balance"
   ]
  },
  {
   "cell_type": "code",
   "execution_count": null,
   "id": "18b8d3d3-954a-4a39-b804-29aaff22b164",
   "metadata": {},
   "outputs": [
    {
     "name": "stdout",
     "output_type": "stream",
     "text": [
      "\u001b[1;31mInit signature:\u001b[0m \u001b[0mAccount\u001b[0m\u001b[1;33m(\u001b[0m\u001b[0mname\u001b[0m\u001b[1;33m,\u001b[0m \u001b[0mbalance\u001b[0m\u001b[1;33m)\u001b[0m\u001b[1;33m\u001b[0m\u001b[1;33m\u001b[0m\u001b[0m\n",
      "\u001b[1;31mDocstring:\u001b[0m      Account class for maintaining a bank account balance.\n",
      "\u001b[1;31mInit docstring:\u001b[0m Initialize an Account object.\n",
      "\u001b[1;31mFile:\u001b[0m           c:\\users\\thefa\\estudos em python\\account.py\n",
      "\u001b[1;31mType:\u001b[0m           type\n",
      "\u001b[1;31mSubclasses:\u001b[0m     \n"
     ]
    }
   ],
   "source": [
    "Account?"
   ]
  },
  {
   "cell_type": "code",
   "execution_count": null,
   "id": "008ee7a6",
   "metadata": {},
   "outputs": [
    {
     "name": "stdout",
     "output_type": "stream",
     "text": [
      "Collecting private\n",
      "  Downloading private-0.2.0-py2.py3-none-any.whl (6.6 kB)\n",
      "Collecting pyaes\n",
      "  Downloading pyaes-1.6.1.tar.gz (28 kB)\n",
      "  Preparing metadata (setup.py): started\n",
      "  Preparing metadata (setup.py): finished with status 'done'\n",
      "Collecting fire\n",
      "  Downloading fire-0.4.0.tar.gz (87 kB)\n",
      "     ---------------------------------------- 87.7/87.7 kB 4.8 MB/s eta 0:00:00\n",
      "  Preparing metadata (setup.py): started\n",
      "  Preparing metadata (setup.py): finished with status 'done'\n",
      "Requirement already satisfied: six in c:\\users\\thefa\\appdata\\local\\packages\\pythonsoftwarefoundation.python.3.10_qbz5n2kfra8p0\\localcache\\local-packages\\python310\\site-packages (from fire->private) (1.16.0)\n",
      "Requirement already satisfied: termcolor in c:\\users\\thefa\\appdata\\local\\packages\\pythonsoftwarefoundation.python.3.10_qbz5n2kfra8p0\\localcache\\local-packages\\python310\\site-packages (from fire->private) (1.1.0)\n",
      "Building wheels for collected packages: fire, pyaes\n",
      "  Building wheel for fire (setup.py): started\n",
      "  Building wheel for fire (setup.py): finished with status 'done'\n",
      "  Created wheel for fire: filename=fire-0.4.0-py2.py3-none-any.whl size=115942 sha256=3040443de9487bb5f741e6cb96583e886c21fe06332751eae542f5b5647422de\n",
      "  Stored in directory: c:\\users\\thefa\\appdata\\local\\pip\\cache\\wheels\\26\\9a\\dd\\2818b1b023daf077ec3e625c47ae446aca587a5abe48e05212\n",
      "  Building wheel for pyaes (setup.py): started\n",
      "  Building wheel for pyaes (setup.py): finished with status 'done'\n",
      "  Created wheel for pyaes: filename=pyaes-1.6.1-py3-none-any.whl size=26363 sha256=2df21d0929a985194a80a0144fcd614c57879e5f0f1cd2350fa85f57091238f3\n",
      "  Stored in directory: c:\\users\\thefa\\appdata\\local\\pip\\cache\\wheels\\d6\\84\\5f\\ea6aef85a93c7e1922486369874f4740a5642d261e09c59140\n",
      "Successfully built fire pyaes\n",
      "Installing collected packages: pyaes, fire, private\n",
      "Successfully installed fire-0.4.0 private-0.2.0 pyaes-1.6.1\n"
     ]
    },
    {
     "name": "stderr",
     "output_type": "stream",
     "text": [
      "  WARNING: The script private.exe is installed in 'C:\\Users\\thefa\\AppData\\Local\\Packages\\PythonSoftwareFoundation.Python.3.10_qbz5n2kfra8p0\\LocalCache\\local-packages\\Python310\\Scripts' which is not on PATH.\n",
      "  Consider adding this directory to PATH or, if you prefer to suppress this warning, use --no-warn-script-location.\n"
     ]
    }
   ],
   "source": [
    "!pip install private"
   ]
  },
  {
   "cell_type": "markdown",
   "id": "4495d582-7504-41e9-9da5-8af6943709c5",
   "metadata": {},
   "source": [
    "## Card Shuffling and Dealing Simulation--Test Driving Classes Card and DeckOfCards"
   ]
  },
  {
   "cell_type": "code",
   "execution_count": null,
   "id": "2acc00fe-d73b-414c-b317-bf926f968924",
   "metadata": {},
   "outputs": [
    {
     "name": "stdout",
     "output_type": "stream",
     "text": [
      "Overwriting deck.py\n"
     ]
    }
   ],
   "source": [
    "%%writefile deck.py\n",
    "# deck.py\n",
    "\"\"\"Deck class represents a deck of Cards.\"\"\"\n",
    "import random \n",
    "from card import Card\n",
    "\n",
    "class DeckOfCards:\n",
    "    NUMBER_OF_CARDS = 52  # constant number of Cards\n",
    "\n",
    "    def __init__(self):\n",
    "        \"\"\"Initialize the deck.\"\"\"\n",
    "        self._current_card = 0\n",
    "        self._deck = []\n",
    "\n",
    "        for count in range(DeckOfCards.NUMBER_OF_CARDS):  \n",
    "            self._deck.append(Card(Card.FACES[count % 13], \n",
    "                Card.SUITS[count // 13]))\n",
    "\n",
    "    def shuffle(self):\n",
    "        \"\"\"Shuffle deck.\"\"\"\n",
    "        self._current_card = 0\n",
    "        random.shuffle(self._deck)    \n",
    "\n",
    "    def deal_card(self):\n",
    "        \"\"\"Return one Card.\"\"\"\n",
    "        try:\n",
    "            card = self._deck[self._current_card]\n",
    "            self._current_card += 1\n",
    "            return card\n",
    "        except:\n",
    "            return None  \n",
    "\n",
    "    def __str__(self):\n",
    "        \"\"\"Return a string representation of the current _deck.\"\"\"\n",
    "        s = ''\n",
    "\n",
    "        for index, card in enumerate(self._deck):\n",
    "            s += f'{self._deck[index]:<19}'\n",
    "            if (index + 1) % 4 == 0:\n",
    "                s += '\\n'\n",
    "        \n",
    "        return s"
   ]
  },
  {
   "cell_type": "code",
   "execution_count": null,
   "id": "9b523a4c-ea5e-478b-82ef-6e9e86a4c49f",
   "metadata": {},
   "outputs": [
    {
     "name": "stdout",
     "output_type": "stream",
     "text": [
      "Writing card.py\n"
     ]
    }
   ],
   "source": [
    "%%writefile card.py\n",
    "# card.py\n",
    "\"\"\"Card class that represents a playing card and its image file name.\"\"\"\n",
    "\n",
    "class Card:\n",
    "    FACES = ['Ace', '2', '3', '4', '5', '6',\n",
    "             '7', '8', '9', '10', 'Jack', 'Queen', 'King']\n",
    "    SUITS = ['Hearts', 'Diamonds', 'Clubs', 'Spades']\n",
    "\n",
    "    def __init__(self, face, suit):\n",
    "        \"\"\"Initialize a Card with a face and suit.\"\"\"\n",
    "        self._face = face\n",
    "        self._suit = suit\n",
    "\n",
    "    @property\n",
    "    def face(self):\n",
    "        \"\"\"Return the Card's self._face value.\"\"\"\n",
    "        return self._face\n",
    "\n",
    "    @property\n",
    "    def suit(self):\n",
    "        \"\"\"Return the Card's self._suit value.\"\"\"\n",
    "        return self._suit\n",
    "\n",
    "    @property\n",
    "    def image_name(self):\n",
    "        \"\"\"Return the Card's image file name.\"\"\"\n",
    "        return str(self).replace(' ', '_') + '.png'\n",
    "\n",
    "    def __repr__(self):\n",
    "        \"\"\"Return string representation for repr().\"\"\"\n",
    "        return f\"Card(face='{self.face}', suit='{self.suit}')\"     \n",
    "\n",
    "    def __str__(self):\n",
    "        \"\"\"Return string representation for str().\"\"\"\n",
    "        return f'{self.face} of {self.suit}'\n",
    "\n",
    "    def __format__(self, format):\n",
    "        \"\"\"Return formatted string representation.\"\"\"\n",
    "        return f'{str(self):{format}}'"
   ]
  },
  {
   "cell_type": "code",
   "execution_count": null,
   "id": "43153aba-b4b7-433c-9596-f24bf2319d1d",
   "metadata": {},
   "outputs": [],
   "source": [
    "from deck import DeckOfCards"
   ]
  },
  {
   "cell_type": "code",
   "execution_count": null,
   "id": "b372bda6-df3f-4874-8a85-db6f40829199",
   "metadata": {},
   "outputs": [],
   "source": [
    "deckofcards = DeckOfCards()\n"
   ]
  },
  {
   "cell_type": "code",
   "execution_count": null,
   "id": "d435f266-2be9-45bf-be8f-2b39160e7aef",
   "metadata": {},
   "outputs": [
    {
     "name": "stdout",
     "output_type": "stream",
     "text": [
      "Ace of Hearts      2 of Hearts        3 of Hearts        4 of Hearts        \n",
      "5 of Hearts        6 of Hearts        7 of Hearts        8 of Hearts        \n",
      "9 of Hearts        10 of Hearts       Jack of Hearts     Queen of Hearts    \n",
      "King of Hearts     Ace of Diamonds    2 of Diamonds      3 of Diamonds      \n",
      "4 of Diamonds      5 of Diamonds      6 of Diamonds      7 of Diamonds      \n",
      "8 of Diamonds      9 of Diamonds      10 of Diamonds     Jack of Diamonds   \n",
      "Queen of Diamonds  King of Diamonds   Ace of Clubs       2 of Clubs         \n",
      "3 of Clubs         4 of Clubs         5 of Clubs         6 of Clubs         \n",
      "7 of Clubs         8 of Clubs         9 of Clubs         10 of Clubs        \n",
      "Jack of Clubs      Queen of Clubs     King of Clubs      Ace of Spades      \n",
      "2 of Spades        3 of Spades        4 of Spades        5 of Spades        \n",
      "6 of Spades        7 of Spades        8 of Spades        9 of Spades        \n",
      "10 of Spades       Jack of Spades     Queen of Spades    King of Spades     \n",
      "\n"
     ]
    }
   ],
   "source": [
    "print(deckofcards)"
   ]
  },
  {
   "cell_type": "code",
   "execution_count": null,
   "id": "602e87be-ee39-4e1c-a1ae-d2f8f8ba75ef",
   "metadata": {},
   "outputs": [],
   "source": [
    " deckofcards.shuffle()"
   ]
  },
  {
   "cell_type": "code",
   "execution_count": null,
   "id": "e3515714-3971-475a-ae4b-a658d6782d97",
   "metadata": {},
   "outputs": [
    {
     "name": "stdout",
     "output_type": "stream",
     "text": [
      "4 of Clubs         5 of Hearts        10 of Clubs        10 of Hearts       \n",
      "3 of Hearts        Ace of Clubs       7 of Clubs         9 of Diamonds      \n",
      "Jack of Clubs      8 of Diamonds      10 of Spades       Queen of Diamonds  \n",
      "8 of Spades        2 of Spades        Ace of Hearts      5 of Diamonds      \n",
      "2 of Hearts        9 of Spades        7 of Diamonds      8 of Clubs         \n",
      "5 of Spades        Queen of Clubs     Ace of Diamonds    7 of Spades        \n",
      "Jack of Diamonds   6 of Hearts        7 of Hearts        King of Clubs      \n",
      "3 of Diamonds      5 of Clubs         8 of Hearts        Ace of Spades      \n",
      "6 of Clubs         Queen of Hearts    Queen of Spades    2 of Diamonds      \n",
      "King of Diamonds   4 of Spades        10 of Diamonds     6 of Spades        \n",
      "Jack of Hearts     King of Spades     9 of Hearts        4 of Diamonds      \n",
      "3 of Clubs         4 of Hearts        9 of Clubs         6 of Diamonds      \n",
      "King of Hearts     2 of Clubs         Jack of Spades     3 of Spades        \n",
      "\n"
     ]
    }
   ],
   "source": [
    "print(deckofcards)"
   ]
  },
  {
   "cell_type": "code",
   "execution_count": null,
   "id": "f1c3f780-1095-4804-8738-8ec007b46efe",
   "metadata": {},
   "outputs": [
    {
     "data": {
      "text/plain": [
       "Card(face='10', suit='Clubs')"
      ]
     },
     "execution_count": 21,
     "metadata": {},
     "output_type": "execute_result"
    }
   ],
   "source": [
    "deckofcards.deal_card()"
   ]
  },
  {
   "cell_type": "code",
   "execution_count": null,
   "id": "bbca9fb2-9751-4704-991a-9f82b364789b",
   "metadata": {},
   "outputs": [],
   "source": [
    "card = deckofcards.deal_card()"
   ]
  },
  {
   "cell_type": "code",
   "execution_count": null,
   "id": "583683ae-604b-4a64-bffa-1b848f04d8b9",
   "metadata": {},
   "outputs": [
    {
     "data": {
      "text/plain": [
       "'5 of Hearts'"
      ]
     },
     "execution_count": 19,
     "metadata": {},
     "output_type": "execute_result"
    }
   ],
   "source": [
    "str(card)"
   ]
  },
  {
   "cell_type": "code",
   "execution_count": null,
   "id": "3c164a91-ae27-478b-adcc-1a56dd512026",
   "metadata": {},
   "outputs": [
    {
     "data": {
      "text/plain": [
       "'5_of_Hearts.png'"
      ]
     },
     "execution_count": 20,
     "metadata": {},
     "output_type": "execute_result"
    }
   ],
   "source": [
    "card.image_name"
   ]
  },
  {
   "cell_type": "code",
   "execution_count": null,
   "id": "f39d576b-c7ac-4f8b-8251-13e2f81a27d6",
   "metadata": {},
   "outputs": [
    {
     "ename": "NameError",
     "evalue": "name 'axis' is not defined",
     "output_type": "error",
     "traceback": [
      "\u001b[1;31m---------------------------------------------------------------------------\u001b[0m",
      "\u001b[1;31mNameError\u001b[0m                                 Traceback (most recent call last)",
      "\u001b[1;32mc:\\Users\\thefa\\Estudos em Python\\Python.ipynb Cell 855\u001b[0m in \u001b[0;36m<cell line: 7>\u001b[1;34m()\u001b[0m\n\u001b[0;32m      <a href='vscode-notebook-cell:/c%3A/Users/thefa/Estudos%20em%20Python/Python.ipynb#Z2330sZmlsZQ%3D%3D?line=2'>3</a>\u001b[0m \u001b[39mfrom\u001b[39;00m \u001b[39mpathlib\u001b[39;00m \u001b[39mimport\u001b[39;00m Path\n\u001b[0;32m      <a href='vscode-notebook-cell:/c%3A/Users/thefa/Estudos%20em%20Python/Python.ipynb#Z2330sZmlsZQ%3D%3D?line=4'>5</a>\u001b[0m path \u001b[39m=\u001b[39m Path(\u001b[39m'\u001b[39m\u001b[39m.\u001b[39m\u001b[39m'\u001b[39m)\u001b[39m.\u001b[39mjoinpath(\u001b[39m'\u001b[39m\u001b[39mcard_images\u001b[39m\u001b[39m'\u001b[39m)\n\u001b[1;32m----> <a href='vscode-notebook-cell:/c%3A/Users/thefa/Estudos%20em%20Python/Python.ipynb#Z2330sZmlsZQ%3D%3D?line=6'>7</a>\u001b[0m \u001b[39mfor\u001b[39;00m axes \u001b[39min\u001b[39;00m axis\u001b[39m.\u001b[39mravel():\n\u001b[0;32m      <a href='vscode-notebook-cell:/c%3A/Users/thefa/Estudos%20em%20Python/Python.ipynb#Z2330sZmlsZQ%3D%3D?line=7'>8</a>\u001b[0m     axes\u001b[39m.\u001b[39mget_xaxis()\u001b[39m.\u001b[39mset_visible(\u001b[39mFalse\u001b[39;00m)\n\u001b[0;32m      <a href='vscode-notebook-cell:/c%3A/Users/thefa/Estudos%20em%20Python/Python.ipynb#Z2330sZmlsZQ%3D%3D?line=8'>9</a>\u001b[0m     axes\u001b[39m.\u001b[39mget_yaxis()\u001b[39m.\u001b[39mset_visible(\u001b[39mFalse\u001b[39;00m)\n",
      "\u001b[1;31mNameError\u001b[0m: name 'axis' is not defined"
     ]
    }
   ],
   "source": [
    "import matplotlib.pyplot as plt\n",
    "import matplotlib.image as mpimg\n",
    "from pathlib import Path\n",
    "\n",
    "path = Path('.').joinpath('card_images')\n",
    "\n",
    "for axes in axis.ravel():\n",
    "    axes.get_xaxis().set_visible(False)\n",
    "    axes.get_yaxis().set_visible(False)\n",
    "    image_name = deckofcards.deal_card().image_name\n",
    "    img = mpimg.imread(str(path.joinpath(image_name).resolve()))\n",
    "    axes.imshow(img)"
   ]
  },
  {
   "cell_type": "code",
   "execution_count": null,
   "id": "c4ab1361-9db0-4f1d-a1b8-b4f4e8354f32",
   "metadata": {},
   "outputs": [
    {
     "data": {
      "image/png": "[encoded data removed]",
      "text/plain": [
       "<Figure size 432x288 with 52 Axes>"
      ]
     },
     "metadata": {
      "needs_background": "light"
     },
     "output_type": "display_data"
    },
    {
     "ename": "",
     "evalue": "",
     "output_type": "error",
     "traceback": [
      "The Kernel crashed while executing code in the the current cell or a previous cell. Please review the code in the cell(s) to identify a possible cause of the failure. Click <a href='https://aka.ms/vscodeJupyterKernelCrash'>here</a> for more info. View Jupyter <a href='command:jupyter.viewOutput'>log</a> for further details."
     ]
    }
   ],
   "source": [
    "fig,axis = plt.subplots(nrows=4,ncols=13)\n"
   ]
  },
  {
   "cell_type": "markdown",
   "id": "52fe9ecd",
   "metadata": {},
   "source": [
    "## Inheritance: Base Classes and Subclasses\n"
   ]
  },
  {
   "cell_type": "markdown",
   "id": "3a658e74-3cf4-48c5-88a2-acc9934a1b08",
   "metadata": {},
   "source": [
    "**2022-08-10-11-43-18.png**"
   ]
  },
  {
   "cell_type": "code",
   "execution_count": null,
   "id": "f619f64c-7cea-406a-a18c-ad3897b897d9",
   "metadata": {},
   "outputs": [],
   "source": [
    "#each base class has an object implicitly if not specified on the program"
   ]
  },
  {
   "cell_type": "code",
   "execution_count": null,
   "id": "8a3c8041-40dc-494c-8979-9336944c0597",
   "metadata": {},
   "outputs": [
    {
     "name": "stdout",
     "output_type": "stream",
     "text": [
      "Overwriting commissionemployee.py\n"
     ]
    }
   ],
   "source": [
    "%%writefile commissionemployee.py\n",
    "#commision employee\n",
    "\n",
    "\"\"\"Commission Employee base class\"\"\"\n",
    "\n",
    "\n",
    "from decimal import Decimal\n",
    "\n",
    "class CommissionEmployee:\n",
    "    \"\"\"An employee who gets paid commission based on gross sales\"\"\"\n",
    "\n",
    "    def __init__(self,first_name,last_name,ssn,gross_sales,commission_rate):\n",
    "        \"\"\"Initialize CommissionEmployees attributes\"\"\"\n",
    "        self._first_name = first_name\n",
    "        self._last_name =  last_name\n",
    "        self._ssn = ssn\n",
    "        self.gross_sales = gross_sales #validade via property\n",
    "        self.commission_rate = commission_rate #validate via property\n",
    "\n",
    "    @property\n",
    "    def first_name(self):\n",
    "        return self._first_name\n",
    "    \n",
    "    @property\n",
    "    def last_name(self):\n",
    "        return self._last_name\n",
    "\n",
    "    @property\n",
    "    def ssn(self):\n",
    "        return self._ssn\n",
    "\n",
    "    @property\n",
    "    def gross_sales(self):\n",
    "        return self._gross_sales\n",
    "\n",
    "    @gross_sales.setter\n",
    "    def gross_sales(self,sales):\n",
    "        \"\"\"Set gross sales or raise ValueError if invalid\"\"\"\n",
    "        if sales < Decimal('0.00'):\n",
    "            raise ValueError('Gross sales must be >= to 0')\n",
    "        self._gross_sales = sales\n",
    "        \n",
    "    @property\n",
    "    def commission_rate(self):\n",
    "        return self._commission_rate\n",
    "\n",
    "    @commission_rate.setter\n",
    "    def commission_rate(self,rate):\n",
    "        \"\"\"Set commission rate or raise ValueError if invalid\"\"\"\n",
    "        if not (Decimal('0.0')< rate < Decimal('1.0')):\n",
    "            raise ValueError('Interest rate must be greater than 0 and less than 1')\n",
    "\n",
    "        self._commission_rate = rate\n",
    "\n",
    "    def earnings(self):\n",
    "        \"\"\"Calculate earnings\"\"\"\n",
    "        return self.gross_sales * self.commission_rate\n",
    "\n",
    "    def __repr__(self):\n",
    "        \"\"\"Return string representation for repr()\"\"\"\n",
    "        return('Commission Employee: ' +\n",
    "                f'{self.first_name}{self.last_name}\\n'+\n",
    "                f'social security number: {self.ssn}\\n'+\n",
    "                f'gross sales: {self.gross_sales:.2f}\\n'+\n",
    "                f'commission rate: {self.commission_rate:.2f}')"
   ]
  },
  {
   "cell_type": "code",
   "execution_count": 8,
   "id": "884c20b0-7896-4910-ace1-fe538da84166",
   "metadata": {},
   "outputs": [],
   "source": [
    "from commissionemployee import CommissionEmployee\n",
    "\n",
    "commission = CommissionEmployee('Satan ','Belzebu','111-11-1111',Decimal('10000.00'),Decimal('0.06'))"
   ]
  },
  {
   "cell_type": "code",
   "execution_count": 9,
   "id": "d70a7455-e6cf-4e70-a571-c5d080b855cc",
   "metadata": {},
   "outputs": [
    {
     "data": {
      "text/plain": [
       "Commission Employee: Satan Belzebu\n",
       "social security number: 111-11-1111\n",
       "gross sales: 10000.00\n",
       "commission rate: 0.06"
      ]
     },
     "execution_count": 9,
     "metadata": {},
     "output_type": "execute_result"
    }
   ],
   "source": [
    "commission"
   ]
  },
  {
   "cell_type": "code",
   "execution_count": null,
   "id": "714f78be-e2d0-40b8-88e7-d3dbe9c92faf",
   "metadata": {},
   "outputs": [
    {
     "name": "stdout",
     "output_type": "stream",
     "text": [
      "600.00\n"
     ]
    }
   ],
   "source": [
    "print(f'{commission.earnings():,.2f}')"
   ]
  },
  {
   "cell_type": "code",
   "execution_count": 10,
   "id": "1346fff8-63f5-4677-8559-4695ac55cae0",
   "metadata": {},
   "outputs": [],
   "source": [
    "commission.gross_sales = Decimal('20000.00')"
   ]
  },
  {
   "cell_type": "code",
   "execution_count": 11,
   "id": "ffe8e1c9-638c-4f71-a591-7d5833ee25ee",
   "metadata": {},
   "outputs": [
    {
     "name": "stdout",
     "output_type": "stream",
     "text": [
      "1,200.00\n"
     ]
    }
   ],
   "source": [
    "print(f'{commission.earnings():,.2f}')"
   ]
  },
  {
   "cell_type": "code",
   "execution_count": null,
   "id": "3f08cfae-caad-495c-96d0-0b383782a1c9",
   "metadata": {},
   "outputs": [
    {
     "name": "stdout",
     "output_type": "stream",
     "text": [
      "Overwriting salariedcommissionemployee.py\n"
     ]
    }
   ],
   "source": [
    "%%writefile salariedcommissionemployee.py\n",
    "\n",
    "#salariedcommissionemployee.py\n",
    "\n",
    "from commissionemployee import CommissionEmployee\n",
    "from decimal import Decimal\n",
    "\n",
    "class SalariedComissionEmployee(CommissionEmployee):\n",
    "    \"\"\"An employee who gets paid a salary plus commission based on gross sales.\"\"\"\n",
    "\n",
    "    def __init__(self, first_name, last_name, ssn, gross_sales, commission_rate,base_salary):\n",
    "        \"\"\"Initialize SalariedCommissionEmployee's attributes\"\"\"\n",
    "        super().__init__(first_name, last_name, ssn, gross_sales, commission_rate)\n",
    "        \n",
    "        self.base_salary = base_salary #validate via property\n",
    "\n",
    "    @property\n",
    "    def base_salary(self):\n",
    "        return self._base_salary\n",
    "\n",
    "    @base_salary.setter\n",
    "    def base_salary(self,salary):\n",
    "        \"\"\"Set base salary or raise ValueError if invalid\"\"\"\n",
    "        if salary < Decimal('0.00'):\n",
    "            raise ValueError('Base salary must >= to 0')\n",
    "        self._base_salary = salary\n",
    "\n",
    "    def earnings(self):\n",
    "        \"\"\"Calculate earnings\"\"\"\n",
    "        return super().earnings() + self.base_salary\n",
    "\n",
    "    def __repr__(self):\n",
    "        return ('Salaried' + super().__repr__() + f'\\nbase salary: {self.base_salary:.2f}')"
   ]
  },
  {
   "cell_type": "code",
   "execution_count": null,
   "id": "4312bfca-c098-4771-bb0e-2e68bcc45cc6",
   "metadata": {},
   "outputs": [
    {
     "name": "stdout",
     "output_type": "stream",
     "text": [
      "Lucifer dos Santos 6666.66 0.06 666.66\n"
     ]
    }
   ],
   "source": [
    "from salariedcommissionemployee import SalariedComissionEmployee\n",
    "from decimal import Decimal\n",
    "\n",
    "s = SalariedComissionEmployee('Lucifer','dos Santos','666-66-6666',Decimal('6666.66'),Decimal('0.06'),Decimal('666.66'))\n",
    "\n",
    "print(s.first_name,s.last_name,s.gross_sales,s.commission_rate,s.base_salary)"
   ]
  },
  {
   "cell_type": "code",
   "execution_count": null,
   "id": "14bcbe82-7720-453d-bf7b-5bff74ea3cd0",
   "metadata": {},
   "outputs": [
    {
     "name": "stdout",
     "output_type": "stream",
     "text": [
      "1,066.66\n"
     ]
    }
   ],
   "source": [
    "print(f'{s.earnings():,.2f}')"
   ]
  },
  {
   "cell_type": "code",
   "execution_count": null,
   "id": "1cb8b1e8-12d9-439e-9129-909e9898ab71",
   "metadata": {},
   "outputs": [
    {
     "name": "stdout",
     "output_type": "stream",
     "text": [
      "SalariedCommission Employee: Luciferdos Santos\n",
      "social security number: 666-66-6666\n",
      "gross sales: 666666.00\n",
      "commission rate: 0.06\n",
      "base salary: 6666.66\n"
     ]
    }
   ],
   "source": [
    "s.gross_sales = Decimal('666666.00')\n",
    "s.commission_rate = Decimal('0.06')\n",
    "s.base_salary = Decimal('6666.66')\n",
    "\n",
    "print(s)"
   ]
  },
  {
   "cell_type": "code",
   "execution_count": null,
   "id": "b0d15d06-5698-473b-ae75-e3c3a80355f1",
   "metadata": {},
   "outputs": [
    {
     "name": "stdout",
     "output_type": "stream",
     "text": [
      "46,666.62\n"
     ]
    }
   ],
   "source": [
    "print(f'{s.earnings():,.2f}')"
   ]
  },
  {
   "cell_type": "code",
   "execution_count": 12,
   "id": "38430a56-f8b7-46e9-b756-bc49df9b077e",
   "metadata": {},
   "outputs": [
    {
     "data": {
      "text/plain": [
       "True"
      ]
     },
     "execution_count": 12,
     "metadata": {},
     "output_type": "execute_result"
    }
   ],
   "source": [
    "from re import S\n",
    "\n",
    "\n",
    "commission = CommissionEmployee('Satan ','Belzebu','111-11-1111',Decimal('10000.00'),Decimal('0.06'))\n",
    "s = SalariedComissionEmployee('Lucifer','dos Santos','666-66-6666',Decimal('6666.66'),Decimal('0.06'),Decimal('666.66'))\n",
    "\n",
    "issubclass(SalariedComissionEmployee,CommissionEmployee)"
   ]
  },
  {
   "cell_type": "code",
   "execution_count": null,
   "id": "abb8f88e-b43e-46a4-9b9e-ff65d2747d5d",
   "metadata": {},
   "outputs": [
    {
     "data": {
      "text/plain": [
       "True"
      ]
     },
     "execution_count": 16,
     "metadata": {},
     "output_type": "execute_result"
    }
   ],
   "source": [
    "isinstance(s,CommissionEmployee)"
   ]
  },
  {
   "cell_type": "code",
   "execution_count": null,
   "id": "7765ae8b-4282-475d-933f-b6c925958a00",
   "metadata": {},
   "outputs": [
    {
     "data": {
      "text/plain": [
       "True"
      ]
     },
     "execution_count": 17,
     "metadata": {},
     "output_type": "execute_result"
    }
   ],
   "source": [
    "isinstance(s,SalariedComissionEmployee)"
   ]
  },
  {
   "cell_type": "code",
   "execution_count": null,
   "id": "34c8379c-38ec-477d-9a40-f8834f1ff28e",
   "metadata": {},
   "outputs": [
    {
     "data": {
      "text/plain": [
       "False"
      ]
     },
     "execution_count": 18,
     "metadata": {},
     "output_type": "execute_result"
    }
   ],
   "source": [
    "isinstance(CommissionEmployee,SalariedComissionEmployee)"
   ]
  },
  {
   "cell_type": "code",
   "execution_count": 13,
   "id": "85eaff50-b403-42e3-b6fb-d2b08fd98cb6",
   "metadata": {},
   "outputs": [
    {
     "name": "stdout",
     "output_type": "stream",
     "text": [
      "Commission Employee: Satan Belzebu\n",
      "social security number: 111-11-1111\n",
      "gross sales: 10000.00\n",
      "commission rate: 0.06\n",
      "600.00\n",
      "\n",
      "SalariedCommission Employee: Luciferdos Santos\n",
      "social security number: 666-66-6666\n",
      "gross sales: 6666.66\n",
      "commission rate: 0.06\n",
      "base salary: 666.66\n",
      "1,066.66\n",
      "\n"
     ]
    }
   ],
   "source": [
    "employess = [commission,s]\n",
    "\n",
    "for employee in employess:\n",
    "    print(employee)\n",
    "    print(f'{employee.earnings():,.2f}\\n')"
   ]
  },
  {
   "cell_type": "markdown",
   "id": "bcf3aafa",
   "metadata": {},
   "source": [
    "## Duck Typing and Polymorphism\n"
   ]
  },
  {
   "cell_type": "code",
   "execution_count": null,
   "id": "8d8096e7-5a28-4d09-a5b2-5c02874b73e9",
   "metadata": {},
   "outputs": [],
   "source": [
    "'Duck typing in computer programming is an application of the duck test—\n",
    "\"If it walks like a duck and it quacks like a duck, then it must be a duck—to determine whether an object can be used for a particular purpose. With nominative typing, an object is of a given type if it is declared to be'"
   ]
  },
  {
   "cell_type": "code",
   "execution_count": 16,
   "id": "d1a95e77-b80b-4f05-a0de-aa26c1784b4c",
   "metadata": {},
   "outputs": [
    {
     "name": "stdout",
     "output_type": "stream",
     "text": [
      "Commission Employee: Satan Belzebu\n",
      "social security number: 111-11-1111\n",
      "gross sales: 10000.00\n",
      "commission rate: 0.06\n",
      "600.00\n",
      "\n",
      "SalariedCommission Employee: Luciferdos Santos\n",
      "social security number: 666-66-6666\n",
      "gross sales: 6666.66\n",
      "commission rate: 0.06\n",
      "base salary: 666.66\n",
      "1,066.66\n",
      "\n",
      "Iam a duck\n",
      "1,000,000.00\n",
      "\n"
     ]
    }
   ],
   "source": [
    "class WellPaidDuck:\n",
    "    def __repr__(self):\n",
    "        return 'Iam a duck'\n",
    "    def earnings(self):\n",
    "        return Decimal('1000000')\n",
    "\n",
    "from decimal import Decimal\n",
    "\n",
    "from salariedcommissionemployee import SalariedComissionEmployee\n",
    "from commissionemployee import CommissionEmployee\n",
    "\n",
    "s = SalariedComissionEmployee('Lucifer','dos Santos','666-66-6666',Decimal('6666.66'),Decimal('0.06'),Decimal('666.66'))\n",
    "\n",
    "d = WellPaidDuck()\n",
    "employess = [commission,s,d]\n",
    "\n",
    "for employee in employess:\n",
    "    print(employee)\n",
    "    print(f'{employee.earnings():,.2f}\\n')"
   ]
  },
  {
   "cell_type": "markdown",
   "id": "52092501",
   "metadata": {},
   "source": [
    "Operator Overloading\n"
   ]
  },
  {
   "cell_type": "markdown",
   "id": "2b1f329d",
   "metadata": {},
   "source": [
    "![](2022-08-29-13-18-56.png)"
   ]
  },
  {
   "cell_type": "code",
   "execution_count": null,
   "id": "879dcf69",
   "metadata": {},
   "outputs": [],
   "source": []
  },
  {
   "cell_type": "code",
   "execution_count": null,
   "id": "e512d2ff",
   "metadata": {},
   "outputs": [],
   "source": [
    "class Complex"
   ]
  },
  {
   "cell_type": "code",
   "execution_count": null,
   "id": "4ea68435-ce4e-4134-893a-e4e60492cc9f",
   "metadata": {},
   "outputs": [],
   "source": [
    "from complexnumber import Complex\n",
    "\n",
    "x = Complex(real=2,imaginary=4)\n",
    "x "
   ]
  },
  {
   "cell_type": "code",
   "execution_count": null,
   "id": "0516085f-2a26-4ba9-b93f-b4634029aded",
   "metadata": {},
   "outputs": [],
   "source": [
    "y = Complex(real=5, imaginary=-1)"
   ]
  },
  {
   "cell_type": "markdown",
   "id": "36151fc5",
   "metadata": {},
   "source": [
    "complex operations"
   ]
  },
  {
   "cell_type": "code",
   "execution_count": 17,
   "id": "ac65dd7d-00a0-4cb1-8e22-eae70de91cb1",
   "metadata": {},
   "outputs": [],
   "source": [
    "a = 5+8j\n",
    "b = 9+4j"
   ]
  },
  {
   "cell_type": "code",
   "execution_count": 18,
   "id": "e12d4878-3fb3-48e7-9f95-72ee62987066",
   "metadata": {},
   "outputs": [
    {
     "data": {
      "text/plain": [
       "(14+12j)"
      ]
     },
     "execution_count": 18,
     "metadata": {},
     "output_type": "execute_result"
    }
   ],
   "source": [
    "a + b"
   ]
  },
  {
   "cell_type": "markdown",
   "id": "e905903c",
   "metadata": {},
   "source": [
    "Named Tuples"
   ]
  },
  {
   "cell_type": "code",
   "execution_count": 20,
   "id": "b34d17a7-d09b-49db-87c7-587262ccdfa7",
   "metadata": {},
   "outputs": [],
   "source": [
    "from collections import namedtuple\n",
    "\n",
    "Card = namedtuple('Card',['face','suit'])\n",
    "\n",
    "card = Card(face='Ace',suit='Spades')"
   ]
  },
  {
   "cell_type": "code",
   "execution_count": 21,
   "id": "72585d25-3422-422d-b5e3-c7249ea40443",
   "metadata": {},
   "outputs": [
    {
     "data": {
      "text/plain": [
       "'Ace'"
      ]
     },
     "execution_count": 21,
     "metadata": {},
     "output_type": "execute_result"
    }
   ],
   "source": [
    "card.face"
   ]
  },
  {
   "cell_type": "code",
   "execution_count": 22,
   "id": "64d952b9-c5ba-4d11-a1df-9665aba12a1f",
   "metadata": {},
   "outputs": [
    {
     "data": {
      "text/plain": [
       "'Spades'"
      ]
     },
     "execution_count": 22,
     "metadata": {},
     "output_type": "execute_result"
    }
   ],
   "source": [
    "card.suit"
   ]
  },
  {
   "cell_type": "code",
   "execution_count": 23,
   "id": "5b41bfa8-b4a1-482d-ae10-cc8cfdb82620",
   "metadata": {},
   "outputs": [
    {
     "data": {
      "text/plain": [
       "Card(face='Ace', suit='Spades')"
      ]
     },
     "execution_count": 23,
     "metadata": {},
     "output_type": "execute_result"
    }
   ],
   "source": [
    "card"
   ]
  },
  {
   "cell_type": "code",
   "execution_count": 26,
   "id": "f1a141be-ba23-49ed-97ed-b909273b58b4",
   "metadata": {},
   "outputs": [
    {
     "data": {
      "text/plain": [
       "Card(face='Queen', suit='Hearts')"
      ]
     },
     "execution_count": 26,
     "metadata": {},
     "output_type": "execute_result"
    }
   ],
   "source": [
    "values=['Queen','Hearts']\n",
    "card = Card._make(values)\n",
    "\n",
    "card"
   ]
  },
  {
   "cell_type": "code",
   "execution_count": 27,
   "id": "45c4f171-4d4c-4e5c-b728-0770c3a9a068",
   "metadata": {},
   "outputs": [
    {
     "data": {
      "text/plain": [
       "{'face': 'Queen', 'suit': 'Hearts'}"
      ]
     },
     "execution_count": 27,
     "metadata": {},
     "output_type": "execute_result"
    }
   ],
   "source": [
    "card._asdict()"
   ]
  },
  {
   "cell_type": "markdown",
   "id": "0fa98eed",
   "metadata": {},
   "source": [
    "Intro to Python 3.7's New Data Classes"
   ]
  },
  {
   "cell_type": "code",
   "execution_count": 28,
   "id": "20f21a23-9830-4b63-8fff-f0728520523b",
   "metadata": {},
   "outputs": [],
   "source": [
    "from dataclasses import dataclass\n",
    "from typing import ClassVar,List\n",
    "\n",
    "@dataclass\n",
    "class Card:\n",
    "    FACES: ClassVar[List[str]] = ['Ace','2','3','4','5','6','7','8','9','10','Jack','Queen','King']\n",
    "    SUIT:  ClassVar[List[str]] = ['Hearts','Diamonds','Clubs','Spades']\n",
    "\n",
    "    face: str\n",
    "    suit: str\n",
    "\n",
    "    @property\n",
    "    def image_name(self):\n",
    "        \"\"\"Return the Card's image file name\"\"\"\n",
    "        return str(self).replace(' ', '_') + '.png' \n",
    "\n",
    "    def __str__(self):\n",
    "        \"\"\"Return string representation for str()\"\"\"\n",
    "        return f'{self.face} of {face.suit}'\n",
    "\n",
    "    def __format__(self,format):\n",
    "        \"\"\"Return formatted string representation\"\"\"\n",
    "        return f'{str(self):{format}}'\n"
   ]
  },
  {
   "cell_type": "markdown",
   "id": "6d050454-d8e6-4cfc-985b-2990b95ec876",
   "metadata": {},
   "source": [
    "## Unit Testing with Docstrings and doctest\n"
   ]
  },
  {
   "cell_type": "code",
   "execution_count": 19,
   "id": "c7a43fc9-6003-48f9-b0d7-8c2eee1d8ecc",
   "metadata": {},
   "outputs": [
    {
     "name": "stdout",
     "output_type": "stream",
     "text": [
      "Overwriting accountdoctest.py\n"
     ]
    }
   ],
   "source": [
    "%%writefile accountdoctest.py\n",
    "\"\"\"Account class definition\"\"\"\n",
    "from decimal import Decimal\n",
    "\n",
    "class Account:\n",
    "    \"\"\"Account class for demonstration doctest.\"\"\"\n",
    "\n",
    "    def __init__(self,name,balance):\n",
    "        \"\"\"Initialize an Account object.\n",
    "        \n",
    "        >>> account1 = Account('Tromba',Decimal('50.00'))\n",
    "        >>> account1.name\n",
    "        'Tromba'\n",
    "        >>> account1.balance\n",
    "        Decimal('50.00')\n",
    "        \n",
    "        The balance argument must be greater than or equal to 0. \n",
    "        >>> account2 = Account('Tromba',Decimal('-50.00'))\n",
    "        Traceback (most recent call last):\n",
    "            ...        \n",
    "        ValueError: Initial balance must be >= to 0.00\"\"\"\n",
    "\n",
    "        #if balance is less than 0.00, raise an exception:\n",
    "\n",
    "        if balance < Decimal('0.00'):\n",
    "            raise ValueError('Initial balance must be >= to 0.00')\n",
    "\n",
    "        self.name = name \n",
    "        self.balance = balance\n",
    "\n",
    "    def deposit(self,amount):\n",
    "        \"\"\"Deposit money to the account\"\"\"\n",
    "\n",
    "        if amount < Decimal('0.00'):\n",
    "            raise ValueError('Amount must be positive')\n",
    "        self.balance += amount\n",
    "\n",
    "if __name__ == '__main__':\n",
    "    import doctest\n",
    "    doctest.testmod(verbose=True)\n"
   ]
  },
  {
   "cell_type": "markdown",
   "id": "6a40660b",
   "metadata": {},
   "source": [
    "Namespaces and Scopes\n"
   ]
  },
  {
   "cell_type": "markdown",
   "id": "ee855173-8ba9-4010-a824-c5a775bfbabe",
   "metadata": {},
   "source": [
    "![](2022-09-05-11-44-26.png)"
   ]
  },
  {
   "cell_type": "markdown",
   "id": "b4afbb13",
   "metadata": {},
   "source": [
    "![](2022-09-05-11-44-54.png)"
   ]
  },
  {
   "cell_type": "markdown",
   "id": "9c5c58b8",
   "metadata": {},
   "source": [
    "![](2022-09-05-11-45-12.png)"
   ]
  },
  {
   "cell_type": "markdown",
   "id": "8a297868",
   "metadata": {},
   "source": [
    "![](2022-09-05-11-46-29.png)"
   ]
  },
  {
   "cell_type": "code",
   "execution_count": 22,
   "id": "c44d3d12-94e4-43cf-9567-5fdb85110317",
   "metadata": {},
   "outputs": [],
   "source": [
    "z = 'global z'\n",
    "\n",
    "def print_variables():\n",
    "    y = 'local y in print_variables'\n",
    "    print(y)\n",
    "    print(z)"
   ]
  },
  {
   "cell_type": "code",
   "execution_count": 23,
   "id": "149a0d55-c2a5-479b-985b-f6b4657b66f2",
   "metadata": {},
   "outputs": [
    {
     "name": "stdout",
     "output_type": "stream",
     "text": [
      "local y in print_variables\n",
      "global z\n"
     ]
    }
   ],
   "source": [
    "print_variables()"
   ]
  },
  {
   "cell_type": "code",
   "execution_count": 24,
   "id": "433610ae-2f06-4d98-9eba-2fc4dd8d1e4e",
   "metadata": {},
   "outputs": [
    {
     "ename": "",
     "evalue": "",
     "output_type": "error",
     "traceback": [
      "The Kernel crashed while executing code in the the current cell or a previous cell. Please review the code in the cell(s) to identify a possible cause of the failure. Click <a href='https://aka.ms/vscodeJupyterKernelCrash'>here</a> for more info. View Jupyter <a href='command:jupyter.viewOutput'>log</a> for further details."
     ]
    }
   ],
   "source": [
    "#Sequence of searching: Local,Global, Built-in"
   ]
  },
  {
   "cell_type": "markdown",
   "id": "2833b9a3",
   "metadata": {},
   "source": [
    "Enclosing Namespace"
   ]
  },
  {
   "cell_type": "markdown",
   "id": "3c215447",
   "metadata": {},
   "source": [
    "![](2022-09-05-11-53-25.png)"
   ]
  },
  {
   "cell_type": "markdown",
   "id": "85e29661",
   "metadata": {},
   "source": [
    "Class Namespace"
   ]
  },
  {
   "cell_type": "markdown",
   "id": "5898ce98",
   "metadata": {},
   "source": [
    "![](2022-09-05-11-54-24.png)"
   ]
  },
  {
   "cell_type": "markdown",
   "id": "66c40702",
   "metadata": {},
   "source": [
    "Object Namespace"
   ]
  },
  {
   "cell_type": "markdown",
   "id": "b27dbaea",
   "metadata": {},
   "source": [
    "![](2022-09-05-11-55-52.png)"
   ]
  },
  {
   "cell_type": "markdown",
   "id": "71772cff",
   "metadata": {},
   "source": [
    "# Textblob"
   ]
  },
  {
   "cell_type": "code",
   "execution_count": 10,
   "id": "c4d1dc1b-3b22-4002-80d2-9ac1b4c15027",
   "metadata": {},
   "outputs": [
    {
     "data": {
      "text/plain": [
       "TextBlob(\"Hoje é um dia bonito. Amanhã parece que terá mau tempo\")"
      ]
     },
     "execution_count": 10,
     "metadata": {},
     "output_type": "execute_result"
    }
   ],
   "source": [
    "from textblob import TextBlob\n",
    "\n",
    "text = 'Hoje é um dia bonito. Amanhã parece que terá mau tempo'\n",
    "\n",
    "blob = TextBlob(text)\n",
    "blob"
   ]
  },
  {
   "cell_type": "code",
   "execution_count": 11,
   "id": "3c9b4ecb-071a-46a1-a318-c731368d13db",
   "metadata": {},
   "outputs": [
    {
     "data": {
      "text/plain": [
       "[Sentence(\"Hoje é um dia bonito.\"),\n",
       " Sentence(\"Amanhã parece que terá mau tempo\")]"
      ]
     },
     "execution_count": 11,
     "metadata": {},
     "output_type": "execute_result"
    }
   ],
   "source": [
    "blob.sentences"
   ]
  },
  {
   "cell_type": "code",
   "execution_count": 12,
   "id": "0a95cb87-cab5-4819-b389-c0df20456f94",
   "metadata": {},
   "outputs": [
    {
     "data": {
      "text/plain": [
       "WordList(['Hoje', 'é', 'um', 'dia', 'bonito', 'Amanhã', 'parece', 'que', 'terá', 'mau', 'tempo'])"
      ]
     },
     "execution_count": 12,
     "metadata": {},
     "output_type": "execute_result"
    }
   ],
   "source": [
    "blob.words"
   ]
  },
  {
   "cell_type": "code",
   "execution_count": 13,
   "id": "46fb1302-5c25-4987-9f4c-cf21e8355e2c",
   "metadata": {},
   "outputs": [
    {
     "data": {
      "text/plain": [
       "[('Hoje', 'NNP'),\n",
       " ('é', 'NNP'),\n",
       " ('um', 'JJ'),\n",
       " ('dia', 'NN'),\n",
       " ('bonito', 'NN'),\n",
       " ('Amanhã', 'NNP'),\n",
       " ('parece', 'NN'),\n",
       " ('que', 'NN'),\n",
       " ('terá', 'NN'),\n",
       " ('mau', 'NN'),\n",
       " ('tempo', 'NN')]"
      ]
     },
     "execution_count": 13,
     "metadata": {},
     "output_type": "execute_result"
    }
   ],
   "source": [
    "blob.tags"
   ]
  },
  {
   "cell_type": "code",
   "execution_count": 17,
   "id": "2483363d-4288-484a-bf6a-b27c19065ca7",
   "metadata": {},
   "outputs": [
    {
     "data": {
      "text/plain": [
       "TextBlob(\"Hoje é um dia bonito. Amanhã parece que terá mau tempo\")"
      ]
     },
     "execution_count": 17,
     "metadata": {},
     "output_type": "execute_result"
    }
   ],
   "source": [
    "blob"
   ]
  },
  {
   "cell_type": "code",
   "execution_count": 18,
   "id": "b93b7c60-32f5-4da7-87c2-8e6a982d7e96",
   "metadata": {},
   "outputs": [
    {
     "data": {
      "text/plain": [
       "Sentiment(polarity=0.0, subjectivity=0.0)"
      ]
     },
     "execution_count": 18,
     "metadata": {},
     "output_type": "execute_result"
    }
   ],
   "source": [
    "blob.sentiment"
   ]
  },
  {
   "cell_type": "code",
   "execution_count": 19,
   "id": "a054f459-7701-4ae7-a8cd-5272be29ab7e",
   "metadata": {},
   "outputs": [
    {
     "data": {
      "text/plain": [
       "'%.3f'"
      ]
     },
     "execution_count": 19,
     "metadata": {},
     "output_type": "execute_result"
    }
   ],
   "source": [
    "%precision 3"
   ]
  },
  {
   "cell_type": "code",
   "execution_count": 20,
   "id": "e17df976-f232-4b45-ba12-63c919f75a87",
   "metadata": {},
   "outputs": [
    {
     "data": {
      "text/plain": [
       "0.000"
      ]
     },
     "execution_count": 20,
     "metadata": {},
     "output_type": "execute_result"
    }
   ],
   "source": [
    "blob.sentiment.polarity"
   ]
  },
  {
   "cell_type": "code",
   "execution_count": 21,
   "id": "cac45bf1-aa22-4eef-86a4-683d40512526",
   "metadata": {},
   "outputs": [
    {
     "data": {
      "text/plain": [
       "0.000"
      ]
     },
     "execution_count": 21,
     "metadata": {},
     "output_type": "execute_result"
    }
   ],
   "source": [
    "blob.sentiment.subjectivity"
   ]
  },
  {
   "cell_type": "code",
   "execution_count": 22,
   "id": "cc8c6635-f23d-4ebb-b2f9-4ffe3dc5151f",
   "metadata": {},
   "outputs": [
    {
     "name": "stdout",
     "output_type": "stream",
     "text": [
      "Sentiment(polarity=0.0, subjectivity=0.0)\n",
      "Sentiment(polarity=0.0, subjectivity=0.0)\n"
     ]
    }
   ],
   "source": [
    "for sentence in blob.sentences:\n",
    "    print(sentence.sentiment)"
   ]
  },
  {
   "cell_type": "code",
   "execution_count": 27,
   "id": "17e31cd3-33cb-4501-a8d2-1b61bc5c6dbf",
   "metadata": {},
   "outputs": [
    {
     "data": {
      "text/plain": [
       "TextBlob(\"Hoje é um dia bonito. Amanhã parece que terá mau tempo\")"
      ]
     },
     "execution_count": 27,
     "metadata": {},
     "output_type": "execute_result"
    }
   ],
   "source": [
    "from textblob.sentiments import NaiveBayesAnalyzer\n",
    "\n",
    "blob = TextBlob(text,analyzer=NaiveBayesAnalyzer())\n",
    "blob"
   ]
  },
  {
   "cell_type": "code",
   "execution_count": 32,
   "id": "d74dbd0e-ee28-491f-9eef-a40b9dc2241e",
   "metadata": {},
   "outputs": [
    {
     "ename": "AttributeError",
     "evalue": "'NoneType' object has no attribute 'prob_classify'",
     "output_type": "error",
     "traceback": [
      "\u001b[1;31m---------------------------------------------------------------------------\u001b[0m",
      "\u001b[1;31mAttributeError\u001b[0m                            Traceback (most recent call last)",
      "\u001b[1;32mc:\\Users\\thefa\\Estudos em Python\\Python.ipynb Cell 925\u001b[0m in \u001b[0;36m<cell line: 1>\u001b[1;34m()\u001b[0m\n\u001b[1;32m----> <a href='vscode-notebook-cell:/c%3A/Users/thefa/Estudos%20em%20Python/Python.ipynb#Z2456sZmlsZQ%3D%3D?line=0'>1</a>\u001b[0m blob\u001b[39m.\u001b[39;49msentiment\n",
      "File \u001b[1;32m~\\AppData\\Local\\Packages\\PythonSoftwareFoundation.Python.3.10_qbz5n2kfra8p0\\LocalCache\\local-packages\\Python310\\site-packages\\textblob\\decorators.py:24\u001b[0m, in \u001b[0;36mcached_property.__get__\u001b[1;34m(self, obj, cls)\u001b[0m\n\u001b[0;32m     22\u001b[0m \u001b[39mif\u001b[39;00m obj \u001b[39mis\u001b[39;00m \u001b[39mNone\u001b[39;00m:\n\u001b[0;32m     23\u001b[0m     \u001b[39mreturn\u001b[39;00m \u001b[39mself\u001b[39m\n\u001b[1;32m---> 24\u001b[0m value \u001b[39m=\u001b[39m obj\u001b[39m.\u001b[39m\u001b[39m__dict__\u001b[39m[\u001b[39mself\u001b[39m\u001b[39m.\u001b[39mfunc\u001b[39m.\u001b[39m\u001b[39m__name__\u001b[39m] \u001b[39m=\u001b[39m \u001b[39mself\u001b[39;49m\u001b[39m.\u001b[39;49mfunc(obj)\n\u001b[0;32m     25\u001b[0m \u001b[39mreturn\u001b[39;00m value\n",
      "File \u001b[1;32m~\\AppData\\Local\\Packages\\PythonSoftwareFoundation.Python.3.10_qbz5n2kfra8p0\\LocalCache\\local-packages\\Python310\\site-packages\\textblob\\blob.py:447\u001b[0m, in \u001b[0;36mBaseBlob.sentiment\u001b[1;34m(self)\u001b[0m\n\u001b[0;32m    438\u001b[0m \u001b[39m@cached_property\u001b[39m\n\u001b[0;32m    439\u001b[0m \u001b[39mdef\u001b[39;00m \u001b[39msentiment\u001b[39m(\u001b[39mself\u001b[39m):\n\u001b[0;32m    440\u001b[0m     \u001b[39m\"\"\"Return a tuple of form (polarity, subjectivity ) where polarity\u001b[39;00m\n\u001b[0;32m    441\u001b[0m \u001b[39m    is a float within the range [-1.0, 1.0] and subjectivity is a float\u001b[39;00m\n\u001b[0;32m    442\u001b[0m \u001b[39m    within the range [0.0, 1.0] where 0.0 is very objective and 1.0 is\u001b[39;00m\n\u001b[1;32m   (...)\u001b[0m\n\u001b[0;32m    445\u001b[0m \u001b[39m    :rtype: namedtuple of the form ``Sentiment(polarity, subjectivity)``\u001b[39;00m\n\u001b[0;32m    446\u001b[0m \u001b[39m    \"\"\"\u001b[39;00m\n\u001b[1;32m--> 447\u001b[0m     \u001b[39mreturn\u001b[39;00m \u001b[39mself\u001b[39;49m\u001b[39m.\u001b[39;49manalyzer\u001b[39m.\u001b[39;49manalyze(\u001b[39mself\u001b[39;49m\u001b[39m.\u001b[39;49mraw)\n",
      "File \u001b[1;32m~\\AppData\\Local\\Packages\\PythonSoftwareFoundation.Python.3.10_qbz5n2kfra8p0\\LocalCache\\local-packages\\Python310\\site-packages\\textblob\\en\\sentiments.py:92\u001b[0m, in \u001b[0;36mNaiveBayesAnalyzer.analyze\u001b[1;34m(self, text)\u001b[0m\n\u001b[0;32m     90\u001b[0m filtered \u001b[39m=\u001b[39m (t\u001b[39m.\u001b[39mlower() \u001b[39mfor\u001b[39;00m t \u001b[39min\u001b[39;00m tokens \u001b[39mif\u001b[39;00m \u001b[39mlen\u001b[39m(t) \u001b[39m>\u001b[39m\u001b[39m=\u001b[39m \u001b[39m3\u001b[39m)\n\u001b[0;32m     91\u001b[0m feats \u001b[39m=\u001b[39m \u001b[39mself\u001b[39m\u001b[39m.\u001b[39mfeature_extractor(filtered)\n\u001b[1;32m---> 92\u001b[0m prob_dist \u001b[39m=\u001b[39m \u001b[39mself\u001b[39;49m\u001b[39m.\u001b[39;49m_classifier\u001b[39m.\u001b[39;49mprob_classify(feats)\n\u001b[0;32m     93\u001b[0m \u001b[39mreturn\u001b[39;00m \u001b[39mself\u001b[39m\u001b[39m.\u001b[39mRETURN_TYPE(\n\u001b[0;32m     94\u001b[0m     classification\u001b[39m=\u001b[39mprob_dist\u001b[39m.\u001b[39mmax(),\n\u001b[0;32m     95\u001b[0m     p_pos\u001b[39m=\u001b[39mprob_dist\u001b[39m.\u001b[39mprob(\u001b[39m'\u001b[39m\u001b[39mpos\u001b[39m\u001b[39m'\u001b[39m),\n\u001b[0;32m     96\u001b[0m     p_neg\u001b[39m=\u001b[39mprob_dist\u001b[39m.\u001b[39mprob(\u001b[39m\"\u001b[39m\u001b[39mneg\u001b[39m\u001b[39m\"\u001b[39m)\n\u001b[0;32m     97\u001b[0m )\n",
      "\u001b[1;31mAttributeError\u001b[0m: 'NoneType' object has no attribute 'prob_classify'"
     ]
    }
   ],
   "source": [
    "blob.sentiment"
   ]
  },
  {
   "cell_type": "code",
   "execution_count": 29,
   "id": "a93197d2-9cb6-4799-8ff2-8ac2e02e62c2",
   "metadata": {},
   "outputs": [
    {
     "name": "stderr",
     "output_type": "stream",
     "text": [
      "ERROR: Could not find a version that satisfies the requirement textblob.download_corpora (from versions: none)\n",
      "ERROR: No matching distribution found for textblob.download_corpora\n"
     ]
    }
   ],
   "source": [
    "!pip install textblob.download_corpora"
   ]
  },
  {
   "cell_type": "code",
   "execution_count": 31,
   "id": "b0ec9d27-9215-4a24-b6aa-9ec1fc772736",
   "metadata": {},
   "outputs": [
    {
     "data": {
      "text/plain": [
       "<bound method Downloader.download of <nltk.downloader.Downloader object at 0x0000023B42C2A8F0>>"
      ]
     },
     "execution_count": 31,
     "metadata": {},
     "output_type": "execute_result"
    }
   ],
   "source": [
    "import nltk\n",
    "nltk.download"
   ]
  },
  {
   "cell_type": "code",
   "execution_count": 1,
   "id": "6c3ef8d4",
   "metadata": {},
   "outputs": [],
   "source": [
    "import socket\n",
    "import random\n",
    "\n",
    "__all__ = ['Tracer']\n",
    "\n",
    "\n",
    "class Tracer(object):\n",
    "    def __init__(self, dst, hops=30):\n",
    "        \"\"\"\n",
    "        Initializes a new tracer object\n",
    "\n",
    "        Args:\n",
    "            dst  (str): Destination host to probe\n",
    "            hops (int): Max number of hops to probe\n",
    "\n",
    "        \"\"\"\n",
    "        self.dst = dst\n",
    "        self.hops = hops\n",
    "        self.ttl = 1\n",
    "\n",
    "        # Pick up a random port in the range 33434-33534\n",
    "        self.port = random.choice(range(33434, 33535))\n",
    "\n",
    "    def run(self):\n",
    "        \"\"\"\n",
    "        Run the tracer\n",
    "\n",
    "        Raises:\n",
    "            IOError\n",
    "\n",
    "        \"\"\"\n",
    "        try:\n",
    "            dst_ip = socket.gethostbyname(self.dst)\n",
    "        except socket.error as e:\n",
    "            raise IOError('Unable to resolve {}: {}', self.dst, e)\n",
    "\n",
    "        text = 'traceroute to {} ({}), {} hops max'.format(\n",
    "            self.dst,\n",
    "            dst_ip,\n",
    "            self.hops\n",
    "        )\n",
    "\n",
    "        print(text)\n",
    "\n",
    "        while True:\n",
    "            receiver = self.create_receiver() \n",
    "            sender = self.create_sender()\n",
    "            sender.sendto(b'', (self.dst, self.port))\n",
    "\n",
    "            addr = None\n",
    "            try:\n",
    "                data, addr = receiver.recvfrom(1024)\n",
    "            except socket.error:\n",
    "                raise IOError('Socket error: {}'.format(e))\n",
    "            finally:\n",
    "                receiver.close()                \n",
    "                sender.close()\n",
    "\n",
    "            if addr:\n",
    "                print('{:<4} {}'.format(self.ttl, addr[0]))\n",
    "            else:\n",
    "                print('{:<4} *'.format(self.ttl))\n",
    "\n",
    "            self.ttl += 1\n",
    "\n",
    "            if addr[0] == dst_ip or self.ttl > self.hops:\n",
    "                break\n",
    "\n",
    "    def create_receiver(self):\n",
    "        \"\"\"\n",
    "        Creates a receiver socket\n",
    "\n",
    "        Returns:\n",
    "            A socket instance\n",
    "\n",
    "        Raises:\n",
    "            IOError\n",
    "\n",
    "        \"\"\"\n",
    "        s = socket.socket(\n",
    "            family=socket.AF_INET,\n",
    "            type=socket.SOCK_RAW,\n",
    "            proto=socket.IPPROTO_ICMP\n",
    "        )\n",
    "\n",
    "        try:\n",
    "            s.bind(('', self.port))\n",
    "        except socket.error as e:\n",
    "            raise IOError('Unable to bind receiver socket: {}'.format(e))\n",
    "\n",
    "        return s\n",
    "\n",
    "    def create_sender(self):\n",
    "        \"\"\"\n",
    "        Creates a sender socket\n",
    "\n",
    "        Returns:\n",
    "            A socket instance\n",
    "\n",
    "        \"\"\"\n",
    "        s = socket.socket(\n",
    "            family=socket.AF_INET,\n",
    "            type=socket.SOCK_DGRAM,\n",
    "            proto=socket.IPPROTO_UDP\n",
    "        )\n",
    "\n",
    "        s.setsockopt(socket.SOL_IP, socket.IP_TTL, self.ttl)\n",
    "\n",
    "        return s"
   ]
  },
  {
   "cell_type": "code",
   "execution_count": 4,
   "id": "b3d72c10",
   "metadata": {},
   "outputs": [
    {
     "data": {
      "text/plain": [
       "<__main__.Tracer at 0x20af6250400>"
      ]
     },
     "execution_count": 4,
     "metadata": {},
     "output_type": "execute_result"
    },
    {
     "ename": "",
     "evalue": "",
     "output_type": "error",
     "traceback": [
      "\u001b[1;31mThe Kernel crashed while executing code in the the current cell or a previous cell. Please review the code in the cell(s) to identify a possible cause of the failure. Click <a href='https://aka.ms/vscodeJupyterKernelCrash'>here</a> for more info. View Jupyter <a href='command:jupyter.viewOutput'>log</a> for further details."
     ]
    }
   ],
   "source": [
    "Tracer('google.com')"
   ]
  },
  {
   "cell_type": "code",
   "execution_count": null,
   "id": "2a702801",
   "metadata": {},
   "outputs": [],
   "source": []
  },
  {
   "cell_type": "code",
   "execution_count": null,
   "id": "bdd5b1c7",
   "metadata": {},
   "outputs": [],
   "source": []
  },
  {
   "cell_type": "code",
   "execution_count": null,
   "id": "eba5abe0",
   "metadata": {},
   "outputs": [],
   "source": []
  },
  {
   "cell_type": "code",
   "execution_count": null,
   "id": "d34259dd",
   "metadata": {},
   "outputs": [],
   "source": []
  },
  {
   "cell_type": "code",
   "execution_count": null,
   "id": "7c05f438",
   "metadata": {},
   "outputs": [],
   "source": []
  },
  {
   "cell_type": "code",
   "execution_count": null,
   "id": "78ee94b1",
   "metadata": {},
   "outputs": [],
   "source": []
  },
  {
   "cell_type": "code",
   "execution_count": null,
   "id": "18af8e1c",
   "metadata": {},
   "outputs": [],
   "source": []
  },
  {
   "cell_type": "code",
   "execution_count": null,
   "id": "3deebe0a",
   "metadata": {},
   "outputs": [],
   "source": []
  },
  {
   "cell_type": "code",
   "execution_count": null,
   "id": "bb87bc2b",
   "metadata": {},
   "outputs": [],
   "source": []
  },
  {
   "cell_type": "code",
   "execution_count": null,
   "id": "dea597b1",
   "metadata": {},
   "outputs": [],
   "source": []
  },
  {
   "cell_type": "code",
   "execution_count": null,
   "id": "763c970b",
   "metadata": {},
   "outputs": [],
   "source": []
  },
  {
   "cell_type": "code",
   "execution_count": null,
   "id": "e5583589",
   "metadata": {},
   "outputs": [],
   "source": []
  },
  {
   "cell_type": "code",
   "execution_count": null,
   "id": "b9126f13",
   "metadata": {},
   "outputs": [],
   "source": []
  },
  {
   "cell_type": "code",
   "execution_count": null,
   "id": "9048083b",
   "metadata": {},
   "outputs": [],
   "source": []
  },
  {
   "cell_type": "code",
   "execution_count": null,
   "id": "f045d465",
   "metadata": {},
   "outputs": [],
   "source": []
  },
  {
   "cell_type": "code",
   "execution_count": null,
   "id": "968dd145",
   "metadata": {},
   "outputs": [],
   "source": []
  },
  {
   "cell_type": "code",
   "execution_count": null,
   "id": "99b7694d",
   "metadata": {},
   "outputs": [],
   "source": []
  },
  {
   "cell_type": "code",
   "execution_count": null,
   "id": "99db086b",
   "metadata": {},
   "outputs": [],
   "source": []
  },
  {
   "cell_type": "code",
   "execution_count": null,
   "id": "69963042",
   "metadata": {},
   "outputs": [],
   "source": []
  },
  {
   "cell_type": "code",
   "execution_count": null,
   "id": "f2943944",
   "metadata": {},
   "outputs": [],
   "source": []
  }
 ],
 "metadata": {
  "kernelspec": {
   "display_name": "Python 3.10.5 64-bit (windows store)",
   "language": "python",
   "name": "python3"
  },
  "language_info": {
   "codemirror_mode": {
    "name": "ipython",
    "version": 3
   },
   "file_extension": ".py",
   "mimetype": "text/x-python",
   "name": "python",
   "nbconvert_exporter": "python",
   "pygments_lexer": "ipython3",
   "version": "3.10.8"
  },
  "vscode": {
   "interpreter": {
    "hash": "582ce796faf498658236dc6c4c7e0fe8081b61e65e76d55250e9a9323d12417d"
   }
  }
 },
 "nbformat": 4,
 "nbformat_minor": 5
}
