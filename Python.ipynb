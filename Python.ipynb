{
 "cells": [
  {
   "cell_type": "code",
   "execution_count": null,
   "id": "c8ab64d6-8d36-437f-abdb-654cab0113b6",
   "metadata": {},
   "outputs": [],
   "source": [
    "#    MAIO,2022\n",
    "\"\"\"coisas que voce tem que saber futuramente (meio que como objetivos):\n",
    "\n",
    "- Manipular arquivos: \n",
    "1. abrir um arquivo, ler o conteudo dele e processar. \n",
    "2. Salvar coisas em arquivos\n",
    "\n",
    "- estruturas de dados\n",
    "- orientação a objetos\n",
    "- biblioteca do Python (pandas, coisas de data science etc )\n",
    "\n",
    "- Python via docker image\n",
    "1. Entender como criar uma imagem de docker\n",
    "2. Transformar um codigo/projeto de python em uma imagem docker\n",
    "\n",
    "- Python usando banco de dados\n",
    "1. Conectar um software de python a um BD\n",
    "2. Fazer transacoes no banco (insert, read, update, delete)\n",
    "\n",
    "- Python usando Web APIs\n",
    "1. Criar um projeto python que seja uma Restful API (com metodos como GET, POST, DELETE, PUT, PATCH)\n",
    "2. Criar um projeto python que seja uma API GraphQL\n",
    "\n",
    "- Python e cloud\n",
    "1. Criar um projeto que seja produtor e consumidor de cloud streams\n",
    "1.1 GCP (google cloud)\n",
    "1.2 AWS kinesis (amazon)\n",
    "1.3 AWS SQS (amazon simple queue service)\n",
    "1.4 Azure (microsoft)\"\"\"\n",
    "\n",
    "\n",
    "\n",
    "\"CALENDARIO INICIAL:\n",
    "'SEG: PYTHON\n",
    "'TER:MACHINE LEARNING\n",
    "'QUA:PYTHON\n",
    "'QUI:DATA SCIENCE\n",
    "'SEX:PYTHON\n",
    "'SAB:AUTOMATION\n",
    "\n",
    "'SEGUNDO CALENDARIO\n",
    "'Ciclo de vida do projeto e do produto. Gerenciamento de Projetos. Tripla Restrição. Ética e responsabilidade profissional. Técnicas PMI e Metodologias ágeis (SCRUM).\n",
    "'linguagem ANSI SQL e PL/SQL em banco de dados Oracle. Você conhecerá elementos como: procedures, functions, packages, triggers, collections, PL/SQL tables, PL/SQL com Bulk processing, Autonomous transactions, Exception handling, SQL tuning. Introdução às novas tendências como Big Data, NoSQL (MongoDB).\n"
   ]
  },
  {
   "cell_type": "code",
   "execution_count": null,
   "id": "e519909d-cf99-4ba3-9551-d0463d3ade72",
   "metadata": {},
   "outputs": [],
   "source": [
    "print('Olha \\n\\\"só\\\" isso aqui')6080T1Divx!"
   ]
  },
  {
   "cell_type": "code",
   "execution_count": null,
   "id": "c520e15a-2545-4e46-8cb2-03172fab98c5",
   "metadata": {},
   "outputs": [],
   "source": [
    "print(\"\"\"Olha \"de\" 'novo' aqui\"\"\")"
   ]
  },
  {
   "cell_type": "code",
   "execution_count": null,
   "id": "86793a0c-43e3-4431-929b-036e98a2cd82",
   "metadata": {},
   "outputs": [],
   "source": [
    "print(\"\"\"Este exemplo fodido\n",
    "com 4 linhas\n",
    "de \\ codigo\"\"\")\n"
   ]
  },
  {
   "cell_type": "code",
   "execution_count": null,
   "id": "8fb5f91f-38d6-4197-a5e9-adc09180f2b1",
   "metadata": {},
   "outputs": [],
   "source": [
    "quote = \"\"\"Este exemplo fodido\n",
    "    com 4 linhas\n",
    "de \\ \n",
    "codigo\"\"\""
   ]
  },
  {
   "cell_type": "code",
   "execution_count": null,
   "id": "6c1e0693-f6f3-41b8-9073-2122c41c41f5",
   "metadata": {},
   "outputs": [],
   "source": [
    "################################################################\n",
    "\n",
    "PARA INSTALAR UM MODULO NO JUPYTER!!!!!!!!!!!!!!!!!!!\n",
    "\n",
    "!pip install tensorflow\n",
    "import tensorflow"
   ]
  },
  {
   "cell_type": "code",
   "execution_count": null,
   "id": "2bbfe89a-5145-46cf-8690-9e59123e8cbe",
   "metadata": {},
   "outputs": [],
   "source": []
  },
  {
   "cell_type": "markdown",
   "id": "a3a08fef-cd6d-4159-aced-6439161df37a",
   "metadata": {},
   "source": [
    " "
   ]
  },
  {
   "cell_type": "code",
   "execution_count": null,
   "id": "98bbbaed-eec1-4cc5-9ca8-f94ba1ad18a1",
   "metadata": {},
   "outputs": [],
   "source": [
    "# \"\"\"Find the minimum of three values.\"\"\"\n",
    "\n",
    "nbr1 = int(input('Enter first number: '))\n",
    "nbr2 = int(input('Enter second number: '))\n",
    "nbr3 = int(input('Enter third number: '))\n",
    "\n",
    "min1 = nbr1\n",
    "\n",
    "if nbr2 < min1:\n",
    "    min1 = nbr2\n",
    "if nbr3 < min1:\n",
    "    min1 = nbr3\n",
    "print(\"The minimum value is: \", min1)   "
   ]
  },
  {
   "cell_type": "code",
   "execution_count": null,
   "id": "4c469336-5c58-48f1-b8db-53a152cc604c",
   "metadata": {},
   "outputs": [],
   "source": [
    "########DATA SCIENCE SNIPPETS/SCRIPTS/EXAMPLES########\n",
    "\n",
    "min,max,sum,range\n"
   ]
  },
  {
   "cell_type": "code",
   "execution_count": null,
   "id": "7d72ed50-77e6-4329-9b4c-b1c1a6deaaff",
   "metadata": {},
   "outputs": [],
   "source": [
    "#Calculate the minimum,maximum and range values inbetween 45,67,76,24,98,92\n",
    "\n",
    "minimum = min(45,67,76,24,98,9)\n",
    "print('The minimium valor is: ', minimum)"
   ]
  },
  {
   "cell_type": "code",
   "execution_count": null,
   "id": "8d6d47cf-06e5-4fb5-b8b5-9e679d02293d",
   "metadata": {},
   "outputs": [],
   "source": [
    "1 #Calculate the minimum,maximum and range values inbetween 45,67,76,24,98,92\n",
    "maximum = max(45,67,76,24,98,9)\n",
    "print('The maximum valor is: ', maximum)"
   ]
  },
  {
   "cell_type": "code",
   "execution_count": null,
   "id": "b395064d-03ea-45f4-8bde-b5f1aff0897a",
   "metadata": {},
   "outputs": [],
   "source": [
    "rgn = range(4,67)\n",
    "print('The range valor is: ', rgn)"
   ]
  },
  {
   "cell_type": "code",
   "execution_count": null,
   "id": "d2850226-1414-4491-9e8d-92f49d0e4a01",
   "metadata": {},
   "outputs": [],
   "source": [
    "grade = 30\n",
    "\n",
    "if grade >= 50:\n",
    "    print('Passou na prova arrombado!')\n",
    "if grade <= 49:\n",
    "    print('Se fodeo otario,reprovou!')"
   ]
  },
  {
   "cell_type": "code",
   "execution_count": null,
   "id": "b34abe4a-ddd5-45cf-8149-8037654ee9e5",
   "metadata": {},
   "outputs": [],
   "source": [
    "grade = 20\n",
    "\n",
    "if grade in range(50,100):\n",
    "    print('Passou')\n",
    "if grade not in range(50,100):\n",
    "    print('reprovado')\n",
    "        "
   ]
  },
  {
   "cell_type": "code",
   "execution_count": null,
   "id": "accec69b-7849-40c6-a207-99b7da70b3fe",
   "metadata": {},
   "outputs": [],
   "source": [
    "grade = 30\n",
    "\n",
    "if grade >= 50:\n",
    "    print('Passou na prova arrombado!')\n",
    "else:\n",
    "    print('Se fodeo otario,reprovou!')"
   ]
  },
  {
   "cell_type": "code",
   "execution_count": null,
   "id": "f09f204d-2d01-426a-90d8-14a4bb4c05a5",
   "metadata": {},
   "outputs": [],
   "source": [
    "valor = int(input('Insira um numero a ser multiplicado: '))\n",
    "\n",
    "aux = 0\n",
    "\n",
    "print('*' * 18)\n",
    "print('A tabuada de {}'.format(valor))\n",
    "print('*' * 18)\n",
    "\n",
    "while (aux <= 10):\n",
    "    print('{0} X {1} = {2}'.format(aux,valor,(aux * valor)))\n",
    "    aux = aux + 1"
   ]
  },
  {
   "cell_type": "code",
   "execution_count": null,
   "id": "90742936-4b77-4410-b4a1-5a0d401f3ddd",
   "metadata": {},
   "outputs": [],
   "source": [
    "tabuada = int(input('Digita um numero a ser multiplicado: '))\n",
    "for num in range(1,11):\n",
    "    print('{} x {} = {}'.format(num,tabuada,num * tabuada))"
   ]
  },
  {
   "cell_type": "code",
   "execution_count": null,
   "id": "4d371dea-4664-4fea-a44c-8fe409067b7e",
   "metadata": {},
   "outputs": [],
   "source": [
    "a = 3 \n",
    "a += 9"
   ]
  },
  {
   "cell_type": "code",
   "execution_count": null,
   "id": "da723631-6643-4774-ae48-c9db93461951",
   "metadata": {},
   "outputs": [],
   "source": [
    "a"
   ]
  },
  {
   "cell_type": "code",
   "execution_count": null,
   "id": "a0a64733-46d2-4d10-ada6-8ed2dc74d93a",
   "metadata": {},
   "outputs": [],
   "source": [
    "#Media da turma\n",
    "\n",
    "total = 0\n",
    "grade_counter = 0\n",
    "grades = [45, 87, 98, 52, 74, 65, 14, 79, 99, 32, 45, 65, 25, 58, 95]\n",
    "\n",
    "for grade in grades:\n",
    "    total += grade\n",
    "    grade_counter += 1\n",
    "    \n",
    "average = total / grade_counter\n",
    "print(f'Class average is {average}')"
   ]
  },
  {
   "cell_type": "code",
   "execution_count": null,
   "id": "568f57e4-7af5-4982-907f-f8a20b318559",
   "metadata": {},
   "outputs": [],
   "source": [
    "grade"
   ]
  },
  {
   "cell_type": "code",
   "execution_count": null,
   "id": "cc0fc6ff-f206-4260-915d-158f281691f5",
   "metadata": {},
   "outputs": [],
   "source": [
    "sep= end= "
   ]
  },
  {
   "cell_type": "code",
   "execution_count": null,
   "id": "dca24561-0f61-4157-b08b-ec87acdc0d05",
   "metadata": {},
   "outputs": [],
   "source": [
    "total = 0\n",
    "grade_counter = 0\n",
    "grade = int(input('Insira a média, fim para finalizar: '))\n",
    "\n",
    "while grade != -1:\n",
    "    total += grade\n",
    "    grade_counter += 1\n",
    "    grade = int(input('Insira a média, fim para finalizar: '))\n",
    "\n",
    "if grade_counter != 0:    \n",
    "    average = total / grade_counter\n",
    "    print(f'Media da classe é de {average:.2f}')\n",
    "else:    \n",
    "    print('Nenhuma media foi inserida')"
   ]
  },
  {
   "cell_type": "code",
   "execution_count": null,
   "id": "ea4b379f-f810-42df-9392-bea99cb92be0",
   "metadata": {},
   "outputs": [],
   "source": [
    "for number in range(100,-1,-1):\n",
    "    print(number, end=' ')"
   ]
  },
  {
   "cell_type": "code",
   "execution_count": null,
   "id": "d8204876-0494-44e5-a392-eb7364a60f1d",
   "metadata": {},
   "outputs": [],
   "source": [
    "for number in range(10,0,-2):\n",
    "    print(number, end=' ')"
   ]
  },
  {
   "cell_type": "code",
   "execution_count": null,
   "id": "537fc028-43e1-4f10-98da-c25c916e151e",
   "metadata": {},
   "outputs": [],
   "source": [
    "for number in range(99,-1,-11):\n",
    "    print(number, end=' ')"
   ]
  },
  {
   "cell_type": "code",
   "execution_count": null,
   "id": "bbe150d9-e6ac-4b6b-bbe5-fe2774c554d6",
   "metadata": {},
   "outputs": [],
   "source": [
    "total = 0\n",
    "for number in range(2,101,2):\n",
    "    total += number "
   ]
  },
  {
   "cell_type": "code",
   "execution_count": null,
   "id": "f5af71bc-e610-4805-afb0-f6b01ed520ba",
   "metadata": {},
   "outputs": [],
   "source": [
    "total"
   ]
  },
  {
   "cell_type": "code",
   "execution_count": null,
   "id": "e56231c0-ddbd-4c4c-8480-53b8e4bd6739",
   "metadata": {},
   "outputs": [],
   "source": [
    "from decimal import Decimal\n",
    "\n",
    "principal = Decimal('1000.00')\n",
    "rate = Decimal('0.05')\n",
    "\n",
    "for year in range(1,11):\n",
    "    amount = principal * (1 + rate) ** year\n",
    "    print(f'{year:>2} {amount:>10.2f}')\n"
   ]
  },
  {
   "cell_type": "code",
   "execution_count": null,
   "id": "1b60ec55-4ae8-4b8b-8ac6-7d84502fa0ca",
   "metadata": {},
   "outputs": [],
   "source": [
    "from decimal import Decimal\n",
    "\n",
    "print(f\"{Decimal('37.45') * Decimal ('1.0625'):.2f}\")"
   ]
  },
  {
   "cell_type": "code",
   "execution_count": null,
   "id": "41cccdc3-5ed4-4dd5-abb2-de5523d0c01d",
   "metadata": {},
   "outputs": [],
   "source": [
    "for number in range(100):\n",
    "    if number == 10:\n",
    "        break\n",
    "    print(number, end=' ')"
   ]
  },
  {
   "cell_type": "code",
   "execution_count": null,
   "id": "40767da5-8a43-4e84-ade0-368f86bfac27",
   "metadata": {},
   "outputs": [],
   "source": [
    "for number in range(10):\n",
    "    if number == 5:\n",
    "        continue\n",
    "    print(number, end=' ')"
   ]
  },
  {
   "cell_type": "code",
   "execution_count": null,
   "id": "6f4fd793-f345-4fad-a60e-021e5e941243",
   "metadata": {},
   "outputs": [],
   "source": [
    "gender = 'Velha'\n",
    "\n",
    "age = 74\n",
    "\n",
    "if gender == 'Velha' and age >= 65:\n",
    "    print('Cougar')\n",
    "else:\n",
    "    print('Coroa safada')"
   ]
  },
  {
   "cell_type": "code",
   "execution_count": null,
   "id": "128a1f00-105f-40d7-95ff-d71d6b5545f8",
   "metadata": {},
   "outputs": [],
   "source": [
    "media = 50\n",
    "exame_final = 40\n",
    "\n",
    "if media >= 90 or exame_final >= 90:\n",
    "    print('Passou, aleluia!')\n",
    "else:\n",
    "    print('Se fudeu troxa')"
   ]
  },
  {
   "cell_type": "code",
   "execution_count": null,
   "id": "60b6dd7d-9231-4551-bc0d-7365275168c1",
   "metadata": {},
   "outputs": [],
   "source": [
    "grades = [45,467,894,379,903,45]\n",
    "sum(grades) / len(grades)"
   ]
  },
  {
   "cell_type": "code",
   "execution_count": null,
   "id": "11b70523-203f-4e63-a005-72103325bb3a",
   "metadata": {},
   "outputs": [],
   "source": [
    "\"FUNÇÕES\"\n",
    "\n",
    "def square(number):\n",
    "    \"\"\"Calculate the square of a number\"\"\"\n",
    "    return number ** 2"
   ]
  },
  {
   "cell_type": "code",
   "execution_count": null,
   "id": "efb8d12c-6415-4b28-b5e7-bb78983576e4",
   "metadata": {},
   "outputs": [],
   "source": [
    "square(50)"
   ]
  },
  {
   "cell_type": "code",
   "execution_count": null,
   "id": "4154537c-96ef-4af3-99cd-23bece40b559",
   "metadata": {},
   "outputs": [],
   "source": [
    "square??"
   ]
  },
  {
   "cell_type": "code",
   "execution_count": null,
   "id": "033a6ff7-14ae-4edd-97b1-50e4350abafa",
   "metadata": {},
   "outputs": [],
   "source": [
    "statistics?"
   ]
  },
  {
   "cell_type": "code",
   "execution_count": null,
   "id": "d34ff760-c6ea-456f-9b48-1542313ea98b",
   "metadata": {},
   "outputs": [],
   "source": [
    "def square_root(number):\n",
    "    \"\"\"Finds a square root from a given number\"\"\"\n",
    "    return number ** 0.5"
   ]
  },
  {
   "cell_type": "code",
   "execution_count": null,
   "id": "8f90209d-3040-48cb-8dc6-b51c500c80df",
   "metadata": {},
   "outputs": [],
   "source": [
    "square_root(6.25)"
   ]
  },
  {
   "cell_type": "code",
   "execution_count": null,
   "id": "87cda4dc-f097-482b-8b2d-fd3af8879356",
   "metadata": {},
   "outputs": [],
   "source": [
    "def maximum(value1,value2,value3):\n",
    "    \"\"\"Determina o valor maximo de 3 valores\"\"\"\n",
    "    max_value = value1\n",
    "    if value2 > max_value:\n",
    "        max_value = value2\n",
    "    if value3 > max_value:\n",
    "        max_value = value3\n",
    "    return max_value    "
   ]
  },
  {
   "cell_type": "code",
   "execution_count": null,
   "id": "bdaf70dd-b14f-4146-9fde-58710cb6558e",
   "metadata": {},
   "outputs": [],
   "source": [
    "maximum('casa','casaa','casaaaa')"
   ]
  },
  {
   "cell_type": "code",
   "execution_count": null,
   "id": "3e9110ea-39ca-4d07-abd4-038fec817488",
   "metadata": {},
   "outputs": [],
   "source": [
    "maximum(-505.1,0.500,5.00)"
   ]
  },
  {
   "cell_type": "code",
   "execution_count": null,
   "id": "b0b9913d-d854-4fe8-88a7-93d9b1559d68",
   "metadata": {},
   "outputs": [],
   "source": [
    "max([14,54,87,51,2])"
   ]
  },
  {
   "cell_type": "code",
   "execution_count": null,
   "id": "e4f5167d-e27e-47d1-a886-fc30a562fb96",
   "metadata": {},
   "outputs": [],
   "source": [
    "###RANDOM NUMBER GENERATOR###\n",
    "\n",
    "import random\n",
    "\n",
    "for roll in range(10):\n",
    "    print(random.randrange(1,7), end=' ')\n",
    "                 "
   ]
  },
  {
   "cell_type": "code",
   "execution_count": null,
   "id": "ea9c99a7-390f-4eb9-8f9d-5e6e9dc695c6",
   "metadata": {},
   "outputs": [],
   "source": [
    "###Rolling a dice Six million Times,Random Number Generator ###\n",
    "\n",
    "import random\n",
    "\n",
    "#face frequency counters\n",
    "\n",
    "frequency1 = 0\n",
    "frequency2 = 0\n",
    "frequency3 = 0\n",
    "frequency4 = 0\n",
    "frequency5 = 0\n",
    "frequency6 = 0\n",
    "\n",
    "#Six million die rolls\n",
    "\n",
    "for roll in range(6000000):\n",
    "    face = random.randrange(1,7)\n",
    "    \n",
    "    if face == 1:\n",
    "        frequency1 += 1\n",
    "    elif face == 2:\n",
    "        frequency2 += 1\n",
    "    elif face == 3:\n",
    "        frequency3 += 1\n",
    "    elif face == 4:\n",
    "        frequency4 += 1        \n",
    "    elif face == 5:\n",
    "        frequency5 += 1\n",
    "    elif face == 6:\n",
    "        frequency6 += 1    \n",
    "\n",
    "print(f'Face{\"Frequency\":>13}') \n",
    "print(f'{1:>4}{frequency1:>13}')\n",
    "print(f'{2:>4}{frequency2:>13}')\n",
    "print(f'{3:>4}{frequency3:>13}')\n",
    "print(f'{4:>4}{frequency4:>13}')\n",
    "print(f'{5:>4}{frequency5:>13}')\n",
    "print(f'{6:>4}{frequency6:>13}')"
   ]
  },
  {
   "cell_type": "code",
   "execution_count": null,
   "id": "6f7303b6-3c17-4db8-9594-cd0c15a982d7",
   "metadata": {},
   "outputs": [],
   "source": [
    "random.seed(31)\n",
    "\n",
    "for roll in range(10):\n",
    "    print(random.randrange(1,7), end=' ')"
   ]
  },
  {
   "cell_type": "code",
   "execution_count": null,
   "id": "b856f0c3-e376-4e61-9d09-b0a65ba08de8",
   "metadata": {},
   "outputs": [],
   "source": [
    "\"\"\"Simulate 20 coin flips and print heads and tails\"\"\"\n",
    "import random\n",
    "\n",
    "for coins in range(20):\n",
    "    print('Heads' if random.randrange(2) == 0 else 'Tails', end=' ')\n",
    "    "
   ]
  },
  {
   "cell_type": "code",
   "execution_count": null,
   "id": "7dadaf72-d281-4696-b2b1-ba680d16fe87",
   "metadata": {},
   "outputs": [],
   "source": [
    "\"\"\"Simulando o jogo Craps\"\"\"\n",
    "\n",
    "import random\n",
    "\n",
    "def roll_dice():\n",
    "    \"\"\"Roll two dices and return their face values as Tuple\"\"\"\n",
    "    die1 = random.randrange(1,7)\n",
    "    die2 = random.randrange(1,7)\n",
    "    return (die1,die2)\n",
    "\n",
    "def display_dice(dice):\n",
    "    \"\"\"Display one roll of the two dice\"\"\"\n",
    "    die1, die2 = dice\n",
    "    print(f'Player rolled {die1} + {die2} = {sum(dice)}')\n",
    "    \n",
    "die_values = roll_dice()\n",
    "display_dice(die_values)\n",
    "\n",
    "sum_of_dice = sum(die_values)\n",
    "\n",
    "if sum_of_dice in (7,11):\n",
    "    game_status = 'Won!'\n",
    "    \n",
    "elif sum_of_dice in (2,3,12):\n",
    "    game_status = 'You lose!'\n",
    "else:\n",
    "    game_status = 'Continue'\n",
    "    my_point = sum_of_dice\n",
    "    print('Point is', my_point)\n",
    "\n",
    "while game_status == 'Continue':\n",
    "    die_values = roll_dice()\n",
    "    display_dice(die_values)\n",
    "    sum_of_dice = sum(die_values)\n",
    "    \n",
    "    if sum_of_dice == my_point:\n",
    "        game_status = 'Won!'\n",
    "    elif sum_of_dice == 7:\n",
    "        game_status = 'You lose!'\n",
    "        \n",
    "if game_status == 'Won!':\n",
    "    print('Player wins')\n",
    "else:\n",
    "    print('Player loses')"
   ]
  },
  {
   "cell_type": "code",
   "execution_count": null,
   "id": "90371449-c6da-498f-889a-70fe899a058f",
   "metadata": {},
   "outputs": [],
   "source": [
    "###Basic tuple###\n",
    "\n",
    "tromba = ('trombz', [54, 65, 98])\n",
    "\n",
    "tr1,tr2 = tromba\n"
   ]
  },
  {
   "cell_type": "code",
   "execution_count": null,
   "id": "6ce80d41-281f-47a4-a930-a7b9507e1a16",
   "metadata": {},
   "outputs": [],
   "source": [
    "tromba"
   ]
  },
  {
   "cell_type": "code",
   "execution_count": null,
   "id": "96a2d02a-5dc9-4069-98e3-57d0f08f1d50",
   "metadata": {},
   "outputs": [],
   "source": [
    "import math\n",
    "math.sqrt(55)"
   ]
  },
  {
   "cell_type": "code",
   "execution_count": null,
   "id": "06cc71a9-bd16-4fa1-9529-055a35079d69",
   "metadata": {},
   "outputs": [],
   "source": [
    "###Emprestimo##\n",
    "\n",
    "house_value = float(input('What is the price of the house in PLN'))\n",
    "salary = float(input('Whats your salary PLN'))\n",
    "pay_time = int(input('In how many months do you want to pay for it?'))\n",
    "\n",
    "interest_rate = (house_value / 100 * 3.5) / 12\n",
    "payment = (salary / 100 * 30)\n",
    "monthly_payment = (house_value / pay_time) + interest_rate\n",
    "\n",
    "if payment >= monthly_payment:\n",
    "    print('Your loan has been approved')\n",
    "else:\n",
    "    print('Your loan was denied due to monthly payment being above of 30% of your salary')\n",
    "    \n",
    "print(\"30% from you salary is PLN {:.2f} and your monthly payment would be PLN {:.2f} and with interest rate of {:.2f}\".format(payment,monthly_payment,interest_rate))    "
   ]
  },
  {
   "cell_type": "code",
   "execution_count": null,
   "id": "063627d1-e0c6-4ca5-a47b-93b81a297fa7",
   "metadata": {},
   "outputs": [],
   "source": [
    "def rectangle_area(length = 2, width = 3):\n",
    "    \"\"\"Returns rectangle area\"\"\"\n",
    "    return  length * width\n",
    "\n",
    "rectangle_area(10, 5)"
   ]
  },
  {
   "cell_type": "code",
   "execution_count": null,
   "id": "fffed2e6-2fe2-46d8-8adf-08a52c4cf49f",
   "metadata": {},
   "outputs": [],
   "source": [
    "def rectangle_area(length, width):\n",
    "    \"\"\"Returns rectangle area\"\"\"\n",
    "    return  length * width\n",
    "\n",
    "rectangle_area\n",
    "\n",
    "###when you have a function with lots of parameters, you must have the parameters defined which doesnt  have a default value assigned as first on the list"
   ]
  },
  {
   "cell_type": "code",
   "execution_count": null,
   "id": "ab0c787c-73a9-427d-bc20-e94a93f6e8cd",
   "metadata": {},
   "outputs": [],
   "source": [
    "def average(*args):\n",
    "    \"\"\"sum of args\"\"\"\n",
    "    \"\"\"Arguments like must be place as the last one on the parameter list\"\"\"\n",
    "    return sum(args) / len(args)"
   ]
  },
  {
   "cell_type": "code",
   "execution_count": null,
   "id": "2cd5f9e8-5edd-43f2-b8c6-298dd1247666",
   "metadata": {},
   "outputs": [],
   "source": [
    "average(5,10,15,30)"
   ]
  },
  {
   "cell_type": "code",
   "execution_count": null,
   "id": "b13579d3-1c87-4b13-89ce-f457aabacf9c",
   "metadata": {},
   "outputs": [],
   "source": [
    "grades = [54,57,24,39,12,3,912]\n",
    "\n",
    "average(*grades)\n",
    "### * unpacks a pack of values "
   ]
  },
  {
   "cell_type": "code",
   "execution_count": null,
   "id": "57f341d1-114f-4d21-97cf-a7e0e90c832c",
   "metadata": {},
   "outputs": [],
   "source": [
    "def calculate_product(*args):\n",
    "    product = 1\n",
    "    for value in args:\n",
    "        product += value\n",
    "    return product    \n",
    "\n"
   ]
  },
  {
   "cell_type": "code",
   "execution_count": null,
   "id": "56234075-5684-4bd4-ac44-4973400491f0",
   "metadata": {},
   "outputs": [],
   "source": [
    "calculate_product(*range(1,10,2))"
   ]
  },
  {
   "cell_type": "code",
   "execution_count": null,
   "id": "1d3beb21-0656-4edd-a315-eac1125e7b45",
   "metadata": {},
   "outputs": [],
   "source": [
    "'Coordinates: {latitude}, {longitude}'.format(latitude='37.24N', longitude='-115.81W')\n"
   ]
  },
  {
   "cell_type": "code",
   "execution_count": null,
   "id": "f4397f10-da0e-406f-8e70-974cbce8232d",
   "metadata": {},
   "outputs": [],
   "source": [
    "##Functions cannot modify global values assigned\n",
    "##Variables that already exist but it was created with the same name inside of a function,\n",
    "##that will be created locally inside the function, however if you call the variable,the value given will remain the same as previously configured in the global variable"
   ]
  },
  {
   "cell_type": "code",
   "execution_count": null,
   "id": "a29f290e-079c-4357-a0da-ba20b7fc73a6",
   "metadata": {},
   "outputs": [],
   "source": [
    "##If you want to explicity change/modify a global value, that can be done using the global function inside of the function created"
   ]
  },
  {
   "cell_type": "code",
   "execution_count": null,
   "id": "7a77cc47-af2f-4f60-a7b2-17c1f7ef808a",
   "metadata": {},
   "outputs": [],
   "source": [
    "H = 40\n",
    "\n",
    "def access_global():\n",
    "    print('O valor é de: ', H)\n",
    "\n",
    "access_global()    "
   ]
  },
  {
   "cell_type": "code",
   "execution_count": null,
   "id": "aba138be-ea67-4143-a01b-c87b2497e4fe",
   "metadata": {},
   "outputs": [],
   "source": [
    "H = 40\n",
    "\n",
    "def access_global():\n",
    "    H = 45\n",
    "    print('O valor é de: ', H)\n",
    "\n",
    "access_global()    "
   ]
  },
  {
   "cell_type": "code",
   "execution_count": null,
   "id": "f5c57523-875c-4c4a-9870-bd78cda542db",
   "metadata": {},
   "outputs": [],
   "source": [
    "#modifying a global value\n",
    "\n",
    "H = 40\n",
    "\n",
    "def access_global():\n",
    "    global H\n",
    "    H = 'tolete'\n",
    "    print('O valor é de: ', H)\n",
    "\n",
    "access_global()  "
   ]
  },
  {
   "cell_type": "code",
   "execution_count": null,
   "id": "cd9bf512-eea8-4253-b422-371d9b527382",
   "metadata": {},
   "outputs": [],
   "source": [
    "H"
   ]
  },
  {
   "cell_type": "code",
   "execution_count": null,
   "id": "a6f662c9-74c0-4d7f-8986-26625ecbeb9f",
   "metadata": {},
   "outputs": [],
   "source": [
    "##functions can be called as objects in Python"
   ]
  },
  {
   "cell_type": "code",
   "execution_count": null,
   "id": "bcbc8b7b-df27-4e31-8fa1-0dc49560541c",
   "metadata": {},
   "outputs": [],
   "source": [
    "##From Modules you can call objects directly without having to write the whole 'from' sequence"
   ]
  },
  {
   "cell_type": "code",
   "execution_count": null,
   "id": "b72ed1e3-2a90-4234-bbeb-8f5b0c2737c3",
   "metadata": {},
   "outputs": [],
   "source": [
    "from math import ceil,floor"
   ]
  },
  {
   "cell_type": "code",
   "execution_count": null,
   "id": "b667313f-9064-43aa-9dc5-285aa2f41a80",
   "metadata": {},
   "outputs": [],
   "source": [
    "floor(43.5)"
   ]
  },
  {
   "cell_type": "code",
   "execution_count": null,
   "id": "7fdd6a39-dfb2-48f4-970e-78a9714fd7a4",
   "metadata": {},
   "outputs": [],
   "source": [
    "ceil(445.4)"
   ]
  },
  {
   "cell_type": "code",
   "execution_count": null,
   "id": "26f2a05e-9a31-4dc0-9d09-866b4be03f5a",
   "metadata": {},
   "outputs": [],
   "source": [
    "#wildcard import , BE CAREFUL WHEN USING IT!\n",
    "\n",
    "e = 'ola'\n",
    "\n",
    "from math import * # * means that every object inside of the module math can be called, and in this case,it will overwrite the variable 'e' for the mathematical constant e"
   ]
  },
  {
   "cell_type": "code",
   "execution_count": null,
   "id": "75218a3d-f5e0-4af2-a49d-90677f8345a8",
   "metadata": {},
   "outputs": [],
   "source": [
    "e"
   ]
  },
  {
   "cell_type": "code",
   "execution_count": null,
   "id": "cbea8fc2-2b37-49f9-a703-b163fbabf489",
   "metadata": {},
   "outputs": [],
   "source": [
    "import statistics as stats\n",
    "\n",
    "grades = [345,53,433,42,231]\n",
    "\n",
    "stats.mean(grades)"
   ]
  },
  {
   "cell_type": "code",
   "execution_count": null,
   "id": "2568ecad-e502-48ff-932f-911a47881fa4",
   "metadata": {},
   "outputs": [],
   "source": [
    "import decimal as dec\n",
    "\n",
    "dec.Decimal('2.3')**2\n"
   ]
  },
  {
   "cell_type": "code",
   "execution_count": null,
   "id": "d5f11117-5bef-4b03-96d2-eb82cebb3cde",
   "metadata": {},
   "outputs": [],
   "source": [
    "##Passign arguments to functions\n",
    "'pass by value'\n",
    "'pass by reference'"
   ]
  },
  {
   "cell_type": "code",
   "execution_count": null,
   "id": "997ea528-212d-484a-9071-68426c70d2ee",
   "metadata": {},
   "outputs": [],
   "source": [
    "#a value of a variable IT IS AN OBJECT"
   ]
  },
  {
   "cell_type": "code",
   "execution_count": null,
   "id": "8cfb6c79-666f-41ff-95ed-a65122465b6f",
   "metadata": {},
   "outputs": [],
   "source": [
    "X  = 7\n",
    "id(X)"
   ]
  },
  {
   "cell_type": "code",
   "execution_count": null,
   "id": "921f9e2b-78de-4735-bb3f-827b3f4913a8",
   "metadata": {},
   "outputs": [],
   "source": [
    "#That number is actually where the value is store in memory, and also is the memory address of it,called Object Identifier in Python"
   ]
  },
  {
   "cell_type": "code",
   "execution_count": null,
   "id": "8819092a-95f1-41a5-8374-9eec01e808bc",
   "metadata": {},
   "outputs": [],
   "source": [
    "def cube(number):\n",
    "    print('id(number):',id(number))\n",
    "    return number ** 3"
   ]
  },
  {
   "cell_type": "code",
   "execution_count": null,
   "id": "c824e64d-e95b-48ba-9a5f-f54051c6f3a0",
   "metadata": {},
   "outputs": [],
   "source": [
    "cube(7)"
   ]
  },
  {
   "cell_type": "code",
   "execution_count": null,
   "id": "d592c9d7-411f-4d88-b73a-3dd06befa335",
   "metadata": {},
   "outputs": [],
   "source": [
    "def cube(number):\n",
    "    print('number is X:', number is X)\n",
    "    return number ** 3"
   ]
  },
  {
   "cell_type": "code",
   "execution_count": null,
   "id": "512ecdd1-3a5e-4049-93a1-278b44040fd2",
   "metadata": {},
   "outputs": [],
   "source": [
    "cube(7)"
   ]
  },
  {
   "cell_type": "code",
   "execution_count": null,
   "id": "063d3cc3-4a71-478f-906d-7e5786ac2761",
   "metadata": {},
   "outputs": [],
   "source": [
    "def cube(number):\n",
    "    print('id(number) before mod number:', id(number))\n",
    "    number **= 3\n",
    "    print('id(number) after mod number:', id(number))      \n",
    "    return number"
   ]
  },
  {
   "cell_type": "code",
   "execution_count": null,
   "id": "3de2974b-1bf4-468e-850a-95e591307ebe",
   "metadata": {},
   "outputs": [],
   "source": [
    "cube(7)"
   ]
  },
  {
   "cell_type": "code",
   "execution_count": null,
   "id": "cdb0132a-8305-4b1f-9b5f-d79ac576ad89",
   "metadata": {},
   "outputs": [],
   "source": [
    "id(X)"
   ]
  },
  {
   "cell_type": "code",
   "execution_count": null,
   "id": "0531fc42-77bb-47ea-80ba-87650c9ef380",
   "metadata": {},
   "outputs": [],
   "source": [
    "#integers,floats,strings,tuples, all of that is immmutable"
   ]
  },
  {
   "cell_type": "code",
   "execution_count": null,
   "id": "8d9572e9-6569-4f93-adc7-425034d2618c",
   "metadata": {},
   "outputs": [],
   "source": [
    "#Functional Style programming\n",
    "\n",
    ">What vs How\n",
    ">External Interation\n",
    ">Internal Interation\n",
    ">Declarative programming\n",
    ">pure functions"
   ]
  },
  {
   "cell_type": "markdown",
   "id": "8f2395b7-5a53-4aa3-8864-d383667fab81",
   "metadata": {},
   "source": [
    "LISTAS E TUPLES"
   ]
  },
  {
   "cell_type": "code",
   "execution_count": null,
   "id": "87aa759c-93a6-4384-91ae-1248c1fee4c9",
   "metadata": {},
   "outputs": [],
   "source": [
    "### LISTS AND TUPLES###\n",
    "\n",
    "lista1 = [34,56,67,7,8,4321,9] # LISTAS SÃO DEFINIDAS POR C O L C H E T E S, COLCHETE!!!!!!!!!!!\n",
    "\n",
    "lista1[4],[3]"
   ]
  },
  {
   "cell_type": "code",
   "execution_count": null,
   "id": "550bd43e-59a7-4364-a414-1db725b7e1b8",
   "metadata": {},
   "outputs": [],
   "source": [
    "len(lista1)"
   ]
  },
  {
   "cell_type": "code",
   "execution_count": null,
   "id": "51f17693-fe13-4dca-9e3b-91a4b46b2074",
   "metadata": {},
   "outputs": [],
   "source": [
    "type(lista1)"
   ]
  },
  {
   "cell_type": "code",
   "execution_count": null,
   "id": "86bca0c7-3b0e-4dd1-b7ea-f7053cbddbdb",
   "metadata": {},
   "outputs": [],
   "source": [
    "lista1?"
   ]
  },
  {
   "cell_type": "code",
   "execution_count": null,
   "id": "0047e3c1-9526-4495-88ef-4ecb6d16e385",
   "metadata": {},
   "outputs": [],
   "source": [
    "lista1[-4]"
   ]
  },
  {
   "cell_type": "code",
   "execution_count": null,
   "id": "d4096cb2-d7a1-4c86-93a4-8245c2d48501",
   "metadata": {},
   "outputs": [],
   "source": [
    "lista1 [3] = 302"
   ]
  },
  {
   "cell_type": "code",
   "execution_count": null,
   "id": "e85b99d1-5252-4860-800d-8549f1377a4f",
   "metadata": {},
   "outputs": [],
   "source": [
    "lista1"
   ]
  },
  {
   "cell_type": "code",
   "execution_count": null,
   "id": "22ede35b-6ce5-4b5b-b0be-311742bf18ba",
   "metadata": {},
   "outputs": [],
   "source": [
    "##adding content into a list##\n",
    "\n",
    "outra_lista = []\n",
    "\n",
    "for number in range(1,11):\n",
    "    outra_lista += [number]\n",
    "    \n",
    "outra_lista    "
   ]
  },
  {
   "cell_type": "code",
   "execution_count": null,
   "id": "7fe1a628-18dd-4ea0-b479-f0ad4c76d83d",
   "metadata": {},
   "outputs": [],
   "source": [
    "#adição\n",
    "\n",
    "a = 23\n",
    "b = 34\n",
    "\n",
    "b += a\n",
    "print('Adicao: %d' % (b))"
   ]
  },
  {
   "cell_type": "code",
   "execution_count": null,
   "id": "83432349-6c5a-4294-b5ae-f93e5661f4ed",
   "metadata": {},
   "outputs": [],
   "source": [
    "v = ['casa']\n",
    "vb = ['velha']\n",
    "\n",
    "v += vb\n",
    "\n",
    "v\n"
   ]
  },
  {
   "cell_type": "code",
   "execution_count": null,
   "id": "a9eec639-f38f-45fd-aa48-9ee2b5211a32",
   "metadata": {},
   "outputs": [],
   "source": [
    "lista00 = [2,23,4,5,65,7]\n",
    "lista001 = [0,99,88,77,66,55]\n",
    "\n",
    "junto  = lista00 + lista001\n",
    "\n",
    "for ahk in range(len(junto)):\n",
    "    print(f'{ahk}: {junto[ahk]}')"
   ]
  },
  {
   "cell_type": "code",
   "execution_count": null,
   "id": "254e2ad7-d651-415d-a948-28416c4cbfd1",
   "metadata": {},
   "outputs": [],
   "source": [
    "armas = ['AR15, GLOCK, M107, BERETTA']\n",
    "explosivos = ['c4, granada, dinamite, claymore']\n",
    "\n",
    "junto  = armas + explosivos\n",
    "\n",
    "for ahk in range(len(junto)):\n",
    "    print(f'{ahk}: {junto[ahk]}')"
   ]
  },
  {
   "cell_type": "code",
   "execution_count": null,
   "id": "a2caa4f8-6980-4422-b40a-558dc310e348",
   "metadata": {},
   "outputs": [],
   "source": [
    "lista00 = [2,23,4,5,65,7]\n",
    "lista001 = [0,99,88,77,66,55]\n",
    "\n",
    "junto  = lista00 + lista001\n",
    "\n",
    "for i, valor in enumerate(junto):\n",
    "    print(f'{i}: {valor}')"
   ]
  },
  {
   "cell_type": "code",
   "execution_count": null,
   "id": "40656222-b165-4d87-8ee5-7bc111335c49",
   "metadata": {},
   "outputs": [],
   "source": [
    "numeros = [3,6,9,4,5,7,8,9,76,43]\n",
    "\n",
    "def cube_list(numeros):\n",
    "    for i, valor in enumerate(numeros):\n",
    "        valor **= 3\n",
    "        print ('Os valores ao cubo são: ', valor)"
   ]
  },
  {
   "cell_type": "code",
   "execution_count": null,
   "id": "630fa701-e338-48d4-8b92-1778807db292",
   "metadata": {},
   "outputs": [],
   "source": [
    "cube_list(numeros)"
   ]
  },
  {
   "cell_type": "code",
   "execution_count": null,
   "id": "4145f9d7-d4fa-4870-8d29-7302db7d34f8",
   "metadata": {},
   "outputs": [],
   "source": [
    "characters = []\n",
    "a = 'Birthday'\n",
    "\n",
    "characters += a"
   ]
  },
  {
   "cell_type": "code",
   "execution_count": null,
   "id": "27b2be87-15b0-482b-a1fe-9fab4a905b50",
   "metadata": {},
   "outputs": [],
   "source": [
    "characters"
   ]
  },
  {
   "cell_type": "code",
   "execution_count": null,
   "id": "d75138b3-a22d-4d8a-b0f6-bf7072c7d059",
   "metadata": {},
   "outputs": [],
   "source": [
    "#LIST SLICING\n",
    "\n",
    "n0 = [2,3,454,56,6,768,8,9]\n",
    "n0[2:6]"
   ]
  },
  {
   "cell_type": "code",
   "execution_count": null,
   "id": "16196cf5-43dd-4eea-a519-b6f495d8ea11",
   "metadata": {},
   "outputs": [],
   "source": [
    "n0[:6]#list sliced"
   ]
  },
  {
   "cell_type": "code",
   "execution_count": null,
   "id": "a5c63989-f6d9-4c64-ab5b-937b2360dba5",
   "metadata": {},
   "outputs": [],
   "source": [
    "n0[6:]"
   ]
  },
  {
   "cell_type": "code",
   "execution_count": null,
   "id": "668fd49f-7178-4595-928c-67eee7e1e724",
   "metadata": {},
   "outputs": [],
   "source": [
    "n0[6:len(n0)]"
   ]
  },
  {
   "cell_type": "code",
   "execution_count": null,
   "id": "d5e72f91-8463-4c3b-a17a-8af18eab3bec",
   "metadata": {},
   "outputs": [],
   "source": [
    "n0[:]#this is called a SHALLOW COPY,every slicing operation is called as SHALLOW COPY,the list is a reference to 'original list' containing reference to the objects from the list previously created\n"
   ]
  },
  {
   "cell_type": "code",
   "execution_count": null,
   "id": "459d71b3-b10a-4a40-bd70-65133ea559b1",
   "metadata": {},
   "outputs": [],
   "source": [
    "n0[::2]#adding a step"
   ]
  },
  {
   "cell_type": "code",
   "execution_count": null,
   "id": "808e95a6-f7d5-4cbb-bae6-82f2c921ecfc",
   "metadata": {},
   "outputs": [],
   "source": [
    "n0[::-1]#counting backwards"
   ]
  },
  {
   "cell_type": "code",
   "execution_count": null,
   "id": "c5358575-a207-46fb-a992-a2b8f9a6f620",
   "metadata": {},
   "outputs": [],
   "source": [
    "n0[-1:-9:-1]"
   ]
  },
  {
   "cell_type": "code",
   "execution_count": null,
   "id": "ebf14d9a-1377-479b-b658-0c6e323e42a7",
   "metadata": {},
   "outputs": [],
   "source": [
    "#modying the content of a list using slicing operation\n",
    "\n",
    "n0[0:3] = ['dois','tres','quatro']#replacing the first 3 values from the list\n",
    "n0"
   ]
  },
  {
   "cell_type": "code",
   "execution_count": null,
   "id": "f1759357-0bc8-4ac6-9d65-9aaf9462a572",
   "metadata": {},
   "outputs": [],
   "source": [
    "n0[0:3] = []\n",
    "n0"
   ]
  },
  {
   "cell_type": "code",
   "execution_count": null,
   "id": "a59e9d54-eae8-4b32-96c6-059a1d3b7967",
   "metadata": {},
   "outputs": [],
   "source": [
    "n0 = [2,3,454,56,6,768,8,9]\n",
    "n0[::2] = [100,100,100,100]#replacing values at each 2 step from an existing list\n",
    "n0"
   ]
  },
  {
   "cell_type": "code",
   "execution_count": null,
   "id": "92a68718-8b96-4449-b45d-8a04434a39cf",
   "metadata": {},
   "outputs": [],
   "source": [
    "id(n0)#memory position from the list"
   ]
  },
  {
   "cell_type": "code",
   "execution_count": null,
   "id": "0a8e8b7c-c019-4321-8aaa-caa003431d7f",
   "metadata": {},
   "outputs": [],
   "source": [
    "n0[:] = []\n",
    "n0"
   ]
  },
  {
   "cell_type": "code",
   "execution_count": null,
   "id": "6ef31680-49c7-40c4-a477-1a59b3e8bf71",
   "metadata": {},
   "outputs": [],
   "source": [
    "id(n0)#id still identical even after deleting the elements from the sliucing operation"
   ]
  },
  {
   "cell_type": "code",
   "execution_count": null,
   "id": "88232cba-b701-43f1-afdd-43ede50d6743",
   "metadata": {},
   "outputs": [],
   "source": [
    "n0 = []"
   ]
  },
  {
   "cell_type": "code",
   "execution_count": null,
   "id": "7b5514f2-d618-476c-840d-8d3427b86aed",
   "metadata": {},
   "outputs": [],
   "source": [
    "id(n0)#this adds a new memory reference due to the variable has a NEW OBJECT([])"
   ]
  },
  {
   "cell_type": "code",
   "execution_count": null,
   "id": "32f6bb71-2c0b-4c64-aaca-f20af455fd34",
   "metadata": {},
   "outputs": [],
   "source": [
    "n0 = [1,2,3,4,5,6,7,8,9,10,11,12,13,14,15]#adding 5 zeros from position 5 through 10 by explicit assignment\n",
    "n0[5:10] = [0,0,0,0,0]\n",
    "n0"
   ]
  },
  {
   "cell_type": "code",
   "execution_count": null,
   "id": "3feeca2d-1bdf-49f7-9f94-c1b841875477",
   "metadata": {},
   "outputs": [],
   "source": [
    "n0 = [1,2,3,4,5,6,7,8,9,10,11,12,13,14,15]#adding 5 zeros from position 5 through 10 using len function\n",
    "n0[5:10] = [0] * len(n0[5:10])\n",
    "n0"
   ]
  },
  {
   "cell_type": "code",
   "execution_count": null,
   "id": "e3b1699e-1f7c-4548-a893-fdc4a00b8acb",
   "metadata": {},
   "outputs": [],
   "source": [
    "n0[5:] = []#slicing all elements but no including the first five elements\n",
    "n0"
   ]
  },
  {
   "cell_type": "code",
   "execution_count": null,
   "id": "5e82fecb-2800-4c17-8808-1a3783e3f5e0",
   "metadata": {},
   "outputs": [],
   "source": [
    "n0[:] = []#deleting all elements\n",
    "n0"
   ]
  },
  {
   "cell_type": "code",
   "execution_count": null,
   "id": "dadafc78-6383-45d7-a262-3dba321d2fed",
   "metadata": {},
   "outputs": [],
   "source": [
    "n0[1:len(n0):2]#counting even int numbers"
   ]
  },
  {
   "cell_type": "code",
   "execution_count": null,
   "id": "1feea484-1471-46b4-88d0-202e885ee4c2",
   "metadata": {},
   "outputs": [],
   "source": [
    "#Deleting elements from a list using del function\n",
    "\n",
    "n1=list(range(10))\n",
    "n1"
   ]
  },
  {
   "cell_type": "code",
   "execution_count": null,
   "id": "2e863fe8-4f07-418e-b16a-4e3180d60ece",
   "metadata": {},
   "outputs": [],
   "source": [
    "del n1[-1]\n",
    "n1"
   ]
  },
  {
   "cell_type": "code",
   "execution_count": null,
   "id": "1b8ca912-e298-4b4a-87e7-4c2364205122",
   "metadata": {},
   "outputs": [],
   "source": [
    "del n1[0:2]\n",
    "n1"
   ]
  },
  {
   "cell_type": "code",
   "execution_count": null,
   "id": "39da81f2-5e06-43b2-acc3-5ebf8405e64a",
   "metadata": {},
   "outputs": [],
   "source": [
    "del n1[::2]\n",
    "n1"
   ]
  },
  {
   "cell_type": "code",
   "execution_count": null,
   "id": "0bbba802-19b9-4194-a91c-47792186188f",
   "metadata": {},
   "outputs": [],
   "source": [
    "del n1[:]\n",
    "n1"
   ]
  },
  {
   "cell_type": "code",
   "execution_count": null,
   "id": "49699335-52a3-42d4-8412-5080ec5a0d0c",
   "metadata": {},
   "outputs": [],
   "source": [
    "del n1"
   ]
  },
  {
   "cell_type": "code",
   "execution_count": null,
   "id": "2791ee79-404c-4adc-bc64-498ef0913d64",
   "metadata": {},
   "outputs": [],
   "source": [
    "n1"
   ]
  },
  {
   "cell_type": "code",
   "execution_count": null,
   "id": "4d49d072-f845-4c36-99b8-5563b634965d",
   "metadata": {},
   "outputs": [],
   "source": [
    "n1=list(range(1,15))\n",
    "n1"
   ]
  },
  {
   "cell_type": "code",
   "execution_count": null,
   "id": "11bbfba3-19e5-41e4-a9b8-e365dde89494",
   "metadata": {},
   "outputs": [],
   "source": [
    "del n1[:4]"
   ]
  },
  {
   "cell_type": "code",
   "execution_count": null,
   "id": "ba8319b1-245a-4791-a974-efc767cd73d9",
   "metadata": {},
   "outputs": [],
   "source": [
    "n1"
   ]
  },
  {
   "cell_type": "code",
   "execution_count": null,
   "id": "c8586ba3-665b-4ee1-ab52-236f1d101ba9",
   "metadata": {},
   "outputs": [],
   "source": [
    "del n1[1:]"
   ]
  },
  {
   "cell_type": "code",
   "execution_count": null,
   "id": "d961e812-dfb7-4ddf-9a39-9ded586169f8",
   "metadata": {},
   "outputs": [],
   "source": [
    "n1"
   ]
  },
  {
   "cell_type": "code",
   "execution_count": null,
   "id": "c1c6d493-c0c5-4ee5-970a-7f68def41c88",
   "metadata": {},
   "outputs": [],
   "source": [
    "#Passing lists to functions\n",
    "\n",
    "def modify_elements(items):\n",
    "    \"\"\"Multiplica todos elementos em itens por 2\"\"\"\n",
    "    for i in range(len(items)):\n",
    "        items[i] *= 2"
   ]
  },
  {
   "cell_type": "code",
   "execution_count": null,
   "id": "c6570e63-def8-4d73-8fd2-eacd09cfc496",
   "metadata": {},
   "outputs": [],
   "source": [
    "nur = ['bunda ;','cu',67,457,3245,7,432,5,68,4423,6]"
   ]
  },
  {
   "cell_type": "code",
   "execution_count": null,
   "id": "3d2debe4-afc4-49e8-825e-d928b0a18c5a",
   "metadata": {},
   "outputs": [],
   "source": [
    "modify_elements(nur)"
   ]
  },
  {
   "cell_type": "code",
   "execution_count": null,
   "id": "676f92b7-fc8b-4211-a89d-080a078a7773",
   "metadata": {},
   "outputs": [],
   "source": [
    "nur"
   ]
  },
  {
   "cell_type": "code",
   "execution_count": null,
   "id": "76610dc6-f932-48d2-a0f8-de744fa61ed2",
   "metadata": {},
   "outputs": [],
   "source": [
    "nuuur = (445,4,45,5)"
   ]
  },
  {
   "cell_type": "code",
   "execution_count": null,
   "id": "ece06e00-0c3e-4386-a50a-7f017739f882",
   "metadata": {},
   "outputs": [],
   "source": [
    "nuuur[:] = [0] + [2]# FUCKING BITCH,YOU CANNOT MODIFY TUPLES!"
   ]
  },
  {
   "cell_type": "code",
   "execution_count": null,
   "id": "fbcd62e0-b323-4b9a-bbe5-4edb8757583e",
   "metadata": {},
   "outputs": [],
   "source": [
    "modify_elements(nuuur)#AGAIN DOING THE SAME SHIT?! TUPLES ARE IMMUTABLE!"
   ]
  },
  {
   "cell_type": "code",
   "execution_count": null,
   "id": "ba4375c7-9b54-42f1-bd7d-4d425035058b",
   "metadata": {},
   "outputs": [],
   "source": [
    "#Sorting lists by using functions\n",
    "n3 = [10,9,8,7,6,5,4,3,2,1]\n",
    "asc_numb = sorted(n3)"
   ]
  },
  {
   "cell_type": "code",
   "execution_count": null,
   "id": "55149d20-195c-4dfb-b780-9e542b855efe",
   "metadata": {},
   "outputs": [],
   "source": [
    "asc_numb"
   ]
  },
  {
   "cell_type": "code",
   "execution_count": null,
   "id": "ec353f7d-7131-46b2-8c90-b8618f97a0dc",
   "metadata": {},
   "outputs": [],
   "source": [
    "n3.sort(reverse=True)"
   ]
  },
  {
   "cell_type": "code",
   "execution_count": null,
   "id": "4585d5fe-4d97-46eb-b1b9-c94fb40d6c63",
   "metadata": {},
   "outputs": [],
   "source": []
  },
  {
   "cell_type": "code",
   "execution_count": null,
   "id": "fa4f0a7a-c26d-4d03-b3ff-c08816fb621f",
   "metadata": {},
   "outputs": [],
   "source": [
    "#collatz conjecture\n",
    "\n",
    "def collatz(number):\n",
    "    if number % 2 == 0:\n",
    "        print(number // 2)\n",
    "        return number // 2\n",
    "    else:\n",
    "        number % 2 == 1\n",
    "        result = 3 * number + 1\n",
    "        print(result)\n",
    "        return result\n",
    "n = input(\"Give me a number: \")\n",
    "while n != 1:\n",
    "    n = collatz(int(n))"
   ]
  },
  {
   "cell_type": "code",
   "execution_count": null,
   "id": "d1a3828e-3b9a-4aa1-897d-66c13be6eaaf",
   "metadata": {},
   "outputs": [],
   "source": [
    "#Fibonacci series:\n",
    "\n",
    "a,b = 0,1\n",
    "while b < 500:\n",
    "    a,b = b, a+b\n",
    "    print(round(b/a,5), end=\",\")"
   ]
  },
  {
   "cell_type": "code",
   "execution_count": null,
   "id": "b0dac676-2451-46fb-b1db-8ad73cc18c85",
   "metadata": {},
   "outputs": [],
   "source": [
    "round??"
   ]
  },
  {
   "cell_type": "code",
   "execution_count": null,
   "id": "81778748-7afd-4126-a4d5-070039fe4a5b",
   "metadata": {},
   "outputs": [],
   "source": [
    "a = (range(1,7))\n",
    "print(a)"
   ]
  },
  {
   "cell_type": "code",
   "execution_count": null,
   "id": "c272d5d8-0a8d-4bc1-961b-806986701840",
   "metadata": {},
   "outputs": [],
   "source": [
    "import nltk\n",
    "\n",
    "sentence =\"\"\"At eight o'clock on Thursday morning Arthur didn't feel very good.\"\"\"\n",
    "\n",
    "tokens = nltk.word_tokenize(sentence)\n",
    "tokens\n",
    "['At', 'eight', \"o'clock\", 'on', 'Thursday', 'morning',\n",
    "'Arthur', 'did', \"n't\", 'feel', 'very', 'good', '.']\n",
    "tagged = nltk.pos_tag(tokens)\n",
    "tagged[0:6]\n",
    "[('At', 'IN'), ('eight', 'CD'), (\"o'clock\", 'JJ'), ('on', 'IN'),\n",
    "('Thursday', 'NNP'), ('morning', 'NN')]\n",
    "\n",
    "entities = nltk.chunk.ne_chunk(tagged)\n",
    "entities\n",
    "Tree = ('S', [('At', 'IN'), ('eight', 'CD'), (\"o'clock\", 'JJ'),\n",
    "           ('on', 'IN'), ('Thursday', 'NNP'), ('morning', 'NN'),\n",
    "       'Tree', ('PERSON', [('Arthur', 'NNP')]),\n",
    "           ('did', 'VBD'), (\"n't\", 'RB'), ('feel', 'VB'),\n",
    "           ('very', 'RB'), ('good', 'JJ'), ('.', '.')])\n",
    "\n",
    "from nltk.corpus import treebank\n",
    "\n",
    "t = treebank.parsed_sents('wsj_0001.mrg')[0]\n",
    "\n",
    "t.draw()\n",
    "\n"
   ]
  },
  {
   "cell_type": "code",
   "execution_count": null,
   "id": "9c08e965-e21a-44a0-a3db-164ddb112b3d",
   "metadata": {},
   "outputs": [],
   "source": [
    "import nltk\n",
    "nltk.download('treebank')"
   ]
  },
  {
   "cell_type": "code",
   "execution_count": null,
   "id": "854a1b17-27f9-4c73-8bd9-1e6f0169524a",
   "metadata": {},
   "outputs": [],
   "source": [
    "(define (fib n)\n",
    "  (let fib-iter ((a 1)\n",
    "                 (b 0)\n",
    "                 (count n))\n",
    "    (if (= count 0)\n",
    "        b\n",
    "        (fib-iter (+ a b) a (- count 1)))))"
   ]
  },
  {
   "cell_type": "code",
   "execution_count": null,
   "id": "fcbb5adb-757b-4885-8095-07c0b848fb30",
   "metadata": {},
   "outputs": [],
   "source": [
    "import BeautifulSoup\n",
    "BeautifulSoup.download('selenium')"
   ]
  },
  {
   "cell_type": "code",
   "execution_count": null,
   "id": "be469b47-a39a-4ec1-abc6-1dfa663e7390",
   "metadata": {},
   "outputs": [],
   "source": [
    "import requests\n",
    "from bs4 import BeautifulSoup as bs\n",
    "import pandas as pd\n",
    "\n",
    "baseurl = \"https://www.thewhiskyexchange.com\"\n",
    "\n",
    "headers = {'User-Agent': 'Mozilla/5.0 (Windows NT 10.0; Win64; x64) AppleWebKit/537.36 (KHTML, like Gecko) Chrome/89.0.4389.82 Safari/537.36'}\n",
    "\n",
    "productlinks = []\n",
    "data = []\n",
    "\n",
    "for x in range(1,6):\n",
    "    k = requests.get('https://www.thewhiskyexchange.com/c/35/japanese-whisky?pg={}&psize=120&sort=pasc'.format(x)).text\n",
    "    soup = bs(k,'html.parser')\n",
    "    productlist  = soup.find_all(\"li\",{\"class\":\"product-grid__item\"})\n",
    "    for product in productlist:\n",
    "        link = product.find(\"a\",{\"class\":\"product-card\"}).get('href')\n",
    "        productlinks.append(baseurl + link)\n",
    "        \n",
    "\n",
    "\n",
    "for link in productlinks:\n",
    "    f = requests.get(link,headers = headers).text\n",
    "    hun = bs(f,'html.parser')\n",
    "    try:\n",
    "        price = hun.find(\"p\",{\"class\":\"product-action__price\"}).text.replace('\\n',\"\")\n",
    "    except:\n",
    "        price = None\n",
    "    try:\n",
    "        about = hun.find('div',{\"class\":\"product-main__description\"}).text.replace('\\n',\"\")\n",
    "    except:\n",
    "        about = None\n",
    "    try:\n",
    "        rating = hun.find('div',{\"class\":\"review-overview\"}).text.replace('\\n',\"\")    \n",
    "    except:\n",
    "        rating = None        \n",
    "    try:\n",
    "        name = hun.find('h1',{\"class\":\"product-main__name\"}).text.replace('\\n',\"\")\n",
    "    except:\n",
    "        name = None\n",
    "\n",
    "    whisky = {\"name\":name,\"price\":price,\"rating\":rating,\"about\":about}\n",
    "    data.append(whisky)\n",
    "\n",
    "presentation = pd.DataFrame(data)\n",
    "\n",
    "print(presentation)"
   ]
  },
  {
   "cell_type": "code",
   "execution_count": null,
   "id": "08c7bfdf-51e5-4fb2-8365-8c5b90921298",
   "metadata": {},
   "outputs": [],
   "source": [
    "letras = 'kdfbhjnklvcuiewjfrk'\n",
    "\n",
    "asceding_letters = sorted(letras)\n",
    "\n",
    "asceding_letters"
   ]
  },
  {
   "cell_type": "code",
   "execution_count": null,
   "id": "0ff0937b-f621-4c8d-ac9e-a84f21673be4",
   "metadata": {},
   "outputs": [],
   "source": [
    "ascending_letters = sorted(letras, reverse = True)\n",
    "ascending_letters"
   ]
  },
  {
   "cell_type": "code",
   "execution_count": null,
   "id": "7f337a8d-171e-4a43-ad56-8477057d8bab",
   "metadata": {},
   "outputs": [],
   "source": [
    "#Continuation from Sorting lists\n",
    "food = ['cookies','pizza','grapes','apples','steak','bacon']\n",
    "ascending = sorted(food)\n",
    "ascending"
   ]
  },
  {
   "cell_type": "code",
   "execution_count": null,
   "id": "a1bfe64b-9107-47f0-98ee-2b110ccb561b",
   "metadata": {},
   "outputs": [],
   "source": [
    "food = ['cookies','pizza','grapes','apples','steak','bacon']\n",
    "food.sort()\n",
    "ascending"
   ]
  },
  {
   "cell_type": "code",
   "execution_count": null,
   "id": "1e5399c4-33b5-4f22-8c85-93fcbfc24f87",
   "metadata": {},
   "outputs": [],
   "source": [
    "#Searching sequences\n",
    "nm = [435,6,76,78,8,9,97,69,45,3,35]\n",
    "\n",
    "nm.index(9)\n",
    "nm *= 2\n",
    "nm.index(6,5)"
   ]
  },
  {
   "cell_type": "code",
   "execution_count": null,
   "id": "0b057dc8-fd4c-4602-814a-f0e32337fe54",
   "metadata": {
    "tags": []
   },
   "outputs": [],
   "source": [
    "nm.index(69,5,10) #Primeiro valor é o elemento a ser encontrado que está incluído na lista,,segundo valor é significa posição que a procura vai iniciar,terceiro valor é a quantidade de steps até o range desejado mas não incluindo o último valor"
   ]
  },
  {
   "cell_type": "code",
   "execution_count": null,
   "id": "1e42211f-fca6-489d-a879-3c524f5c81ba",
   "metadata": {},
   "outputs": [],
   "source": [
    "69 in nm"
   ]
  },
  {
   "cell_type": "code",
   "execution_count": null,
   "id": "e1185d1c-4cb4-4451-9dc8-9f0b025f0d2a",
   "metadata": {},
   "outputs": [],
   "source": [
    "100 not in nm"
   ]
  },
  {
   "cell_type": "code",
   "execution_count": null,
   "id": "46e7ea48-e7a9-4591-a716-9272633033f2",
   "metadata": {},
   "outputs": [],
   "source": [
    "69 not in nm"
   ]
  },
  {
   "cell_type": "code",
   "execution_count": null,
   "id": "6df491c1-8098-41a1-aae9-f7f44cc85e68",
   "metadata": {},
   "outputs": [],
   "source": [
    "nm.index(100)"
   ]
  },
  {
   "cell_type": "code",
   "execution_count": null,
   "id": "d3aad8a1-baac-43ee-9965-d32d92a8e4e9",
   "metadata": {},
   "outputs": [],
   "source": [
    "keyy = 69\n",
    "if key in nm:\n",
    "    print(f'Found {key} at index {nm.index(key)}')\n",
    "else:\n",
    "    print(f'{key} not found')\n",
    "          "
   ]
  },
  {
   "cell_type": "code",
   "execution_count": null,
   "id": "0d3874b7-eb5b-47d1-a582-c3d98471c086",
   "metadata": {},
   "outputs": [],
   "source": [
    "#In Python anything that is zero is considered to be false,anything that is not zero is considered to be true\n",
    "#That applies for strings as well,anything that has no characters,empty will be considered to be false"
   ]
  },
  {
   "cell_type": "code",
   "execution_count": null,
   "id": "b451ad74-f28d-418e-ac35-9945106ad06d",
   "metadata": {},
   "outputs": [],
   "source": [
    "nm3 = [67,12,46,43,13]\n",
    "\n",
    "if nm3 in nm3:\n",
    "    print(f'Found{nm3} at index {nm.index(nm3)}')\n",
    "else:\n",
    "    print(f'{nm3} not found')\n",
    "\n",
    "nm3.index(44)\n",
    "    "
   ]
  },
  {
   "cell_type": "code",
   "execution_count": null,
   "id": "f64565f1-39c4-42dd-8fe8-3d0cd6c63832",
   "metadata": {},
   "outputs": [],
   "source": [
    "nm3 = [67,12,46,43,13]\n",
    "\n",
    "if 44 in nm3:\n",
    "    print(f'Found{44} at index {nm3.index()}')\n",
    "else:\n",
    "    print(f'{44} not found')\n",
    "\n",
    "nm3.index(44)"
   ]
  },
  {
   "cell_type": "code",
   "execution_count": null,
   "id": "c47d234d-4b23-4f4d-bc09-7bff3b74f414",
   "metadata": {},
   "outputs": [],
   "source": [
    "clr_names = ['orange','yellow','green']\n",
    "\n",
    "clr_names.insert(0,'red')#0 means the index number that the new paramamter will be put, this can be in wherever position you want\n",
    "clr_names"
   ]
  },
  {
   "cell_type": "code",
   "execution_count": null,
   "id": "cc3a35c9-7d04-4a27-8efd-2198204954e3",
   "metadata": {},
   "outputs": [],
   "source": [
    "clr_names.append('blue')#this will add items only to the last index position,only at the end"
   ]
  },
  {
   "cell_type": "code",
   "execution_count": null,
   "id": "19ea3f06-5be9-49b4-8732-03480be8529e",
   "metadata": {},
   "outputs": [],
   "source": [
    "clr_names"
   ]
  },
  {
   "cell_type": "code",
   "execution_count": null,
   "id": "03e8959d-06c1-4e30-ac25-c11a99494fea",
   "metadata": {},
   "outputs": [],
   "source": [
    "clr_names.extend(['indigo','violet'])#add a sequence of values to the end"
   ]
  },
  {
   "cell_type": "code",
   "execution_count": null,
   "id": "f52599ad-0a54-48ad-bcfa-772b97f80800",
   "metadata": {},
   "outputs": [],
   "source": [
    "clr_names\n"
   ]
  },
  {
   "cell_type": "code",
   "execution_count": null,
   "id": "4547e775-a81f-4e96-a647-0ba0909daa45",
   "metadata": {},
   "outputs": [],
   "source": [
    "sample = []\n",
    "s = 'blablabla'\n",
    "sample.extend('bunda')"
   ]
  },
  {
   "cell_type": "code",
   "execution_count": null,
   "id": "39c5fd8e-c439-4b98-af08-09143a515605",
   "metadata": {},
   "outputs": [],
   "source": [
    "sample"
   ]
  },
  {
   "cell_type": "code",
   "execution_count": null,
   "id": "d323c576-3479-4593-8505-5507ea24c125",
   "metadata": {},
   "outputs": [],
   "source": [
    "t = (1,2,3)\n",
    "sample.extend(t)"
   ]
  },
  {
   "cell_type": "code",
   "execution_count": null,
   "id": "d0e147f0-60db-485e-83b7-a86ff362c4db",
   "metadata": {},
   "outputs": [],
   "source": [
    "sample"
   ]
  },
  {
   "cell_type": "code",
   "execution_count": null,
   "id": "c8e6c3bd-6828-4e60-86f7-3abf91a68f34",
   "metadata": {},
   "outputs": [],
   "source": [
    "sample.extend(4,5,6)"
   ]
  },
  {
   "cell_type": "code",
   "execution_count": null,
   "id": "5c0dea45-dc2b-4283-af7a-cbafa48e0baf",
   "metadata": {},
   "outputs": [],
   "source": [
    "sample.extend((4,5,6))#extend method expects just 1 argument,so in order to add more than 1,you have to use double parenthesis\n",
    "sample"
   ]
  },
  {
   "cell_type": "code",
   "execution_count": null,
   "id": "4f65d12a-80a3-4859-9844-d7b6fb3fa948",
   "metadata": {},
   "outputs": [],
   "source": [
    "clr_names.remove('green')\n",
    "clr_names"
   ]
  },
  {
   "cell_type": "code",
   "execution_count": null,
   "id": "f33a675a-d1a0-4a84-9622-0a818206d4dd",
   "metadata": {},
   "outputs": [],
   "source": [
    "clr_names"
   ]
  },
  {
   "cell_type": "code",
   "execution_count": null,
   "id": "8c667801-b814-4236-b0a4-075f788b84ed",
   "metadata": {},
   "outputs": [],
   "source": [
    "clr_names.clear() #Equivalent of i.e: clr_names[:] = []"
   ]
  },
  {
   "cell_type": "code",
   "execution_count": null,
   "id": "11c16b61-aa03-4ddb-9a2c-62fd3240621c",
   "metadata": {},
   "outputs": [],
   "source": [
    "clr_names"
   ]
  },
  {
   "cell_type": "code",
   "execution_count": null,
   "id": "bcd580fd-803f-4c47-b142-84a8c1e24773",
   "metadata": {},
   "outputs": [],
   "source": [
    "responses = [1,2,34,54,5,6,67,77,8,98,9,9,0,0,87]\n",
    "\n",
    "for i in range(1,15):\n",
    "    print(f'{i}appears {responses.count(i)} times in responses')# method count"
   ]
  },
  {
   "cell_type": "code",
   "execution_count": null,
   "id": "cda76da4-c4bd-47de-ab6f-e70ed1a0fdbe",
   "metadata": {},
   "outputs": [],
   "source": [
    "clr_names = ['red', 'orange', 'yellow', 'green', 'blue', 'indigo', 'violet']"
   ]
  },
  {
   "cell_type": "code",
   "execution_count": null,
   "id": "08dccedf-32a8-4a09-89dc-906e98c9b379",
   "metadata": {},
   "outputs": [],
   "source": [
    "clr_names.reverse()# inverte a ordem de valores de uma lista"
   ]
  },
  {
   "cell_type": "code",
   "execution_count": null,
   "id": "80f40e0a-f851-4f8b-877f-43675da895f7",
   "metadata": {},
   "outputs": [],
   "source": [
    "clr_names"
   ]
  },
  {
   "cell_type": "code",
   "execution_count": null,
   "id": "49d297b8-eef9-4453-ac79-9715de85a88f",
   "metadata": {},
   "outputs": [],
   "source": [
    "cp_list = clr_names.copy()#copy a list,makes a shallow copy from an existing list\n",
    "cp_list"
   ]
  },
  {
   "cell_type": "code",
   "execution_count": null,
   "id": "91da0f52-8d15-435f-ba56-97f1ff1be5a6",
   "metadata": {},
   "outputs": [],
   "source": [
    "id(clr_names[0])"
   ]
  },
  {
   "cell_type": "code",
   "execution_count": null,
   "id": "2f7c6000-ffbc-4dbc-b6b3-1b3a7bf8c538",
   "metadata": {},
   "outputs": [],
   "source": [
    "id(cp_list[0])"
   ]
  },
  {
   "cell_type": "code",
   "execution_count": null,
   "id": "d7638af1-fd18-4e20-9a93-f22428ec3d07",
   "metadata": {},
   "outputs": [],
   "source": [
    "#Exercise\n",
    "\n",
    "rainbow = ['green','orange','violet']\n",
    "id([3])\n",
    "rainbow.insert(2,'red')\n",
    "rainbow.append('yellow')\n",
    "rainbow.reverse()\n",
    "rainbow.remove('orange')\n",
    "rainbow"
   ]
  },
  {
   "cell_type": "code",
   "execution_count": null,
   "id": "6b4d0a80-43b9-4270-be67-9245d6a699d3",
   "metadata": {},
   "outputs": [],
   "source": [
    "stack = []\n",
    "stack.append('red')\n",
    "stack.append('green')\n",
    "stack.pop()#pop method"
   ]
  },
  {
   "cell_type": "code",
   "execution_count": null,
   "id": "a3e4a938-4e06-4b03-bc55-fbfb9d34ce3b",
   "metadata": {},
   "outputs": [],
   "source": [
    "stack.pop()"
   ]
  },
  {
   "cell_type": "code",
   "execution_count": null,
   "id": "e21f78a9-dc1d-4944-a779-89e0a3b5dd54",
   "metadata": {},
   "outputs": [],
   "source": [
    "stack.pop()"
   ]
  },
  {
   "cell_type": "code",
   "execution_count": null,
   "id": "6dc92edd-d02e-494a-97f8-18d199da6f4a",
   "metadata": {},
   "outputs": [],
   "source": [
    "#List comprehensions\n",
    "\n",
    "list1 = []\n",
    "\n",
    "for item in range(1,6):\n",
    "    list1.append(item)\n",
    "    \n",
    "list1    "
   ]
  },
  {
   "cell_type": "code",
   "execution_count": null,
   "id": "9185d947-e3ec-410a-9430-f8fb56f36daf",
   "metadata": {},
   "outputs": [],
   "source": [
    "list2 = [item for item in range (1,6)]\n",
    "list2"
   ]
  },
  {
   "cell_type": "code",
   "execution_count": null,
   "id": "f5b3558b-5867-4c09-a3e3-e389cd018563",
   "metadata": {
    "tags": []
   },
   "outputs": [],
   "source": [
    "list3 = [item ** 3 for item in range(1,6)]#mapping operation\n",
    "list3"
   ]
  },
  {
   "cell_type": "code",
   "execution_count": null,
   "id": "991b5091-7eff-4e81-b71e-c57a79642fe7",
   "metadata": {},
   "outputs": [],
   "source": [
    "list4 = [item for item in range(1,11)if item % 2 == 0]\n",
    "list4"
   ]
  },
  {
   "cell_type": "code",
   "execution_count": null,
   "id": "dac9ea66-3332-4bc4-af4b-de4473e4b693",
   "metadata": {},
   "outputs": [],
   "source": [
    "clr = ['red','orange','yellow','green','blue']\n",
    "\n",
    "clr2 = [item.upper() for item in clr]\n",
    "clr2"
   ]
  },
  {
   "cell_type": "code",
   "execution_count": null,
   "id": "02e6ecdc-ffb0-4c7f-8b88-fab972d43dac",
   "metadata": {},
   "outputs": [],
   "source": [
    "clr"
   ]
  },
  {
   "cell_type": "code",
   "execution_count": null,
   "id": "6a0173a1-689e-45cf-a2a7-b577e0dc2204",
   "metadata": {},
   "outputs": [],
   "source": [
    "list5 = [(1,2,3,4,5)]\n"
   ]
  },
  {
   "cell_type": "code",
   "execution_count": null,
   "id": "ea049ab6-faf0-4f77-b62a-464c0e7d3488",
   "metadata": {},
   "outputs": [],
   "source": [
    "cubes = [(x,x**3)for x in range(1,6)]\n",
    "cubes"
   ]
  },
  {
   "cell_type": "code",
   "execution_count": null,
   "id": "e4e627b6-085c-400a-82d2-d75906d957dc",
   "metadata": {},
   "outputs": [],
   "source": [
    "multiples = [x for x in range(3,30,3)]\n",
    "multiples"
   ]
  },
  {
   "cell_type": "code",
   "execution_count": null,
   "id": "756b13a9-9754-4ed1-b139-43f25f6a1d99",
   "metadata": {},
   "outputs": [],
   "source": [
    "example = [y for y in range(0,50,4)]\n",
    "example"
   ]
  },
  {
   "cell_type": "code",
   "execution_count": null,
   "id": "4ea490dc-d0db-4e7e-8177-87bf1afbd279",
   "metadata": {},
   "outputs": [],
   "source": [
    "again = [(xy,xy / 2 ** 4 -5 + 6 * 10 % 4 // 2)for xy in range(1,10)]\n",
    "again"
   ]
  },
  {
   "cell_type": "code",
   "execution_count": null,
   "id": "a7e538aa-b626-414f-8ae4-95f689f0daa5",
   "metadata": {},
   "outputs": [],
   "source": [
    "xx = {'1':2,'2':3}\n",
    "xx.insert['3':4]"
   ]
  },
  {
   "cell_type": "code",
   "execution_count": null,
   "id": "d798d96d-0d84-4932-9ee4-597db8658f03",
   "metadata": {},
   "outputs": [],
   "source": [
    "#Generator expressions\n",
    "#List comprehensions are greedy,they immediately evaluate to produce th elist\n",
    "#many functional-style programming techniques uses lazy evaluation, values are produced on demand as needed\n",
    "#Lazy evaluation can improve performance and reduce memory consumption\n",
    "\n"
   ]
  },
  {
   "cell_type": "code",
   "execution_count": null,
   "id": "5c6ca4b0-a243-499d-8f40-108980c3a327",
   "metadata": {},
   "outputs": [],
   "source": [
    "n0 = [1,2,3,4,5,6,7,8,9,10]"
   ]
  },
  {
   "cell_type": "code",
   "execution_count": null,
   "id": "64db1ead-3503-4934-a1b8-ec15b0d8d603",
   "metadata": {},
   "outputs": [],
   "source": [
    "for value in (x**2 for x in n0 if x % 2 !=0):\n",
    "    print(value, end=' ')"
   ]
  },
  {
   "cell_type": "code",
   "execution_count": null,
   "id": "91bf8879-3e6c-44bb-baa3-97c9c1214212",
   "metadata": {},
   "outputs": [],
   "source": [
    "for value in [x**2 for x in n0 if x % 2 !=0]:\n",
    "    print(value, end=' ')"
   ]
  },
  {
   "cell_type": "code",
   "execution_count": null,
   "id": "e3573d31-3add-4df9-838d-96a285dd08f0",
   "metadata": {},
   "outputs": [],
   "source": [
    "for i in range(0,5):\n",
    "    print(i)"
   ]
  },
  {
   "cell_type": "code",
   "execution_count": null,
   "id": "b2959b28-26a3-40fe-b9ed-d3269683a685",
   "metadata": {},
   "outputs": [],
   "source": [
    "sqr = (x ** 2 for x in n0 if x % 2 != 0)\n",
    "sqr"
   ]
  },
  {
   "cell_type": "code",
   "execution_count": null,
   "id": "849a3bd3-4eec-4262-8782-7f91b8f848f6",
   "metadata": {},
   "outputs": [],
   "source": [
    "#Retorne os valores ao cubo\n",
    "n1 = [10,3,7,1,9,4,2]\n",
    "for i in (x ** 3 for x in n1 if x % 2!=1):\n",
    "    print(i)\n"
   ]
  },
  {
   "cell_type": "code",
   "execution_count": null,
   "id": "7d48ad0c-0653-4d9b-ab75-24a7681f6ef4",
   "metadata": {},
   "outputs": [],
   "source": [
    "#Retorne os valores ao cubo\n",
    "list(x ** 3 for x in [10,3,7,1,9,4,2]if x % 2 == 0)"
   ]
  },
  {
   "cell_type": "code",
   "execution_count": null,
   "id": "c1bec933-fa1a-46cd-b048-821cc1a9eb56",
   "metadata": {},
   "outputs": [],
   "source": [
    "7 ** 3 % 2"
   ]
  },
  {
   "cell_type": "code",
   "execution_count": null,
   "id": "487efc41-67f0-4a39-b484-5fafc1925b22",
   "metadata": {},
   "outputs": [],
   "source": [
    "#Filter,mapa and Reduce\n",
    "filter & map are higher-order functions, functions that receives functions as arguments\n",
    "#Functions are objects\n",
    "*Can be assigned to variables\n",
    "*Passed to functions\n",
    "*Return from functions\n",
    "#You can pass named functions or lambdas\n"
   ]
  },
  {
   "cell_type": "code",
   "execution_count": null,
   "id": "90a0f2d9-af18-4031-8bbb-17e60de412b4",
   "metadata": {},
   "outputs": [],
   "source": [
    "lista = [10,3,7,1,9,4,2,8,5,6]\n",
    "def eh_impar(x):\n",
    "    \"\"\"Retorna True apenas se x for IMPAR\"\"\"\n",
    "    return x % 2 != 0"
   ]
  },
  {
   "cell_type": "code",
   "execution_count": null,
   "id": "52ae2d46-a742-4d12-8f2a-3a0b040a55ee",
   "metadata": {},
   "outputs": [],
   "source": [
    "list(filter(eh_impar,lista))#filter takes two arguments,it will take one element in sequence"
   ]
  },
  {
   "cell_type": "code",
   "execution_count": null,
   "id": "be4070e3-9ebe-4561-bb20-e8a54eb71065",
   "metadata": {},
   "outputs": [],
   "source": [
    "[element for element in lista if eh_impar(element)]#a more verbose take doing the same thing"
   ]
  },
  {
   "cell_type": "code",
   "execution_count": null,
   "id": "99918426-eca9-4c9a-9c68-cb37977c2501",
   "metadata": {},
   "outputs": [],
   "source": [
    "#A lambda function can take any number of arguments, but can only have one expression.\n",
    "#lambda arguments : expression\n",
    "#its always followed by a colon :\n",
    "\n",
    "list(filter(lambda x: x % 2 != 0,lista))\n",
    "\n"
   ]
  },
  {
   "cell_type": "code",
   "execution_count": null,
   "id": "285af1c2-e311-4010-ad80-8254311915ce",
   "metadata": {},
   "outputs": [],
   "source": [
    "x = lambda z : z + 50\n",
    "print(x(5))"
   ]
  },
  {
   "cell_type": "code",
   "execution_count": null,
   "id": "3ad8589c-9d47-44ad-b5af-cf11a6d711fb",
   "metadata": {},
   "outputs": [],
   "source": [
    "la = lambda a : a + 'casa '\n",
    "print(la('predio'))"
   ]
  },
  {
   "cell_type": "code",
   "execution_count": null,
   "id": "16ce0e51-b6f9-474e-8309-e0a53d5ec406",
   "metadata": {},
   "outputs": [],
   "source": [
    "list(filter(lambda x: x % 2 != 0,lista))"
   ]
  },
  {
   "cell_type": "code",
   "execution_count": null,
   "id": "5de1a718-0a42-4f21-bee8-8ced2e8f79c4",
   "metadata": {},
   "outputs": [],
   "source": [
    "list(map(lambda x: x**2,lista))"
   ]
  },
  {
   "cell_type": "code",
   "execution_count": null,
   "id": "aec9c4cd-9a96-49fe-988b-b8389ed84c31",
   "metadata": {},
   "outputs": [],
   "source": [
    "[item ** 2 for item in lista]"
   ]
  },
  {
   "cell_type": "code",
   "execution_count": null,
   "id": "600ba6e2-1b87-4976-9398-0bb203fb97fe",
   "metadata": {},
   "outputs": [],
   "source": [
    "list(map(lambda x: x **2,\n",
    "        filter(lambda x : x %2 != 0, lista)))"
   ]
  },
  {
   "cell_type": "code",
   "execution_count": null,
   "id": "8e818845-0ca4-4ab7-8415-444669385918",
   "metadata": {},
   "outputs": [],
   "source": [
    "[x ** 2 for x in lista if x % 2 != 0]"
   ]
  },
  {
   "cell_type": "code",
   "execution_count": null,
   "id": "c5fdaded-2966-44c7-bb90-dd5cf363011e",
   "metadata": {},
   "outputs": [],
   "source": [
    "#Exercise\n",
    "\n",
    "numeros = list(range(1,16))\n",
    "list(filter(lambda x: x %2 == 0, numeros))"
   ]
  },
  {
   "cell_type": "code",
   "execution_count": null,
   "id": "dd5ed563-fbb1-4f03-ae7f-2ad63cd4838f",
   "metadata": {},
   "outputs": [],
   "source": [
    "list(map(lambda x: x ** 2, numeros))"
   ]
  },
  {
   "cell_type": "code",
   "execution_count": null,
   "id": "323fa2e0-d6db-48b6-9829-1a2788f2a7f0",
   "metadata": {},
   "outputs": [],
   "source": [
    "list(map(lambda x: x **2, filter(lambda x: x % 2 == 0,numeros)))"
   ]
  },
  {
   "cell_type": "code",
   "execution_count": null,
   "id": "a88d79bb-06ec-4dea-881e-95786b395889",
   "metadata": {},
   "outputs": [],
   "source": [
    "Fahrenreit = [41,32,212]\n",
    "\n",
    "list(map(lambda x:(x,(x-32)*5/9),Fahrenreit))"
   ]
  },
  {
   "cell_type": "code",
   "execution_count": null,
   "id": "725ec88b-48a5-46af-8727-81b34d7d2ca5",
   "metadata": {},
   "outputs": [],
   "source": [
    "'Red' < 'orange'"
   ]
  },
  {
   "cell_type": "code",
   "execution_count": null,
   "id": "e86a13c1-d302-46de-9229-865203069532",
   "metadata": {},
   "outputs": [],
   "source": [
    "ord('R')"
   ]
  },
  {
   "cell_type": "code",
   "execution_count": null,
   "id": "d5d6407b-9dfa-4caa-870a-98f15098ad53",
   "metadata": {},
   "outputs": [],
   "source": [
    "ord('o')"
   ]
  },
  {
   "cell_type": "code",
   "execution_count": null,
   "id": "5b613c1c-5f41-48ba-a2a2-b090339c7709",
   "metadata": {},
   "outputs": [],
   "source": [
    "ord??"
   ]
  },
  {
   "cell_type": "code",
   "execution_count": null,
   "id": "b21aafa7-bb09-4cc0-a3c0-614dddf119ec",
   "metadata": {},
   "outputs": [],
   "source": [
    "clr = ['Red','orange','Yellow','green','Blue']\n",
    "\n",
    "min(clr,key = lambda s: s.lower())"
   ]
  },
  {
   "cell_type": "code",
   "execution_count": null,
   "id": "fc743caa-61b1-4127-b78e-83d83a86b6a2",
   "metadata": {
    "tags": []
   },
   "outputs": [],
   "source": [
    "max(clr,key = lambda s: s.lower())"
   ]
  },
  {
   "cell_type": "code",
   "execution_count": null,
   "id": "79da6ba8-45c5-4341-85e4-f63242499b4f",
   "metadata": {},
   "outputs": [],
   "source": [
    "list0 = [10,3,7,1,9,4,2,8,5,6]\n",
    "reverse_list = [item ** 2 for item in reversed(list0)]"
   ]
  },
  {
   "cell_type": "code",
   "execution_count": null,
   "id": "ab871e74-9154-41d5-a690-39bd53e222bf",
   "metadata": {},
   "outputs": [],
   "source": [
    "reverse_list"
   ]
  },
  {
   "cell_type": "code",
   "execution_count": null,
   "id": "881fa9a3-3060-4d43-b3e9-778c7df34ef6",
   "metadata": {},
   "outputs": [],
   "source": [
    "names = ['Bob','Sue','Amanda']\n",
    "grade = [3.5,4.0,3.75]\n",
    "for name,gpa in zip(names,grade):\n",
    "    print(f'Name = {name};GPA={gpa}')"
   ]
  },
  {
   "cell_type": "code",
   "execution_count": null,
   "id": "8802fbeb-fc24-426a-af99-e7b724ee8995",
   "metadata": {},
   "outputs": [],
   "source": [
    "#Exercise\n",
    "\n",
    "foods = ['Cookies','pizza','Grapes','apples','steak','Bacon']\n",
    "min(foods)"
   ]
  },
  {
   "cell_type": "code",
   "execution_count": null,
   "id": "2f0527be-fc3c-4252-a987-e62fd119fcd1",
   "metadata": {},
   "outputs": [],
   "source": [
    "min(foods,key=lambda s: s.lower())"
   ]
  },
  {
   "cell_type": "code",
   "execution_count": null,
   "id": "33c01470-7f81-494b-b289-58d4693fe2e5",
   "metadata": {},
   "outputs": [],
   "source": [
    "[(a+b)for a,b in zip([10,20,30],[1,2,3])]"
   ]
  },
  {
   "cell_type": "code",
   "execution_count": null,
   "id": "cca96543-69bf-42a3-8788-0e2293cb872d",
   "metadata": {},
   "outputs": [],
   "source": [
    "#Two dimensional lists\n",
    "\n",
    "a = [[77,68,86,73],[96,87,89,81],[70,90,86,81]]\n",
    "\n",
    "for row in a:\n",
    "    for item in row:\n",
    "        print(item,end=' ')\n",
    "    print()"
   ]
  },
  {
   "cell_type": "code",
   "execution_count": null,
   "id": "24f5be82-d5eb-4016-b0e5-38ce1dbe706f",
   "metadata": {},
   "outputs": [],
   "source": [
    "for i,row in enumerate(a):\n",
    "    for j,item in enumerate(row):\n",
    "        print(f'a[{i}][{j}]={item}',end=' ')\n",
    "    print()    "
   ]
  },
  {
   "cell_type": "code",
   "execution_count": null,
   "id": "f781cab1-4d42-4923-9a8b-406eb74bf127",
   "metadata": {},
   "outputs": [],
   "source": [
    "#Exercise\n",
    "\n",
    "t=[[10,7,3],[20,4,17]]\n",
    "item = 0\n",
    "total=0\n",
    "for row in t:\n",
    "    for item in row:\n",
    "        total +=item\n",
    "        item +=1"
   ]
  },
  {
   "cell_type": "code",
   "execution_count": null,
   "id": "9d293648-f515-46dd-aa37-53ca65e8f875",
   "metadata": {},
   "outputs": [],
   "source": [
    "total / item"
   ]
  },
  {
   "cell_type": "code",
   "execution_count": null,
   "id": "c619e22e-b14e-400b-baef-9917e56d3a9b",
   "metadata": {},
   "outputs": [],
   "source": [
    "total=0\n",
    "item=0"
   ]
  },
  {
   "cell_type": "code",
   "execution_count": null,
   "id": "4cd2e18f-e7f5-480a-a6b3-552bb751604c",
   "metadata": {},
   "outputs": [],
   "source": [
    "for row in t:\n",
    "    total += sum(row)\n",
    "    item += len(row)"
   ]
  },
  {
   "cell_type": "code",
   "execution_count": null,
   "id": "5984d00e-4f40-41fe-a8ce-50da58ea4f73",
   "metadata": {},
   "outputs": [],
   "source": [
    "total / item"
   ]
  },
  {
   "cell_type": "code",
   "execution_count": null,
   "id": "30b0743e-1261-4d8e-9804-e22660c3215c",
   "metadata": {
    "tags": []
   },
   "outputs": [],
   "source": []
  },
  {
   "cell_type": "code",
   "execution_count": null,
   "id": "0d91caa2-12ad-436f-98ed-a4f318b04c93",
   "metadata": {},
   "outputs": [],
   "source": [
    "#Dicionarios e conjuntos\n",
    "\n",
    "#DICTIONARIES ARE MUTABLE!!!!! <<<<<<<<<<<<<<<<<<<<<<<<<<<<<<<<<<<\n",
    "\n",
    "#Example 1\n",
    "\n",
    "country_codes = {'Finland':'fi','South Africa':'za','Nepal':'np'}\n",
    "\n",
    "len(country_codes)"
   ]
  },
  {
   "cell_type": "code",
   "execution_count": null,
   "id": "9ef81772-faa2-4142-9167-372505cc050b",
   "metadata": {},
   "outputs": [],
   "source": [
    "if country_codes:\n",
    "    print('country_codes is not empty')\n",
    "else:\n",
    "    print('country_codes is empty')"
   ]
  },
  {
   "cell_type": "code",
   "execution_count": null,
   "id": "17b31a51-f181-4cee-aba0-b1276b379db3",
   "metadata": {},
   "outputs": [],
   "source": [
    "country_codes.clear()"
   ]
  },
  {
   "cell_type": "code",
   "execution_count": null,
   "id": "68f29bd6-35e9-44d6-8852-12433ab304de",
   "metadata": {},
   "outputs": [],
   "source": [
    "if country_codes:\n",
    "    print('country_codes is not empty')\n",
    "else:\n",
    "    print('country_codes is empty')"
   ]
  },
  {
   "cell_type": "code",
   "execution_count": null,
   "id": "f9b09a8b-97a4-4376-90cd-27862bceefb6",
   "metadata": {},
   "outputs": [],
   "source": [
    "len(country_codes)"
   ]
  },
  {
   "cell_type": "code",
   "execution_count": null,
   "id": "9b92f114-4757-470c-b7cb-ac4926e6d791",
   "metadata": {},
   "outputs": [],
   "source": [
    "#Exercise\n",
    "states = {'Vermont':'VT','Massachussets':'MS','New Hampshire':'NH'}"
   ]
  },
  {
   "cell_type": "code",
   "execution_count": null,
   "id": "f2a88f74-cee2-471a-82ed-8d0d440c2bb5",
   "metadata": {},
   "outputs": [],
   "source": [
    "#Example 2:\n",
    "\n",
    "days_per_month = {'January':31,'February':28,'March':31}\n",
    "\n",
    "for month,days in days_per_month.items():\n",
    "    print(f'{month} has {days} days')"
   ]
  },
  {
   "cell_type": "code",
   "execution_count": null,
   "id": "37cc7718-e324-4f16-8806-026481f210ba",
   "metadata": {},
   "outputs": [],
   "source": [
    "#Dict operations\n",
    "\n",
    "roman_numerals = {'I':1,'II':2,'III':3,'IV':4,'V':5,'X':100}\n",
    "roman_numerals"
   ]
  },
  {
   "cell_type": "code",
   "execution_count": null,
   "id": "d196120d-afac-4dc3-9f0f-cf741494384d",
   "metadata": {},
   "outputs": [],
   "source": [
    "roman_numerals['V'] #In dictionaries you don't provide the index number,instead, the key value should be inserted in order to view a specific key value from a dictionary"
   ]
  },
  {
   "cell_type": "code",
   "execution_count": null,
   "id": "c7017bed-8e30-4295-9eaa-327e4f430688",
   "metadata": {},
   "outputs": [],
   "source": [
    "roman_numerals['X'] = 10 #changing a value key"
   ]
  },
  {
   "cell_type": "code",
   "execution_count": null,
   "id": "aecb1324-906f-4f8d-98b8-a860076e0b3d",
   "metadata": {},
   "outputs": [],
   "source": [
    "roman_numerals"
   ]
  },
  {
   "cell_type": "code",
   "execution_count": null,
   "id": "dbdc1b17-0a8b-426b-84b9-6f39c8096888",
   "metadata": {},
   "outputs": [],
   "source": [
    "roman_numerals['L'] = 50 #adding a new key:value pair to the existing dict,it should be  unique, from python 3.7 any added key to a dict, it would be inserted in the last position"
   ]
  },
  {
   "cell_type": "code",
   "execution_count": null,
   "id": "c057063b-72a2-465a-a409-27545d3c7122",
   "metadata": {},
   "outputs": [],
   "source": [
    "roman_numerals"
   ]
  },
  {
   "cell_type": "code",
   "execution_count": null,
   "id": "3beda38c-5890-4fd8-a799-e8c1145ce4ad",
   "metadata": {},
   "outputs": [],
   "source": [
    "del roman_numerals['III'] #deleting a key:value pair"
   ]
  },
  {
   "cell_type": "code",
   "execution_count": null,
   "id": "11615e2c-f046-43f0-b8f5-9ec977923116",
   "metadata": {},
   "outputs": [],
   "source": [
    "roman_numerals"
   ]
  },
  {
   "cell_type": "code",
   "execution_count": null,
   "id": "06e57e0c-6103-4d9b-b6d8-251b4fcdd8ad",
   "metadata": {},
   "outputs": [],
   "source": [
    "roman_numerals.pop('X') #removing by using the method pop, it's also shows the value attribuited "
   ]
  },
  {
   "cell_type": "code",
   "execution_count": null,
   "id": "245eaa23-ccf8-4013-ab03-88556bcb82f5",
   "metadata": {},
   "outputs": [],
   "source": [
    "roman_numerals"
   ]
  },
  {
   "cell_type": "code",
   "execution_count": null,
   "id": "2727be64-5785-4fe9-a139-1d0ea995daa5",
   "metadata": {},
   "outputs": [],
   "source": [
    "roman_numerals['III'] #accessing a key that doesnt exist anymore"
   ]
  },
  {
   "cell_type": "code",
   "execution_count": null,
   "id": "00eeeff8-ef63-44ab-8745-5639d06e0b1a",
   "metadata": {},
   "outputs": [],
   "source": [
    "roman_numerals.get('III')#no exceptions,no error,python shows nothing by using get method"
   ]
  },
  {
   "cell_type": "code",
   "execution_count": null,
   "id": "e99b6d93-afcd-4c90-9f57-03e571921857",
   "metadata": {},
   "outputs": [],
   "source": [
    "roman_numerals.get('III','III not in dict')#this string will be returned because it doesnt exist in dict"
   ]
  },
  {
   "cell_type": "code",
   "execution_count": null,
   "id": "3350e321-4f06-4818-826c-6d423b81270c",
   "metadata": {},
   "outputs": [],
   "source": [
    "roman_numerals['V']"
   ]
  },
  {
   "cell_type": "code",
   "execution_count": null,
   "id": "125c0a4b-b44a-4dfd-9027-009c5147580f",
   "metadata": {},
   "outputs": [],
   "source": [
    "#In and not in operators\n",
    "\n",
    "'V' in roman_numerals"
   ]
  },
  {
   "cell_type": "code",
   "execution_count": null,
   "id": "e4f29583-23b3-412e-91a5-b07b27ba997c",
   "metadata": {},
   "outputs": [],
   "source": [
    "'III' in roman_numerals"
   ]
  },
  {
   "cell_type": "code",
   "execution_count": null,
   "id": "2e9eeb72-594b-452b-bd7d-c4fb9d843ef6",
   "metadata": {},
   "outputs": [],
   "source": [
    "'V' not in roman_numerals"
   ]
  },
  {
   "cell_type": "code",
   "execution_count": null,
   "id": "03635ffa-f7bf-409b-9ba0-b440694b2fb4",
   "metadata": {},
   "outputs": [],
   "source": [
    "'III' not in roman_numerals"
   ]
  },
  {
   "cell_type": "code",
   "execution_count": null,
   "id": "46cb32f6-8dad-42b7-875c-f12429a64c43",
   "metadata": {},
   "outputs": [],
   "source": [
    "#Exercise\n",
    "\n",
    "#String dictionary keys are case sensitive. Confirm this by using the following dictionary and\n",
    "#assigning 10 to the key 'x' ---- doing so adds a new key-value pair rather than correcting the value for the key 'X':\n",
    "\n",
    "roman_numerals = {'I':1,'II':2,'III':3,'IV':4,'V':5,'X':100}\n",
    "roman_numerals"
   ]
  },
  {
   "cell_type": "code",
   "execution_count": null,
   "id": "e53023b3-fa0a-4b40-9f6c-03a62e5fabbf",
   "metadata": {},
   "outputs": [],
   "source": [
    "roman_numerals['x'] = 10 #watch out for case sensitive keys\n",
    "roman_numerals"
   ]
  },
  {
   "cell_type": "code",
   "execution_count": null,
   "id": "b20e6d67-d6f8-484f-b649-3af2d95fe8c1",
   "metadata": {},
   "outputs": [],
   "source": [
    "month = {'January':1,'February':2,'March':3}\n",
    "\n",
    "for months in month.keys(): #month.keys returns the keys from a dictionary, called dictionary view\n",
    "    print(months, end=' ')"
   ]
  },
  {
   "cell_type": "code",
   "execution_count": null,
   "id": "f6ee433f-c21e-4235-85ac-73eecb0f3d01",
   "metadata": {},
   "outputs": [],
   "source": [
    "for months_number in month.values(): #month.values returns the values from a dictionary, called dictionary view\n",
    "    print(months_number, end=' ')"
   ]
  },
  {
   "cell_type": "code",
   "execution_count": null,
   "id": "5f5485b4-66ef-45df-9984-ae16fc955cff",
   "metadata": {},
   "outputs": [],
   "source": [
    "months_view = month.keys() #assigning keys method to a variable\n",
    "for key in months_view:\n",
    "    print(key,end=' ')"
   ]
  },
  {
   "cell_type": "code",
   "execution_count": null,
   "id": "918c311f-349f-4172-905f-dd32dc53543d",
   "metadata": {},
   "outputs": [],
   "source": [
    "month['December'] = 12 #adding a new key:value pair"
   ]
  },
  {
   "cell_type": "code",
   "execution_count": null,
   "id": "6f2bfaf5-7670-4f8b-bfa4-893c7d3bfd5a",
   "metadata": {},
   "outputs": [],
   "source": [
    "month"
   ]
  },
  {
   "cell_type": "code",
   "execution_count": null,
   "id": "bf842783-d2a4-4efa-bbd0-ea3ad53675e5",
   "metadata": {},
   "outputs": [],
   "source": [
    "for key in months_view:\n",
    "    print(key, end=' ')"
   ]
  },
  {
   "cell_type": "code",
   "execution_count": null,
   "id": "982ffb0d-c281-40cd-a62b-f14451eca774",
   "metadata": {},
   "outputs": [],
   "source": [
    "list(month.keys()) # placing the keys to a LIST"
   ]
  },
  {
   "cell_type": "code",
   "execution_count": null,
   "id": "0a60d626-97ea-4a28-aa55-b1fe9f4c2f11",
   "metadata": {},
   "outputs": [],
   "source": [
    "list(month.values()) # placing the values to a LIST"
   ]
  },
  {
   "cell_type": "code",
   "execution_count": null,
   "id": "a362f9e0-1610-4076-91c9-f9c85b5dc2fc",
   "metadata": {},
   "outputs": [],
   "source": [
    "list(month.items()) #tuples"
   ]
  },
  {
   "cell_type": "code",
   "execution_count": null,
   "id": "2ec46cf9-d102-4be6-bdd2-1178f33bb69f",
   "metadata": {},
   "outputs": [],
   "source": [
    "for month_name in sorted(month.keys()): #sorting alphabetically\n",
    "    print(month_name, end = '  ')"
   ]
  },
  {
   "cell_type": "code",
   "execution_count": null,
   "id": "4c735213-888a-49a9-8387-02af352dec77",
   "metadata": {},
   "outputs": [],
   "source": [
    "#Exercise\n",
    "\n",
    "'Create a list of keys,values and items and show the contents of those lists'\n",
    "\n",
    "roman_numerals = {'I':1,'II':2,'III':3,'IV':4,'V':5}\n",
    "\n",
    "list(roman_numerals.keys())\n"
   ]
  },
  {
   "cell_type": "code",
   "execution_count": null,
   "id": "86d95e15-f666-41a9-9bf5-35959755ed6c",
   "metadata": {},
   "outputs": [],
   "source": [
    "list(roman_numerals.values())\n"
   ]
  },
  {
   "cell_type": "code",
   "execution_count": null,
   "id": "f24b28c3-c9f4-4320-bd2d-fe4980a461e4",
   "metadata": {},
   "outputs": [],
   "source": [
    "list(roman_numerals.items())"
   ]
  },
  {
   "cell_type": "code",
   "execution_count": null,
   "id": "c824327a-19d0-40c1-a8ac-31ca1bc5110f",
   "metadata": {},
   "outputs": [],
   "source": [
    "#dictionary comparisons\n",
    "\n",
    "ctr_capitals1 = {'Belgium': 'Brussels','Haiti': 'Port-au-Prince'}\n",
    "ctr_capitals2 = {'Nepal': 'Kathmandu','Uruguay': 'Montevideu'}\n",
    "ctr_capitals3 = {'Haiti': 'Port-au-Prince','Belgium': 'Brussels'}"
   ]
  },
  {
   "cell_type": "code",
   "execution_count": null,
   "id": "7351fa98-465a-4dd8-8049-ae4e02faed25",
   "metadata": {},
   "outputs": [],
   "source": [
    "ctr_capitals1 == ctr_capitals2"
   ]
  },
  {
   "cell_type": "code",
   "execution_count": null,
   "id": "970079c1-b3c5-4eb8-bced-178bdf216558",
   "metadata": {},
   "outputs": [],
   "source": [
    "ctr_capitals1 == ctr_capitals3 #as long the key:value pairs remains the same,python will give it as true when doing comparisons"
   ]
  },
  {
   "cell_type": "code",
   "execution_count": null,
   "id": "1336ac76-fad5-4240-afc5-6cd2cab2f130",
   "metadata": {},
   "outputs": [],
   "source": [
    "ctr_capitals1 != ctr_capitals2"
   ]
  },
  {
   "cell_type": "code",
   "execution_count": null,
   "id": "655e98de-4447-4045-9e84-d82d1d33abbc",
   "metadata": {},
   "outputs": [],
   "source": [
    "#Example\n",
    "\"Using a dictionary to represent an instructor's grade book\"\n",
    "\n",
    "gradebook = \n",
    "{    \n",
    "'Trombeta':[92,100,85],\n",
    "'Eduardo': [83,95,79], \n",
    "'Vadeco': [91,78,45],\n",
    "'Ashinka': [50,86,65]\n",
    "}\n",
    "\n",
    "allgradestotal = 0\n",
    "allgradescount = 0\n",
    "\n",
    "for name,grades in gradebook.items(): #unpacking tuple\n",
    "    total = sum(grades) #style reduction using sum function\n",
    "    print(f'Average for {name} is {total / len(grades) :.2f}') #formating and making the calculation as float\n",
    "    allgradestotal += total\n",
    "    allgradescount += len(grades)\n",
    "print(f\"Class's average is: {allgradestotal / allgradescount:.2f}\")    "
   ]
  },
  {
   "cell_type": "code",
   "execution_count": null,
   "id": "43a06857-18bb-4b8a-a877-ee02a9aa9770",
   "metadata": {},
   "outputs": [],
   "source": [
    "#Example 2\n",
    "\"\"\"Tokenizing a string and counting unique words.\"\"\"\n",
    "\n",
    "text =(\n",
    "'this is simple test with several words'\n",
    "'this is more text with more different words'\n",
    ")\n",
    "\n",
    "wordcount = {}\n",
    "\n",
    "#count occurrences of each unique word:\n",
    "\n",
    "for word in text.split(): # split is a built-in into the string method type and by default will break up strings in white spaces, and it gives back the tokens as a list of strings, as individual words\n",
    "    if word in wordcount: #checking each word\n",
    "        wordcount[word] += 1 #udpate existing key-value pair\n",
    "    else:\n",
    "        wordcount[word] = 1 #insert new key-value pair\n",
    "print(f'{\"WORD\":<12}COUNT')\n",
    "\n",
    "for word,count in sorted(wordcount.items()):\n",
    "    print(f'{word:<12}{count}')\n",
    "    \n",
    "print('\\n Number of unique words',len(wordcount))    "
   ]
  },
  {
   "cell_type": "code",
   "execution_count": null,
   "id": "10fd1587-9a6d-401f-a32c-297ce1b134b5",
   "metadata": {},
   "outputs": [],
   "source": [
    "from collections import Counter #introducing the Counter module\n",
    "\n",
    "text =('this is simple test with several words'\n",
    "'this is more text with some more different words')\n",
    "\n",
    "text.split()"
   ]
  },
  {
   "cell_type": "code",
   "execution_count": null,
   "id": "5cd4adec-8003-4fc4-a02e-345929738415",
   "metadata": {},
   "outputs": [],
   "source": [
    "counter = Counter(text.split())\n",
    "\n",
    "for word,count in sorted(counter.items()):\n",
    "    print(f'{word:<12}{count}')"
   ]
  },
  {
   "cell_type": "code",
   "execution_count": null,
   "id": "7955cd04-aa14-4353-90c9-bd8138b40862",
   "metadata": {},
   "outputs": [],
   "source": [
    "print('Number of unique keys',len(counter.keys()))"
   ]
  },
  {
   "cell_type": "code",
   "execution_count": null,
   "id": "d54cc51b-2008-4cae-b038-d4634f5ab2f4",
   "metadata": {},
   "outputs": [],
   "source": [
    "#Exercise\n",
    "\n",
    "'Create a comprehension list of 50 random integers in the range 1-5 and summarize them with the Counter class. Display the result in two-column format'\n",
    "\n",
    "import random\n",
    "from collections import Counter\n",
    "\n",
    "randomlista = [random.randrange(1,6) for x in range(50)] #randrange stands for random range, it generates random integers. the loop iterates in the range 50 times\n",
    "randomlista = Counter(randomlista)\n",
    "\n",
    "for value,count in sorted(randomlista.items()):\n",
    "    print(f'{value:<4}{count}')"
   ]
  },
  {
   "cell_type": "markdown",
   "id": "627869fc-155b-4a44-97af-12d5b07c2fc5",
   "metadata": {},
   "source": [
    "Para printar uma saída em colunas:\n",
    "     print(f'{value:<4}{count}')"
   ]
  },
  {
   "cell_type": "code",
   "execution_count": null,
   "id": "44dea2ce-e648-4231-b078-587d46a7ca10",
   "metadata": {},
   "outputs": [],
   "source": [
    "#dictionary update method\n",
    "\n",
    "countrycodes = {}\n",
    "countrycodes.update({'Brazil':'BR'})\n",
    "countrycodes"
   ]
  },
  {
   "cell_type": "code",
   "execution_count": null,
   "id": "554522f8-921a-4bff-8959-87bc3b7b5896",
   "metadata": {},
   "outputs": [],
   "source": [
    "countrycodes.update(Australia='ar') #adding a key:value pair\n",
    "countrycodes"
   ]
  },
  {
   "cell_type": "code",
   "execution_count": null,
   "id": "50dec744-3e14-4f2a-9c9e-4a2aaaae0a5f",
   "metadata": {},
   "outputs": [],
   "source": [
    "countrycodes.update(Australia='au')\n",
    "countrycodes"
   ]
  },
  {
   "cell_type": "code",
   "execution_count": null,
   "id": "1ef067a0-f94c-4a92-9fc4-06df45535842",
   "metadata": {},
   "outputs": [],
   "source": [
    "#Dictionary comprehensions\n",
    "#Example 1\n",
    "\n",
    "months = {'January':1,'February':2,'March':3}\n",
    "month2 = {number: name for name, number in months.items()} #a dictionary comprehension uses curly brackets to indicate that we are creating a new dict\n",
    "month2"
   ]
  },
  {
   "cell_type": "code",
   "execution_count": null,
   "id": "15be17bd-01cd-4032-a8ab-44da9e3dd6c1",
   "metadata": {},
   "outputs": [],
   "source": [
    "months"
   ]
  },
  {
   "cell_type": "code",
   "execution_count": null,
   "id": "54d5d9e3-39ca-4f8d-a859-6673f502cebc",
   "metadata": {},
   "outputs": [],
   "source": [
    "#Example 2\n",
    "\n",
    "grades =  {'Trombeta':[92,100,85],'Eduardo': [83,95,79]}\n",
    "grades2 = {soma: sum(valor) // len(valor)for soma,valor in grades.items()}\n",
    "grades2"
   ]
  },
  {
   "cell_type": "code",
   "execution_count": null,
   "id": "0274b7f7-e17d-4dae-a892-c8c82e574221",
   "metadata": {},
   "outputs": [],
   "source": [
    "dicio = {cubo ** 3 for cubo in [1,2,3,4,5]}\n",
    "dicio"
   ]
  },
  {
   "cell_type": "code",
   "execution_count": null,
   "id": "4080c443-8d98-4569-8348-112f72797f89",
   "metadata": {},
   "outputs": [],
   "source": [
    "{nur: nur ** 3 for nur in range(1,6)}"
   ]
  },
  {
   "cell_type": "code",
   "execution_count": null,
   "id": "300a6992-7d29-4420-81f1-d40aa84099d5",
   "metadata": {},
   "outputs": [],
   "source": [
    "import tkinter as tk\n",
    "\n",
    "root= tk.Tk()\n",
    "\n",
    "canvas1 = tk.Canvas(root, width = 300, height = 300)\n",
    "canvas1.pack()\n",
    "\n",
    "def hello ():  \n",
    "    label1 = tk.Label(root, text= 'Hello World!', fg='green', font=('helvetica', 12, 'bold'))\n",
    "    canvas1.create_window(150, 200, window=label1)\n",
    "    \n",
    "button1 = tk.Button(text='Click Me',command=hello, bg='brown',fg='white')\n",
    "canvas1.create_window(150, 150, window=button1)\n",
    "\n",
    "root.mainloop()"
   ]
  },
  {
   "cell_type": "code",
   "execution_count": null,
   "id": "76fe9834-5f36-4326-81e4-46520dc7c029",
   "metadata": {},
   "outputs": [],
   "source": [
    "%save hello.py 10"
   ]
  },
  {
   "cell_type": "code",
   "execution_count": null,
   "id": "c1340956-805b-4d17-90f8-cab41ca0bf7c",
   "metadata": {},
   "outputs": [],
   "source": [
    "for i in range(1,101):\n",
    "    if i == 3 in range(1,101):\n",
    "        print(i,'fizz')\n",
    "    else:\n",
    "        print(i)"
   ]
  },
  {
   "cell_type": "code",
   "execution_count": null,
   "id": "ee976da0-0489-473b-bcff-79395e9c6ab1",
   "metadata": {},
   "outputs": [],
   "source": [
    "for item in range(1,101):\n",
    "    if item % 3 == 0:\n",
    "        print('fizz')\n",
    "    elif  item % 5 == 0:\n",
    "        print('buzz')\n",
    "    elif item // 3 == 0 or i // 5 == 0:\n",
    "        print('FizzBuzz')\n",
    "    else:\n",
    "        print(item)\n",
    "\n",
    "nome = open('Exercicio.py','x')            "
   ]
  },
  {
   "cell_type": "code",
   "execution_count": null,
   "id": "ac1d2ea3-31d4-404d-b451-b1627495caba",
   "metadata": {},
   "outputs": [],
   "source": []
  },
  {
   "cell_type": "code",
   "execution_count": null,
   "id": "57d5efd2-6fce-491d-9967-bb59b8bf5bef",
   "metadata": {},
   "outputs": [],
   "source": [
    "numeros = list(range(1,100))\n",
    "list(filter(lambda x: x == 3 % 4, numeros))"
   ]
  },
  {
   "cell_type": "code",
   "execution_count": null,
   "id": "e60f0fc8-6159-4a58-a2aa-2c78e27539c4",
   "metadata": {},
   "outputs": [],
   "source": []
  },
  {
   "cell_type": "code",
   "execution_count": null,
   "id": "0992828b-6d56-46c6-8c37-35072b4703a0",
   "metadata": {},
   "outputs": [],
   "source": []
  },
  {
   "cell_type": "code",
   "execution_count": null,
   "id": "5faf117b-379b-4ed2-8aeb-9db248380b2c",
   "metadata": {},
   "outputs": [],
   "source": []
  },
  {
   "cell_type": "code",
   "execution_count": null,
   "id": "4720536e-2361-4dda-b65f-c2172fb0b569",
   "metadata": {},
   "outputs": [],
   "source": [
    "import random\n",
    "\n",
    "choice = str(input('Enter your choice: '))\n",
    "choice_list = ['rock', 'paper', 'scissors']\n",
    "computer_choice = random.choices(choice_list)\n",
    "\n",
    "\n",
    "if choice == 'rock' and computer_choice != 'paper':\n",
    "print(\"Your choice was {} and computer was {}. CONGRATULATIONS YOU WON!!!\".format(choice, computer_choice))\n",
    "elif choice == 'paper' and computer_choice != 'scissors':\n",
    "print(\"Your choice was {} and computer was {}. CONGRATULATIONS YOU WON!!!\".format(choice, computer_choice))\n",
    "elif choice == 'scissors' and computer_choice != 'rock':\n",
    "print(\"Your choice was {} and computer was {}. CONGRATULATIONS YOU WON!!!\".format(choice, computer_choice))\n",
    "elif choice == computer_choice:\n",
    "print(\"Choose a new option, game has been draw!!!\")\n",
    "else:\n",
    "print(\"Your choice was {} and computer was {}. COMPUTER's WON!!!\".format(choice, computer_choice))"
   ]
  },
  {
   "cell_type": "code",
   "execution_count": null,
   "id": "f4de6210-01cf-4f42-9550-a98c66422cb5",
   "metadata": {},
   "outputs": [],
   "source": [
    "download(\"tensorflow\")"
   ]
  },
  {
   "cell_type": "code",
   "execution_count": null,
   "id": "6a44b8a9-2219-43eb-8157-f4c1585013de",
   "metadata": {},
   "outputs": [],
   "source": [
    "4 / 2"
   ]
  },
  {
   "cell_type": "code",
   "execution_count": null,
   "id": "e2ccc8f2-abe3-4afd-a4f4-164f98df694d",
   "metadata": {},
   "outputs": [],
   "source": [
    "4 // 2"
   ]
  },
  {
   "cell_type": "code",
   "execution_count": null,
   "id": "71eec563-5b04-45b7-8a6e-dcc89530ab3a",
   "metadata": {},
   "outputs": [],
   "source": [
    "4 / 3"
   ]
  },
  {
   "cell_type": "code",
   "execution_count": null,
   "id": "471a0e60-8679-4313-a6f2-b76c969b9e93",
   "metadata": {},
   "outputs": [],
   "source": [
    "4 // 3"
   ]
  },
  {
   "cell_type": "code",
   "execution_count": null,
   "id": "9e1a6ced-d783-4910-8f62-d9889f1e91a9",
   "metadata": {},
   "outputs": [],
   "source": [
    "4 % 3"
   ]
  },
  {
   "cell_type": "code",
   "execution_count": null,
   "id": "938c3bf4-00b4-4928-b859-18560c152691",
   "metadata": {},
   "outputs": [],
   "source": []
  },
  {
   "cell_type": "code",
   "execution_count": null,
   "id": "587a6cde-18f4-4adf-b255-ade76529ae1b",
   "metadata": {},
   "outputs": [],
   "source": []
  },
  {
   "cell_type": "code",
   "execution_count": null,
   "id": "6eeb5cbe-ec51-484b-9691-412163acadc2",
   "metadata": {},
   "outputs": [],
   "source": []
  },
  {
   "cell_type": "code",
   "execution_count": null,
   "id": "6474bd90-360b-4ba5-8220-6a8409fd000b",
   "metadata": {},
   "outputs": [],
   "source": [
    "#Fibonacci series:\n",
    "\n",
    "a,b = 0,1\n",
    "while b < 500:\n",
    "    a,b = b, a+b\n",
    "    print(round(b/a,5), end=\",\")"
   ]
  },
  {
   "cell_type": "code",
   "execution_count": null,
   "id": "afb15267-a0f5-41c9-bfae-1adb365c9083",
   "metadata": {},
   "outputs": [],
   "source": []
  },
  {
   "cell_type": "code",
   "execution_count": null,
   "id": "1774802d-2487-40d8-a149-0fab709684d8",
   "metadata": {},
   "outputs": [],
   "source": [
    "memo = {}\n",
    "\n",
    "fib = 0\n",
    "n = 1\n",
    "\n",
    "if n in memo: \n",
    "    print(memo[n])\n",
    "if n <= 2:\n",
    "    f = 1\n",
    "else:\n",
    "    f = fib(n-1) + fib(n-2)\n",
    "    memo[n] = f\n",
    "print(f)"
   ]
  },
  {
   "cell_type": "code",
   "execution_count": null,
   "id": "842c1bdf-a5c0-41a1-bb5e-75dd5a68cdbc",
   "metadata": {},
   "outputs": [],
   "source": []
  },
  {
   "cell_type": "code",
   "execution_count": null,
   "id": "857ab1a8-4a6c-49f1-9157-21249e20f674",
   "metadata": {},
   "outputs": [],
   "source": [
    "a = 0\n",
    "b = 1\n",
    "while b < 500:\n",
    "    temp = a\n",
    "    a = b\n",
    "    b = temp + b\n",
    "    print(round(b/a,5), end=\",\")"
   ]
  },
  {
   "cell_type": "code",
   "execution_count": null,
   "id": "21819313-40b9-406f-9f0d-a21da5b8bc88",
   "metadata": {},
   "outputs": [],
   "source": [
    "#Sometimes there are parts of a text that you do not control, maybe they come from a database, or user input?\n",
    "#To control such values, add placeholders (curly brackets {}) in the text, and run the values through the format() method\n",
    "\n",
    "price = 50\n",
    "txt = \"The price is {} \\t euros\"\n",
    "print(txt.format(price))"
   ]
  },
  {
   "cell_type": "code",
   "execution_count": null,
   "id": "fa713483-253e-4d38-a0ac-550b7b43da41",
   "metadata": {},
   "outputs": [],
   "source": [
    "#You can use index numbers (a number inside the curly brackets {0}) to be sure the values are placed in the correct placeholders:\n",
    "\n",
    "quantity = 5\n",
    "item_number = 5\n",
    "price = 30.35\n",
    "myorder = \"I want {0} pieces of item number {1} for {2:.2f} dollars.\"\n",
    "print(myorder.format(quantity, item_number, price))"
   ]
  },
  {
   "cell_type": "code",
   "execution_count": null,
   "id": "5975eff2-1b07-46c1-9f73-17a8f381f11d",
   "metadata": {},
   "outputs": [],
   "source": [
    "#Named indexes\n",
    "\n",
    "myorder = \"I have a {carro} and it's a {modelo}\"\n",
    "print(myorder.format(carro = 'Z4', modelo = 'BMW'))"
   ]
  },
  {
   "cell_type": "code",
   "execution_count": null,
   "id": "0174903c-6be2-41a5-972e-024feac3fc71",
   "metadata": {},
   "outputs": [],
   "source": [
    "import math\n",
    "x = math.pi\n",
    "print(x)"
   ]
  },
  {
   "cell_type": "code",
   "execution_count": null,
   "id": "5c067b35-ca8f-421a-9385-748f7e66b94a",
   "metadata": {},
   "outputs": [],
   "source": [
    "x * 2"
   ]
  },
  {
   "cell_type": "code",
   "execution_count": null,
   "id": "8f54399c-6d58-4eb6-9d16-542f6701fe00",
   "metadata": {},
   "outputs": [],
   "source": [
    "a = 2\n",
    "b = 5\n",
    "if b >= a:\n",
    "    print('b maior q a')"
   ]
  },
  {
   "cell_type": "code",
   "execution_count": null,
   "id": "2a1719ce-de49-4f97-b069-7806f6793759",
   "metadata": {},
   "outputs": [],
   "source": [
    "product = float(input('Enter the price of the product PLN '))\n",
    "condition = str(input('Are you going to pay by card, cash or check? '))\n",
    "payment = int(input('Are you going to pay in how many times? '))\n",
    "\n",
    "spmc = product - (product / 100 * 10)\n",
    "sp_card = product - (product / 100 * 5)\n",
    "dp = product\n",
    "mp = product + (product / 100 * 20)\n",
    "\n",
    "if condition == str('cash') or str('check') and payment == 1:\n",
    "    print('The final price of this product will be PLN {:.2f}'.format(spmc))\n",
    "else:\n",
    "    condition == str('card') and payment == 1 or condition == str('card') and payment == 2 or condition == str('card') and payment >= 3\n",
    "    print('The final price of this product wil be PLN {:.2f}'.format(sp_card or dp or mp))   \n",
    "    \n",
    "    "
   ]
  },
  {
   "cell_type": "code",
   "execution_count": null,
   "id": "1de3cae9-794e-402f-ba87-e64cc11a6513",
   "metadata": {},
   "outputs": [],
   "source": [
    "if condition == str('cash') or str('check') and payment == 1:\n",
    "    print('The final price of this product will be PLN {:.2f}'.format(spmc))\n",
    "elif condition == str('card') and payment == 1:\n",
    "    print('The final price of this product wil be PLN {:.2f}'.format(sp_card))\n",
    "elif condition == str('card') and payment == 2:\n",
    "    print('The price of this product is PLN {:.2f}'.format(dp))\n",
    "elif condition == str('card') and payment >= 3:\n",
    "    print('The final price of this product will be PLN {:.2f}'.format(mp))"
   ]
  },
  {
   "cell_type": "code",
   "execution_count": null,
   "id": "79bcdc61-8572-4835-8961-e6f868b4a024",
   "metadata": {},
   "outputs": [],
   "source": [
    "n1 = list(range(1,100))\n",
    "\n",
    "(tem for item in n1 ,aaaaaaaaaa'))\n"
   ]
  },
  {
   "cell_type": "code",
   "execution_count": null,
   "id": "a4726e28-46e4-4bb0-9b2d-c6af5eaf8296",
   "metadata": {},
   "outputs": [],
   "source": [
    "file = open('teste.xlsb', 'r')\n",
    "\n",
    "store = int(input('Store number: '))\n",
    "\n"
   ]
  },
  {
   "cell_type": "code",
   "execution_count": null,
   "id": "59d20a74-f19a-4470-9da7-1fbdc7245163",
   "metadata": {},
   "outputs": [],
   "source": [
    "!pip install pyxlsb"
   ]
  },
  {
   "cell_type": "code",
   "execution_count": null,
   "id": "3dcd34c5-8eb4-4677-85e2-ea54c7947984",
   "metadata": {},
   "outputs": [],
   "source": [
    "import pandas as pd\n",
    "import pyxlsb\n",
    "\n",
    "data = pd.read_excel('teste.xlsb')\n",
    "pots = pd.read_excel(data,'POTS analog service')\n",
    "drop = data.dropna()\n",
    "\n",
    "print(pots.to_string())"
   ]
  },
  {
   "cell_type": "code",
   "execution_count": null,
   "id": "0d7f8f69-0fe5-4977-a2a2-a7906b5ebc43",
   "metadata": {},
   "outputs": [],
   "source": [
    "import pandas as pd\n",
    "import pyxlsb\n",
    "import re\n",
    "\n",
    "df = pd.read_excel('teste.xlsb', sheet_name = 'POTS analog service') # Abre o arquivo excel e lê a planilha POTS\n",
    "df = pd.DataFrame(df,columns=['WTN','Site','ILEC see Column Q for LEC Repair','NAME','ADDRESS','CITY','STATE','REPAIR']) #Colunas desejadas para serem visualizadas\n",
    "\n",
    "df = df.dropna() #Remove linhas em branco\n",
    "\n",
    "loja = int(input('Choose store: '))\n",
    "\n",
    "for row,column in df:\n",
    "    store = re.seach(df)\n",
    "    print(df)"
   ]
  },
  {
   "cell_type": "code",
   "execution_count": null,
   "id": "f616241a-e82a-40b8-8d85-aeadbe33cd74",
   "metadata": {},
   "outputs": [],
   "source": [
    "import xlwings as xw\n",
    " \n",
    "bookName = r'Estudos em Python/teste.xlsb'\n",
    "sheetName = 'POTS analog service'\n",
    " \n",
    "wb = xw.Book(bookName)\n",
    "sht = wb.sheets[sheetName]\n",
    " \n",
    "myCell = wb.sheets[sheetName].api.UsedRange.Find('1')\n",
    "print('---------------')\n",
    "print (myCell.address)\n",
    "input()"
   ]
  },
  {
   "cell_type": "code",
   "execution_count": 14,
   "id": "82ef7c21-66f1-4301-b13b-232502e11cf9",
   "metadata": {},
   "outputs": [
    {
     "data": {
      "text/plain": [
       "{'blue', 'green', 'orange', 'red', 'yellow'}"
      ]
     },
     "execution_count": 14,
     "metadata": {},
     "output_type": "execute_result"
    }
   ],
   "source": [
    "#SETS\n",
    "\n",
    "#A collection with unordered and unique values\n",
    "#marked by curly braces, chaves\n",
    "#used for memmbership style text\n",
    "#Sets are mutable,you can modify and add\n",
    "#Elements on a set are imutable ,they must be hashable\n",
    "#Only immutable objects can be hashable\n",
    "\n",
    "colors = {'red','orange','red','yellow','green','blue'}\n",
    "colors"
   ]
  },
  {
   "cell_type": "code",
   "execution_count": 15,
   "id": "e22d00d1-3125-4049-ac13-49a2e7d61879",
   "metadata": {},
   "outputs": [
    {
     "data": {
      "text/plain": [
       "True"
      ]
     },
     "execution_count": 15,
     "metadata": {},
     "output_type": "execute_result"
    }
   ],
   "source": [
    "'red' in colors"
   ]
  },
  {
   "cell_type": "code",
   "execution_count": 16,
   "id": "83097cb8-363c-415a-8c9f-f18c607b9cf7",
   "metadata": {},
   "outputs": [
    {
     "data": {
      "text/plain": [
       "False"
      ]
     },
     "execution_count": 16,
     "metadata": {},
     "output_type": "execute_result"
    }
   ],
   "source": [
    "'purple' in colors\n"
   ]
  },
  {
   "cell_type": "code",
   "execution_count": 17,
   "id": "cf58d9f8-6450-472d-87f1-65bfa5188e48",
   "metadata": {},
   "outputs": [
    {
     "data": {
      "text/plain": [
       "True"
      ]
     },
     "execution_count": 17,
     "metadata": {},
     "output_type": "execute_result"
    }
   ],
   "source": [
    "'purple' not in colors"
   ]
  },
  {
   "cell_type": "code",
   "execution_count": 18,
   "id": "e180da7f-fb7e-4e8d-ae86-c5d89e61d4be",
   "metadata": {},
   "outputs": [
    {
     "name": "stdout",
     "output_type": "stream",
     "text": [
      "GREEN BLUE ORANGE RED YELLOW "
     ]
    }
   ],
   "source": [
    "for color in colors:\n",
    "    print(color.upper(), end=' ') #dont rely in the order from sets"
   ]
  },
  {
   "cell_type": "code",
   "execution_count": 21,
   "id": "449972f1-8694-4df5-821e-86b4cf3cc3ab",
   "metadata": {},
   "outputs": [],
   "source": [
    "numbers = list(range(10)) + list(range(5))"
   ]
  },
  {
   "cell_type": "code",
   "execution_count": 22,
   "id": "f37c10f7-4da7-43ba-8be0-477607879720",
   "metadata": {},
   "outputs": [
    {
     "data": {
      "text/plain": [
       "[0, 1, 2, 3, 4, 5, 6, 7, 8, 9, 0, 1, 2, 3, 4]"
      ]
     },
     "execution_count": 22,
     "metadata": {},
     "output_type": "execute_result"
    }
   ],
   "source": [
    "numbers"
   ]
  },
  {
   "cell_type": "code",
   "execution_count": 23,
   "id": "9fa680d5-6dd8-4b1f-ada1-574ca330eeab",
   "metadata": {},
   "outputs": [
    {
     "data": {
      "text/plain": [
       "{0, 1, 2, 3, 4, 5, 6, 7, 8, 9}"
      ]
     },
     "execution_count": 23,
     "metadata": {},
     "output_type": "execute_result"
    }
   ],
   "source": [
    "set(numbers)#repeated values are ignored"
   ]
  },
  {
   "cell_type": "code",
   "execution_count": 24,
   "id": "1e9aa958-d896-48ee-b3f0-9b614c8e0d5e",
   "metadata": {},
   "outputs": [
    {
     "data": {
      "text/plain": [
       "set()"
      ]
     },
     "execution_count": 24,
     "metadata": {},
     "output_type": "execute_result"
    }
   ],
   "source": [
    "set()#creating empty set"
   ]
  },
  {
   "cell_type": "code",
   "execution_count": 49,
   "id": "43c5db93-617f-4502-9379-e3df694384d9",
   "metadata": {},
   "outputs": [],
   "source": [
    "text = ('to be or not be that is the question')\n",
    "wordsunique = set(text.split())"
   ]
  },
  {
   "cell_type": "code",
   "execution_count": 51,
   "id": "8989c7aa-6de5-41aa-934a-c75ca00c6a5d",
   "metadata": {},
   "outputs": [
    {
     "name": "stdout",
     "output_type": "stream",
     "text": [
      "be is not or question that the to "
     ]
    }
   ],
   "source": [
    "for word in sorted(wordsunique):\n",
    "    print(word,end=' ')"
   ]
  },
  {
   "cell_type": "code",
   "execution_count": 52,
   "id": "b557fdee-1766-4196-8c11-47b8e16ec36b",
   "metadata": {},
   "outputs": [
    {
     "data": {
      "text/plain": [
       "True"
      ]
     },
     "execution_count": 52,
     "metadata": {},
     "output_type": "execute_result"
    }
   ],
   "source": [
    "#Comparing sets\n",
    "\n",
    "{1,3,5} == {3,5,1}"
   ]
  },
  {
   "cell_type": "code",
   "execution_count": 53,
   "id": "daef7dc9-cf87-4b0b-8b8d-e8261e967e6c",
   "metadata": {},
   "outputs": [
    {
     "data": {
      "text/plain": [
       "False"
      ]
     },
     "execution_count": 53,
     "metadata": {},
     "output_type": "execute_result"
    }
   ],
   "source": [
    "{1,3,5} != {3,5,1}"
   ]
  },
  {
   "cell_type": "code",
   "execution_count": 54,
   "id": "7ab50025-417c-42cd-9043-f1673488e979",
   "metadata": {},
   "outputs": [
    {
     "data": {
      "text/plain": [
       "False"
      ]
     },
     "execution_count": 54,
     "metadata": {},
     "output_type": "execute_result"
    }
   ],
   "source": [
    "{1,3,5} < {3,5,1}"
   ]
  },
  {
   "cell_type": "code",
   "execution_count": 55,
   "id": "3b5dac82-b394-47cc-be33-7201a5a28819",
   "metadata": {},
   "outputs": [
    {
     "data": {
      "text/plain": [
       "True"
      ]
     },
     "execution_count": 55,
     "metadata": {},
     "output_type": "execute_result"
    }
   ],
   "source": [
    "{1,3,5} < {3,5,8,1}"
   ]
  },
  {
   "cell_type": "code",
   "execution_count": 56,
   "id": "5fd8710d-eba5-44dd-9bcc-1cdc91c5cc6c",
   "metadata": {},
   "outputs": [
    {
     "data": {
      "text/plain": [
       "True"
      ]
     },
     "execution_count": 56,
     "metadata": {},
     "output_type": "execute_result"
    }
   ],
   "source": [
    "{1,3,5} <= {3,5,1}"
   ]
  },
  {
   "cell_type": "code",
   "execution_count": 58,
   "id": "d5b6c8b2-ee6e-4316-a13c-9df86d1e9046",
   "metadata": {},
   "outputs": [
    {
     "data": {
      "text/plain": [
       "True"
      ]
     },
     "execution_count": 58,
     "metadata": {},
     "output_type": "execute_result"
    }
   ],
   "source": [
    "{1,3} <= {3,5,1}"
   ]
  },
  {
   "cell_type": "code",
   "execution_count": 60,
   "id": "11ca9978-cb60-4fff-bfb4-b4772ad3d390",
   "metadata": {},
   "outputs": [
    {
     "data": {
      "text/plain": [
       "True"
      ]
     },
     "execution_count": 60,
     "metadata": {},
     "output_type": "execute_result"
    }
   ],
   "source": [
    "{1,3,5}.issubset({3,5,1})#making a set as an object"
   ]
  },
  {
   "cell_type": "code",
   "execution_count": 62,
   "id": "4897d038-3aa5-4142-952c-5bf2ade1c4c4",
   "metadata": {},
   "outputs": [
    {
     "data": {
      "text/plain": [
       "'CASA'"
      ]
     },
     "execution_count": 62,
     "metadata": {},
     "output_type": "execute_result"
    }
   ],
   "source": [
    "('casa').upper()"
   ]
  },
  {
   "cell_type": "code",
   "execution_count": 63,
   "id": "61a06788-cb1b-48cd-87e1-a7d98f620b4d",
   "metadata": {},
   "outputs": [
    {
     "data": {
      "text/plain": [
       "False"
      ]
     },
     "execution_count": 63,
     "metadata": {},
     "output_type": "execute_result"
    }
   ],
   "source": [
    "{1,3,5} > {3,5,1}"
   ]
  },
  {
   "cell_type": "code",
   "execution_count": 64,
   "id": "f13c67dd-421f-4c0f-b47f-2d85b365d0f1",
   "metadata": {},
   "outputs": [
    {
     "data": {
      "text/plain": [
       "True"
      ]
     },
     "execution_count": 64,
     "metadata": {},
     "output_type": "execute_result"
    }
   ],
   "source": [
    "{1,3,5,7} > {3,5,1}"
   ]
  },
  {
   "cell_type": "code",
   "execution_count": 65,
   "id": "4473ad12-2c5e-498a-9f63-f119722bf537",
   "metadata": {},
   "outputs": [
    {
     "data": {
      "text/plain": [
       "True"
      ]
     },
     "execution_count": 65,
     "metadata": {},
     "output_type": "execute_result"
    }
   ],
   "source": [
    "{1,3,5} >= {3,5,1}"
   ]
  },
  {
   "cell_type": "code",
   "execution_count": 66,
   "id": "d9f40c6a-b82e-4f3a-99e6-869af7bc2d42",
   "metadata": {},
   "outputs": [
    {
     "data": {
      "text/plain": [
       "True"
      ]
     },
     "execution_count": 66,
     "metadata": {},
     "output_type": "execute_result"
    }
   ],
   "source": [
    "{1,3,5} >= {5,1}"
   ]
  },
  {
   "cell_type": "code",
   "execution_count": 67,
   "id": "7f608de2-b412-498f-8eed-62c2e41da462",
   "metadata": {},
   "outputs": [
    {
     "data": {
      "text/plain": [
       "False"
      ]
     },
     "execution_count": 67,
     "metadata": {},
     "output_type": "execute_result"
    }
   ],
   "source": [
    "{1,3} >= {3,5,1}"
   ]
  },
  {
   "cell_type": "code",
   "execution_count": 68,
   "id": "1a779341-ed17-46e6-8819-6e56a7d7ed34",
   "metadata": {},
   "outputs": [
    {
     "data": {
      "text/plain": [
       "True"
      ]
     },
     "execution_count": 68,
     "metadata": {},
     "output_type": "execute_result"
    }
   ],
   "source": [
    "{1,3,5}.issuperset({3,5,1})#making a superset"
   ]
  },
  {
   "cell_type": "code",
   "execution_count": 69,
   "id": "c954d019-92db-4576-a8cf-7791fa770dbf",
   "metadata": {},
   "outputs": [
    {
     "data": {
      "text/plain": [
       "True"
      ]
     },
     "execution_count": 69,
     "metadata": {},
     "output_type": "execute_result"
    }
   ],
   "source": [
    "{1,3,5}.issuperset({5,1})#making a superset"
   ]
  },
  {
   "cell_type": "code",
   "execution_count": 70,
   "id": "d76d1f4c-7a55-4023-8a68-4a42b2eafea0",
   "metadata": {},
   "outputs": [
    {
     "data": {
      "text/plain": [
       "False"
      ]
     },
     "execution_count": 70,
     "metadata": {},
     "output_type": "execute_result"
    }
   ],
   "source": [
    "#Exercise\n",
    "\n",
    "{'abc def ghi jkl mno'}.issuperset({'hi mon'})"
   ]
  },
  {
   "cell_type": "code",
   "execution_count": 71,
   "id": "21a742f0-3245-4e1d-a260-24a9d95b9513",
   "metadata": {},
   "outputs": [
    {
     "data": {
      "text/plain": [
       "False"
      ]
     },
     "execution_count": 71,
     "metadata": {},
     "output_type": "execute_result"
    }
   ],
   "source": [
    "#alternative version\n",
    "\n",
    "set('abc def jkl mno').issuperset('hi mon')"
   ]
  },
  {
   "cell_type": "code",
   "execution_count": 73,
   "id": "7ff892ce-cf4d-4c02-bc77-bfdcf392a9fa",
   "metadata": {},
   "outputs": [
    {
     "data": {
      "text/plain": [
       "{1, 2, 3, 4, 5}"
      ]
     },
     "execution_count": 73,
     "metadata": {},
     "output_type": "execute_result"
    }
   ],
   "source": [
    "#Mathematical set operations\n",
    "{1,3,5} | {2,3,4} #union"
   ]
  },
  {
   "cell_type": "code",
   "execution_count": 74,
   "id": "da11b856-2d1f-4e8e-80ca-d945a32bc7db",
   "metadata": {},
   "outputs": [
    {
     "data": {
      "text/plain": [
       "{1, 3, 4, 5, 20, 30, 40, 340}"
      ]
     },
     "execution_count": 74,
     "metadata": {},
     "output_type": "execute_result"
    }
   ],
   "source": [
    "{1,3,5}.union([20,30,340,40,5,4,4]) #using .union method"
   ]
  },
  {
   "cell_type": "code",
   "execution_count": 76,
   "id": "28bbedf2-a12d-4db8-bf00-cfac34cf502f",
   "metadata": {},
   "outputs": [
    {
     "data": {
      "text/plain": [
       "{3}"
      ]
     },
     "execution_count": 76,
     "metadata": {},
     "output_type": "execute_result"
    }
   ],
   "source": [
    "{1,3,5} & {2,3,4} #intersection of elements"
   ]
  },
  {
   "cell_type": "code",
   "execution_count": 77,
   "id": "b9b2675a-1d98-405b-b950-0b8be8273d46",
   "metadata": {},
   "outputs": [
    {
     "data": {
      "text/plain": [
       "{1, 3, 5}"
      ]
     },
     "execution_count": 77,
     "metadata": {},
     "output_type": "execute_result"
    }
   ],
   "source": [
    "{1,3,5}.intersection([1,1,2,2,3,4,5,56,67,778,])"
   ]
  },
  {
   "cell_type": "code",
   "execution_count": 78,
   "id": "db985783-6e82-4088-abf5-8cb40dee6ed5",
   "metadata": {},
   "outputs": [
    {
     "data": {
      "text/plain": [
       "{1, 5}"
      ]
     },
     "execution_count": 78,
     "metadata": {},
     "output_type": "execute_result"
    }
   ],
   "source": [
    "{1,3,5} - {2,3,4} #difference operation"
   ]
  },
  {
   "cell_type": "code",
   "execution_count": 79,
   "id": "6bc8b268-8c12-44ef-9147-260f05aa6628",
   "metadata": {},
   "outputs": [
    {
     "data": {
      "text/plain": [
       "{1}"
      ]
     },
     "execution_count": 79,
     "metadata": {},
     "output_type": "execute_result"
    }
   ],
   "source": [
    "{1,3,5}.difference([2,2,3,3,4,4,5,5])"
   ]
  },
  {
   "cell_type": "code",
   "execution_count": 80,
   "id": "f6218d8b-2bed-43dd-ba81-826dcab5916f",
   "metadata": {},
   "outputs": [
    {
     "data": {
      "text/plain": [
       "{1, 2, 4, 5}"
      ]
     },
     "execution_count": 80,
     "metadata": {},
     "output_type": "execute_result"
    }
   ],
   "source": [
    "{1,3,5} ^ {2,3,4} #symmetric difference"
   ]
  },
  {
   "cell_type": "code",
   "execution_count": 81,
   "id": "4aaf39cc-8f24-4ed1-94a6-32595c450614",
   "metadata": {},
   "outputs": [
    {
     "data": {
      "text/plain": [
       "{1, 2, 4, 33, 45}"
      ]
     },
     "execution_count": 81,
     "metadata": {},
     "output_type": "execute_result"
    }
   ],
   "source": [
    "{1,3,5}.symmetric_difference([2,2,2,3,33,4,4,45,5,5,5])"
   ]
  },
  {
   "cell_type": "code",
   "execution_count": 84,
   "id": "1dcaf49e-dafb-4595-bcbf-9cb4f90b2eb6",
   "metadata": {},
   "outputs": [
    {
     "data": {
      "text/plain": [
       "False"
      ]
     },
     "execution_count": 84,
     "metadata": {},
     "output_type": "execute_result"
    }
   ],
   "source": [
    "{1,3,5}.isdisjoint([2,3,4,1]) #disjoint operation"
   ]
  },
  {
   "cell_type": "code",
   "execution_count": 85,
   "id": "119ed6bb-27de-495b-8fcf-bab28a570ba3",
   "metadata": {},
   "outputs": [
    {
     "data": {
      "text/plain": [
       "False"
      ]
     },
     "execution_count": 85,
     "metadata": {},
     "output_type": "execute_result"
    }
   ],
   "source": [
    "{1,3,5}.isdisjoint([4,6,1]) #disjoint operation"
   ]
  },
  {
   "cell_type": "code",
   "execution_count": 86,
   "id": "541f9faf-7e8f-40f2-b240-eb7dad0e561b",
   "metadata": {},
   "outputs": [
    {
     "data": {
      "text/plain": [
       "{30}"
      ]
     },
     "execution_count": 86,
     "metadata": {},
     "output_type": "execute_result"
    }
   ],
   "source": [
    "#Exercise\n",
    "\n",
    "{10,20,30}- {5,10,15,20} #difference"
   ]
  },
  {
   "cell_type": "code",
   "execution_count": 87,
   "id": "df91e973-82d9-4d59-aaf2-69f31f282f09",
   "metadata": {},
   "outputs": [
    {
     "data": {
      "text/plain": [
       "{5, 15, 30}"
      ]
     },
     "execution_count": 87,
     "metadata": {},
     "output_type": "execute_result"
    }
   ],
   "source": [
    "{10,20,30}^ {5,10,15,20} #symmetric difference"
   ]
  },
  {
   "cell_type": "code",
   "execution_count": 89,
   "id": "8c94e035-bbd7-4b52-a08d-7c02ad8a6861",
   "metadata": {},
   "outputs": [
    {
     "data": {
      "text/plain": [
       "{5, 10, 15, 20, 30}"
      ]
     },
     "execution_count": 89,
     "metadata": {},
     "output_type": "execute_result"
    }
   ],
   "source": [
    "{10,20,30}| {5,10,15,20} #union"
   ]
  },
  {
   "cell_type": "code",
   "execution_count": 91,
   "id": "413b0c7f-90c3-4aeb-abb6-b2dec600d5be",
   "metadata": {
    "tags": []
   },
   "outputs": [
    {
     "data": {
      "text/plain": [
       "{10, 20}"
      ]
     },
     "execution_count": 91,
     "metadata": {},
     "output_type": "execute_result"
    }
   ],
   "source": [
    "{10,20,30}&{5,10,15,20} #intersection"
   ]
  },
  {
   "cell_type": "code",
   "execution_count": null,
   "id": "3cc8d9f1-0c77-47a2-80c8-da4e73dbb5cc",
   "metadata": {},
   "outputs": [],
   "source": [
    "#Mutable set operators and methods\n",
    "\n",
    "#Augmented operators\n",
    "\n",
    "|= update\n",
    "&= intersection\n",
    "-= difference_update\n",
    "^= symmeteric_difference_update"
   ]
  },
  {
   "cell_type": "code",
   "execution_count": 92,
   "id": "82c423eb-3bf4-44ed-aff2-745245f73b47",
   "metadata": {},
   "outputs": [],
   "source": [
    "numbers = {3,5,1}"
   ]
  },
  {
   "cell_type": "code",
   "execution_count": 93,
   "id": "18e36253-51b9-464e-abba-46db03d278e5",
   "metadata": {},
   "outputs": [],
   "source": [
    "numbers |= {2,3,4} #union"
   ]
  },
  {
   "cell_type": "code",
   "execution_count": 94,
   "id": "b8160bd9-de9f-4962-bff7-0e2063c7d1cf",
   "metadata": {},
   "outputs": [
    {
     "data": {
      "text/plain": [
       "{1, 2, 3, 4, 5}"
      ]
     },
     "execution_count": 94,
     "metadata": {},
     "output_type": "execute_result"
    }
   ],
   "source": [
    "numbers"
   ]
  },
  {
   "cell_type": "code",
   "execution_count": 95,
   "id": "4c2e2276-864e-4549-95b9-419b4090c197",
   "metadata": {},
   "outputs": [],
   "source": [
    "numbers.update(range(10)) #creating and combining a set removing the repeated values"
   ]
  },
  {
   "cell_type": "code",
   "execution_count": 96,
   "id": "877e215d-8ae1-46ff-8e8d-f1153b59166f",
   "metadata": {},
   "outputs": [
    {
     "data": {
      "text/plain": [
       "{0, 1, 2, 3, 4, 5, 6, 7, 8, 9}"
      ]
     },
     "execution_count": 96,
     "metadata": {},
     "output_type": "execute_result"
    }
   ],
   "source": [
    "numbers"
   ]
  },
  {
   "cell_type": "code",
   "execution_count": 97,
   "id": "27d460d4-a12a-4c3f-ae89-6b774b268814",
   "metadata": {},
   "outputs": [],
   "source": [
    "numbers.add(18)"
   ]
  },
  {
   "cell_type": "code",
   "execution_count": 98,
   "id": "1f5f11eb-7a38-47ad-be28-cd589cd66f0e",
   "metadata": {},
   "outputs": [
    {
     "data": {
      "text/plain": [
       "{0, 1, 2, 3, 4, 5, 6, 7, 8, 9, 18}"
      ]
     },
     "execution_count": 98,
     "metadata": {},
     "output_type": "execute_result"
    }
   ],
   "source": [
    "numbers"
   ]
  },
  {
   "cell_type": "code",
   "execution_count": 99,
   "id": "ec85d74d-7532-4add-9981-0d0dba192b6e",
   "metadata": {},
   "outputs": [
    {
     "data": {
      "text/plain": [
       "{0, 1, 2, 3, 4, 5, 6, 7, 8, 9, 18}"
      ]
     },
     "execution_count": 99,
     "metadata": {},
     "output_type": "execute_result"
    }
   ],
   "source": [
    "numbers.add(3)\n",
    "numbers"
   ]
  },
  {
   "cell_type": "code",
   "execution_count": 104,
   "id": "1bf4d093-ae76-4dbb-87f6-fafc4702ba41",
   "metadata": {},
   "outputs": [
    {
     "ename": "KeyError",
     "evalue": "3",
     "output_type": "error",
     "traceback": [
      "\u001b[1;31m---------------------------------------------------------------------------\u001b[0m",
      "\u001b[1;31mKeyError\u001b[0m                                  Traceback (most recent call last)",
      "Input \u001b[1;32mIn [104]\u001b[0m, in \u001b[0;36m<cell line: 1>\u001b[1;34m()\u001b[0m\n\u001b[1;32m----> 1\u001b[0m \u001b[43mnumbers\u001b[49m\u001b[38;5;241;43m.\u001b[39;49m\u001b[43mremove\u001b[49m\u001b[43m(\u001b[49m\u001b[38;5;241;43m3\u001b[39;49m\u001b[43m)\u001b[49m\n",
      "\u001b[1;31mKeyError\u001b[0m: 3"
     ]
    }
   ],
   "source": [
    "numbers.remove(3)#removing values from sets"
   ]
  },
  {
   "cell_type": "code",
   "execution_count": 102,
   "id": "593b5a22-d4dc-432c-aa56-5fc3212c0e08",
   "metadata": {},
   "outputs": [
    {
     "data": {
      "text/plain": [
       "{0, 1, 2, 4, 5, 6, 7, 8, 9, 18}"
      ]
     },
     "execution_count": 102,
     "metadata": {},
     "output_type": "execute_result"
    }
   ],
   "source": [
    "numbers"
   ]
  },
  {
   "cell_type": "code",
   "execution_count": 105,
   "id": "78ef662f-fa01-48a9-a5fd-78eead635fb0",
   "metadata": {},
   "outputs": [],
   "source": [
    "numbers.discard(1)#removing values from sets"
   ]
  },
  {
   "cell_type": "code",
   "execution_count": 106,
   "id": "8adeff7b-d2d6-43ef-add2-a6c521576997",
   "metadata": {},
   "outputs": [
    {
     "data": {
      "text/plain": [
       "{0, 2, 4, 5, 6, 7, 8, 9, 18}"
      ]
     },
     "execution_count": 106,
     "metadata": {},
     "output_type": "execute_result"
    }
   ],
   "source": [
    "numbers"
   ]
  },
  {
   "cell_type": "code",
   "execution_count": 107,
   "id": "d5d1178f-875a-4095-8d43-87a629270449",
   "metadata": {},
   "outputs": [
    {
     "data": {
      "text/plain": [
       "0"
      ]
     },
     "execution_count": 107,
     "metadata": {},
     "output_type": "execute_result"
    }
   ],
   "source": [
    "numbers.pop()#removing values from sets"
   ]
  },
  {
   "cell_type": "code",
   "execution_count": 108,
   "id": "c24733ef-13fb-4e7b-a913-e1d7a97c4dcf",
   "metadata": {},
   "outputs": [
    {
     "data": {
      "text/plain": [
       "{2, 4, 5, 6, 7, 8, 9, 18}"
      ]
     },
     "execution_count": 108,
     "metadata": {},
     "output_type": "execute_result"
    }
   ],
   "source": [
    "numbers"
   ]
  },
  {
   "cell_type": "code",
   "execution_count": 109,
   "id": "b43043c6-2ddb-4e80-9c59-9f8832056550",
   "metadata": {},
   "outputs": [],
   "source": [
    "numbers.clear()#removing values from sets"
   ]
  },
  {
   "cell_type": "code",
   "execution_count": 110,
   "id": "68ef2072-6fcb-4103-928b-12b8781710ac",
   "metadata": {},
   "outputs": [
    {
     "data": {
      "text/plain": [
       "set()"
      ]
     },
     "execution_count": 110,
     "metadata": {},
     "output_type": "execute_result"
    }
   ],
   "source": [
    "numbers"
   ]
  },
  {
   "cell_type": "code",
   "execution_count": 112,
   "id": "4ad3b140-fdae-449c-be2a-7565cb6459ec",
   "metadata": {},
   "outputs": [
    {
     "data": {
      "text/plain": [
       "{2, 4, 6, 8, 10}"
      ]
     },
     "execution_count": 112,
     "metadata": {},
     "output_type": "execute_result"
    }
   ],
   "source": [
    "numbers = [1,2,2,3,4,5,6,6,7,8,9,10,10]\n",
    "\n",
    "evens = {item for item in numbers if item % 2 == 0}\n",
    "evens"
   ]
  },
  {
   "cell_type": "code",
   "execution_count": 119,
   "id": "44111004-5216-4984-8703-0700a81b6fd0",
   "metadata": {},
   "outputs": [
    {
     "data": {
      "text/plain": [
       "{1, 3, 5, 7, 9}"
      ]
     },
     "execution_count": 119,
     "metadata": {},
     "output_type": "execute_result"
    }
   ],
   "source": [
    "odds = {item for item in numbers if item % 2 == 1}\n",
    "odds"
   ]
  },
  {
   "cell_type": "code",
   "execution_count": null,
   "id": "39c02435-2a57-4c1b-9bcb-ffc37f4fd046",
   "metadata": {},
   "outputs": [],
   "source": []
  },
  {
   "cell_type": "code",
   "execution_count": 41,
   "id": "67479f70-5cc9-47b4-a0ab-c200402dbd08",
   "metadata": {},
   "outputs": [],
   "source": []
  },
  {
   "cell_type": "code",
   "execution_count": null,
   "id": "a5c78662-a91b-4f6d-8677-c5b7134372c1",
   "metadata": {},
   "outputs": [],
   "source": []
  },
  {
   "cell_type": "code",
   "execution_count": null,
   "id": "7fe894ed-ae89-4bde-a490-9471d619c1a3",
   "metadata": {},
   "outputs": [],
   "source": []
  },
  {
   "cell_type": "code",
   "execution_count": 57,
   "id": "29232c48-6964-4b15-bea1-0dff8452058a",
   "metadata": {},
   "outputs": [
    {
     "data": {
      "text/plain": [
       "0"
      ]
     },
     "execution_count": 57,
     "metadata": {},
     "output_type": "execute_result"
    }
   ],
   "source": [
    "requests.get('https://tinder.com/app/profile').text.count('Ubuntu')"
   ]
  },
  {
   "cell_type": "code",
   "execution_count": 82,
   "id": "528b6054-f995-47c5-990e-3ae672d9e430",
   "metadata": {},
   "outputs": [
    {
     "ename": "NameError",
     "evalue": "Deprecated argument: use output_format instead, e.g. output_format=\"xml\"",
     "output_type": "error",
     "traceback": [
      "\u001b[1;31m---------------------------------------------------------------------------\u001b[0m",
      "\u001b[1;31mNameError\u001b[0m                                 Traceback (most recent call last)",
      "Input \u001b[1;32mIn [82]\u001b[0m, in \u001b[0;36m<cell line: 82>\u001b[1;34m()\u001b[0m\n\u001b[0;32m     79\u001b[0m             \u001b[38;5;28;01mreturn\u001b[39;00m np\u001b[38;5;241m.\u001b[39mnan\n\u001b[0;32m     81\u001b[0m single_url \u001b[38;5;241m=\u001b[39m \u001b[38;5;124m'\u001b[39m\u001b[38;5;124mhttps://understandingdata.com/python-for-seo/how-to-extract-text-from-multiple-webpages-in-python/\u001b[39m\u001b[38;5;124m'\u001b[39m\n\u001b[1;32m---> 82\u001b[0m text \u001b[38;5;241m=\u001b[39m \u001b[43mextract_text_from_single_web_page\u001b[49m\u001b[43m(\u001b[49m\u001b[43murl\u001b[49m\u001b[38;5;241;43m=\u001b[39;49m\u001b[43msingle_url\u001b[49m\u001b[43m)\u001b[49m\n\u001b[0;32m     83\u001b[0m \u001b[38;5;28mprint\u001b[39m(text)\n",
      "Input \u001b[1;32mIn [82]\u001b[0m, in \u001b[0;36mextract_text_from_single_web_page\u001b[1;34m(url)\u001b[0m\n\u001b[0;32m     58\u001b[0m downloaded_url \u001b[38;5;241m=\u001b[39m trafilatura\u001b[38;5;241m.\u001b[39mfetch_url(url)\n\u001b[0;32m     59\u001b[0m \u001b[38;5;28;01mtry\u001b[39;00m:\n\u001b[1;32m---> 60\u001b[0m     a \u001b[38;5;241m=\u001b[39m \u001b[43mtrafilatura\u001b[49m\u001b[38;5;241;43m.\u001b[39;49m\u001b[43mextract\u001b[49m\u001b[43m(\u001b[49m\u001b[43mdownloaded_url\u001b[49m\u001b[43m,\u001b[49m\u001b[43m \u001b[49m\u001b[43mjson_output\u001b[49m\u001b[38;5;241;43m=\u001b[39;49m\u001b[38;5;28;43;01mTrue\u001b[39;49;00m\u001b[43m,\u001b[49m\u001b[43m \u001b[49m\u001b[43mwith_metadata\u001b[49m\u001b[38;5;241;43m=\u001b[39;49m\u001b[38;5;28;43;01mTrue\u001b[39;49;00m\u001b[43m,\u001b[49m\u001b[43m \u001b[49m\u001b[43minclude_comments\u001b[49m\u001b[43m \u001b[49m\u001b[38;5;241;43m=\u001b[39;49m\u001b[43m \u001b[49m\u001b[38;5;28;43;01mFalse\u001b[39;49;00m\u001b[43m,\u001b[49m\n\u001b[0;32m     61\u001b[0m \u001b[43m                        \u001b[49m\u001b[43mdate_extraction_params\u001b[49m\u001b[38;5;241;43m=\u001b[39;49m\u001b[43m{\u001b[49m\u001b[38;5;124;43m'\u001b[39;49m\u001b[38;5;124;43mextensive_search\u001b[39;49m\u001b[38;5;124;43m'\u001b[39;49m\u001b[43m:\u001b[49m\u001b[43m \u001b[49m\u001b[38;5;28;43;01mTrue\u001b[39;49;00m\u001b[43m,\u001b[49m\u001b[43m \u001b[49m\u001b[38;5;124;43m'\u001b[39;49m\u001b[38;5;124;43moriginal_date\u001b[39;49m\u001b[38;5;124;43m'\u001b[39;49m\u001b[43m:\u001b[49m\u001b[43m \u001b[49m\u001b[38;5;28;43;01mTrue\u001b[39;49;00m\u001b[43m}\u001b[49m\u001b[43m)\u001b[49m\n\u001b[0;32m     62\u001b[0m \u001b[38;5;28;01mexcept\u001b[39;00m \u001b[38;5;167;01mAttributeError\u001b[39;00m:\n\u001b[0;32m     63\u001b[0m     a \u001b[38;5;241m=\u001b[39m trafilatura\u001b[38;5;241m.\u001b[39mextract(downloaded_url, json_output\u001b[38;5;241m=\u001b[39m\u001b[38;5;28;01mTrue\u001b[39;00m, with_metadata\u001b[38;5;241m=\u001b[39m\u001b[38;5;28;01mTrue\u001b[39;00m,\n\u001b[0;32m     64\u001b[0m                         date_extraction_params\u001b[38;5;241m=\u001b[39m{\u001b[38;5;124m'\u001b[39m\u001b[38;5;124mextensive_search\u001b[39m\u001b[38;5;124m'\u001b[39m: \u001b[38;5;28;01mTrue\u001b[39;00m, \u001b[38;5;124m'\u001b[39m\u001b[38;5;124moriginal_date\u001b[39m\u001b[38;5;124m'\u001b[39m: \u001b[38;5;28;01mTrue\u001b[39;00m})\n",
      "File \u001b[1;32mE:\\Estudos\\Anaconda\\lib\\site-packages\\trafilatura\\core.py:965\u001b[0m, in \u001b[0;36mextract\u001b[1;34m(filecontent, url, record_id, no_fallback, favor_precision, favor_recall, include_comments, output_format, tei_validation, target_language, include_tables, include_images, include_formatting, include_links, deduplicate, date_extraction_params, only_with_metadata, with_metadata, max_tree_size, url_blacklist, author_blacklist, settingsfile, config, **kwargs)\u001b[0m\n\u001b[0;32m    959\u001b[0m \u001b[38;5;28;01mif\u001b[39;00m kwargs:\n\u001b[0;32m    960\u001b[0m     \u001b[38;5;66;03m# output formats\u001b[39;00m\n\u001b[0;32m    961\u001b[0m     \u001b[38;5;28;01mif\u001b[39;00m \u001b[38;5;28many\u001b[39m([\n\u001b[0;32m    962\u001b[0m         \u001b[38;5;124m'\u001b[39m\u001b[38;5;124mcsv_output\u001b[39m\u001b[38;5;124m'\u001b[39m \u001b[38;5;129;01min\u001b[39;00m kwargs, \u001b[38;5;124m'\u001b[39m\u001b[38;5;124mjson_output\u001b[39m\u001b[38;5;124m'\u001b[39m \u001b[38;5;129;01min\u001b[39;00m kwargs,\n\u001b[0;32m    963\u001b[0m         \u001b[38;5;124m'\u001b[39m\u001b[38;5;124mtei_output\u001b[39m\u001b[38;5;124m'\u001b[39m \u001b[38;5;129;01min\u001b[39;00m kwargs, \u001b[38;5;124m'\u001b[39m\u001b[38;5;124mxml_output\u001b[39m\u001b[38;5;124m'\u001b[39m \u001b[38;5;129;01min\u001b[39;00m kwargs\n\u001b[0;32m    964\u001b[0m         ]):\n\u001b[1;32m--> 965\u001b[0m         \u001b[38;5;28;01mraise\u001b[39;00m \u001b[38;5;167;01mNameError\u001b[39;00m(\n\u001b[0;32m    966\u001b[0m             \u001b[38;5;124m'\u001b[39m\u001b[38;5;124mDeprecated argument: use output_format instead, e.g. output_format=\u001b[39m\u001b[38;5;124m\"\u001b[39m\u001b[38;5;124mxml\u001b[39m\u001b[38;5;124m\"\u001b[39m\u001b[38;5;124m'\u001b[39m\n\u001b[0;32m    967\u001b[0m             )\n\u001b[0;32m    968\u001b[0m     \u001b[38;5;66;03m# todo: add with_metadata later\u001b[39;00m\n\u001b[0;32m    969\u001b[0m \n\u001b[0;32m    970\u001b[0m \u001b[38;5;66;03m# configuration init\u001b[39;00m\n\u001b[0;32m    971\u001b[0m config \u001b[38;5;241m=\u001b[39m use_config(settingsfile, config)\n",
      "\u001b[1;31mNameError\u001b[0m: Deprecated argument: use output_format instead, e.g. output_format=\"xml\""
     ]
    }
   ],
   "source": [
    "from bs4 import BeautifulSoup\n",
    "import json\n",
    "import numpy as np\n",
    "import requests\n",
    "from requests.models import MissingSchema\n",
    "import spacy\n",
    "import trafilatura\n",
    "\n",
    "urll = ['https://understandingdata.com/python-for-seo/how-to-extract-text-from-multiple-webpages-in-python/']\n",
    "\n",
    "data = {}\n",
    "\n",
    "for url in urll:\n",
    "    resp = requests.get(url)\n",
    "    if resp.status_code == 200:\n",
    "        data[url] = resp.text\n",
    "        \n",
    "def beautifulsoup_extract_text_fallback(response_content):\n",
    "    \n",
    "    '''\n",
    "    This is a fallback function, so that we can always return a value for text content.\n",
    "    Even for when both Trafilatura and BeautifulSoup are unable to extract the text from a \n",
    "    single URL.\n",
    "    '''\n",
    "    \n",
    "    # Create the beautifulsoup object:\n",
    "    soup = BeautifulSoup(response_content, 'html.parser')\n",
    "    \n",
    "    # Finding the text:\n",
    "    text = soup.find_all(text=True)\n",
    "    \n",
    "    # Remove unwanted tag elements:\n",
    "    cleaned_text = ''\n",
    "    blacklist = [\n",
    "        '[document]',\n",
    "        'noscript',\n",
    "        'header',\n",
    "        'html',\n",
    "        'meta',\n",
    "        'head', \n",
    "        'input',\n",
    "        'script',\n",
    "        'style',]\n",
    "\n",
    "    # Then we will loop over every item in the extract text and make sure that the beautifulsoup4 tag\n",
    "    # is NOT in the blacklist\n",
    "    for item in text:\n",
    "        if item.parent.name not in blacklist:\n",
    "            cleaned_text += '{} '.format(item)\n",
    "            \n",
    "    # Remove any tab separation and strip the text:\n",
    "    cleaned_text = cleaned_text.replace('\\t', '')\n",
    "    return cleaned_text.strip()\n",
    "    \n",
    "\n",
    "def extract_text_from_single_web_page(url):\n",
    "    \n",
    "    downloaded_url = trafilatura.fetch_url(url)\n",
    "    try:\n",
    "        a = trafilatura.extract(downloaded_url, json_output=True, with_metadata=True, include_comments = False,\n",
    "                            date_extraction_params={'extensive_search': True, 'original_date': True})\n",
    "    except AttributeError:\n",
    "        a = trafilatura.extract(downloaded_url, json_output=True, with_metadata=True,\n",
    "                            date_extraction_params={'extensive_search': True, 'original_date': True})\n",
    "    if a:\n",
    "        json_output = json.loads(a)\n",
    "        return json_output['text']\n",
    "    else:\n",
    "        try:\n",
    "            resp = requests.get(url)\n",
    "            # We will only extract the text from successful requests:\n",
    "            if resp.status_code == 200:\n",
    "                return beautifulsoup_extract_text_fallback(resp.content)\n",
    "            else:\n",
    "                # This line will handle for any failures in both the Trafilature and BeautifulSoup4 functions:\n",
    "                return np.nan\n",
    "        # Handling for any URLs that don't have the correct protocol\n",
    "        except MissingSchema:\n",
    "            return np.nan\n",
    "        \n",
    "single_url = 'https://understandingdata.com/python-for-seo/how-to-extract-text-from-multiple-webpages-in-python/'\n",
    "text = extract_text_from_single_web_page(url=single_url)\n",
    "print(text)        "
   ]
  },
  {
   "cell_type": "code",
   "execution_count": 68,
   "id": "825851d0-51cc-46cb-b921-309ce9795828",
   "metadata": {},
   "outputs": [],
   "source": []
  },
  {
   "cell_type": "code",
   "execution_count": null,
   "id": "f230e470-a0a5-4e5c-b294-57328ea3b590",
   "metadata": {},
   "outputs": [],
   "source": []
  },
  {
   "cell_type": "code",
   "execution_count": null,
   "id": "179ece59-a80e-4618-be2e-f99d334eb508",
   "metadata": {},
   "outputs": [],
   "source": []
  },
  {
   "cell_type": "code",
   "execution_count": null,
   "id": "aed32654-b1af-4566-bc48-80058d4c273e",
   "metadata": {},
   "outputs": [],
   "source": []
  },
  {
   "cell_type": "code",
   "execution_count": null,
   "id": "00c5a678-a920-4fe2-8dc9-861ac19a0189",
   "metadata": {},
   "outputs": [],
   "source": []
  },
  {
   "cell_type": "code",
   "execution_count": null,
   "id": "6ff7482f-a291-4969-aceb-ac8bf53e4216",
   "metadata": {},
   "outputs": [],
   "source": []
  },
  {
   "cell_type": "code",
   "execution_count": null,
   "id": "a9aaeac5-2b32-42cd-a29e-c1e8d8519ada",
   "metadata": {},
   "outputs": [],
   "source": []
  },
  {
   "cell_type": "code",
   "execution_count": null,
   "id": "35bac026-9f86-47b8-b5a1-01766954061a",
   "metadata": {},
   "outputs": [],
   "source": []
  },
  {
   "cell_type": "code",
   "execution_count": null,
   "id": "846d0d4d-1b72-4560-9098-d6d11863fe81",
   "metadata": {},
   "outputs": [],
   "source": []
  },
  {
   "cell_type": "code",
   "execution_count": null,
   "id": "12525035-a421-466c-85e6-200566b3764a",
   "metadata": {},
   "outputs": [],
   "source": []
  },
  {
   "cell_type": "code",
   "execution_count": null,
   "id": "c542ffdc-041b-4711-a3de-e04aaf2b55b1",
   "metadata": {},
   "outputs": [],
   "source": []
  },
  {
   "cell_type": "code",
   "execution_count": null,
   "id": "c07712eb-fb51-4c3d-af3f-3dae980c94d3",
   "metadata": {},
   "outputs": [],
   "source": []
  },
  {
   "cell_type": "code",
   "execution_count": null,
   "id": "41734035-9947-4c2c-8cb4-9e9162fed9d2",
   "metadata": {},
   "outputs": [],
   "source": []
  },
  {
   "cell_type": "code",
   "execution_count": null,
   "id": "18b8d3d3-954a-4a39-b804-29aaff22b164",
   "metadata": {},
   "outputs": [],
   "source": []
  },
  {
   "cell_type": "code",
   "execution_count": null,
   "id": "4495d582-7504-41e9-9da5-8af6943709c5",
   "metadata": {},
   "outputs": [],
   "source": []
  },
  {
   "cell_type": "code",
   "execution_count": null,
   "id": "2acc00fe-d73b-414c-b317-bf926f968924",
   "metadata": {},
   "outputs": [],
   "source": []
  },
  {
   "cell_type": "code",
   "execution_count": null,
   "id": "9b523a4c-ea5e-478b-82ef-6e9e86a4c49f",
   "metadata": {},
   "outputs": [],
   "source": []
  },
  {
   "cell_type": "code",
   "execution_count": 129,
   "id": "43153aba-b4b7-433c-9596-f24bf2319d1d",
   "metadata": {},
   "outputs": [
    {
     "name": "stderr",
     "output_type": "stream",
     "text": [
      "C:\\Users\\thefa\\AppData\\Local\\Temp\\ipykernel_26960\\208710424.py:15: DeprecationWarning: find_element_by_xpath is deprecated. Please use find_element(by=By.XPATH, value=xpath) instead\n",
      "  login_btn = self.driver.find_element_by_xpath('//*[@id=\"t546383398\"]/div/div[1]/div/main/div[1]/div/div/div/div/header/div/div[2]/div[2]/a')\n",
      "C:\\Users\\thefa\\AppData\\Local\\Temp\\ipykernel_26960\\208710424.py:18: DeprecationWarning: find_element_by_xpath is deprecated. Please use find_element(by=By.XPATH, value=xpath) instead\n",
      "  popup_1 = self.driver.find_element_by_xpath('//*[@id=\"t-1181997678\"]/div/div/div[1]/div/div/div[3]/span/div[1]/div/button/span[2]')\n"
     ]
    },
    {
     "ename": "NoSuchElementException",
     "evalue": "Message: no such element: Unable to locate element: {\"method\":\"xpath\",\"selector\":\"//*[@id=\"t-1181997678\"]/div/div/div[1]/div/div/div[3]/span/div[1]/div/button/span[2]\"}\n  (Session info: chrome=102.0.5005.63)\nStacktrace:\nBacktrace:\n\tOrdinal0 [0x00E7D953+2414931]\n\tOrdinal0 [0x00E0F5E1+1963489]\n\tOrdinal0 [0x00CFC6B8+837304]\n\tOrdinal0 [0x00D29500+1021184]\n\tOrdinal0 [0x00D2979B+1021851]\n\tOrdinal0 [0x00D56502+1205506]\n\tOrdinal0 [0x00D444E4+1131748]\n\tOrdinal0 [0x00D54812+1198098]\n\tOrdinal0 [0x00D442B6+1131190]\n\tOrdinal0 [0x00D1E860+976992]\n\tOrdinal0 [0x00D1F756+980822]\n\tGetHandleVerifier [0x010ECC62+2510274]\n\tGetHandleVerifier [0x010DF760+2455744]\n\tGetHandleVerifier [0x00F0EABA+551962]\n\tGetHandleVerifier [0x00F0D916+547446]\n\tOrdinal0 [0x00E15F3B+1990459]\n\tOrdinal0 [0x00E1A898+2009240]\n\tOrdinal0 [0x00E1A985+2009477]\n\tOrdinal0 [0x00E23AD1+2046673]\n\tBaseThreadInitThunk [0x76D56739+25]\n\tRtlGetFullPathName_UEx [0x774C8FEF+1215]\n\tRtlGetFullPathName_UEx [0x774C8FBD+1165]\n",
     "output_type": "error",
     "traceback": [
      "\u001b[1;31m---------------------------------------------------------------------------\u001b[0m",
      "\u001b[1;31mNoSuchElementException\u001b[0m                    Traceback (most recent call last)",
      "Input \u001b[1;32mIn [129]\u001b[0m, in \u001b[0;36m<cell line: 28>\u001b[1;34m()\u001b[0m\n\u001b[0;32m     25\u001b[0m         cookies\u001b[38;5;241m.\u001b[39mclick()\n\u001b[0;32m     27\u001b[0m bot \u001b[38;5;241m=\u001b[39m TinderBot()\n\u001b[1;32m---> 28\u001b[0m \u001b[43mbot\u001b[49m\u001b[38;5;241;43m.\u001b[39;49m\u001b[43mlogin\u001b[49m\u001b[43m(\u001b[49m\u001b[43m)\u001b[49m\n",
      "Input \u001b[1;32mIn [129]\u001b[0m, in \u001b[0;36mTinderBot.login\u001b[1;34m(self)\u001b[0m\n\u001b[0;32m     15\u001b[0m login_btn \u001b[38;5;241m=\u001b[39m \u001b[38;5;28mself\u001b[39m\u001b[38;5;241m.\u001b[39mdriver\u001b[38;5;241m.\u001b[39mfind_element_by_xpath(\u001b[38;5;124m'\u001b[39m\u001b[38;5;124m//*[@id=\u001b[39m\u001b[38;5;124m\"\u001b[39m\u001b[38;5;124mt546383398\u001b[39m\u001b[38;5;124m\"\u001b[39m\u001b[38;5;124m]/div/div[1]/div/main/div[1]/div/div/div/div/header/div/div[2]/div[2]/a\u001b[39m\u001b[38;5;124m'\u001b[39m)\n\u001b[0;32m     16\u001b[0m login_btn\u001b[38;5;241m.\u001b[39mclick()\n\u001b[1;32m---> 18\u001b[0m popup_1 \u001b[38;5;241m=\u001b[39m \u001b[38;5;28;43mself\u001b[39;49m\u001b[38;5;241;43m.\u001b[39;49m\u001b[43mdriver\u001b[49m\u001b[38;5;241;43m.\u001b[39;49m\u001b[43mfind_element_by_xpath\u001b[49m\u001b[43m(\u001b[49m\u001b[38;5;124;43m'\u001b[39;49m\u001b[38;5;124;43m//*[@id=\u001b[39;49m\u001b[38;5;124;43m\"\u001b[39;49m\u001b[38;5;124;43mt-1181997678\u001b[39;49m\u001b[38;5;124;43m\"\u001b[39;49m\u001b[38;5;124;43m]/div/div/div[1]/div/div/div[3]/span/div[1]/div/button/span[2]\u001b[39;49m\u001b[38;5;124;43m'\u001b[39;49m\u001b[43m)\u001b[49m\n\u001b[0;32m     19\u001b[0m popup_1\u001b[38;5;241m.\u001b[39mclick()\n\u001b[0;32m     21\u001b[0m base_window \u001b[38;5;241m=\u001b[39m \u001b[38;5;28mself\u001b[39m\u001b[38;5;241m.\u001b[39mdriver\u001b[38;5;241m.\u001b[39mwindow_handles[\u001b[38;5;241m0\u001b[39m]\n",
      "File \u001b[1;32mE:\\Estudos\\Anaconda\\lib\\site-packages\\selenium\\webdriver\\remote\\webdriver.py:526\u001b[0m, in \u001b[0;36mWebDriver.find_element_by_xpath\u001b[1;34m(self, xpath)\u001b[0m\n\u001b[0;32m    504\u001b[0m \u001b[38;5;124;03m\"\"\"\u001b[39;00m\n\u001b[0;32m    505\u001b[0m \u001b[38;5;124;03mFinds an element by xpath.\u001b[39;00m\n\u001b[0;32m    506\u001b[0m \n\u001b[1;32m   (...)\u001b[0m\n\u001b[0;32m    519\u001b[0m \u001b[38;5;124;03m        element = driver.find_element_by_xpath('//div/td[1]')\u001b[39;00m\n\u001b[0;32m    520\u001b[0m \u001b[38;5;124;03m\"\"\"\u001b[39;00m\n\u001b[0;32m    521\u001b[0m warnings\u001b[38;5;241m.\u001b[39mwarn(\n\u001b[0;32m    522\u001b[0m     \u001b[38;5;124m\"\u001b[39m\u001b[38;5;124mfind_element_by_xpath is deprecated. Please use find_element(by=By.XPATH, value=xpath) instead\u001b[39m\u001b[38;5;124m\"\u001b[39m,\n\u001b[0;32m    523\u001b[0m     \u001b[38;5;167;01mDeprecationWarning\u001b[39;00m,\n\u001b[0;32m    524\u001b[0m     stacklevel\u001b[38;5;241m=\u001b[39m\u001b[38;5;241m2\u001b[39m,\n\u001b[0;32m    525\u001b[0m )\n\u001b[1;32m--> 526\u001b[0m \u001b[38;5;28;01mreturn\u001b[39;00m \u001b[38;5;28;43mself\u001b[39;49m\u001b[38;5;241;43m.\u001b[39;49m\u001b[43mfind_element\u001b[49m\u001b[43m(\u001b[49m\u001b[43mby\u001b[49m\u001b[38;5;241;43m=\u001b[39;49m\u001b[43mBy\u001b[49m\u001b[38;5;241;43m.\u001b[39;49m\u001b[43mXPATH\u001b[49m\u001b[43m,\u001b[49m\u001b[43m \u001b[49m\u001b[43mvalue\u001b[49m\u001b[38;5;241;43m=\u001b[39;49m\u001b[43mxpath\u001b[49m\u001b[43m)\u001b[49m\n",
      "File \u001b[1;32mE:\\Estudos\\Anaconda\\lib\\site-packages\\selenium\\webdriver\\remote\\webdriver.py:1251\u001b[0m, in \u001b[0;36mWebDriver.find_element\u001b[1;34m(self, by, value)\u001b[0m\n\u001b[0;32m   1248\u001b[0m     by \u001b[38;5;241m=\u001b[39m By\u001b[38;5;241m.\u001b[39mCSS_SELECTOR\n\u001b[0;32m   1249\u001b[0m     value \u001b[38;5;241m=\u001b[39m \u001b[38;5;124m'\u001b[39m\u001b[38;5;124m[name=\u001b[39m\u001b[38;5;124m\"\u001b[39m\u001b[38;5;132;01m%s\u001b[39;00m\u001b[38;5;124m\"\u001b[39m\u001b[38;5;124m]\u001b[39m\u001b[38;5;124m'\u001b[39m \u001b[38;5;241m%\u001b[39m value\n\u001b[1;32m-> 1251\u001b[0m \u001b[38;5;28;01mreturn\u001b[39;00m \u001b[38;5;28;43mself\u001b[39;49m\u001b[38;5;241;43m.\u001b[39;49m\u001b[43mexecute\u001b[49m\u001b[43m(\u001b[49m\u001b[43mCommand\u001b[49m\u001b[38;5;241;43m.\u001b[39;49m\u001b[43mFIND_ELEMENT\u001b[49m\u001b[43m,\u001b[49m\u001b[43m \u001b[49m\u001b[43m{\u001b[49m\n\u001b[0;32m   1252\u001b[0m \u001b[43m    \u001b[49m\u001b[38;5;124;43m'\u001b[39;49m\u001b[38;5;124;43musing\u001b[39;49m\u001b[38;5;124;43m'\u001b[39;49m\u001b[43m:\u001b[49m\u001b[43m \u001b[49m\u001b[43mby\u001b[49m\u001b[43m,\u001b[49m\n\u001b[0;32m   1253\u001b[0m \u001b[43m    \u001b[49m\u001b[38;5;124;43m'\u001b[39;49m\u001b[38;5;124;43mvalue\u001b[39;49m\u001b[38;5;124;43m'\u001b[39;49m\u001b[43m:\u001b[49m\u001b[43m \u001b[49m\u001b[43mvalue\u001b[49m\u001b[43m}\u001b[49m\u001b[43m)\u001b[49m[\u001b[38;5;124m'\u001b[39m\u001b[38;5;124mvalue\u001b[39m\u001b[38;5;124m'\u001b[39m]\n",
      "File \u001b[1;32mE:\\Estudos\\Anaconda\\lib\\site-packages\\selenium\\webdriver\\remote\\webdriver.py:430\u001b[0m, in \u001b[0;36mWebDriver.execute\u001b[1;34m(self, driver_command, params)\u001b[0m\n\u001b[0;32m    428\u001b[0m response \u001b[38;5;241m=\u001b[39m \u001b[38;5;28mself\u001b[39m\u001b[38;5;241m.\u001b[39mcommand_executor\u001b[38;5;241m.\u001b[39mexecute(driver_command, params)\n\u001b[0;32m    429\u001b[0m \u001b[38;5;28;01mif\u001b[39;00m response:\n\u001b[1;32m--> 430\u001b[0m     \u001b[38;5;28;43mself\u001b[39;49m\u001b[38;5;241;43m.\u001b[39;49m\u001b[43merror_handler\u001b[49m\u001b[38;5;241;43m.\u001b[39;49m\u001b[43mcheck_response\u001b[49m\u001b[43m(\u001b[49m\u001b[43mresponse\u001b[49m\u001b[43m)\u001b[49m\n\u001b[0;32m    431\u001b[0m     response[\u001b[38;5;124m'\u001b[39m\u001b[38;5;124mvalue\u001b[39m\u001b[38;5;124m'\u001b[39m] \u001b[38;5;241m=\u001b[39m \u001b[38;5;28mself\u001b[39m\u001b[38;5;241m.\u001b[39m_unwrap_value(\n\u001b[0;32m    432\u001b[0m         response\u001b[38;5;241m.\u001b[39mget(\u001b[38;5;124m'\u001b[39m\u001b[38;5;124mvalue\u001b[39m\u001b[38;5;124m'\u001b[39m, \u001b[38;5;28;01mNone\u001b[39;00m))\n\u001b[0;32m    433\u001b[0m     \u001b[38;5;28;01mreturn\u001b[39;00m response\n",
      "File \u001b[1;32mE:\\Estudos\\Anaconda\\lib\\site-packages\\selenium\\webdriver\\remote\\errorhandler.py:247\u001b[0m, in \u001b[0;36mErrorHandler.check_response\u001b[1;34m(self, response)\u001b[0m\n\u001b[0;32m    245\u001b[0m         alert_text \u001b[38;5;241m=\u001b[39m value[\u001b[38;5;124m'\u001b[39m\u001b[38;5;124malert\u001b[39m\u001b[38;5;124m'\u001b[39m]\u001b[38;5;241m.\u001b[39mget(\u001b[38;5;124m'\u001b[39m\u001b[38;5;124mtext\u001b[39m\u001b[38;5;124m'\u001b[39m)\n\u001b[0;32m    246\u001b[0m     \u001b[38;5;28;01mraise\u001b[39;00m exception_class(message, screen, stacktrace, alert_text)  \u001b[38;5;66;03m# type: ignore[call-arg]  # mypy is not smart enough here\u001b[39;00m\n\u001b[1;32m--> 247\u001b[0m \u001b[38;5;28;01mraise\u001b[39;00m exception_class(message, screen, stacktrace)\n",
      "\u001b[1;31mNoSuchElementException\u001b[0m: Message: no such element: Unable to locate element: {\"method\":\"xpath\",\"selector\":\"//*[@id=\"t-1181997678\"]/div/div/div[1]/div/div/div[3]/span/div[1]/div/button/span[2]\"}\n  (Session info: chrome=102.0.5005.63)\nStacktrace:\nBacktrace:\n\tOrdinal0 [0x00E7D953+2414931]\n\tOrdinal0 [0x00E0F5E1+1963489]\n\tOrdinal0 [0x00CFC6B8+837304]\n\tOrdinal0 [0x00D29500+1021184]\n\tOrdinal0 [0x00D2979B+1021851]\n\tOrdinal0 [0x00D56502+1205506]\n\tOrdinal0 [0x00D444E4+1131748]\n\tOrdinal0 [0x00D54812+1198098]\n\tOrdinal0 [0x00D442B6+1131190]\n\tOrdinal0 [0x00D1E860+976992]\n\tOrdinal0 [0x00D1F756+980822]\n\tGetHandleVerifier [0x010ECC62+2510274]\n\tGetHandleVerifier [0x010DF760+2455744]\n\tGetHandleVerifier [0x00F0EABA+551962]\n\tGetHandleVerifier [0x00F0D916+547446]\n\tOrdinal0 [0x00E15F3B+1990459]\n\tOrdinal0 [0x00E1A898+2009240]\n\tOrdinal0 [0x00E1A985+2009477]\n\tOrdinal0 [0x00E23AD1+2046673]\n\tBaseThreadInitThunk [0x76D56739+25]\n\tRtlGetFullPathName_UEx [0x774C8FEF+1215]\n\tRtlGetFullPathName_UEx [0x774C8FBD+1165]\n"
     ]
    }
   ],
   "source": [
    "from selenium import webdriver\n",
    "from time import sleep\n",
    "\n",
    "from secrets import username, password\n",
    "\n",
    "class TinderBot():\n",
    "    def __init__(self):\n",
    "        self.driver = webdriver.Chrome()\n",
    "\n",
    "    def login(self):\n",
    "        self.driver.get('https://tinder.com')\n",
    "\n",
    "        sleep(2)\n",
    "        \n",
    "        login_btn = self.driver.find_element_by_xpath('//*[@id=\"t546383398\"]/div/div[1]/div/main/div[1]/div/div/div/div/header/div/div[2]/div[2]/a')\n",
    "        login_btn.click()\n",
    "        \n",
    "        popup_1 = self.driver.find_element_by_xpath('//*[@id=\"t-1181997678\"]/div/div/div[1]/div/div/div[3]/span/div[1]/div/button/span[2]')\n",
    "        popup_1.click()\n",
    "\n",
    "        base_window = self.driver.window_handles[0]\n",
    "        self.driver.switch_to_window(self.driver.window_handles[1])\n",
    "        \n",
    "        cookies = self.driver.find_element_by_xpath('//*[@id=\"u_0_b_W+\"]')\n",
    "        cookies.click()\n",
    "\n",
    "bot = TinderBot()\n",
    "bot.login()"
   ]
  },
  {
   "cell_type": "code",
   "execution_count": null,
   "id": "b372bda6-df3f-4874-8a85-db6f40829199",
   "metadata": {},
   "outputs": [],
   "source": [
    "\n"
   ]
  },
  {
   "cell_type": "code",
   "execution_count": null,
   "id": "d435f266-2be9-45bf-be8f-2b39160e7aef",
   "metadata": {},
   "outputs": [],
   "source": [
    "        # switch to login popup\n",
    "\n",
    "\n",
    "        email_in = self.driver.find_element_by_xpath('//*[@id=\"email\"]')\n",
    "        email_in.send_keys(username)\n",
    "\n",
    "        pw_in = self.driver.find_element_by_xpath('//*[@id=\"pass\"]')\n",
    "        pw_in.send_keys(password)\n",
    "\n",
    "\n",
    "        self.driver.switch_to_window(base_window)\n",
    "\n",
    "        fb_btn = self.driver.find_element_by_xpath('//*[@id=\"t-1181997678\"]/div/div/div[1]/div/div/div[3]/span/div[2]/button')\n",
    "        fb_btn.click()\n",
    "\n",
    "        popup_2 = self.driver.find_element_by_xpath('//*[@id=\"modal-manager\"]/div/div/div/div/div[3]/button[1]')\n",
    "        popup_2.click()\n",
    "\n",
    "    def like(self):\n",
    "        like_btn = self.driver.find_element_by_xpath('//*[@id=\"content\"]/div/div[1]/div/main/div[1]/div/div/div[1]/div/div[2]/button[3]')\n",
    "        like_btn.click()\n",
    "\n",
    "    def dislike(self):\n",
    "        dislike_btn = self.driver.find_element_by_xpath('//*[@id=\"content\"]/div/div[1]/div/main/div[1]/div/div/div[1]/div/div[2]/button[1]')\n",
    "        dislike_btn.click()\n",
    "\n",
    "    def auto_swipe(self):\n",
    "        while True:\n",
    "            sleep(0.5)\n",
    "            try:\n",
    "                self.like()\n",
    "            except Exception:\n",
    "                try:\n",
    "                    self.close_popup()\n",
    "                except Exception:\n",
    "                    self.close_match()\n",
    "\n",
    "    def close_popup(self):\n",
    "        popup_3 = self.driver.find_element_by_xpath('//*[@id=\"modal-manager\"]/div/div/div[2]/button[2]')\n",
    "        popup_3.click()\n",
    "\n",
    "    def close_match(self):\n",
    "        match_popup = self.driver.find_element_by_xpath('//*[@id=\"modal-manager-canvas\"]/div/div/div[1]/div/div[3]/a')\n",
    "        match_popup.click()"
   ]
  },
  {
   "cell_type": "code",
   "execution_count": null,
   "id": "602e87be-ee39-4e1c-a1ae-d2f8f8ba75ef",
   "metadata": {},
   "outputs": [],
   "source": [
    "from selenium import webdriver\n",
    "from time import sleep\n",
    "\n",
    "from secrets import username, password\n",
    "\n",
    "\n",
    "class TinderBot():\n",
    "    def __init__(self):\n",
    "        self.driver = webdriver.Chrome()\n",
    "\n",
    "    def login(self):\n",
    "        self.driver.get('https://tinder.com')\n",
    "\n",
    "        sleep(2)\n",
    "\n",
    "        login_btn = self.driver.find_element_by_xpath(\n",
    "            '//*[@id=\"t546383398\"]/div/div[1]/div/main/div[1]/div/div/div/div/header/div/div[2]/div[2]/a')\n",
    "        login_btn.click()\n",
    "\n",
    "        popup_1 = self.driver.find_element_by_xpath(\n",
    "            '//*[@id=\"t-1181997678\"]/div/div/div[1]/div/div/div[3]/span/div[1]/div/button/span[2]')\n",
    "        popup_1.click()\n",
    "\n",
    "        base_window = self.driver.window_handles[0]\n",
    "        self.driver.switch_to_window(self.driver.window_handles[1])\n",
    "\n",
    "        cookies = self.driver.find_element_by_xpath('//*[@id=\"u_0_b_W+\"]')\n",
    "        cookies.click()\n",
    "\n",
    "\n",
    "bot = TinderBot()\n",
    "bot.login()"
   ]
  },
  {
   "cell_type": "code",
   "execution_count": null,
   "id": "e3515714-3971-475a-ae4b-a658d6782d97",
   "metadata": {},
   "outputs": [],
   "source": []
  },
  {
   "cell_type": "code",
   "execution_count": 5,
   "id": "f1c3f780-1095-4804-8738-8ec007b46efe",
   "metadata": {},
   "outputs": [
    {
     "ename": "TypeError",
     "evalue": "'function' object is not iterable",
     "output_type": "error",
     "traceback": [
      "\u001b[1;31m---------------------------------------------------------------------------\u001b[0m",
      "\u001b[1;31mTypeError\u001b[0m                                 Traceback (most recent call last)",
      "Input \u001b[1;32mIn [5]\u001b[0m, in \u001b[0;36m<cell line: 5>\u001b[1;34m()\u001b[0m\n\u001b[0;32m      2\u001b[0m \u001b[38;5;28;01mdef\u001b[39;00m \u001b[38;5;21mprocura\u001b[39m(\u001b[38;5;28mself\u001b[39m):\n\u001b[0;32m      3\u001b[0m     \u001b[38;5;28mself\u001b[39m\u001b[38;5;241m.\u001b[39mdriver\u001b[38;5;241m.\u001b[39mget(\u001b[38;5;124m'\u001b[39m\u001b[38;5;124mhttps://tinder.com\u001b[39m\u001b[38;5;124m'\u001b[39m)\n\u001b[1;32m----> 5\u001b[0m \u001b[38;5;28;01mfor\u001b[39;00m x, value \u001b[38;5;129;01min\u001b[39;00m \u001b[38;5;28;43menumerate\u001b[39;49m\u001b[43m(\u001b[49m\u001b[43mprocura\u001b[49m\u001b[43m,\u001b[49m\u001b[43m \u001b[49m\u001b[43mstart\u001b[49m\u001b[38;5;241;43m=\u001b[39;49m\u001b[38;5;241;43m1\u001b[39;49m\u001b[43m)\u001b[49m:\n\u001b[0;32m      6\u001b[0m     \u001b[38;5;28;01mif\u001b[39;00m word \u001b[38;5;129;01min\u001b[39;00m line:\n\u001b[0;32m      7\u001b[0m         \u001b[38;5;28mprint\u001b[39m(\u001b[38;5;124mf\u001b[39m\u001b[38;5;124m\"\u001b[39m\u001b[38;5;124mWord\u001b[39m\u001b[38;5;124m'\u001b[39m\u001b[38;5;132;01m{\u001b[39;00mword\u001b[38;5;132;01m}\u001b[39;00m\u001b[38;5;124m'\u001b[39m\u001b[38;5;124m found on line \u001b[39m\u001b[38;5;132;01m{\u001b[39;00mx\u001b[38;5;132;01m}\u001b[39;00m\u001b[38;5;124m\"\u001b[39m)\n",
      "\u001b[1;31mTypeError\u001b[0m: 'function' object is not iterable"
     ]
    }
   ],
   "source": [
    "from selenium import webdriver\n",
    "def procura(self):\n",
    "    self.driver.get('https://tinder.com')\n",
    "\n",
    "for x, value in enumerate(procura, start=1):\n",
    "    if word in line:\n",
    "        print(f\"Word'{word}' found on line {x}\")\n",
    "        break\n",
    "        \n",
    "print('search completed')              "
   ]
  },
  {
   "cell_type": "code",
   "execution_count": null,
   "id": "bbca9fb2-9751-4704-991a-9f82b364789b",
   "metadata": {},
   "outputs": [],
   "source": []
  },
  {
   "cell_type": "code",
   "execution_count": null,
   "id": "583683ae-604b-4a64-bffa-1b848f04d8b9",
   "metadata": {},
   "outputs": [],
   "source": []
  },
  {
   "cell_type": "code",
   "execution_count": null,
   "id": "3c164a91-ae27-478b-adcc-1a56dd512026",
   "metadata": {},
   "outputs": [],
   "source": []
  },
  {
   "cell_type": "code",
   "execution_count": null,
   "id": "f39d576b-c7ac-4f8b-8251-13e2f81a27d6",
   "metadata": {},
   "outputs": [],
   "source": []
  },
  {
   "cell_type": "code",
   "execution_count": null,
   "id": "c4ab1361-9db0-4f1d-a1b8-b4f4e8354f32",
   "metadata": {},
   "outputs": [],
   "source": []
  },
  {
   "cell_type": "code",
   "execution_count": null,
   "id": "3a658e74-3cf4-48c5-88a2-acc9934a1b08",
   "metadata": {},
   "outputs": [],
   "source": []
  },
  {
   "cell_type": "code",
   "execution_count": null,
   "id": "f619f64c-7cea-406a-a18c-ad3897b897d9",
   "metadata": {},
   "outputs": [],
   "source": []
  },
  {
   "cell_type": "code",
   "execution_count": null,
   "id": "8a3c8041-40dc-494c-8979-9336944c0597",
   "metadata": {},
   "outputs": [],
   "source": []
  },
  {
   "cell_type": "code",
   "execution_count": null,
   "id": "884c20b0-7896-4910-ace1-fe538da84166",
   "metadata": {},
   "outputs": [],
   "source": []
  },
  {
   "cell_type": "code",
   "execution_count": null,
   "id": "d70a7455-e6cf-4e70-a571-c5d080b855cc",
   "metadata": {},
   "outputs": [],
   "source": []
  },
  {
   "cell_type": "code",
   "execution_count": null,
   "id": "714f78be-e2d0-40b8-88e7-d3dbe9c92faf",
   "metadata": {},
   "outputs": [],
   "source": []
  },
  {
   "cell_type": "code",
   "execution_count": null,
   "id": "1346fff8-63f5-4677-8559-4695ac55cae0",
   "metadata": {},
   "outputs": [],
   "source": []
  },
  {
   "cell_type": "code",
   "execution_count": null,
   "id": "ffe8e1c9-638c-4f71-a591-7d5833ee25ee",
   "metadata": {},
   "outputs": [],
   "source": []
  },
  {
   "cell_type": "code",
   "execution_count": null,
   "id": "3f08cfae-caad-495c-96d0-0b383782a1c9",
   "metadata": {},
   "outputs": [],
   "source": []
  },
  {
   "cell_type": "code",
   "execution_count": null,
   "id": "4312bfca-c098-4771-bb0e-2e68bcc45cc6",
   "metadata": {},
   "outputs": [],
   "source": []
  },
  {
   "cell_type": "code",
   "execution_count": null,
   "id": "14bcbe82-7720-453d-bf7b-5bff74ea3cd0",
   "metadata": {},
   "outputs": [],
   "source": []
  },
  {
   "cell_type": "code",
   "execution_count": null,
   "id": "1cb8b1e8-12d9-439e-9129-909e9898ab71",
   "metadata": {},
   "outputs": [],
   "source": []
  },
  {
   "cell_type": "code",
   "execution_count": null,
   "id": "b0d15d06-5698-473b-ae75-e3c3a80355f1",
   "metadata": {},
   "outputs": [],
   "source": []
  },
  {
   "cell_type": "code",
   "execution_count": null,
   "id": "38430a56-f8b7-46e9-b756-bc49df9b077e",
   "metadata": {},
   "outputs": [],
   "source": []
  },
  {
   "cell_type": "code",
   "execution_count": null,
   "id": "abb8f88e-b43e-46a4-9b9e-ff65d2747d5d",
   "metadata": {},
   "outputs": [],
   "source": []
  },
  {
   "cell_type": "code",
   "execution_count": null,
   "id": "7765ae8b-4282-475d-933f-b6c925958a00",
   "metadata": {},
   "outputs": [],
   "source": []
  },
  {
   "cell_type": "code",
   "execution_count": null,
   "id": "34c8379c-38ec-477d-9a40-f8834f1ff28e",
   "metadata": {},
   "outputs": [],
   "source": []
  },
  {
   "cell_type": "code",
   "execution_count": null,
   "id": "85eaff50-b403-42e3-b6fb-d2b08fd98cb6",
   "metadata": {},
   "outputs": [],
   "source": []
  },
  {
   "cell_type": "code",
   "execution_count": null,
   "id": "8d8096e7-5a28-4d09-a5b2-5c02874b73e9",
   "metadata": {},
   "outputs": [],
   "source": []
  },
  {
   "cell_type": "code",
   "execution_count": null,
   "id": "d1a95e77-b80b-4f05-a0de-aa26c1784b4c",
   "metadata": {},
   "outputs": [],
   "source": []
  },
  {
   "cell_type": "code",
   "execution_count": null,
   "id": "4ea68435-ce4e-4134-893a-e4e60492cc9f",
   "metadata": {},
   "outputs": [],
   "source": []
  },
  {
   "cell_type": "code",
   "execution_count": null,
   "id": "0516085f-2a26-4ba9-b93f-b4634029aded",
   "metadata": {},
   "outputs": [],
   "source": []
  },
  {
   "cell_type": "code",
   "execution_count": null,
   "id": "ac65dd7d-00a0-4cb1-8e22-eae70de91cb1",
   "metadata": {},
   "outputs": [],
   "source": []
  },
  {
   "cell_type": "code",
   "execution_count": null,
   "id": "e12d4878-3fb3-48e7-9f95-72ee62987066",
   "metadata": {},
   "outputs": [],
   "source": []
  },
  {
   "cell_type": "code",
   "execution_count": null,
   "id": "b34d17a7-d09b-49db-87c7-587262ccdfa7",
   "metadata": {},
   "outputs": [],
   "source": []
  },
  {
   "cell_type": "code",
   "execution_count": null,
   "id": "72585d25-3422-422d-b5e3-c7249ea40443",
   "metadata": {},
   "outputs": [],
   "source": []
  },
  {
   "cell_type": "code",
   "execution_count": null,
   "id": "64d952b9-c5ba-4d11-a1df-9665aba12a1f",
   "metadata": {},
   "outputs": [],
   "source": []
  },
  {
   "cell_type": "code",
   "execution_count": null,
   "id": "5b41bfa8-b4a1-482d-ae10-cc8cfdb82620",
   "metadata": {},
   "outputs": [],
   "source": []
  },
  {
   "cell_type": "code",
   "execution_count": null,
   "id": "f1a141be-ba23-49ed-97ed-b909273b58b4",
   "metadata": {},
   "outputs": [],
   "source": []
  },
  {
   "cell_type": "code",
   "execution_count": null,
   "id": "45c4f171-4d4c-4e5c-b728-0770c3a9a068",
   "metadata": {},
   "outputs": [],
   "source": []
  },
  {
   "cell_type": "code",
   "execution_count": null,
   "id": "20f21a23-9830-4b63-8fff-f0728520523b",
   "metadata": {},
   "outputs": [],
   "source": []
  },
  {
   "cell_type": "code",
   "execution_count": null,
   "id": "6d050454-d8e6-4cfc-985b-2990b95ec876",
   "metadata": {},
   "outputs": [],
   "source": []
  },
  {
   "cell_type": "code",
   "execution_count": null,
   "id": "c7a43fc9-6003-48f9-b0d7-8c2eee1d8ecc",
   "metadata": {},
   "outputs": [],
   "source": []
  },
  {
   "cell_type": "code",
   "execution_count": null,
   "id": "ee855173-8ba9-4010-a824-c5a775bfbabe",
   "metadata": {},
   "outputs": [],
   "source": []
  },
  {
   "cell_type": "code",
   "execution_count": null,
   "id": "c44d3d12-94e4-43cf-9567-5fdb85110317",
   "metadata": {},
   "outputs": [],
   "source": []
  },
  {
   "cell_type": "code",
   "execution_count": null,
   "id": "149a0d55-c2a5-479b-985b-f6b4657b66f2",
   "metadata": {},
   "outputs": [],
   "source": []
  },
  {
   "cell_type": "code",
   "execution_count": null,
   "id": "433610ae-2f06-4d98-9eba-2fc4dd8d1e4e",
   "metadata": {},
   "outputs": [],
   "source": []
  },
  {
   "cell_type": "code",
   "execution_count": null,
   "id": "c4d1dc1b-3b22-4002-80d2-9ac1b4c15027",
   "metadata": {},
   "outputs": [],
   "source": []
  },
  {
   "cell_type": "code",
   "execution_count": null,
   "id": "3c9b4ecb-071a-46a1-a318-c731368d13db",
   "metadata": {},
   "outputs": [],
   "source": []
  },
  {
   "cell_type": "code",
   "execution_count": null,
   "id": "0a95cb87-cab5-4819-b389-c0df20456f94",
   "metadata": {},
   "outputs": [],
   "source": []
  },
  {
   "cell_type": "code",
   "execution_count": null,
   "id": "46fb1302-5c25-4987-9f4c-cf21e8355e2c",
   "metadata": {},
   "outputs": [],
   "source": []
  },
  {
   "cell_type": "code",
   "execution_count": null,
   "id": "2483363d-4288-484a-bf6a-b27c19065ca7",
   "metadata": {},
   "outputs": [],
   "source": []
  },
  {
   "cell_type": "code",
   "execution_count": null,
   "id": "b93b7c60-32f5-4da7-87c2-8e6a982d7e96",
   "metadata": {},
   "outputs": [],
   "source": []
  },
  {
   "cell_type": "code",
   "execution_count": null,
   "id": "a054f459-7701-4ae7-a8cd-5272be29ab7e",
   "metadata": {},
   "outputs": [],
   "source": []
  },
  {
   "cell_type": "code",
   "execution_count": null,
   "id": "e17df976-f232-4b45-ba12-63c919f75a87",
   "metadata": {},
   "outputs": [],
   "source": []
  },
  {
   "cell_type": "code",
   "execution_count": null,
   "id": "cac45bf1-aa22-4eef-86a4-683d40512526",
   "metadata": {},
   "outputs": [],
   "source": []
  },
  {
   "cell_type": "code",
   "execution_count": null,
   "id": "cc8c6635-f23d-4ebb-b2f9-4ffe3dc5151f",
   "metadata": {},
   "outputs": [],
   "source": []
  },
  {
   "cell_type": "code",
   "execution_count": null,
   "id": "17e31cd3-33cb-4501-a8d2-1b61bc5c6dbf",
   "metadata": {},
   "outputs": [],
   "source": []
  },
  {
   "cell_type": "code",
   "execution_count": null,
   "id": "d74dbd0e-ee28-491f-9eef-a40b9dc2241e",
   "metadata": {},
   "outputs": [],
   "source": []
  },
  {
   "cell_type": "code",
   "execution_count": null,
   "id": "a93197d2-9cb6-4799-8ff2-8ac2e02e62c2",
   "metadata": {},
   "outputs": [],
   "source": []
  },
  {
   "cell_type": "code",
   "execution_count": null,
   "id": "b0ec9d27-9215-4a24-b6aa-9ec1fc772736",
   "metadata": {},
   "outputs": [],
   "source": []
  }
 ],
 "metadata": {
  "kernelspec": {
   "display_name": "Python 3 (ipykernel)",
   "language": "python",
   "name": "python3"
  },
  "language_info": {
   "codemirror_mode": {
    "name": "ipython",
    "version": 3
   },
   "file_extension": ".py",
   "mimetype": "text/x-python",
   "name": "python",
   "nbconvert_exporter": "python",
   "pygments_lexer": "ipython3",
   "version": "3.9.12"
  },
  "widgets": {
   "application/vnd.jupyter.widget-state+json": {
    "state": {},
    "version_major": 2,
    "version_minor": 0
   }
  }
 },
 "nbformat": 4,
 "nbformat_minor": 5
}
