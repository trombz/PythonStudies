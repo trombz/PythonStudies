{
 "cells": [
  {
   "cell_type": "code",
   "execution_count": 1,
   "id": "c8ab64d6-8d36-437f-abdb-654cab0113b6",
   "metadata": {},
   "outputs": [
    {
     "ename": "SyntaxError",
     "evalue": "invalid syntax (4164593167.py, line 33)",
     "output_type": "error",
     "traceback": [
      "\u001b[1;36m  Input \u001b[1;32mIn [1]\u001b[1;36m\u001b[0m\n\u001b[1;33m    CALENDARIO INICIAL:\u001b[0m\n\u001b[1;37m               ^\u001b[0m\n\u001b[1;31mSyntaxError\u001b[0m\u001b[1;31m:\u001b[0m invalid syntax\n"
     ]
    }
   ],
   "source": [
    "#    MAIO,2022\n",
    "\"\"\"coisas que voce tem que saber futuramente (meio que como objetivos):\n",
    "\n",
    "- Manipular arquivos: \n",
    "1. abrir um arquivo, ler o conteudo dele e processar. \n",
    "2. Salvar coisas em arquivos\n",
    "\n",
    "- estruturas de dados\n",
    "- orientação a objetos\n",
    "- biblioteca do Python (pandas, coisas de data science etc )\n",
    "\n",
    "- Python via docker image\n",
    "1. Entender como criar uma imagem de docker\n",
    "2. Transformar um codigo/projeto de python em uma imagem docker\n",
    "\n",
    "- Python usando banco de dados\n",
    "1. Conectar um software de python a um BD\n",
    "2. Fazer transacoes no banco (insert, read, update, delete)\n",
    "\n",
    "- Python usando Web APIs\n",
    "1. Criar um projeto python que seja uma Restful API (com metodos como GET, POST, DELETE, PUT, PATCH)\n",
    "2. Criar um projeto python que seja uma API GraphQL\n",
    "\n",
    "- Python e cloud\n",
    "1. Criar um projeto que seja produtor e consumidor de cloud streams\n",
    "1.1 GCP (google cloud)\n",
    "1.2 AWS kinesis (amazon)\n",
    "1.3 AWS SQS (amazon simple queue service)\n",
    "1.4 Azure (microsoft)\"\"\"\n",
    "\n",
    "\n",
    "\n",
    "\"CALENDARIO INICIAL:\n",
    "'SEG: PYTHON\n",
    "'TER:MACHINE LEARNING\n",
    "'QUA:PYTHON\n",
    "'QUI:DATA SCIENCE\n",
    "'SEX:PYTHON\n",
    "'SAB:AUTOMATION\n",
    "\n",
    "'SEGUNDO CALENDARIO\n",
    "'Ciclo de vida do projeto e do produto. Gerenciamento de Projetos. Tripla Restrição. Ética e responsabilidade profissional. Técnicas PMI e Metodologias ágeis (SCRUM).\n",
    "'linguagem ANSI SQL e PL/SQL em banco de dados Oracle. Você conhecerá elementos como: procedures, functions, packages, triggers, collections, PL/SQL tables, PL/SQL com Bulk processing, Autonomous transactions, Exception handling, SQL tuning. Introdução às novas tendências como Big Data, NoSQL (MongoDB).\n"
   ]
  },
  {
   "cell_type": "code",
   "execution_count": null,
   "id": "e519909d-cf99-4ba3-9551-d0463d3ade72",
   "metadata": {},
   "outputs": [],
   "source": [
    "print('Olha \\n\\\"só\\\" isso aqui')"
   ]
  },
  {
   "cell_type": "code",
   "execution_count": null,
   "id": "c520e15a-2545-4e46-8cb2-03172fab98c5",
   "metadata": {},
   "outputs": [],
   "source": [
    "print(\"\"\"Olha \"de\" 'novo' aqui\"\"\")"
   ]
  },
  {
   "cell_type": "code",
   "execution_count": null,
   "id": "86793a0c-43e3-4431-929b-036e98a2cd82",
   "metadata": {},
   "outputs": [],
   "source": [
    "print(\"\"\"Este exemplo fodido\n",
    "com 4 linhas\n",
    "de \\ codigo\"\"\")\n"
   ]
  },
  {
   "cell_type": "code",
   "execution_count": null,
   "id": "8fb5f91f-38d6-4197-a5e9-adc09180f2b1",
   "metadata": {},
   "outputs": [],
   "source": [
    "quote = \"\"\"Este exemplo fodido\n",
    "    com 4 linhas\n",
    "de \\ \n",
    "codigo\"\"\""
   ]
  },
  {
   "cell_type": "code",
   "execution_count": null,
   "id": "6c1e0693-f6f3-41b8-9073-2122c41c41f5",
   "metadata": {},
   "outputs": [],
   "source": [
    "quote"
   ]
  },
  {
   "cell_type": "code",
   "execution_count": null,
   "id": "2bbfe89a-5145-46cf-8690-9e59123e8cbe",
   "metadata": {},
   "outputs": [],
   "source": [
    "quote"
   ]
  },
  {
   "cell_type": "markdown",
   "id": "a3a08fef-cd6d-4159-aced-6439161df37a",
   "metadata": {},
   "source": [
    " "
   ]
  },
  {
   "cell_type": "code",
   "execution_count": null,
   "id": "98bbbaed-eec1-4cc5-9ca8-f94ba1ad18a1",
   "metadata": {},
   "outputs": [],
   "source": [
    "# \"\"\"Find the minimum of three values.\"\"\"\n",
    "\n",
    "nbr1 = int(input('Enter first number: '))\n",
    "nbr2 = int(input('Enter second number: '))\n",
    "nbr3 = int(input('Enter third number: '))\n",
    "\n",
    "min1 = nbr1\n",
    "\n",
    "if nbr2 < min1:\n",
    "    min1 = nbr2\n",
    "if nbr3 < min1:\n",
    "    min1 = nbr3\n",
    "print(\"The minimum value is: \", min1)   "
   ]
  },
  {
   "cell_type": "code",
   "execution_count": null,
   "id": "4c469336-5c58-48f1-b8db-53a152cc604c",
   "metadata": {},
   "outputs": [],
   "source": [
    "########DATA SCIENCE SNIPPETS/SCRIPTS/EXAMPLES########\n",
    "\n",
    "min,max,sum,range\n"
   ]
  },
  {
   "cell_type": "code",
   "execution_count": null,
   "id": "7d72ed50-77e6-4329-9b4c-b1c1a6deaaff",
   "metadata": {},
   "outputs": [],
   "source": [
    "#Calculate the minimum,maximum and range values inbetween 45,67,76,24,98,92\n",
    "\n",
    "minimum = min(45,67,76,24,98,9)\n",
    "print('The minimium valor is: ', minimum)"
   ]
  },
  {
   "cell_type": "code",
   "execution_count": null,
   "id": "8d6d47cf-06e5-4fb5-b8b5-9e679d02293d",
   "metadata": {},
   "outputs": [],
   "source": [
    "1 #Calculate the minimum,maximum and range values inbetween 45,67,76,24,98,92\n",
    "maximum = max(45,67,76,24,98,9)\n",
    "print('The maximum valor is: ', maximum)"
   ]
  },
  {
   "cell_type": "code",
   "execution_count": null,
   "id": "b395064d-03ea-45f4-8bde-b5f1aff0897a",
   "metadata": {},
   "outputs": [],
   "source": [
    "rgn = range(4,67)\n",
    "print('The range valor is: ', rgn)"
   ]
  },
  {
   "cell_type": "code",
   "execution_count": null,
   "id": "d2850226-1414-4491-9e8d-92f49d0e4a01",
   "metadata": {},
   "outputs": [],
   "source": [
    "grade = 30\n",
    "\n",
    "if grade >= 50:\n",
    "    print('Passou na prova arrombado!')\n",
    "if grade <= 49:\n",
    "    print('Se fodeo otario,reprovou!')"
   ]
  },
  {
   "cell_type": "code",
   "execution_count": null,
   "id": "b34abe4a-ddd5-45cf-8149-8037654ee9e5",
   "metadata": {},
   "outputs": [],
   "source": [
    "grade = 20\n",
    "\n",
    "if grade in range(50,100):\n",
    "    print('Passou')\n",
    "if grade not in range(50,100):\n",
    "    print('reprovado')\n",
    "        "
   ]
  },
  {
   "cell_type": "code",
   "execution_count": null,
   "id": "accec69b-7849-40c6-a207-99b7da70b3fe",
   "metadata": {},
   "outputs": [],
   "source": [
    "grade = 30\n",
    "\n",
    "if grade >= 50:\n",
    "    print('Passou na prova arrombado!')\n",
    "else:\n",
    "    print('Se fodeo otario,reprovou!')"
   ]
  },
  {
   "cell_type": "code",
   "execution_count": null,
   "id": "f09f204d-2d01-426a-90d8-14a4bb4c05a5",
   "metadata": {},
   "outputs": [],
   "source": [
    "valor = int(input('Insira um numero a ser multiplicado: '))\n",
    "\n",
    "aux = 0\n",
    "\n",
    "print('*' * 18)\n",
    "print('A tabuada de {}'.format(valor))\n",
    "print('*' * 18)\n",
    "\n",
    "while (aux <= 10):\n",
    "    print('{0} X {1} = {2}'.format(aux,valor,(aux * valor)))\n",
    "    aux = aux + 1"
   ]
  },
  {
   "cell_type": "code",
   "execution_count": null,
   "id": "90742936-4b77-4410-b4a1-5a0d401f3ddd",
   "metadata": {},
   "outputs": [],
   "source": [
    "tabuada = int(input('Digita um numero a ser multiplicado: '))\n",
    "for num in range(1,11):\n",
    "    print('{} x {} = {}'.format(num,tabuada,num * tabuada))"
   ]
  },
  {
   "cell_type": "code",
   "execution_count": null,
   "id": "4d371dea-4664-4fea-a44c-8fe409067b7e",
   "metadata": {},
   "outputs": [],
   "source": [
    "a = 3 \n",
    "a += 9"
   ]
  },
  {
   "cell_type": "code",
   "execution_count": null,
   "id": "da723631-6643-4774-ae48-c9db93461951",
   "metadata": {},
   "outputs": [],
   "source": [
    "a"
   ]
  },
  {
   "cell_type": "code",
   "execution_count": null,
   "id": "a0a64733-46d2-4d10-ada6-8ed2dc74d93a",
   "metadata": {},
   "outputs": [],
   "source": [
    "#Media da turma\n",
    "\n",
    "total = 0\n",
    "grade_counter = 0\n",
    "grades = [45, 87, 98, 52, 74, 65, 14, 79, 99, 32, 45, 65, 25, 58, 95]\n",
    "\n",
    "for grade in grades:\n",
    "    total += grade\n",
    "    grade_counter += 1\n",
    "    \n",
    "average = total / grade_counter\n",
    "print(f'Class average is {average}')"
   ]
  },
  {
   "cell_type": "code",
   "execution_count": null,
   "id": "568f57e4-7af5-4982-907f-f8a20b318559",
   "metadata": {},
   "outputs": [],
   "source": [
    "grade"
   ]
  },
  {
   "cell_type": "code",
   "execution_count": null,
   "id": "cc0fc6ff-f206-4260-915d-158f281691f5",
   "metadata": {},
   "outputs": [],
   "source": [
    "sep= end= "
   ]
  },
  {
   "cell_type": "code",
   "execution_count": null,
   "id": "dca24561-0f61-4157-b08b-ec87acdc0d05",
   "metadata": {},
   "outputs": [],
   "source": [
    "total = 0\n",
    "grade_counter = 0\n",
    "grade = int(input('Insira a média, fim para finalizar: '))\n",
    "\n",
    "while grade != -1:\n",
    "    total += grade\n",
    "    grade_counter += 1\n",
    "    grade = int(input('Insira a média, fim para finalizar: '))\n",
    "\n",
    "if grade_counter != 0:    \n",
    "    average = total / grade_counter\n",
    "    print(f'Media da classe é de {average:.2f}')\n",
    "else:    \n",
    "    print('Nenhuma media foi inserida')"
   ]
  },
  {
   "cell_type": "code",
   "execution_count": null,
   "id": "ea4b379f-f810-42df-9392-bea99cb92be0",
   "metadata": {},
   "outputs": [],
   "source": [
    "for number in range(100,-1,-1):\n",
    "    print(number, end=' ')"
   ]
  },
  {
   "cell_type": "code",
   "execution_count": null,
   "id": "d8204876-0494-44e5-a392-eb7364a60f1d",
   "metadata": {},
   "outputs": [],
   "source": [
    "for number in range(10,0,-2):\n",
    "    print(number, end=' ')"
   ]
  },
  {
   "cell_type": "code",
   "execution_count": null,
   "id": "537fc028-43e1-4f10-98da-c25c916e151e",
   "metadata": {},
   "outputs": [],
   "source": [
    "for number in range(99,-1,-11):\n",
    "    print(number, end=' ')"
   ]
  },
  {
   "cell_type": "code",
   "execution_count": null,
   "id": "bbe150d9-e6ac-4b6b-bbe5-fe2774c554d6",
   "metadata": {},
   "outputs": [],
   "source": [
    "total = 0\n",
    "for number in range(2,101,2):\n",
    "    total += number "
   ]
  },
  {
   "cell_type": "code",
   "execution_count": null,
   "id": "f5af71bc-e610-4805-afb0-f6b01ed520ba",
   "metadata": {},
   "outputs": [],
   "source": [
    "total"
   ]
  },
  {
   "cell_type": "code",
   "execution_count": null,
   "id": "e56231c0-ddbd-4c4c-8480-53b8e4bd6739",
   "metadata": {},
   "outputs": [],
   "source": [
    "from decimal import Decimal\n",
    "\n",
    "principal = Decimal('1000.00')\n",
    "rate = Decimal('0.05')\n",
    "\n",
    "for year in range(1,11):\n",
    "    amount = principal * (1 + rate) ** year\n",
    "    print(f'{year:>2} {amount:>10.2f}')\n"
   ]
  },
  {
   "cell_type": "code",
   "execution_count": null,
   "id": "1b60ec55-4ae8-4b8b-8ac6-7d84502fa0ca",
   "metadata": {},
   "outputs": [],
   "source": [
    "from decimal import Decimal\n",
    "\n",
    "print(f\"{Decimal('37.45') * Decimal ('1.0625'):.2f}\")"
   ]
  },
  {
   "cell_type": "code",
   "execution_count": null,
   "id": "41cccdc3-5ed4-4dd5-abb2-de5523d0c01d",
   "metadata": {},
   "outputs": [],
   "source": [
    "for number in range(100):\n",
    "    if number == 10:\n",
    "        break\n",
    "    print(number, end=' ')"
   ]
  },
  {
   "cell_type": "code",
   "execution_count": null,
   "id": "40767da5-8a43-4e84-ade0-368f86bfac27",
   "metadata": {},
   "outputs": [],
   "source": [
    "for number in range(10):\n",
    "    if number == 5:\n",
    "        continue\n",
    "    print(number, end=' ')"
   ]
  },
  {
   "cell_type": "code",
   "execution_count": null,
   "id": "6f4fd793-f345-4fad-a60e-021e5e941243",
   "metadata": {},
   "outputs": [],
   "source": [
    "gender = 'Velha'\n",
    "\n",
    "age = 74\n",
    "\n",
    "if gender == 'Velha' and age >= 65:\n",
    "    print('Cougar')\n",
    "else:\n",
    "    print('Coroa safada')"
   ]
  },
  {
   "cell_type": "code",
   "execution_count": null,
   "id": "128a1f00-105f-40d7-95ff-d71d6b5545f8",
   "metadata": {},
   "outputs": [],
   "source": [
    "media = 50\n",
    "exame_final = 40\n",
    "\n",
    "if media >= 90 or exame_final >= 90:\n",
    "    print('Passou, aleluia!')\n",
    "else:\n",
    "    print('Se fudeu troxa')"
   ]
  },
  {
   "cell_type": "code",
   "execution_count": null,
   "id": "60b6dd7d-9231-4551-bc0d-7365275168c1",
   "metadata": {},
   "outputs": [],
   "source": [
    "grades = [45,467,894,379,903,45]\n",
    "sum(grades) / len(grades)"
   ]
  },
  {
   "cell_type": "code",
   "execution_count": null,
   "id": "11b70523-203f-4e63-a005-72103325bb3a",
   "metadata": {},
   "outputs": [],
   "source": [
    "\"FUNÇÕES\"\n",
    "\n",
    "def square(number):\n",
    "    \"\"\"Calculate the square of a number\"\"\"\n",
    "    return number ** 2"
   ]
  },
  {
   "cell_type": "code",
   "execution_count": null,
   "id": "efb8d12c-6415-4b28-b5e7-bb78983576e4",
   "metadata": {},
   "outputs": [],
   "source": [
    "square(50)"
   ]
  },
  {
   "cell_type": "code",
   "execution_count": null,
   "id": "4154537c-96ef-4af3-99cd-23bece40b559",
   "metadata": {},
   "outputs": [],
   "source": [
    "square??"
   ]
  },
  {
   "cell_type": "code",
   "execution_count": null,
   "id": "033a6ff7-14ae-4edd-97b1-50e4350abafa",
   "metadata": {},
   "outputs": [],
   "source": [
    "statistics?"
   ]
  },
  {
   "cell_type": "code",
   "execution_count": null,
   "id": "d34ff760-c6ea-456f-9b48-1542313ea98b",
   "metadata": {},
   "outputs": [],
   "source": [
    "def square_root(number):\n",
    "    \"\"\"Finds a square root from a given number\"\"\"\n",
    "    return number ** 0.5"
   ]
  },
  {
   "cell_type": "code",
   "execution_count": null,
   "id": "8f90209d-3040-48cb-8dc6-b51c500c80df",
   "metadata": {},
   "outputs": [],
   "source": [
    "square_root(6.25)"
   ]
  },
  {
   "cell_type": "code",
   "execution_count": null,
   "id": "87cda4dc-f097-482b-8b2d-fd3af8879356",
   "metadata": {},
   "outputs": [],
   "source": [
    "def maximum(value1,value2,value3):\n",
    "    \"\"\"Determina o valor maximo de 3 valores\"\"\"\n",
    "    max_value = value1\n",
    "    if value2 > max_value:\n",
    "        max_value = value2\n",
    "    if value3 > max_value:\n",
    "        max_value = value3\n",
    "    return max_value    "
   ]
  },
  {
   "cell_type": "code",
   "execution_count": null,
   "id": "bdaf70dd-b14f-4146-9fde-58710cb6558e",
   "metadata": {},
   "outputs": [],
   "source": [
    "maximum('casa','casaa','casaaaa')"
   ]
  },
  {
   "cell_type": "code",
   "execution_count": null,
   "id": "3e9110ea-39ca-4d07-abd4-038fec817488",
   "metadata": {},
   "outputs": [],
   "source": [
    "maximum(-505.1,0.500,5.00)"
   ]
  },
  {
   "cell_type": "code",
   "execution_count": null,
   "id": "b0b9913d-d854-4fe8-88a7-93d9b1559d68",
   "metadata": {},
   "outputs": [],
   "source": [
    "max([14,54,87,51,2])"
   ]
  },
  {
   "cell_type": "code",
   "execution_count": null,
   "id": "e4f5167d-e27e-47d1-a886-fc30a562fb96",
   "metadata": {},
   "outputs": [],
   "source": [
    "###RANDOM NUMBER GENERATOR###\n",
    "\n",
    "import random\n",
    "\n",
    "for roll in range(10):\n",
    "    print(random.randrange(1,7), end=' ')\n",
    "                 "
   ]
  },
  {
   "cell_type": "code",
   "execution_count": null,
   "id": "ea9c99a7-390f-4eb9-8f9d-5e6e9dc695c6",
   "metadata": {},
   "outputs": [],
   "source": [
    "###Rolling a dice Six million Times,Random Number Generator ###\n",
    "\n",
    "import random\n",
    "\n",
    "#face frequency counters\n",
    "\n",
    "frequency1 = 0\n",
    "frequency2 = 0\n",
    "frequency3 = 0\n",
    "frequency4 = 0\n",
    "frequency5 = 0\n",
    "frequency6 = 0\n",
    "\n",
    "#Six million die rolls\n",
    "\n",
    "for roll in range(6000000):\n",
    "    face = random.randrange(1,7)\n",
    "    \n",
    "    if face == 1:\n",
    "        frequency1 += 1\n",
    "    elif face == 2:\n",
    "        frequency2 += 1\n",
    "    elif face == 3:\n",
    "        frequency3 += 1\n",
    "    elif face == 4:\n",
    "        frequency4 += 1        \n",
    "    elif face == 5:\n",
    "        frequency5 += 1\n",
    "    elif face == 6:\n",
    "        frequency6 += 1    \n",
    "\n",
    "print(f'Face{\"Frequency\":>13}') \n",
    "print(f'{1:>4}{frequency1:>13}')\n",
    "print(f'{2:>4}{frequency2:>13}')\n",
    "print(f'{3:>4}{frequency3:>13}')\n",
    "print(f'{4:>4}{frequency4:>13}')\n",
    "print(f'{5:>4}{frequency5:>13}')\n",
    "print(f'{6:>4}{frequency6:>13}')"
   ]
  },
  {
   "cell_type": "code",
   "execution_count": null,
   "id": "6f7303b6-3c17-4db8-9594-cd0c15a982d7",
   "metadata": {},
   "outputs": [],
   "source": [
    "random.seed(31)\n",
    "\n",
    "for roll in range(10):\n",
    "    print(random.randrange(1,7), end=' ')"
   ]
  },
  {
   "cell_type": "code",
   "execution_count": null,
   "id": "b856f0c3-e376-4e61-9d09-b0a65ba08de8",
   "metadata": {},
   "outputs": [],
   "source": [
    "\"\"\"Simulate 20 coin flips and print heads and tails\"\"\"\n",
    "import random\n",
    "\n",
    "for coins in range(20):\n",
    "    print('Heads' if random.randrange(2) == 0 else 'Tails', end=' ')\n",
    "    "
   ]
  },
  {
   "cell_type": "code",
   "execution_count": null,
   "id": "7dadaf72-d281-4696-b2b1-ba680d16fe87",
   "metadata": {},
   "outputs": [],
   "source": [
    "\"\"\"Simulando o jogo Craps\"\"\"\n",
    "\n",
    "import random\n",
    "\n",
    "def roll_dice():\n",
    "    \"\"\"Roll two dices and return their face values as Tuple\"\"\"\n",
    "    die1 = random.randrange(1,7)\n",
    "    die2 = random.randrange(1,7)\n",
    "    return (die1,die2)\n",
    "\n",
    "def display_dice(dice):\n",
    "    \"\"\"Display one roll of the two dice\"\"\"\n",
    "    die1, die2 = dice\n",
    "    print(f'Player rolled {die1} + {die2} = {sum(dice)}')\n",
    "    \n",
    "die_values = roll_dice()\n",
    "display_dice(die_values)\n",
    "\n",
    "sum_of_dice = sum(die_values)\n",
    "\n",
    "if sum_of_dice in (7,11):\n",
    "    game_status = 'Won!'\n",
    "    \n",
    "elif sum_of_dice in (2,3,12):\n",
    "    game_status = 'You lose!'\n",
    "else:\n",
    "    game_status = 'Continue'\n",
    "    my_point = sum_of_dice\n",
    "    print('Point is', my_point)\n",
    "\n",
    "while game_status == 'Continue':\n",
    "    die_values = roll_dice()\n",
    "    display_dice(die_values)\n",
    "    sum_of_dice = sum(die_values)\n",
    "    \n",
    "    if sum_of_dice == my_point:\n",
    "        game_status = 'Won!'\n",
    "    elif sum_of_dice == 7:\n",
    "        game_status = 'You lose!'\n",
    "        \n",
    "if game_status == 'Won!':\n",
    "    print('Player wins')\n",
    "else:\n",
    "    print('Player loses')"
   ]
  },
  {
   "cell_type": "code",
   "execution_count": null,
   "id": "90371449-c6da-498f-889a-70fe899a058f",
   "metadata": {},
   "outputs": [],
   "source": [
    "###Basic tuple###\n",
    "\n",
    "tromba = ('trombz', [54, 65, 98])\n",
    "\n",
    "tr1,tr2 = tromba\n"
   ]
  },
  {
   "cell_type": "code",
   "execution_count": null,
   "id": "6ce80d41-281f-47a4-a930-a7b9507e1a16",
   "metadata": {},
   "outputs": [],
   "source": [
    "tromba"
   ]
  },
  {
   "cell_type": "code",
   "execution_count": null,
   "id": "96a2d02a-5dc9-4069-98e3-57d0f08f1d50",
   "metadata": {},
   "outputs": [],
   "source": [
    "import math\n",
    "math.sqrt(55)"
   ]
  },
  {
   "cell_type": "code",
   "execution_count": null,
   "id": "06cc71a9-bd16-4fa1-9529-055a35079d69",
   "metadata": {},
   "outputs": [],
   "source": [
    "###Emprestimo##\n",
    "\n",
    "house_value = float(input('What is the price of the house in PLN'))\n",
    "salary = float(input('Whats your salary PLN'))\n",
    "pay_time = int(input('In how many months do you want to pay for it?'))\n",
    "\n",
    "interest_rate = (house_value / 100 * 3.5) / 12\n",
    "payment = (salary / 100 * 30)\n",
    "monthly_payment = (house_value / pay_time) + interest_rate\n",
    "\n",
    "if payment >= monthly_payment:\n",
    "    print('Your loan has been approved')\n",
    "else:\n",
    "    print('Your loan was denied due to monthly payment being above of 30% of your salary')\n",
    "    \n",
    "print(\"30% from you salary is PLN {:.2f} and your monthly payment would be PLN {:.2f} and with interest rate of {:.2f}\".format(payment,monthly_payment,interest_rate))    "
   ]
  },
  {
   "cell_type": "code",
   "execution_count": null,
   "id": "063627d1-e0c6-4ca5-a47b-93b81a297fa7",
   "metadata": {},
   "outputs": [],
   "source": [
    "def rectangle_area(length = 2, width = 3):\n",
    "    \"\"\"Returns rectangle area\"\"\"\n",
    "    return  length * width\n",
    "\n",
    "rectangle_area(10, 5)"
   ]
  },
  {
   "cell_type": "code",
   "execution_count": null,
   "id": "fffed2e6-2fe2-46d8-8adf-08a52c4cf49f",
   "metadata": {},
   "outputs": [],
   "source": [
    "def rectangle_area(length, width):\n",
    "    \"\"\"Returns rectangle area\"\"\"\n",
    "    return  length * width\n",
    "\n",
    "rectangle_area\n",
    "\n",
    "###when you have a function with lots of parameters, you must have the parameters defined which doesnt  have a default value assigned as first on the list"
   ]
  },
  {
   "cell_type": "code",
   "execution_count": null,
   "id": "ab0c787c-73a9-427d-bc20-e94a93f6e8cd",
   "metadata": {},
   "outputs": [],
   "source": [
    "def average(*args):\n",
    "    \"\"\"sum of args\"\"\"\n",
    "    \"\"\"Arguments like must be place as the last one on the parameter list\"\"\"\n",
    "    return sum(args) / len(args)"
   ]
  },
  {
   "cell_type": "code",
   "execution_count": null,
   "id": "2cd5f9e8-5edd-43f2-b8c6-298dd1247666",
   "metadata": {},
   "outputs": [],
   "source": [
    "average(5,10,15,30)"
   ]
  },
  {
   "cell_type": "code",
   "execution_count": null,
   "id": "b13579d3-1c87-4b13-89ce-f457aabacf9c",
   "metadata": {},
   "outputs": [],
   "source": [
    "grades = [54,57,24,39,12,3,912]\n",
    "\n",
    "average(*grades)\n",
    "### * unpacks a pack of values "
   ]
  },
  {
   "cell_type": "code",
   "execution_count": null,
   "id": "57f341d1-114f-4d21-97cf-a7e0e90c832c",
   "metadata": {},
   "outputs": [],
   "source": [
    "def calculate_product(*args):\n",
    "    product = 1\n",
    "    for value in args:\n",
    "        product += value\n",
    "    return product    \n",
    "\n"
   ]
  },
  {
   "cell_type": "code",
   "execution_count": null,
   "id": "56234075-5684-4bd4-ac44-4973400491f0",
   "metadata": {},
   "outputs": [],
   "source": [
    "calculate_product(*range(1,10,2))"
   ]
  },
  {
   "cell_type": "code",
   "execution_count": null,
   "id": "1d3beb21-0656-4edd-a315-eac1125e7b45",
   "metadata": {},
   "outputs": [],
   "source": [
    "'Coordinates: {latitude}, {longitude}'.format(latitude='37.24N', longitude='-115.81W')\n"
   ]
  },
  {
   "cell_type": "code",
   "execution_count": null,
   "id": "f4397f10-da0e-406f-8e70-974cbce8232d",
   "metadata": {},
   "outputs": [],
   "source": [
    "##Functions cannot modify global values assigned\n",
    "##Variables that already exist but it was created with the same name inside of a function,\n",
    "##that will be created locally inside the function, however if you call the variable,the value given will remain the same as previously configured in the global variable"
   ]
  },
  {
   "cell_type": "code",
   "execution_count": null,
   "id": "a29f290e-079c-4357-a0da-ba20b7fc73a6",
   "metadata": {},
   "outputs": [],
   "source": [
    "##If you want to explicity change/modify a global value, that can be done using the global function inside of the function created"
   ]
  },
  {
   "cell_type": "code",
   "execution_count": null,
   "id": "7a77cc47-af2f-4f60-a7b2-17c1f7ef808a",
   "metadata": {},
   "outputs": [],
   "source": [
    "H = 40\n",
    "\n",
    "def access_global():\n",
    "    print('O valor é de: ', H)\n",
    "\n",
    "access_global()    "
   ]
  },
  {
   "cell_type": "code",
   "execution_count": null,
   "id": "aba138be-ea67-4143-a01b-c87b2497e4fe",
   "metadata": {},
   "outputs": [],
   "source": [
    "H = 40\n",
    "\n",
    "def access_global():\n",
    "    H = 45\n",
    "    print('O valor é de: ', H)\n",
    "\n",
    "access_global()    "
   ]
  },
  {
   "cell_type": "code",
   "execution_count": null,
   "id": "f5c57523-875c-4c4a-9870-bd78cda542db",
   "metadata": {},
   "outputs": [],
   "source": [
    "#modifying a global value\n",
    "\n",
    "H = 40\n",
    "\n",
    "def access_global():\n",
    "    global H\n",
    "    H = 'tolete'\n",
    "    print('O valor é de: ', H)\n",
    "\n",
    "access_global()  "
   ]
  },
  {
   "cell_type": "code",
   "execution_count": null,
   "id": "cd9bf512-eea8-4253-b422-371d9b527382",
   "metadata": {},
   "outputs": [],
   "source": [
    "H"
   ]
  },
  {
   "cell_type": "code",
   "execution_count": null,
   "id": "a6f662c9-74c0-4d7f-8986-26625ecbeb9f",
   "metadata": {},
   "outputs": [],
   "source": [
    "##functions can be called as objects in Python"
   ]
  },
  {
   "cell_type": "code",
   "execution_count": null,
   "id": "bcbc8b7b-df27-4e31-8fa1-0dc49560541c",
   "metadata": {},
   "outputs": [],
   "source": [
    "##From Modules you can call objects directly without having to write the whole 'from' sequence"
   ]
  },
  {
   "cell_type": "code",
   "execution_count": null,
   "id": "b72ed1e3-2a90-4234-bbeb-8f5b0c2737c3",
   "metadata": {},
   "outputs": [],
   "source": [
    "from math import ceil,floor"
   ]
  },
  {
   "cell_type": "code",
   "execution_count": null,
   "id": "b667313f-9064-43aa-9dc5-285aa2f41a80",
   "metadata": {},
   "outputs": [],
   "source": [
    "floor(43.5)"
   ]
  },
  {
   "cell_type": "code",
   "execution_count": null,
   "id": "7fdd6a39-dfb2-48f4-970e-78a9714fd7a4",
   "metadata": {},
   "outputs": [],
   "source": [
    "ceil(445.4)"
   ]
  },
  {
   "cell_type": "code",
   "execution_count": null,
   "id": "26f2a05e-9a31-4dc0-9d09-866b4be03f5a",
   "metadata": {},
   "outputs": [],
   "source": [
    "#wildcard import , BE CAREFUL WHEN USING IT!\n",
    "\n",
    "e = 'ola'\n",
    "\n",
    "from math import * # * means that every object inside of the module math can be called, and in this case,it will overwrite the variable 'e' for the mathematical constant e"
   ]
  },
  {
   "cell_type": "code",
   "execution_count": null,
   "id": "75218a3d-f5e0-4af2-a49d-90677f8345a8",
   "metadata": {},
   "outputs": [],
   "source": [
    "e"
   ]
  },
  {
   "cell_type": "code",
   "execution_count": null,
   "id": "cbea8fc2-2b37-49f9-a703-b163fbabf489",
   "metadata": {},
   "outputs": [],
   "source": [
    "import statistics as stats\n",
    "\n",
    "grades = [345,53,433,42,231]\n",
    "\n",
    "stats.mean(grades)"
   ]
  },
  {
   "cell_type": "code",
   "execution_count": null,
   "id": "2568ecad-e502-48ff-932f-911a47881fa4",
   "metadata": {},
   "outputs": [],
   "source": [
    "import decimal as dec\n",
    "\n",
    "dec.Decimal('2.3')**2\n"
   ]
  },
  {
   "cell_type": "code",
   "execution_count": null,
   "id": "d5f11117-5bef-4b03-96d2-eb82cebb3cde",
   "metadata": {},
   "outputs": [],
   "source": [
    "##Passign arguments to functions\n",
    "'pass by value'\n",
    "'pass by reference'"
   ]
  },
  {
   "cell_type": "code",
   "execution_count": null,
   "id": "997ea528-212d-484a-9071-68426c70d2ee",
   "metadata": {},
   "outputs": [],
   "source": [
    "#a value of a variable IT IS AN OBJECT"
   ]
  },
  {
   "cell_type": "code",
   "execution_count": null,
   "id": "8cfb6c79-666f-41ff-95ed-a65122465b6f",
   "metadata": {},
   "outputs": [],
   "source": [
    "X  = 7\n",
    "id(X)"
   ]
  },
  {
   "cell_type": "code",
   "execution_count": null,
   "id": "921f9e2b-78de-4735-bb3f-827b3f4913a8",
   "metadata": {},
   "outputs": [],
   "source": [
    "#That number is actually where the value is store in memory, and also is the memory address of it,called Object Identifier in Python"
   ]
  },
  {
   "cell_type": "code",
   "execution_count": null,
   "id": "8819092a-95f1-41a5-8374-9eec01e808bc",
   "metadata": {},
   "outputs": [],
   "source": [
    "def cube(number):\n",
    "    print('id(number):',id(number))\n",
    "    return number ** 3"
   ]
  },
  {
   "cell_type": "code",
   "execution_count": null,
   "id": "c824e64d-e95b-48ba-9a5f-f54051c6f3a0",
   "metadata": {},
   "outputs": [],
   "source": [
    "cube(7)"
   ]
  },
  {
   "cell_type": "code",
   "execution_count": null,
   "id": "d592c9d7-411f-4d88-b73a-3dd06befa335",
   "metadata": {},
   "outputs": [],
   "source": [
    "def cube(number):\n",
    "    print('number is X:', number is X)\n",
    "    return number ** 3"
   ]
  },
  {
   "cell_type": "code",
   "execution_count": null,
   "id": "512ecdd1-3a5e-4049-93a1-278b44040fd2",
   "metadata": {},
   "outputs": [],
   "source": [
    "cube(7)"
   ]
  },
  {
   "cell_type": "code",
   "execution_count": null,
   "id": "063d3cc3-4a71-478f-906d-7e5786ac2761",
   "metadata": {},
   "outputs": [],
   "source": [
    "def cube(number):\n",
    "    print('id(number) before mod number:', id(number))\n",
    "    number **= 3\n",
    "    print('id(number) after mod number:', id(number))      \n",
    "    return number"
   ]
  },
  {
   "cell_type": "code",
   "execution_count": null,
   "id": "3de2974b-1bf4-468e-850a-95e591307ebe",
   "metadata": {},
   "outputs": [],
   "source": [
    "cube(7)"
   ]
  },
  {
   "cell_type": "code",
   "execution_count": null,
   "id": "cdb0132a-8305-4b1f-9b5f-d79ac576ad89",
   "metadata": {},
   "outputs": [],
   "source": [
    "id(X)"
   ]
  },
  {
   "cell_type": "code",
   "execution_count": null,
   "id": "0531fc42-77bb-47ea-80ba-87650c9ef380",
   "metadata": {},
   "outputs": [],
   "source": [
    "#integers,floats,strings,tuples, all of that is immmutable"
   ]
  },
  {
   "cell_type": "code",
   "execution_count": null,
   "id": "8d9572e9-6569-4f93-adc7-425034d2618c",
   "metadata": {},
   "outputs": [],
   "source": [
    "#Functional Style programming\n",
    "\n",
    ">What vs How\n",
    ">External Interation\n",
    ">Internal Interation\n",
    ">Declarative programming\n",
    ">pure functions"
   ]
  },
  {
   "cell_type": "markdown",
   "id": "8f2395b7-5a53-4aa3-8864-d383667fab81",
   "metadata": {},
   "source": [
    "LISTAS E TUPLES"
   ]
  },
  {
   "cell_type": "code",
   "execution_count": null,
   "id": "87aa759c-93a6-4384-91ae-1248c1fee4c9",
   "metadata": {},
   "outputs": [],
   "source": [
    "### LISTS AND TUPLES###\n",
    "\n",
    "lista1 = [34,56,67,7,8,4321,9] # LISTAS SÃO DEFINIDAS POR C O L C H E T E S, COLCHETE!!!!!!!!!!!\n",
    "\n",
    "lista1[4],[3]"
   ]
  },
  {
   "cell_type": "code",
   "execution_count": null,
   "id": "550bd43e-59a7-4364-a414-1db725b7e1b8",
   "metadata": {},
   "outputs": [],
   "source": [
    "len(lista1)"
   ]
  },
  {
   "cell_type": "code",
   "execution_count": null,
   "id": "51f17693-fe13-4dca-9e3b-91a4b46b2074",
   "metadata": {},
   "outputs": [],
   "source": [
    "type(lista1)"
   ]
  },
  {
   "cell_type": "code",
   "execution_count": null,
   "id": "86bca0c7-3b0e-4dd1-b7ea-f7053cbddbdb",
   "metadata": {},
   "outputs": [],
   "source": [
    "lista1?"
   ]
  },
  {
   "cell_type": "code",
   "execution_count": null,
   "id": "0047e3c1-9526-4495-88ef-4ecb6d16e385",
   "metadata": {},
   "outputs": [],
   "source": [
    "lista1[-4]"
   ]
  },
  {
   "cell_type": "code",
   "execution_count": null,
   "id": "d4096cb2-d7a1-4c86-93a4-8245c2d48501",
   "metadata": {},
   "outputs": [],
   "source": [
    "lista1 [3] = 302"
   ]
  },
  {
   "cell_type": "code",
   "execution_count": null,
   "id": "e85b99d1-5252-4860-800d-8549f1377a4f",
   "metadata": {},
   "outputs": [],
   "source": [
    "lista1"
   ]
  },
  {
   "cell_type": "code",
   "execution_count": null,
   "id": "22ede35b-6ce5-4b5b-b0be-311742bf18ba",
   "metadata": {},
   "outputs": [],
   "source": [
    "##adding content into a list##\n",
    "\n",
    "outra_lista = []\n",
    "\n",
    "for number in range(1,11):\n",
    "    outra_lista += [number]\n",
    "    \n",
    "outra_lista    "
   ]
  },
  {
   "cell_type": "code",
   "execution_count": null,
   "id": "7fe1a628-18dd-4ea0-b479-f0ad4c76d83d",
   "metadata": {},
   "outputs": [],
   "source": [
    "#adição\n",
    "\n",
    "a = 23\n",
    "b = 34\n",
    "\n",
    "b += a\n",
    "print('Adicao: %d' % (b))"
   ]
  },
  {
   "cell_type": "code",
   "execution_count": null,
   "id": "83432349-6c5a-4294-b5ae-f93e5661f4ed",
   "metadata": {},
   "outputs": [],
   "source": [
    "v = ['casa']\n",
    "vb = ['velha']\n",
    "\n",
    "v += vb\n",
    "\n",
    "v\n"
   ]
  },
  {
   "cell_type": "code",
   "execution_count": null,
   "id": "a9eec639-f38f-45fd-aa48-9ee2b5211a32",
   "metadata": {},
   "outputs": [],
   "source": [
    "lista00 = [2,23,4,5,65,7]\n",
    "lista001 = [0,99,88,77,66,55]\n",
    "\n",
    "junto  = lista00 + lista001\n",
    "\n",
    "for ahk in range(len(junto)):\n",
    "    print(f'{ahk}: {junto[ahk]}')"
   ]
  },
  {
   "cell_type": "code",
   "execution_count": null,
   "id": "254e2ad7-d651-415d-a948-28416c4cbfd1",
   "metadata": {},
   "outputs": [],
   "source": [
    "armas = ['AR15, GLOCK, M107, BERETTA']\n",
    "explosivos = ['c4, granada, dinamite, claymore']\n",
    "\n",
    "junto  = armas + explosivos\n",
    "\n",
    "for ahk in range(len(junto)):\n",
    "    print(f'{ahk}: {junto[ahk]}')"
   ]
  },
  {
   "cell_type": "code",
   "execution_count": 5,
   "id": "a2caa4f8-6980-4422-b40a-558dc310e348",
   "metadata": {},
   "outputs": [
    {
     "name": "stdout",
     "output_type": "stream",
     "text": [
      "0: 2\n",
      "1: 23\n",
      "2: 4\n",
      "3: 5\n",
      "4: 65\n",
      "5: 7\n",
      "6: 0\n",
      "7: 99\n",
      "8: 88\n",
      "9: 77\n",
      "10: 66\n",
      "11: 55\n"
     ]
    }
   ],
   "source": [
    "lista00 = [2,23,4,5,65,7]\n",
    "lista001 = [0,99,88,77,66,55]\n",
    "\n",
    "junto  = lista00 + lista001\n",
    "\n",
    "for i, valor in enumerate(junto):\n",
    "    print(f'{i}: {valor}')"
   ]
  },
  {
   "cell_type": "code",
   "execution_count": 6,
   "id": "40656222-b165-4d87-8ee5-7bc111335c49",
   "metadata": {},
   "outputs": [],
   "source": [
    "numeros = [3,6,9,4,5,7,8,9,76,43]\n",
    "\n",
    "def cube_list(numeros):\n",
    "    for i, valor in enumerate(numeros):\n",
    "        valor **= 3\n",
    "        print ('Os valores ao cubo são: ', valor)"
   ]
  },
  {
   "cell_type": "code",
   "execution_count": 7,
   "id": "630fa701-e338-48d4-8b92-1778807db292",
   "metadata": {},
   "outputs": [
    {
     "name": "stdout",
     "output_type": "stream",
     "text": [
      "Os valores ao cubo são:  27\n",
      "Os valores ao cubo são:  216\n",
      "Os valores ao cubo são:  729\n",
      "Os valores ao cubo são:  64\n",
      "Os valores ao cubo são:  125\n",
      "Os valores ao cubo são:  343\n",
      "Os valores ao cubo são:  512\n",
      "Os valores ao cubo são:  729\n",
      "Os valores ao cubo são:  438976\n",
      "Os valores ao cubo são:  79507\n"
     ]
    }
   ],
   "source": [
    "cube_list(numeros)"
   ]
  },
  {
   "cell_type": "code",
   "execution_count": 8,
   "id": "4145f9d7-d4fa-4870-8d29-7302db7d34f8",
   "metadata": {},
   "outputs": [],
   "source": [
    "characters = []\n",
    "a = 'Birthday'\n",
    "\n",
    "characters += a"
   ]
  },
  {
   "cell_type": "code",
   "execution_count": 9,
   "id": "27b2be87-15b0-482b-a1fe-9fab4a905b50",
   "metadata": {},
   "outputs": [
    {
     "data": {
      "text/plain": [
       "['B', 'i', 'r', 't', 'h', 'd', 'a', 'y']"
      ]
     },
     "execution_count": 9,
     "metadata": {},
     "output_type": "execute_result"
    }
   ],
   "source": [
    "characters"
   ]
  },
  {
   "cell_type": "code",
   "execution_count": 3,
   "id": "d75138b3-a22d-4d8a-b0f6-bf7072c7d059",
   "metadata": {},
   "outputs": [
    {
     "ename": "NameError",
     "evalue": "name 'numbers' is not defined",
     "output_type": "error",
     "traceback": [
      "\u001b[1;31m---------------------------------------------------------------------------\u001b[0m",
      "\u001b[1;31mNameError\u001b[0m                                 Traceback (most recent call last)",
      "Input \u001b[1;32mIn [3]\u001b[0m, in \u001b[0;36m<cell line: 1>\u001b[1;34m()\u001b[0m\n\u001b[1;32m----> 1\u001b[0m \u001b[38;5;28mid\u001b[39m(\u001b[43mnumbers\u001b[49m)\n",
      "\u001b[1;31mNameError\u001b[0m: name 'numbers' is not defined"
     ]
    }
   ],
   "source": []
  },
  {
   "cell_type": "code",
   "execution_count": null,
   "id": "16196cf5-43dd-4eea-a519-b6f495d8ea11",
   "metadata": {},
   "outputs": [],
   "source": []
  },
  {
   "cell_type": "code",
   "execution_count": null,
   "id": "a5c63989-f6d9-4c64-ab5b-937b2360dba5",
   "metadata": {},
   "outputs": [],
   "source": []
  },
  {
   "cell_type": "code",
   "execution_count": null,
   "id": "668fd49f-7178-4595-928c-67eee7e1e724",
   "metadata": {},
   "outputs": [],
   "source": []
  },
  {
   "cell_type": "code",
   "execution_count": null,
   "id": "d5e72f91-8463-4c3b-a17a-8af18eab3bec",
   "metadata": {},
   "outputs": [],
   "source": []
  },
  {
   "cell_type": "code",
   "execution_count": null,
   "id": "459d71b3-b10a-4a40-bd70-65133ea559b1",
   "metadata": {},
   "outputs": [],
   "source": []
  },
  {
   "cell_type": "code",
   "execution_count": null,
   "id": "808e95a6-f7d5-4cbb-bae6-82f2c921ecfc",
   "metadata": {},
   "outputs": [],
   "source": []
  },
  {
   "cell_type": "code",
   "execution_count": null,
   "id": "c5358575-a207-46fb-a992-a2b8f9a6f620",
   "metadata": {},
   "outputs": [],
   "source": []
  },
  {
   "cell_type": "code",
   "execution_count": null,
   "id": "ebf14d9a-1377-479b-b658-0c6e323e42a7",
   "metadata": {},
   "outputs": [],
   "source": []
  },
  {
   "cell_type": "code",
   "execution_count": null,
   "id": "f1759357-0bc8-4ac6-9d65-9aaf9462a572",
   "metadata": {},
   "outputs": [],
   "source": []
  },
  {
   "cell_type": "code",
   "execution_count": null,
   "id": "a59e9d54-eae8-4b32-96c6-059a1d3b7967",
   "metadata": {},
   "outputs": [],
   "source": []
  },
  {
   "cell_type": "code",
   "execution_count": null,
   "id": "92a68718-8b96-4449-b45d-8a04434a39cf",
   "metadata": {},
   "outputs": [],
   "source": []
  },
  {
   "cell_type": "code",
   "execution_count": null,
   "id": "0a8e8b7c-c019-4321-8aaa-caa003431d7f",
   "metadata": {},
   "outputs": [],
   "source": []
  },
  {
   "cell_type": "code",
   "execution_count": null,
   "id": "6ef31680-49c7-40c4-a477-1a59b3e8bf71",
   "metadata": {},
   "outputs": [],
   "source": []
  },
  {
   "cell_type": "code",
   "execution_count": null,
   "id": "88232cba-b701-43f1-afdd-43ede50d6743",
   "metadata": {},
   "outputs": [],
   "source": []
  },
  {
   "cell_type": "code",
   "execution_count": null,
   "id": "7b5514f2-d618-476c-840d-8d3427b86aed",
   "metadata": {},
   "outputs": [],
   "source": []
  },
  {
   "cell_type": "code",
   "execution_count": null,
   "id": "32f6bb71-2c0b-4c64-aaca-f20af455fd34",
   "metadata": {},
   "outputs": [],
   "source": []
  },
  {
   "cell_type": "code",
   "execution_count": null,
   "id": "3feeca2d-1bdf-49f7-9f94-c1b841875477",
   "metadata": {},
   "outputs": [],
   "source": []
  },
  {
   "cell_type": "code",
   "execution_count": null,
   "id": "e3b1699e-1f7c-4548-a893-fdc4a00b8acb",
   "metadata": {},
   "outputs": [],
   "source": []
  },
  {
   "cell_type": "code",
   "execution_count": null,
   "id": "5e82fecb-2800-4c17-8808-1a3783e3f5e0",
   "metadata": {},
   "outputs": [],
   "source": []
  },
  {
   "cell_type": "code",
   "execution_count": null,
   "id": "dadafc78-6383-45d7-a262-3dba321d2fed",
   "metadata": {},
   "outputs": [],
   "source": []
  },
  {
   "cell_type": "code",
   "execution_count": null,
   "id": "1feea484-1471-46b4-88d0-202e885ee4c2",
   "metadata": {},
   "outputs": [],
   "source": []
  },
  {
   "cell_type": "code",
   "execution_count": null,
   "id": "2e863fe8-4f07-418e-b16a-4e3180d60ece",
   "metadata": {},
   "outputs": [],
   "source": []
  },
  {
   "cell_type": "code",
   "execution_count": null,
   "id": "1b8ca912-e298-4b4a-87e7-4c2364205122",
   "metadata": {},
   "outputs": [],
   "source": []
  },
  {
   "cell_type": "code",
   "execution_count": null,
   "id": "39da81f2-5e06-43b2-acc3-5ebf8405e64a",
   "metadata": {},
   "outputs": [],
   "source": []
  },
  {
   "cell_type": "code",
   "execution_count": null,
   "id": "0bbba802-19b9-4194-a91c-47792186188f",
   "metadata": {},
   "outputs": [],
   "source": []
  },
  {
   "cell_type": "code",
   "execution_count": null,
   "id": "49699335-52a3-42d4-8412-5080ec5a0d0c",
   "metadata": {},
   "outputs": [],
   "source": []
  },
  {
   "cell_type": "code",
   "execution_count": null,
   "id": "2791ee79-404c-4adc-bc64-498ef0913d64",
   "metadata": {},
   "outputs": [],
   "source": []
  },
  {
   "cell_type": "code",
   "execution_count": null,
   "id": "4d49d072-f845-4c36-99b8-5563b634965d",
   "metadata": {},
   "outputs": [],
   "source": []
  },
  {
   "cell_type": "code",
   "execution_count": null,
   "id": "11bbfba3-19e5-41e4-a9b8-e365dde89494",
   "metadata": {},
   "outputs": [],
   "source": []
  },
  {
   "cell_type": "code",
   "execution_count": null,
   "id": "ba8319b1-245a-4791-a974-efc767cd73d9",
   "metadata": {},
   "outputs": [],
   "source": []
  }
 ],
 "metadata": {
  "kernelspec": {
   "display_name": "Python 3 (ipykernel)",
   "language": "python",
   "name": "python3"
  },
  "language_info": {
   "codemirror_mode": {
    "name": "ipython",
    "version": 3
   },
   "file_extension": ".py",
   "mimetype": "text/x-python",
   "name": "python",
   "nbconvert_exporter": "python",
   "pygments_lexer": "ipython3",
   "version": "3.9.12"
  },
  "widgets": {
   "application/vnd.jupyter.widget-state+json": {
    "state": {},
    "version_major": 2,
    "version_minor": 0
   }
  }
 },
 "nbformat": 4,
 "nbformat_minor": 5
}
